{
 "cells": [
  {
   "cell_type": "markdown",
   "id": "7e199b45",
   "metadata": {},
   "source": [
    "# Flower Forercast\n",
    "\n",
    "This model predicts Sepal Width when the features are Sepal Length, Petal Length and Petal Width. "
   ]
  },
  {
   "cell_type": "code",
   "execution_count": 74,
   "id": "9e28c62c",
   "metadata": {},
   "outputs": [],
   "source": [
    "import sklearn #This is a ML Library\n",
    "import numpy as np\n",
    "import pandas as pd\n",
    "import matplotlib.pyplot as plt"
   ]
  },
  {
   "cell_type": "code",
   "execution_count": 75,
   "id": "8f05b0b7",
   "metadata": {},
   "outputs": [],
   "source": [
    "df = pd.read_csv(\"C:\\\\Users\\\\Admin\\\\Desktop\\\\Iris.csv\") #Importing the data"
   ]
  },
  {
   "cell_type": "code",
   "execution_count": 76,
   "id": "c401a58c",
   "metadata": {},
   "outputs": [
    {
     "data": {
      "text/html": [
       "<div>\n",
       "<style scoped>\n",
       "    .dataframe tbody tr th:only-of-type {\n",
       "        vertical-align: middle;\n",
       "    }\n",
       "\n",
       "    .dataframe tbody tr th {\n",
       "        vertical-align: top;\n",
       "    }\n",
       "\n",
       "    .dataframe thead th {\n",
       "        text-align: right;\n",
       "    }\n",
       "</style>\n",
       "<table border=\"1\" class=\"dataframe\">\n",
       "  <thead>\n",
       "    <tr style=\"text-align: right;\">\n",
       "      <th></th>\n",
       "      <th>Id</th>\n",
       "      <th>SepalLengthCm</th>\n",
       "      <th>SepalWidthCm</th>\n",
       "      <th>PetalLengthCm</th>\n",
       "      <th>PetalWidthCm</th>\n",
       "      <th>Species</th>\n",
       "    </tr>\n",
       "  </thead>\n",
       "  <tbody>\n",
       "    <tr>\n",
       "      <th>0</th>\n",
       "      <td>1</td>\n",
       "      <td>5.1</td>\n",
       "      <td>3.5</td>\n",
       "      <td>1.4</td>\n",
       "      <td>0.2</td>\n",
       "      <td>Iris-setosa</td>\n",
       "    </tr>\n",
       "    <tr>\n",
       "      <th>1</th>\n",
       "      <td>2</td>\n",
       "      <td>4.9</td>\n",
       "      <td>3.0</td>\n",
       "      <td>1.4</td>\n",
       "      <td>0.2</td>\n",
       "      <td>Iris-setosa</td>\n",
       "    </tr>\n",
       "    <tr>\n",
       "      <th>2</th>\n",
       "      <td>3</td>\n",
       "      <td>4.7</td>\n",
       "      <td>3.2</td>\n",
       "      <td>1.3</td>\n",
       "      <td>0.2</td>\n",
       "      <td>Iris-setosa</td>\n",
       "    </tr>\n",
       "    <tr>\n",
       "      <th>3</th>\n",
       "      <td>4</td>\n",
       "      <td>4.6</td>\n",
       "      <td>3.1</td>\n",
       "      <td>1.5</td>\n",
       "      <td>0.2</td>\n",
       "      <td>Iris-setosa</td>\n",
       "    </tr>\n",
       "    <tr>\n",
       "      <th>4</th>\n",
       "      <td>5</td>\n",
       "      <td>5.0</td>\n",
       "      <td>3.6</td>\n",
       "      <td>1.4</td>\n",
       "      <td>0.2</td>\n",
       "      <td>Iris-setosa</td>\n",
       "    </tr>\n",
       "  </tbody>\n",
       "</table>\n",
       "</div>"
      ],
      "text/plain": [
       "   Id  SepalLengthCm  SepalWidthCm  PetalLengthCm  PetalWidthCm      Species\n",
       "0   1            5.1           3.5            1.4           0.2  Iris-setosa\n",
       "1   2            4.9           3.0            1.4           0.2  Iris-setosa\n",
       "2   3            4.7           3.2            1.3           0.2  Iris-setosa\n",
       "3   4            4.6           3.1            1.5           0.2  Iris-setosa\n",
       "4   5            5.0           3.6            1.4           0.2  Iris-setosa"
      ]
     },
     "execution_count": 76,
     "metadata": {},
     "output_type": "execute_result"
    }
   ],
   "source": [
    "df.head() #First five records from the data"
   ]
  },
  {
   "cell_type": "code",
   "execution_count": 77,
   "id": "02ed5feb",
   "metadata": {},
   "outputs": [
    {
     "data": {
      "text/html": [
       "<div>\n",
       "<style scoped>\n",
       "    .dataframe tbody tr th:only-of-type {\n",
       "        vertical-align: middle;\n",
       "    }\n",
       "\n",
       "    .dataframe tbody tr th {\n",
       "        vertical-align: top;\n",
       "    }\n",
       "\n",
       "    .dataframe thead th {\n",
       "        text-align: right;\n",
       "    }\n",
       "</style>\n",
       "<table border=\"1\" class=\"dataframe\">\n",
       "  <thead>\n",
       "    <tr style=\"text-align: right;\">\n",
       "      <th></th>\n",
       "      <th>Id</th>\n",
       "      <th>SepalLengthCm</th>\n",
       "      <th>SepalWidthCm</th>\n",
       "      <th>PetalLengthCm</th>\n",
       "      <th>PetalWidthCm</th>\n",
       "    </tr>\n",
       "  </thead>\n",
       "  <tbody>\n",
       "    <tr>\n",
       "      <th>count</th>\n",
       "      <td>150.000000</td>\n",
       "      <td>150.000000</td>\n",
       "      <td>150.000000</td>\n",
       "      <td>150.000000</td>\n",
       "      <td>150.000000</td>\n",
       "    </tr>\n",
       "    <tr>\n",
       "      <th>mean</th>\n",
       "      <td>75.500000</td>\n",
       "      <td>5.843333</td>\n",
       "      <td>3.054000</td>\n",
       "      <td>3.758667</td>\n",
       "      <td>1.198667</td>\n",
       "    </tr>\n",
       "    <tr>\n",
       "      <th>std</th>\n",
       "      <td>43.445368</td>\n",
       "      <td>0.828066</td>\n",
       "      <td>0.433594</td>\n",
       "      <td>1.764420</td>\n",
       "      <td>0.763161</td>\n",
       "    </tr>\n",
       "    <tr>\n",
       "      <th>min</th>\n",
       "      <td>1.000000</td>\n",
       "      <td>4.300000</td>\n",
       "      <td>2.000000</td>\n",
       "      <td>1.000000</td>\n",
       "      <td>0.100000</td>\n",
       "    </tr>\n",
       "    <tr>\n",
       "      <th>25%</th>\n",
       "      <td>38.250000</td>\n",
       "      <td>5.100000</td>\n",
       "      <td>2.800000</td>\n",
       "      <td>1.600000</td>\n",
       "      <td>0.300000</td>\n",
       "    </tr>\n",
       "    <tr>\n",
       "      <th>50%</th>\n",
       "      <td>75.500000</td>\n",
       "      <td>5.800000</td>\n",
       "      <td>3.000000</td>\n",
       "      <td>4.350000</td>\n",
       "      <td>1.300000</td>\n",
       "    </tr>\n",
       "    <tr>\n",
       "      <th>75%</th>\n",
       "      <td>112.750000</td>\n",
       "      <td>6.400000</td>\n",
       "      <td>3.300000</td>\n",
       "      <td>5.100000</td>\n",
       "      <td>1.800000</td>\n",
       "    </tr>\n",
       "    <tr>\n",
       "      <th>max</th>\n",
       "      <td>150.000000</td>\n",
       "      <td>7.900000</td>\n",
       "      <td>4.400000</td>\n",
       "      <td>6.900000</td>\n",
       "      <td>2.500000</td>\n",
       "    </tr>\n",
       "  </tbody>\n",
       "</table>\n",
       "</div>"
      ],
      "text/plain": [
       "               Id  SepalLengthCm  SepalWidthCm  PetalLengthCm  PetalWidthCm\n",
       "count  150.000000     150.000000    150.000000     150.000000    150.000000\n",
       "mean    75.500000       5.843333      3.054000       3.758667      1.198667\n",
       "std     43.445368       0.828066      0.433594       1.764420      0.763161\n",
       "min      1.000000       4.300000      2.000000       1.000000      0.100000\n",
       "25%     38.250000       5.100000      2.800000       1.600000      0.300000\n",
       "50%     75.500000       5.800000      3.000000       4.350000      1.300000\n",
       "75%    112.750000       6.400000      3.300000       5.100000      1.800000\n",
       "max    150.000000       7.900000      4.400000       6.900000      2.500000"
      ]
     },
     "execution_count": 77,
     "metadata": {},
     "output_type": "execute_result"
    }
   ],
   "source": [
    "df.describe() #Statistical details of the data"
   ]
  },
  {
   "cell_type": "code",
   "execution_count": 78,
   "id": "a2b441c5",
   "metadata": {},
   "outputs": [
    {
     "name": "stdout",
     "output_type": "stream",
     "text": [
      "<class 'pandas.core.frame.DataFrame'>\n",
      "RangeIndex: 150 entries, 0 to 149\n",
      "Data columns (total 6 columns):\n",
      " #   Column         Non-Null Count  Dtype  \n",
      "---  ------         --------------  -----  \n",
      " 0   Id             150 non-null    int64  \n",
      " 1   SepalLengthCm  150 non-null    float64\n",
      " 2   SepalWidthCm   150 non-null    float64\n",
      " 3   PetalLengthCm  150 non-null    float64\n",
      " 4   PetalWidthCm   150 non-null    float64\n",
      " 5   Species        150 non-null    object \n",
      "dtypes: float64(4), int64(1), object(1)\n",
      "memory usage: 7.2+ KB\n"
     ]
    }
   ],
   "source": [
    "df.info()"
   ]
  },
  {
   "cell_type": "code",
   "execution_count": 79,
   "id": "636c36ad",
   "metadata": {},
   "outputs": [
    {
     "name": "stdout",
     "output_type": "stream",
     "text": [
      "     SepalLengthCm  PetalLengthCm  PetalWidthCm\n",
      "0              5.1            1.4           0.2\n",
      "1              4.9            1.4           0.2\n",
      "2              4.7            1.3           0.2\n",
      "3              4.6            1.5           0.2\n",
      "4              5.0            1.4           0.2\n",
      "..             ...            ...           ...\n",
      "145            6.7            5.2           2.3\n",
      "146            6.3            5.0           1.9\n",
      "147            6.5            5.2           2.0\n",
      "148            6.2            5.4           2.3\n",
      "149            5.9            5.1           1.8\n",
      "\n",
      "[150 rows x 3 columns]\n",
      "0      3.5\n",
      "1      3.0\n",
      "2      3.2\n",
      "3      3.1\n",
      "4      3.6\n",
      "      ... \n",
      "145    3.0\n",
      "146    2.5\n",
      "147    3.0\n",
      "148    3.4\n",
      "149    3.0\n",
      "Name: SepalWidthCm, Length: 150, dtype: float64\n"
     ]
    }
   ],
   "source": [
    "X = df[[\"SepalLengthCm\",\"PetalLengthCm\",\"PetalWidthCm\"]] #Features\n",
    "Y = df[\"SepalWidthCm\"] #Target\n",
    "print(X)\n",
    "print(Y)"
   ]
  },
  {
   "cell_type": "markdown",
   "id": "8daa2988",
   "metadata": {},
   "source": [
    "While designing ML Modles, the dataset is always split into 2 unequal parts. The bigger chunk is used to the train the model while the smaller chunk is used to test the developed model. "
   ]
  },
  {
   "cell_type": "code",
   "execution_count": 80,
   "id": "39ed090f",
   "metadata": {},
   "outputs": [
    {
     "name": "stdout",
     "output_type": "stream",
     "text": [
      "     SepalLengthCm  PetalLengthCm  PetalWidthCm\n",
      "137            6.4            5.5           1.8\n",
      "84             5.4            4.5           1.5\n",
      "27             5.2            1.5           0.2\n",
      "127            6.1            4.9           1.8\n",
      "132            6.4            5.6           2.2\n",
      "..             ...            ...           ...\n",
      "9              4.9            1.5           0.1\n",
      "103            6.3            5.6           1.8\n",
      "67             5.8            4.1           1.0\n",
      "117            7.7            6.7           2.2\n",
      "47             4.6            1.4           0.2\n",
      "\n",
      "[120 rows x 3 columns]\n"
     ]
    }
   ],
   "source": [
    "from sklearn.model_selection import train_test_split\n",
    "x_train, x_test, y_train, y_test = train_test_split(X,Y,test_size=0.2,random_state=0)\n",
    "#test size = 0.2 denotes that 20% of the data will be in the test state. Random_state provides the seed value.\n",
    "print(x_train)"
   ]
  },
  {
   "cell_type": "code",
   "execution_count": 81,
   "id": "de0cf1ca",
   "metadata": {},
   "outputs": [
    {
     "name": "stdout",
     "output_type": "stream",
     "text": [
      "137    3.1\n",
      "84     3.0\n",
      "27     3.5\n",
      "127    3.0\n",
      "132    2.8\n",
      "      ... \n",
      "9      3.1\n",
      "103    2.9\n",
      "67     2.7\n",
      "117    3.8\n",
      "47     3.2\n",
      "Name: SepalWidthCm, Length: 120, dtype: float64\n"
     ]
    }
   ],
   "source": [
    "print(y_train)"
   ]
  },
  {
   "cell_type": "code",
   "execution_count": 82,
   "id": "d0087c89",
   "metadata": {},
   "outputs": [
    {
     "name": "stdout",
     "output_type": "stream",
     "text": [
      "     SepalLengthCm  PetalLengthCm  PetalWidthCm\n",
      "114            5.8            5.1           2.4\n",
      "62             6.0            4.0           1.0\n",
      "33             5.5            1.4           0.2\n",
      "107            7.3            6.3           1.8\n",
      "7              5.0            1.5           0.2\n",
      "100            6.3            6.0           2.5\n",
      "40             5.0            1.3           0.3\n",
      "86             6.7            4.7           1.5\n",
      "76             6.8            4.8           1.4\n",
      "71             6.1            4.0           1.3\n",
      "134            6.1            5.6           1.4\n",
      "51             6.4            4.5           1.5\n",
      "73             6.1            4.7           1.2\n",
      "54             6.5            4.6           1.5\n",
      "63             6.1            4.7           1.4\n",
      "37             4.9            1.5           0.1\n",
      "78             6.0            4.5           1.5\n",
      "90             5.5            4.4           1.2\n",
      "45             4.8            1.4           0.3\n",
      "16             5.4            1.3           0.4\n",
      "121            5.6            4.9           2.0\n",
      "66             5.6            4.5           1.5\n",
      "24             4.8            1.9           0.2\n",
      "8              4.4            1.4           0.2\n",
      "126            6.2            4.8           1.8\n",
      "22             4.6            1.0           0.2\n",
      "44             5.1            1.9           0.4\n",
      "97             6.2            4.3           1.3\n",
      "93             5.0            3.3           1.0\n",
      "26             5.0            1.6           0.4\n"
     ]
    }
   ],
   "source": [
    "print(x_test)"
   ]
  },
  {
   "cell_type": "code",
   "execution_count": 83,
   "id": "6311bf4a",
   "metadata": {},
   "outputs": [
    {
     "name": "stdout",
     "output_type": "stream",
     "text": [
      "137    3.1\n",
      "84     3.0\n",
      "27     3.5\n",
      "127    3.0\n",
      "132    2.8\n",
      "      ... \n",
      "9      3.1\n",
      "103    2.9\n",
      "67     2.7\n",
      "117    3.8\n",
      "47     3.2\n",
      "Name: SepalWidthCm, Length: 120, dtype: float64\n"
     ]
    }
   ],
   "source": [
    "print(y_train)"
   ]
  },
  {
   "cell_type": "code",
   "execution_count": 84,
   "id": "dd6cdd0c",
   "metadata": {},
   "outputs": [
    {
     "name": "stdout",
     "output_type": "stream",
     "text": [
      "114    2.8\n",
      "62     2.2\n",
      "33     4.2\n",
      "107    2.9\n",
      "7      3.4\n",
      "100    3.3\n",
      "40     3.5\n",
      "86     3.1\n",
      "76     2.8\n",
      "71     2.8\n",
      "134    2.6\n",
      "51     3.2\n",
      "73     2.8\n",
      "54     2.8\n",
      "63     2.9\n",
      "37     3.1\n",
      "78     2.9\n",
      "90     2.6\n",
      "45     3.0\n",
      "16     3.9\n",
      "121    2.8\n",
      "66     3.0\n",
      "24     3.4\n",
      "8      2.9\n",
      "126    2.8\n",
      "22     3.6\n",
      "44     3.8\n",
      "97     2.9\n",
      "93     2.3\n",
      "26     3.4\n",
      "Name: SepalWidthCm, dtype: float64\n"
     ]
    }
   ],
   "source": [
    "print(y_test)"
   ]
  },
  {
   "cell_type": "markdown",
   "id": "4671976b",
   "metadata": {},
   "source": [
    "To develop this model, I'll be using the approach of Linear Regression. Linear Regression forms a linear relationship between the target variable and the feature variale(s). \n",
    "\n",
    "Linear regression involves creating a hyperplane. A hyperplane is a subspace whose dimension is one less than that of its ambient space. For eg, a hyperplane of 2 dimensions will be represented in an ambient space of 3 dimensions. "
   ]
  },
  {
   "cell_type": "code",
   "execution_count": 85,
   "id": "329853ef",
   "metadata": {},
   "outputs": [
    {
     "name": "stdout",
     "output_type": "stream",
     "text": [
      "LinearRegression()\n"
     ]
    },
    {
     "data": {
      "text/html": [
       "<style>#sk-container-id-8 {color: black;}#sk-container-id-8 pre{padding: 0;}#sk-container-id-8 div.sk-toggleable {background-color: white;}#sk-container-id-8 label.sk-toggleable__label {cursor: pointer;display: block;width: 100%;margin-bottom: 0;padding: 0.3em;box-sizing: border-box;text-align: center;}#sk-container-id-8 label.sk-toggleable__label-arrow:before {content: \"▸\";float: left;margin-right: 0.25em;color: #696969;}#sk-container-id-8 label.sk-toggleable__label-arrow:hover:before {color: black;}#sk-container-id-8 div.sk-estimator:hover label.sk-toggleable__label-arrow:before {color: black;}#sk-container-id-8 div.sk-toggleable__content {max-height: 0;max-width: 0;overflow: hidden;text-align: left;background-color: #f0f8ff;}#sk-container-id-8 div.sk-toggleable__content pre {margin: 0.2em;color: black;border-radius: 0.25em;background-color: #f0f8ff;}#sk-container-id-8 input.sk-toggleable__control:checked~div.sk-toggleable__content {max-height: 200px;max-width: 100%;overflow: auto;}#sk-container-id-8 input.sk-toggleable__control:checked~label.sk-toggleable__label-arrow:before {content: \"▾\";}#sk-container-id-8 div.sk-estimator input.sk-toggleable__control:checked~label.sk-toggleable__label {background-color: #d4ebff;}#sk-container-id-8 div.sk-label input.sk-toggleable__control:checked~label.sk-toggleable__label {background-color: #d4ebff;}#sk-container-id-8 input.sk-hidden--visually {border: 0;clip: rect(1px 1px 1px 1px);clip: rect(1px, 1px, 1px, 1px);height: 1px;margin: -1px;overflow: hidden;padding: 0;position: absolute;width: 1px;}#sk-container-id-8 div.sk-estimator {font-family: monospace;background-color: #f0f8ff;border: 1px dotted black;border-radius: 0.25em;box-sizing: border-box;margin-bottom: 0.5em;}#sk-container-id-8 div.sk-estimator:hover {background-color: #d4ebff;}#sk-container-id-8 div.sk-parallel-item::after {content: \"\";width: 100%;border-bottom: 1px solid gray;flex-grow: 1;}#sk-container-id-8 div.sk-label:hover label.sk-toggleable__label {background-color: #d4ebff;}#sk-container-id-8 div.sk-serial::before {content: \"\";position: absolute;border-left: 1px solid gray;box-sizing: border-box;top: 0;bottom: 0;left: 50%;z-index: 0;}#sk-container-id-8 div.sk-serial {display: flex;flex-direction: column;align-items: center;background-color: white;padding-right: 0.2em;padding-left: 0.2em;position: relative;}#sk-container-id-8 div.sk-item {position: relative;z-index: 1;}#sk-container-id-8 div.sk-parallel {display: flex;align-items: stretch;justify-content: center;background-color: white;position: relative;}#sk-container-id-8 div.sk-item::before, #sk-container-id-8 div.sk-parallel-item::before {content: \"\";position: absolute;border-left: 1px solid gray;box-sizing: border-box;top: 0;bottom: 0;left: 50%;z-index: -1;}#sk-container-id-8 div.sk-parallel-item {display: flex;flex-direction: column;z-index: 1;position: relative;background-color: white;}#sk-container-id-8 div.sk-parallel-item:first-child::after {align-self: flex-end;width: 50%;}#sk-container-id-8 div.sk-parallel-item:last-child::after {align-self: flex-start;width: 50%;}#sk-container-id-8 div.sk-parallel-item:only-child::after {width: 0;}#sk-container-id-8 div.sk-dashed-wrapped {border: 1px dashed gray;margin: 0 0.4em 0.5em 0.4em;box-sizing: border-box;padding-bottom: 0.4em;background-color: white;}#sk-container-id-8 div.sk-label label {font-family: monospace;font-weight: bold;display: inline-block;line-height: 1.2em;}#sk-container-id-8 div.sk-label-container {text-align: center;}#sk-container-id-8 div.sk-container {/* jupyter's `normalize.less` sets `[hidden] { display: none; }` but bootstrap.min.css set `[hidden] { display: none !important; }` so we also need the `!important` here to be able to override the default hidden behavior on the sphinx rendered scikit-learn.org. See: https://github.com/scikit-learn/scikit-learn/issues/21755 */display: inline-block !important;position: relative;}#sk-container-id-8 div.sk-text-repr-fallback {display: none;}</style><div id=\"sk-container-id-8\" class=\"sk-top-container\"><div class=\"sk-text-repr-fallback\"><pre>LinearRegression()</pre><b>In a Jupyter environment, please rerun this cell to show the HTML representation or trust the notebook. <br />On GitHub, the HTML representation is unable to render, please try loading this page with nbviewer.org.</b></div><div class=\"sk-container\" hidden><div class=\"sk-item\"><div class=\"sk-estimator sk-toggleable\"><input class=\"sk-toggleable__control sk-hidden--visually\" id=\"sk-estimator-id-8\" type=\"checkbox\" checked><label for=\"sk-estimator-id-8\" class=\"sk-toggleable__label sk-toggleable__label-arrow\">LinearRegression</label><div class=\"sk-toggleable__content\"><pre>LinearRegression()</pre></div></div></div></div></div>"
      ],
      "text/plain": [
       "LinearRegression()"
      ]
     },
     "execution_count": 85,
     "metadata": {},
     "output_type": "execute_result"
    }
   ],
   "source": [
    "from sklearn.linear_model import LinearRegression\n",
    "regressor = LinearRegression()\n",
    "print(regressor)\n",
    "regressor.fit(x_train,y_train)#Used to find the most accurate equation for our LR model as per the dataset"
   ]
  },
  {
   "cell_type": "markdown",
   "id": "c3835ae2",
   "metadata": {},
   "source": [
    "The equation of the hyperplane will be given by :\n",
    "\n",
    "y = w1x1 + w2x2 + w3x3 + b\n",
    "\n",
    "where y is the target variable value and x1,x2,x3 are the three festures. w1,w2,w3 are weigths of the model, and b is the bias. The value of w and b are determined by the fit() function used above."
   ]
  },
  {
   "cell_type": "code",
   "execution_count": 86,
   "id": "20c73691",
   "metadata": {},
   "outputs": [
    {
     "name": "stdout",
     "output_type": "stream",
     "text": [
      "0.9028508350075057\n",
      "[ 0.63314797 -0.59748431  0.57436319]\n"
     ]
    }
   ],
   "source": [
    "print(regressor.intercept_)#value of b\n",
    "print(regressor.coef_)#We will get 3 coefficients for 3 variables"
   ]
  },
  {
   "cell_type": "code",
   "execution_count": 87,
   "id": "99f933b3",
   "metadata": {},
   "outputs": [
    {
     "name": "stdout",
     "output_type": "stream",
     "text": [
      "     Actual  Predicted\n",
      "114     2.8   2.906411\n",
      "62      2.2   2.886165\n",
      "33      4.2   3.663559\n",
      "107     2.9   2.794534\n",
      "7       3.4   3.287237\n",
      "100     3.3   2.742685\n",
      "40      3.5   3.464170\n",
      "86      3.1   3.198311\n",
      "76      2.8   3.144441\n",
      "71      2.8   3.121788\n",
      "134     2.6   2.223250\n",
      "51      3.2   3.127863\n",
      "73      2.8   2.646113\n",
      "54      2.8   3.131430\n",
      "63      2.9   2.760986\n",
      "37      3.1   3.166486\n",
      "78      2.9   2.874604\n",
      "90      2.6   2.445470\n",
      "45      3.0   3.277792\n",
      "16      3.9   3.774866\n",
      "121     2.8   2.669533\n",
      "66      3.0   2.621345\n",
      "24      3.4   2.921614\n",
      "8       2.9   2.967097\n",
      "126     2.8   2.994297\n",
      "22      3.6   3.332720\n",
      "44      3.8   3.226431\n",
      "97      2.9   3.005858\n",
      "93      2.3   2.671256\n",
      "26      3.4   3.342361\n"
     ]
    }
   ],
   "source": [
    "y_test_predict = regressor.predict(x_test)\n",
    "df = pd.DataFrame({'Actual': y_test, 'Predicted': y_test_predict})\n",
    "print(df)"
   ]
  },
  {
   "cell_type": "code",
   "execution_count": 88,
   "id": "636967e3",
   "metadata": {},
   "outputs": [
    {
     "name": "stdout",
     "output_type": "stream",
     "text": [
      "     Actual  Predicted\n",
      "137     3.1   2.702688\n",
      "84      3.0   2.494715\n",
      "27      3.5   3.413866\n",
      "127     3.0   2.871234\n",
      "132     2.8   2.872685\n",
      "..      ...        ...\n",
      "9       3.1   3.166486\n",
      "103     2.9   2.579625\n",
      "67      2.7   2.699787\n",
      "117     3.8   3.038544\n",
      "47      3.2   3.093726\n",
      "\n",
      "[120 rows x 2 columns]\n"
     ]
    }
   ],
   "source": [
    "y_train_predict = regressor.predict(x_train)\n",
    "df = pd.DataFrame({'Actual': y_train, 'Predicted': y_train_predict})\n",
    "print(df)"
   ]
  },
  {
   "cell_type": "code",
   "execution_count": 89,
   "id": "03c182f3",
   "metadata": {},
   "outputs": [
    {
     "name": "stdout",
     "output_type": "stream",
     "text": [
      "Mean Absolute Error: 0.23401483526829944\n",
      "Mean Squared Error: 0.08863844592815137\n",
      "Root Mean Squared Error: 0.29772209512925196\n"
     ]
    }
   ],
   "source": [
    "from sklearn import metrics\n",
    "print('Mean Absolute Error:', metrics.mean_absolute_error(y_train, y_train_predict))  \n",
    "print('Mean Squared Error:', metrics.mean_squared_error(y_train, y_train_predict))  \n",
    "print('Root Mean Squared Error:', np.sqrt(metrics.mean_squared_error(y_train, y_train_predict)))"
   ]
  },
  {
   "cell_type": "code",
   "execution_count": 90,
   "id": "109cb795",
   "metadata": {},
   "outputs": [
    {
     "name": "stdout",
     "output_type": "stream",
     "text": [
      "Mean Absolute Error: 0.24173305423028946\n",
      "Mean Squared Error: 0.09145148020062446\n",
      "Root Mean Squared Error: 0.30240945785577616\n"
     ]
    }
   ],
   "source": [
    "from sklearn import metrics\n",
    "print('Mean Absolute Error:', metrics.mean_absolute_error(y_test, y_test_predict))  \n",
    "print('Mean Squared Error:', metrics.mean_squared_error(y_test, y_test_predict))  \n",
    "print('Root Mean Squared Error:', np.sqrt(metrics.mean_squared_error(y_test, y_test_predict)))"
   ]
  },
  {
   "cell_type": "markdown",
   "id": "7e84562f",
   "metadata": {},
   "source": [
    "In order to produce a much accurate result, Ensemble methods are used. Ensemble methods are techniques that create multiple models and then combine them to produce improved results.\n",
    "\n",
    "One such ensemble method is Random Forest Regression. A forest of decision making tress is created, and each tree makes predictions. The final prediction is a weighted average of all the predictions."
   ]
  },
  {
   "cell_type": "code",
   "execution_count": 91,
   "id": "f8b88658",
   "metadata": {},
   "outputs": [],
   "source": [
    "from sklearn.ensemble import RandomForestRegressor"
   ]
  },
  {
   "cell_type": "code",
   "execution_count": 92,
   "id": "e5166ec7",
   "metadata": {},
   "outputs": [
    {
     "data": {
      "text/html": [
       "<style>#sk-container-id-9 {color: black;}#sk-container-id-9 pre{padding: 0;}#sk-container-id-9 div.sk-toggleable {background-color: white;}#sk-container-id-9 label.sk-toggleable__label {cursor: pointer;display: block;width: 100%;margin-bottom: 0;padding: 0.3em;box-sizing: border-box;text-align: center;}#sk-container-id-9 label.sk-toggleable__label-arrow:before {content: \"▸\";float: left;margin-right: 0.25em;color: #696969;}#sk-container-id-9 label.sk-toggleable__label-arrow:hover:before {color: black;}#sk-container-id-9 div.sk-estimator:hover label.sk-toggleable__label-arrow:before {color: black;}#sk-container-id-9 div.sk-toggleable__content {max-height: 0;max-width: 0;overflow: hidden;text-align: left;background-color: #f0f8ff;}#sk-container-id-9 div.sk-toggleable__content pre {margin: 0.2em;color: black;border-radius: 0.25em;background-color: #f0f8ff;}#sk-container-id-9 input.sk-toggleable__control:checked~div.sk-toggleable__content {max-height: 200px;max-width: 100%;overflow: auto;}#sk-container-id-9 input.sk-toggleable__control:checked~label.sk-toggleable__label-arrow:before {content: \"▾\";}#sk-container-id-9 div.sk-estimator input.sk-toggleable__control:checked~label.sk-toggleable__label {background-color: #d4ebff;}#sk-container-id-9 div.sk-label input.sk-toggleable__control:checked~label.sk-toggleable__label {background-color: #d4ebff;}#sk-container-id-9 input.sk-hidden--visually {border: 0;clip: rect(1px 1px 1px 1px);clip: rect(1px, 1px, 1px, 1px);height: 1px;margin: -1px;overflow: hidden;padding: 0;position: absolute;width: 1px;}#sk-container-id-9 div.sk-estimator {font-family: monospace;background-color: #f0f8ff;border: 1px dotted black;border-radius: 0.25em;box-sizing: border-box;margin-bottom: 0.5em;}#sk-container-id-9 div.sk-estimator:hover {background-color: #d4ebff;}#sk-container-id-9 div.sk-parallel-item::after {content: \"\";width: 100%;border-bottom: 1px solid gray;flex-grow: 1;}#sk-container-id-9 div.sk-label:hover label.sk-toggleable__label {background-color: #d4ebff;}#sk-container-id-9 div.sk-serial::before {content: \"\";position: absolute;border-left: 1px solid gray;box-sizing: border-box;top: 0;bottom: 0;left: 50%;z-index: 0;}#sk-container-id-9 div.sk-serial {display: flex;flex-direction: column;align-items: center;background-color: white;padding-right: 0.2em;padding-left: 0.2em;position: relative;}#sk-container-id-9 div.sk-item {position: relative;z-index: 1;}#sk-container-id-9 div.sk-parallel {display: flex;align-items: stretch;justify-content: center;background-color: white;position: relative;}#sk-container-id-9 div.sk-item::before, #sk-container-id-9 div.sk-parallel-item::before {content: \"\";position: absolute;border-left: 1px solid gray;box-sizing: border-box;top: 0;bottom: 0;left: 50%;z-index: -1;}#sk-container-id-9 div.sk-parallel-item {display: flex;flex-direction: column;z-index: 1;position: relative;background-color: white;}#sk-container-id-9 div.sk-parallel-item:first-child::after {align-self: flex-end;width: 50%;}#sk-container-id-9 div.sk-parallel-item:last-child::after {align-self: flex-start;width: 50%;}#sk-container-id-9 div.sk-parallel-item:only-child::after {width: 0;}#sk-container-id-9 div.sk-dashed-wrapped {border: 1px dashed gray;margin: 0 0.4em 0.5em 0.4em;box-sizing: border-box;padding-bottom: 0.4em;background-color: white;}#sk-container-id-9 div.sk-label label {font-family: monospace;font-weight: bold;display: inline-block;line-height: 1.2em;}#sk-container-id-9 div.sk-label-container {text-align: center;}#sk-container-id-9 div.sk-container {/* jupyter's `normalize.less` sets `[hidden] { display: none; }` but bootstrap.min.css set `[hidden] { display: none !important; }` so we also need the `!important` here to be able to override the default hidden behavior on the sphinx rendered scikit-learn.org. See: https://github.com/scikit-learn/scikit-learn/issues/21755 */display: inline-block !important;position: relative;}#sk-container-id-9 div.sk-text-repr-fallback {display: none;}</style><div id=\"sk-container-id-9\" class=\"sk-top-container\"><div class=\"sk-text-repr-fallback\"><pre>RandomForestRegressor(max_depth=20)</pre><b>In a Jupyter environment, please rerun this cell to show the HTML representation or trust the notebook. <br />On GitHub, the HTML representation is unable to render, please try loading this page with nbviewer.org.</b></div><div class=\"sk-container\" hidden><div class=\"sk-item\"><div class=\"sk-estimator sk-toggleable\"><input class=\"sk-toggleable__control sk-hidden--visually\" id=\"sk-estimator-id-9\" type=\"checkbox\" checked><label for=\"sk-estimator-id-9\" class=\"sk-toggleable__label sk-toggleable__label-arrow\">RandomForestRegressor</label><div class=\"sk-toggleable__content\"><pre>RandomForestRegressor(max_depth=20)</pre></div></div></div></div></div>"
      ],
      "text/plain": [
       "RandomForestRegressor(max_depth=20)"
      ]
     },
     "execution_count": 92,
     "metadata": {},
     "output_type": "execute_result"
    }
   ],
   "source": [
    "rf=RandomForestRegressor(n_estimators=100, max_depth=20)\n",
    "rf.fit(x_train,y_train)"
   ]
  },
  {
   "cell_type": "code",
   "execution_count": 93,
   "id": "9132162b",
   "metadata": {},
   "outputs": [
    {
     "name": "stdout",
     "output_type": "stream",
     "text": [
      "     Actual  Predicted\n",
      "114     2.8   3.069000\n",
      "62      2.2   2.622800\n",
      "33      4.2   3.504000\n",
      "107     2.9   2.946000\n",
      "7       3.4   3.352200\n",
      "100     3.3   3.335000\n",
      "40      3.5   3.280700\n",
      "86      3.1   3.047000\n",
      "76      2.8   3.058000\n",
      "71      2.8   2.632467\n",
      "134     2.6   2.742000\n",
      "51      3.2   2.762000\n",
      "73      2.8   2.787000\n",
      "54      2.8   2.971000\n",
      "63      2.9   2.922000\n",
      "37      3.1   3.096250\n",
      "78      2.9   2.800000\n",
      "90      2.6   2.672433\n",
      "45      3.0   3.153750\n",
      "16      3.9   3.517000\n",
      "121     2.8   2.723333\n",
      "66      3.0   2.833333\n",
      "24      3.4   3.226214\n",
      "8       2.9   3.076014\n",
      "126     2.8   2.958000\n",
      "22      3.6   3.113500\n",
      "44      3.8   3.657000\n",
      "97      2.9   2.519000\n",
      "93      2.3   2.267000\n",
      "26      3.4   3.302850\n"
     ]
    }
   ],
   "source": [
    "y_predict=rf.predict(x_test)\n",
    "df = pd.DataFrame({'Actual': y_test, 'Predicted': y_predict})\n",
    "print(df)"
   ]
  },
  {
   "cell_type": "code",
   "execution_count": 94,
   "id": "6596c8e4",
   "metadata": {},
   "outputs": [
    {
     "name": "stdout",
     "output_type": "stream",
     "text": [
      "Mean Absolute Error: 0.09393222222222243\n",
      "Mean Squared Error: 0.015283525451341654\n",
      "Root Mean Squared Error: 0.12362655641625571\n"
     ]
    }
   ],
   "source": [
    "y_train_predict = rf.predict(x_train)\n",
    "#Accuracy of train data\n",
    "from sklearn import metrics\n",
    "print('Mean Absolute Error:', metrics.mean_absolute_error(y_train, y_train_predict))  \n",
    "print('Mean Squared Error:', metrics.mean_squared_error(y_train, y_train_predict))  \n",
    "print('Root Mean Squared Error:', np.sqrt(metrics.mean_squared_error(y_train, y_train_predict)))"
   ]
  },
  {
   "cell_type": "code",
   "execution_count": 95,
   "id": "fa904ae1",
   "metadata": {},
   "outputs": [
    {
     "name": "stdout",
     "output_type": "stream",
     "text": [
      "Mean Absolute Error: 0.18683833333333358\n",
      "Mean Squared Error: 0.061560257729214175\n",
      "Root Mean Squared Error: 0.2481133969160355\n"
     ]
    }
   ],
   "source": [
    "#Accuracy of test data\n",
    "from sklearn import metrics\n",
    "print('Mean Absolute Error:', metrics.mean_absolute_error(y_test, y_predict))  \n",
    "print('Mean Squared Error:', metrics.mean_squared_error(y_test, y_predict))  \n",
    "print('Root Mean Squared Error:', np.sqrt(metrics.mean_squared_error(y_test, y_predict)))"
   ]
  },
  {
   "cell_type": "code",
   "execution_count": 96,
   "id": "a5eb5c05",
   "metadata": {},
   "outputs": [],
   "source": [
    "from sklearn import ensemble"
   ]
  },
  {
   "cell_type": "markdown",
   "id": "8b818031",
   "metadata": {},
   "source": [
    "Another ensemble method is Gradient Boosting. Unlike Random Forest Regression, instead of combining predictions made by decision making trees in parallel, Gradient Boosting builds trees sequentially, minimizing the error of the previous one thereby optimizing the model."
   ]
  },
  {
   "cell_type": "code",
   "execution_count": 97,
   "id": "ef049363",
   "metadata": {},
   "outputs": [
    {
     "data": {
      "text/html": [
       "<style>#sk-container-id-10 {color: black;}#sk-container-id-10 pre{padding: 0;}#sk-container-id-10 div.sk-toggleable {background-color: white;}#sk-container-id-10 label.sk-toggleable__label {cursor: pointer;display: block;width: 100%;margin-bottom: 0;padding: 0.3em;box-sizing: border-box;text-align: center;}#sk-container-id-10 label.sk-toggleable__label-arrow:before {content: \"▸\";float: left;margin-right: 0.25em;color: #696969;}#sk-container-id-10 label.sk-toggleable__label-arrow:hover:before {color: black;}#sk-container-id-10 div.sk-estimator:hover label.sk-toggleable__label-arrow:before {color: black;}#sk-container-id-10 div.sk-toggleable__content {max-height: 0;max-width: 0;overflow: hidden;text-align: left;background-color: #f0f8ff;}#sk-container-id-10 div.sk-toggleable__content pre {margin: 0.2em;color: black;border-radius: 0.25em;background-color: #f0f8ff;}#sk-container-id-10 input.sk-toggleable__control:checked~div.sk-toggleable__content {max-height: 200px;max-width: 100%;overflow: auto;}#sk-container-id-10 input.sk-toggleable__control:checked~label.sk-toggleable__label-arrow:before {content: \"▾\";}#sk-container-id-10 div.sk-estimator input.sk-toggleable__control:checked~label.sk-toggleable__label {background-color: #d4ebff;}#sk-container-id-10 div.sk-label input.sk-toggleable__control:checked~label.sk-toggleable__label {background-color: #d4ebff;}#sk-container-id-10 input.sk-hidden--visually {border: 0;clip: rect(1px 1px 1px 1px);clip: rect(1px, 1px, 1px, 1px);height: 1px;margin: -1px;overflow: hidden;padding: 0;position: absolute;width: 1px;}#sk-container-id-10 div.sk-estimator {font-family: monospace;background-color: #f0f8ff;border: 1px dotted black;border-radius: 0.25em;box-sizing: border-box;margin-bottom: 0.5em;}#sk-container-id-10 div.sk-estimator:hover {background-color: #d4ebff;}#sk-container-id-10 div.sk-parallel-item::after {content: \"\";width: 100%;border-bottom: 1px solid gray;flex-grow: 1;}#sk-container-id-10 div.sk-label:hover label.sk-toggleable__label {background-color: #d4ebff;}#sk-container-id-10 div.sk-serial::before {content: \"\";position: absolute;border-left: 1px solid gray;box-sizing: border-box;top: 0;bottom: 0;left: 50%;z-index: 0;}#sk-container-id-10 div.sk-serial {display: flex;flex-direction: column;align-items: center;background-color: white;padding-right: 0.2em;padding-left: 0.2em;position: relative;}#sk-container-id-10 div.sk-item {position: relative;z-index: 1;}#sk-container-id-10 div.sk-parallel {display: flex;align-items: stretch;justify-content: center;background-color: white;position: relative;}#sk-container-id-10 div.sk-item::before, #sk-container-id-10 div.sk-parallel-item::before {content: \"\";position: absolute;border-left: 1px solid gray;box-sizing: border-box;top: 0;bottom: 0;left: 50%;z-index: -1;}#sk-container-id-10 div.sk-parallel-item {display: flex;flex-direction: column;z-index: 1;position: relative;background-color: white;}#sk-container-id-10 div.sk-parallel-item:first-child::after {align-self: flex-end;width: 50%;}#sk-container-id-10 div.sk-parallel-item:last-child::after {align-self: flex-start;width: 50%;}#sk-container-id-10 div.sk-parallel-item:only-child::after {width: 0;}#sk-container-id-10 div.sk-dashed-wrapped {border: 1px dashed gray;margin: 0 0.4em 0.5em 0.4em;box-sizing: border-box;padding-bottom: 0.4em;background-color: white;}#sk-container-id-10 div.sk-label label {font-family: monospace;font-weight: bold;display: inline-block;line-height: 1.2em;}#sk-container-id-10 div.sk-label-container {text-align: center;}#sk-container-id-10 div.sk-container {/* jupyter's `normalize.less` sets `[hidden] { display: none; }` but bootstrap.min.css set `[hidden] { display: none !important; }` so we also need the `!important` here to be able to override the default hidden behavior on the sphinx rendered scikit-learn.org. See: https://github.com/scikit-learn/scikit-learn/issues/21755 */display: inline-block !important;position: relative;}#sk-container-id-10 div.sk-text-repr-fallback {display: none;}</style><div id=\"sk-container-id-10\" class=\"sk-top-container\"><div class=\"sk-text-repr-fallback\"><pre>GradientBoostingRegressor()</pre><b>In a Jupyter environment, please rerun this cell to show the HTML representation or trust the notebook. <br />On GitHub, the HTML representation is unable to render, please try loading this page with nbviewer.org.</b></div><div class=\"sk-container\" hidden><div class=\"sk-item\"><div class=\"sk-estimator sk-toggleable\"><input class=\"sk-toggleable__control sk-hidden--visually\" id=\"sk-estimator-id-10\" type=\"checkbox\" checked><label for=\"sk-estimator-id-10\" class=\"sk-toggleable__label sk-toggleable__label-arrow\">GradientBoostingRegressor</label><div class=\"sk-toggleable__content\"><pre>GradientBoostingRegressor()</pre></div></div></div></div></div>"
      ],
      "text/plain": [
       "GradientBoostingRegressor()"
      ]
     },
     "execution_count": 97,
     "metadata": {},
     "output_type": "execute_result"
    }
   ],
   "source": [
    "reg = ensemble.GradientBoostingRegressor()\n",
    "reg.fit(x_train, y_train)"
   ]
  },
  {
   "cell_type": "code",
   "execution_count": 98,
   "id": "ae9cff2e",
   "metadata": {},
   "outputs": [
    {
     "name": "stdout",
     "output_type": "stream",
     "text": [
      "     Actual  Predicted\n",
      "114     2.8   3.131148\n",
      "62      2.2   2.588202\n",
      "33      4.2   3.510932\n",
      "107     2.9   2.979663\n",
      "7       3.4   3.291754\n",
      "100     3.3   3.396824\n",
      "40      3.5   3.321831\n",
      "86      3.1   2.995421\n",
      "76      2.8   3.141523\n",
      "71      2.8   2.658474\n",
      "134     2.6   2.668812\n",
      "51      3.2   2.800658\n",
      "73      2.8   2.736867\n",
      "54      2.8   2.941030\n",
      "63      2.9   2.829017\n",
      "37      3.1   3.131918\n",
      "78      2.9   2.715784\n",
      "90      2.6   2.590679\n",
      "45      3.0   3.134926\n",
      "16      3.9   3.601121\n",
      "121     2.8   2.603586\n",
      "66      3.0   2.855859\n",
      "24      3.4   3.079826\n",
      "8       2.9   3.076004\n",
      "126     2.8   3.048976\n",
      "22      3.6   3.190249\n",
      "44      3.8   3.578867\n",
      "97      2.9   2.620575\n",
      "93      2.3   2.340878\n",
      "26      3.4   3.374303\n"
     ]
    }
   ],
   "source": [
    "# prediction\n",
    "y_predict=reg.predict(x_test)\n",
    "df = pd.DataFrame({'Actual': y_test, 'Predicted': y_predict})\n",
    "print(df)"
   ]
  },
  {
   "cell_type": "code",
   "execution_count": 99,
   "id": "cf031531",
   "metadata": {},
   "outputs": [
    {
     "name": "stdout",
     "output_type": "stream",
     "text": [
      "Mean Absolute Error: 0.10369788249413307\n",
      "Mean Squared Error: 0.016878422604371883\n",
      "Root Mean Squared Error: 0.1299169835101319\n"
     ]
    }
   ],
   "source": [
    "y_train_predict = reg.predict(x_train)\n",
    "#Accuracy of train data\n",
    "from sklearn import metrics\n",
    "print('Mean Absolute Error:', metrics.mean_absolute_error(y_train, y_train_predict))  \n",
    "print('Mean Squared Error:', metrics.mean_squared_error(y_train, y_train_predict))  \n",
    "print('Root Mean Squared Error:', np.sqrt(metrics.mean_squared_error(y_train, y_train_predict)))"
   ]
  },
  {
   "cell_type": "code",
   "execution_count": 100,
   "id": "829b3f7c",
   "metadata": {},
   "outputs": [
    {
     "name": "stdout",
     "output_type": "stream",
     "text": [
      "Mean Absolute Error: 0.19747004846625962\n",
      "Mean Squared Error: 0.06098989799329478\n",
      "Root Mean Squared Error: 0.24696132894300432\n"
     ]
    }
   ],
   "source": [
    "#Accuracy of test data\n",
    "from sklearn import metrics\n",
    "print('Mean Absolute Error:', metrics.mean_absolute_error(y_test, y_predict))  \n",
    "print('Mean Squared Error:', metrics.mean_squared_error(y_test, y_predict))  \n",
    "print('Root Mean Squared Error:', np.sqrt(metrics.mean_squared_error(y_test, y_predict)))"
   ]
  },
  {
   "cell_type": "markdown",
   "id": "1a871632",
   "metadata": {},
   "source": [
    "It is clearly visible that whenever we use either of the ensemble method, the error is minimized."
   ]
  }
 ],
 "metadata": {
  "kernelspec": {
   "display_name": "Python 3 (ipykernel)",
   "language": "python",
   "name": "python3"
  },
  "language_info": {
   "codemirror_mode": {
    "name": "ipython",
    "version": 3
   },
   "file_extension": ".py",
   "mimetype": "text/x-python",
   "name": "python",
   "nbconvert_exporter": "python",
   "pygments_lexer": "ipython3",
   "version": "3.11.4"
  }
 },
 "nbformat": 4,
 "nbformat_minor": 5
}
