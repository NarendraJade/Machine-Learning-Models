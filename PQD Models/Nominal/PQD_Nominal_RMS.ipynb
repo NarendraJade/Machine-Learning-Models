{
 "cells": [
  {
   "cell_type": "code",
   "execution_count": 3,
   "id": "c8418538",
   "metadata": {},
   "outputs": [],
   "source": [
    "import sklearn\n",
    "import pandas as pd\n",
    "import numpy as np"
   ]
  },
  {
   "cell_type": "code",
   "execution_count": 4,
   "id": "68c90767",
   "metadata": {
    "scrolled": true
   },
   "outputs": [
    {
     "data": {
      "text/html": [
       "<div>\n",
       "<style scoped>\n",
       "    .dataframe tbody tr th:only-of-type {\n",
       "        vertical-align: middle;\n",
       "    }\n",
       "\n",
       "    .dataframe tbody tr th {\n",
       "        vertical-align: top;\n",
       "    }\n",
       "\n",
       "    .dataframe thead th {\n",
       "        text-align: right;\n",
       "    }\n",
       "</style>\n",
       "<table border=\"1\" class=\"dataframe\">\n",
       "  <thead>\n",
       "    <tr style=\"text-align: right;\">\n",
       "      <th></th>\n",
       "      <th>Vas_RMS</th>\n",
       "      <th>Vbs_RMS</th>\n",
       "      <th>Vcs_RMS</th>\n",
       "      <th>Ias_RMS</th>\n",
       "      <th>Ibs_RMS</th>\n",
       "      <th>Ics_RMS</th>\n",
       "      <th>phase A</th>\n",
       "      <th>Phase B</th>\n",
       "      <th>phase C</th>\n",
       "    </tr>\n",
       "  </thead>\n",
       "  <tbody>\n",
       "    <tr>\n",
       "      <th>0</th>\n",
       "      <td>169.423041</td>\n",
       "      <td>169.423041</td>\n",
       "      <td>169.423041</td>\n",
       "      <td>0.786511</td>\n",
       "      <td>0.786511</td>\n",
       "      <td>0.786511</td>\n",
       "      <td>26.269462</td>\n",
       "      <td>26.269462</td>\n",
       "      <td>26.269462</td>\n",
       "    </tr>\n",
       "    <tr>\n",
       "      <th>1</th>\n",
       "      <td>169.423041</td>\n",
       "      <td>169.423041</td>\n",
       "      <td>169.423041</td>\n",
       "      <td>0.786511</td>\n",
       "      <td>0.786511</td>\n",
       "      <td>0.786511</td>\n",
       "      <td>26.269462</td>\n",
       "      <td>26.269462</td>\n",
       "      <td>26.269462</td>\n",
       "    </tr>\n",
       "    <tr>\n",
       "      <th>2</th>\n",
       "      <td>169.423041</td>\n",
       "      <td>169.423041</td>\n",
       "      <td>169.423041</td>\n",
       "      <td>0.786511</td>\n",
       "      <td>0.786511</td>\n",
       "      <td>0.786511</td>\n",
       "      <td>26.269462</td>\n",
       "      <td>26.269462</td>\n",
       "      <td>26.269462</td>\n",
       "    </tr>\n",
       "    <tr>\n",
       "      <th>3</th>\n",
       "      <td>169.423041</td>\n",
       "      <td>169.423041</td>\n",
       "      <td>169.423041</td>\n",
       "      <td>0.786511</td>\n",
       "      <td>0.786511</td>\n",
       "      <td>0.786511</td>\n",
       "      <td>26.269462</td>\n",
       "      <td>26.269462</td>\n",
       "      <td>26.269462</td>\n",
       "    </tr>\n",
       "    <tr>\n",
       "      <th>4</th>\n",
       "      <td>169.423041</td>\n",
       "      <td>169.423041</td>\n",
       "      <td>169.423041</td>\n",
       "      <td>0.786511</td>\n",
       "      <td>0.786511</td>\n",
       "      <td>0.786511</td>\n",
       "      <td>26.269462</td>\n",
       "      <td>26.269462</td>\n",
       "      <td>26.269462</td>\n",
       "    </tr>\n",
       "  </tbody>\n",
       "</table>\n",
       "</div>"
      ],
      "text/plain": [
       "      Vas_RMS     Vbs_RMS     Vcs_RMS   Ias_RMS   Ibs_RMS   Ics_RMS  \\\n",
       "0  169.423041  169.423041  169.423041  0.786511  0.786511  0.786511   \n",
       "1  169.423041  169.423041  169.423041  0.786511  0.786511  0.786511   \n",
       "2  169.423041  169.423041  169.423041  0.786511  0.786511  0.786511   \n",
       "3  169.423041  169.423041  169.423041  0.786511  0.786511  0.786511   \n",
       "4  169.423041  169.423041  169.423041  0.786511  0.786511  0.786511   \n",
       "\n",
       "     phase A    Phase B    phase C  \n",
       "0  26.269462  26.269462  26.269462  \n",
       "1  26.269462  26.269462  26.269462  \n",
       "2  26.269462  26.269462  26.269462  \n",
       "3  26.269462  26.269462  26.269462  \n",
       "4  26.269462  26.269462  26.269462  "
      ]
     },
     "execution_count": 4,
     "metadata": {},
     "output_type": "execute_result"
    }
   ],
   "source": [
    "df = pd.read_csv(\"C:\\\\Users\\\\Admin\\\\Desktop\\\\PQD Database\\\\PQD_Nominal_Database\\\\RMS\\\\PQD_Nominal_RMS Database.csv\")\n",
    "df.head()"
   ]
  },
  {
   "cell_type": "code",
   "execution_count": 5,
   "id": "1222bfe7",
   "metadata": {},
   "outputs": [
    {
     "data": {
      "text/html": [
       "<div>\n",
       "<style scoped>\n",
       "    .dataframe tbody tr th:only-of-type {\n",
       "        vertical-align: middle;\n",
       "    }\n",
       "\n",
       "    .dataframe tbody tr th {\n",
       "        vertical-align: top;\n",
       "    }\n",
       "\n",
       "    .dataframe thead th {\n",
       "        text-align: right;\n",
       "    }\n",
       "</style>\n",
       "<table border=\"1\" class=\"dataframe\">\n",
       "  <thead>\n",
       "    <tr style=\"text-align: right;\">\n",
       "      <th></th>\n",
       "      <th>Vas_RMS</th>\n",
       "      <th>Vbs_RMS</th>\n",
       "      <th>Vcs_RMS</th>\n",
       "      <th>Ias_RMS</th>\n",
       "      <th>Ibs_RMS</th>\n",
       "      <th>Ics_RMS</th>\n",
       "      <th>phase A</th>\n",
       "      <th>Phase B</th>\n",
       "      <th>phase C</th>\n",
       "    </tr>\n",
       "  </thead>\n",
       "  <tbody>\n",
       "    <tr>\n",
       "      <th>count</th>\n",
       "      <td>2.000450e+05</td>\n",
       "      <td>2.000450e+05</td>\n",
       "      <td>2.000450e+05</td>\n",
       "      <td>200045.000000</td>\n",
       "      <td>200045.000000</td>\n",
       "      <td>200045.000000</td>\n",
       "      <td>200045.000000</td>\n",
       "      <td>200045.000000</td>\n",
       "      <td>200045.000000</td>\n",
       "    </tr>\n",
       "    <tr>\n",
       "      <th>mean</th>\n",
       "      <td>1.694230e+02</td>\n",
       "      <td>1.694230e+02</td>\n",
       "      <td>1.694230e+02</td>\n",
       "      <td>1.064005</td>\n",
       "      <td>1.064005</td>\n",
       "      <td>1.064005</td>\n",
       "      <td>35.537775</td>\n",
       "      <td>35.537775</td>\n",
       "      <td>35.537775</td>\n",
       "    </tr>\n",
       "    <tr>\n",
       "      <th>std</th>\n",
       "      <td>8.546714e-10</td>\n",
       "      <td>8.546714e-10</td>\n",
       "      <td>8.546714e-10</td>\n",
       "      <td>0.285067</td>\n",
       "      <td>0.285067</td>\n",
       "      <td>0.285067</td>\n",
       "      <td>9.521250</td>\n",
       "      <td>9.521250</td>\n",
       "      <td>9.521250</td>\n",
       "    </tr>\n",
       "    <tr>\n",
       "      <th>min</th>\n",
       "      <td>1.694230e+02</td>\n",
       "      <td>1.694230e+02</td>\n",
       "      <td>1.694230e+02</td>\n",
       "      <td>0.786511</td>\n",
       "      <td>0.786511</td>\n",
       "      <td>0.786511</td>\n",
       "      <td>26.269462</td>\n",
       "      <td>26.269462</td>\n",
       "      <td>26.269462</td>\n",
       "    </tr>\n",
       "    <tr>\n",
       "      <th>25%</th>\n",
       "      <td>1.694230e+02</td>\n",
       "      <td>1.694230e+02</td>\n",
       "      <td>1.694230e+02</td>\n",
       "      <td>0.816606</td>\n",
       "      <td>0.816606</td>\n",
       "      <td>0.816606</td>\n",
       "      <td>27.274632</td>\n",
       "      <td>27.274632</td>\n",
       "      <td>27.274632</td>\n",
       "    </tr>\n",
       "    <tr>\n",
       "      <th>50%</th>\n",
       "      <td>1.694230e+02</td>\n",
       "      <td>1.694230e+02</td>\n",
       "      <td>1.694230e+02</td>\n",
       "      <td>0.959192</td>\n",
       "      <td>0.959192</td>\n",
       "      <td>0.959192</td>\n",
       "      <td>32.037001</td>\n",
       "      <td>32.037001</td>\n",
       "      <td>32.037001</td>\n",
       "    </tr>\n",
       "    <tr>\n",
       "      <th>75%</th>\n",
       "      <td>1.694230e+02</td>\n",
       "      <td>1.694230e+02</td>\n",
       "      <td>1.694230e+02</td>\n",
       "      <td>1.207317</td>\n",
       "      <td>1.207317</td>\n",
       "      <td>1.207317</td>\n",
       "      <td>40.324372</td>\n",
       "      <td>40.324372</td>\n",
       "      <td>40.324372</td>\n",
       "    </tr>\n",
       "    <tr>\n",
       "      <th>max</th>\n",
       "      <td>1.694230e+02</td>\n",
       "      <td>1.694230e+02</td>\n",
       "      <td>1.694230e+02</td>\n",
       "      <td>1.550403</td>\n",
       "      <td>1.550403</td>\n",
       "      <td>1.550403</td>\n",
       "      <td>51.783459</td>\n",
       "      <td>51.783460</td>\n",
       "      <td>51.783459</td>\n",
       "    </tr>\n",
       "  </tbody>\n",
       "</table>\n",
       "</div>"
      ],
      "text/plain": [
       "            Vas_RMS       Vbs_RMS       Vcs_RMS        Ias_RMS        Ibs_RMS  \\\n",
       "count  2.000450e+05  2.000450e+05  2.000450e+05  200045.000000  200045.000000   \n",
       "mean   1.694230e+02  1.694230e+02  1.694230e+02       1.064005       1.064005   \n",
       "std    8.546714e-10  8.546714e-10  8.546714e-10       0.285067       0.285067   \n",
       "min    1.694230e+02  1.694230e+02  1.694230e+02       0.786511       0.786511   \n",
       "25%    1.694230e+02  1.694230e+02  1.694230e+02       0.816606       0.816606   \n",
       "50%    1.694230e+02  1.694230e+02  1.694230e+02       0.959192       0.959192   \n",
       "75%    1.694230e+02  1.694230e+02  1.694230e+02       1.207317       1.207317   \n",
       "max    1.694230e+02  1.694230e+02  1.694230e+02       1.550403       1.550403   \n",
       "\n",
       "             Ics_RMS        phase A        Phase B        phase C  \n",
       "count  200045.000000  200045.000000  200045.000000  200045.000000  \n",
       "mean        1.064005      35.537775      35.537775      35.537775  \n",
       "std         0.285067       9.521250       9.521250       9.521250  \n",
       "min         0.786511      26.269462      26.269462      26.269462  \n",
       "25%         0.816606      27.274632      27.274632      27.274632  \n",
       "50%         0.959192      32.037001      32.037001      32.037001  \n",
       "75%         1.207317      40.324372      40.324372      40.324372  \n",
       "max         1.550403      51.783459      51.783460      51.783459  "
      ]
     },
     "execution_count": 5,
     "metadata": {},
     "output_type": "execute_result"
    }
   ],
   "source": [
    "df.describe()"
   ]
  },
  {
   "cell_type": "code",
   "execution_count": 6,
   "id": "c0d75ac6",
   "metadata": {},
   "outputs": [
    {
     "name": "stdout",
     "output_type": "stream",
     "text": [
      "<class 'pandas.core.frame.DataFrame'>\n",
      "RangeIndex: 200045 entries, 0 to 200044\n",
      "Data columns (total 9 columns):\n",
      " #   Column   Non-Null Count   Dtype  \n",
      "---  ------   --------------   -----  \n",
      " 0   Vas_RMS  200045 non-null  float64\n",
      " 1   Vbs_RMS  200045 non-null  float64\n",
      " 2   Vcs_RMS  200045 non-null  float64\n",
      " 3   Ias_RMS  200045 non-null  float64\n",
      " 4   Ibs_RMS  200045 non-null  float64\n",
      " 5   Ics_RMS  200045 non-null  float64\n",
      " 6   phase A  200045 non-null  float64\n",
      " 7   Phase B  200045 non-null  float64\n",
      " 8   phase C  200045 non-null  float64\n",
      "dtypes: float64(9)\n",
      "memory usage: 13.7 MB\n"
     ]
    }
   ],
   "source": [
    "df.info()"
   ]
  },
  {
   "cell_type": "code",
   "execution_count": 7,
   "id": "59a13792",
   "metadata": {},
   "outputs": [
    {
     "name": "stdout",
     "output_type": "stream",
     "text": [
      "           Vas_RMS     Vbs_RMS     Vcs_RMS   Ias_RMS   Ibs_RMS   Ics_RMS\n",
      "0       169.423041  169.423041  169.423041  0.786511  0.786511  0.786511\n",
      "1       169.423041  169.423041  169.423041  0.786511  0.786511  0.786511\n",
      "2       169.423041  169.423041  169.423041  0.786511  0.786511  0.786511\n",
      "3       169.423041  169.423041  169.423041  0.786511  0.786511  0.786511\n",
      "4       169.423041  169.423041  169.423041  0.786511  0.786511  0.786511\n",
      "...            ...         ...         ...       ...       ...       ...\n",
      "200040  169.423041  169.423041  169.423041  1.550401  1.550401  1.550401\n",
      "200041  169.423041  169.423041  169.423041  1.550401  1.550401  1.550401\n",
      "200042  169.423041  169.423041  169.423041  1.550401  1.550401  1.550401\n",
      "200043  169.423041  169.423041  169.423041  1.550401  1.550401  1.550401\n",
      "200044  169.423041  169.423041  169.423041  1.550401  1.550401  1.550401\n",
      "\n",
      "[200045 rows x 6 columns]\n"
     ]
    }
   ],
   "source": [
    "X = df[[\"Vas_RMS\",\"Vbs_RMS\",\"Vcs_RMS\",\"Ias_RMS\",\"Ibs_RMS\",\"Ics_RMS\"]]\n",
    "Y = df[[\"phase A\",\"Phase B\",\"phase C\"]]\n",
    "print(X)"
   ]
  },
  {
   "cell_type": "code",
   "execution_count": 8,
   "id": "f8e6ff95",
   "metadata": {},
   "outputs": [
    {
     "name": "stdout",
     "output_type": "stream",
     "text": [
      "           Vas_RMS     Vbs_RMS     Vcs_RMS   Ias_RMS   Ibs_RMS   Ics_RMS\n",
      "0       169.423041  169.423041  169.423041  0.786511  0.786511  0.786511\n",
      "1       169.423041  169.423041  169.423041  0.786511  0.786511  0.786511\n",
      "2       169.423041  169.423041  169.423041  0.786511  0.786511  0.786511\n",
      "3       169.423041  169.423041  169.423041  0.786511  0.786511  0.786511\n",
      "4       169.423041  169.423041  169.423041  0.786511  0.786511  0.786511\n",
      "...            ...         ...         ...       ...       ...       ...\n",
      "200040  169.423041  169.423041  169.423041  1.550401  1.550401  1.550401\n",
      "200041  169.423041  169.423041  169.423041  1.550401  1.550401  1.550401\n",
      "200042  169.423041  169.423041  169.423041  1.550401  1.550401  1.550401\n",
      "200043  169.423041  169.423041  169.423041  1.550401  1.550401  1.550401\n",
      "200044  169.423041  169.423041  169.423041  1.550401  1.550401  1.550401\n",
      "\n",
      "[200045 rows x 6 columns]\n"
     ]
    }
   ],
   "source": [
    "X = df[[\"Vas_RMS\",\"Vbs_RMS\",\"Vcs_RMS\",\"Ias_RMS\",\"Ibs_RMS\",\"Ics_RMS\"]]\n",
    "Y = df[[\"phase A\",\"Phase B\",\"phase C\"]]\n",
    "print(X)"
   ]
  },
  {
   "cell_type": "code",
   "execution_count": 9,
   "id": "9be3d51f",
   "metadata": {},
   "outputs": [
    {
     "name": "stdout",
     "output_type": "stream",
     "text": [
      "          phase A    Phase B    phase C\n",
      "0       26.269462  26.269462  26.269462\n",
      "1       26.269462  26.269462  26.269462\n",
      "2       26.269462  26.269462  26.269462\n",
      "3       26.269462  26.269462  26.269462\n",
      "4       26.269462  26.269462  26.269462\n",
      "...           ...        ...        ...\n",
      "200040  51.783408  51.783408  51.783408\n",
      "200041  51.783408  51.783408  51.783408\n",
      "200042  51.783408  51.783408  51.783408\n",
      "200043  51.783408  51.783408  51.783408\n",
      "200044  51.783408  51.783408  51.783408\n",
      "\n",
      "[200045 rows x 3 columns]\n"
     ]
    }
   ],
   "source": [
    "print(Y)"
   ]
  },
  {
   "cell_type": "code",
   "execution_count": 10,
   "id": "83a32e2a",
   "metadata": {},
   "outputs": [
    {
     "name": "stdout",
     "output_type": "stream",
     "text": [
      "           Vas_RMS     Vbs_RMS     Vcs_RMS   Ias_RMS   Ibs_RMS   Ics_RMS\n",
      "27886   169.423041  169.423041  169.423041  0.786511  0.786511  0.786511\n",
      "175954  169.423041  169.423041  169.423041  1.550401  1.550401  1.550401\n",
      "89658   169.423041  169.423041  169.423041  0.959192  0.959192  0.959192\n",
      "75920   169.423041  169.423041  169.423041  0.816606  0.816606  0.816606\n",
      "180254  169.423041  169.423041  169.423041  1.550401  1.550401  1.550401\n",
      "...            ...         ...         ...       ...       ...       ...\n",
      "176963  169.423041  169.423041  169.423041  1.550401  1.550401  1.550401\n",
      "117952  169.423041  169.423041  169.423041  0.959192  0.959192  0.959192\n",
      "173685  169.423041  169.423041  169.423041  1.550401  1.550401  1.550401\n",
      "43567   169.423041  169.423041  169.423041  0.816606  0.816606  0.816606\n",
      "199340  169.423041  169.423041  169.423041  1.550401  1.550401  1.550401\n",
      "\n",
      "[160036 rows x 6 columns]\n"
     ]
    }
   ],
   "source": [
    "from sklearn.model_selection import train_test_split\n",
    "x_train, x_test, y_train, y_test = train_test_split(X,Y,test_size=0.2,random_state=0)\n",
    "#test size = 0.2 denotes that 20% of the data will be in the test state. Random_state provides the seed value.\n",
    "print(x_train)"
   ]
  },
  {
   "cell_type": "code",
   "execution_count": 11,
   "id": "0ea23bec",
   "metadata": {},
   "outputs": [
    {
     "name": "stdout",
     "output_type": "stream",
     "text": [
      "          phase A    Phase B    phase C\n",
      "27886   26.269462  26.269462  26.269462\n",
      "175954  51.783408  51.783408  51.783408\n",
      "89658   32.037001  32.037001  32.037001\n",
      "75920   27.274632  27.274632  27.274632\n",
      "180254  51.783408  51.783408  51.783408\n",
      "...           ...        ...        ...\n",
      "176963  51.783408  51.783408  51.783408\n",
      "117952  32.037001  32.037001  32.037001\n",
      "173685  51.783408  51.783408  51.783408\n",
      "43567   27.274632  27.274632  27.274632\n",
      "199340  51.783408  51.783408  51.783408\n",
      "\n",
      "[160036 rows x 3 columns]\n"
     ]
    }
   ],
   "source": [
    "print(y_train)"
   ]
  },
  {
   "cell_type": "code",
   "execution_count": 12,
   "id": "88d45cf1",
   "metadata": {},
   "outputs": [
    {
     "name": "stdout",
     "output_type": "stream",
     "text": [
      "           Vas_RMS     Vbs_RMS     Vcs_RMS   Ias_RMS   Ibs_RMS   Ics_RMS\n",
      "134495  169.423041  169.423041  169.423041  1.207317  1.207317  1.207317\n",
      "175905  169.423041  169.423041  169.423041  1.550401  1.550401  1.550401\n",
      "198246  169.423041  169.423041  169.423041  1.550401  1.550401  1.550401\n",
      "36300   169.423041  169.423041  169.423041  0.786511  0.786511  0.786511\n",
      "109986  169.423041  169.423041  169.423041  0.959192  0.959192  0.959192\n",
      "...            ...         ...         ...       ...       ...       ...\n",
      "15569   169.423041  169.423041  169.423041  0.786511  0.786511  0.786511\n",
      "72979   169.423041  169.423041  169.423041  0.816606  0.816606  0.816606\n",
      "117705  169.423041  169.423041  169.423041  0.959192  0.959192  0.959192\n",
      "197183  169.423041  169.423041  169.423041  1.550401  1.550401  1.550401\n",
      "72525   169.423041  169.423041  169.423041  0.816606  0.816606  0.816606\n",
      "\n",
      "[40009 rows x 6 columns]\n"
     ]
    }
   ],
   "source": [
    "print(x_test)"
   ]
  },
  {
   "cell_type": "code",
   "execution_count": 13,
   "id": "02d16562",
   "metadata": {},
   "outputs": [
    {
     "name": "stdout",
     "output_type": "stream",
     "text": [
      "          phase A    Phase B    phase C\n",
      "134495  40.324372  40.324372  40.324372\n",
      "175905  51.783408  51.783408  51.783408\n",
      "198246  51.783408  51.783408  51.783408\n",
      "36300   26.269462  26.269462  26.269462\n",
      "109986  32.037001  32.037001  32.037001\n",
      "...           ...        ...        ...\n",
      "15569   26.269462  26.269462  26.269462\n",
      "72979   27.274632  27.274632  27.274632\n",
      "117705  32.037001  32.037001  32.037001\n",
      "197183  51.783408  51.783408  51.783408\n",
      "72525   27.274632  27.274632  27.274632\n",
      "\n",
      "[40009 rows x 3 columns]\n"
     ]
    }
   ],
   "source": [
    "print(y_test)"
   ]
  },
  {
   "cell_type": "code",
   "execution_count": 14,
   "id": "862b4289",
   "metadata": {},
   "outputs": [
    {
     "name": "stdout",
     "output_type": "stream",
     "text": [
      "LinearRegression()\n"
     ]
    },
    {
     "data": {
      "text/html": [
       "<style>#sk-container-id-1 {color: black;}#sk-container-id-1 pre{padding: 0;}#sk-container-id-1 div.sk-toggleable {background-color: white;}#sk-container-id-1 label.sk-toggleable__label {cursor: pointer;display: block;width: 100%;margin-bottom: 0;padding: 0.3em;box-sizing: border-box;text-align: center;}#sk-container-id-1 label.sk-toggleable__label-arrow:before {content: \"▸\";float: left;margin-right: 0.25em;color: #696969;}#sk-container-id-1 label.sk-toggleable__label-arrow:hover:before {color: black;}#sk-container-id-1 div.sk-estimator:hover label.sk-toggleable__label-arrow:before {color: black;}#sk-container-id-1 div.sk-toggleable__content {max-height: 0;max-width: 0;overflow: hidden;text-align: left;background-color: #f0f8ff;}#sk-container-id-1 div.sk-toggleable__content pre {margin: 0.2em;color: black;border-radius: 0.25em;background-color: #f0f8ff;}#sk-container-id-1 input.sk-toggleable__control:checked~div.sk-toggleable__content {max-height: 200px;max-width: 100%;overflow: auto;}#sk-container-id-1 input.sk-toggleable__control:checked~label.sk-toggleable__label-arrow:before {content: \"▾\";}#sk-container-id-1 div.sk-estimator input.sk-toggleable__control:checked~label.sk-toggleable__label {background-color: #d4ebff;}#sk-container-id-1 div.sk-label input.sk-toggleable__control:checked~label.sk-toggleable__label {background-color: #d4ebff;}#sk-container-id-1 input.sk-hidden--visually {border: 0;clip: rect(1px 1px 1px 1px);clip: rect(1px, 1px, 1px, 1px);height: 1px;margin: -1px;overflow: hidden;padding: 0;position: absolute;width: 1px;}#sk-container-id-1 div.sk-estimator {font-family: monospace;background-color: #f0f8ff;border: 1px dotted black;border-radius: 0.25em;box-sizing: border-box;margin-bottom: 0.5em;}#sk-container-id-1 div.sk-estimator:hover {background-color: #d4ebff;}#sk-container-id-1 div.sk-parallel-item::after {content: \"\";width: 100%;border-bottom: 1px solid gray;flex-grow: 1;}#sk-container-id-1 div.sk-label:hover label.sk-toggleable__label {background-color: #d4ebff;}#sk-container-id-1 div.sk-serial::before {content: \"\";position: absolute;border-left: 1px solid gray;box-sizing: border-box;top: 0;bottom: 0;left: 50%;z-index: 0;}#sk-container-id-1 div.sk-serial {display: flex;flex-direction: column;align-items: center;background-color: white;padding-right: 0.2em;padding-left: 0.2em;position: relative;}#sk-container-id-1 div.sk-item {position: relative;z-index: 1;}#sk-container-id-1 div.sk-parallel {display: flex;align-items: stretch;justify-content: center;background-color: white;position: relative;}#sk-container-id-1 div.sk-item::before, #sk-container-id-1 div.sk-parallel-item::before {content: \"\";position: absolute;border-left: 1px solid gray;box-sizing: border-box;top: 0;bottom: 0;left: 50%;z-index: -1;}#sk-container-id-1 div.sk-parallel-item {display: flex;flex-direction: column;z-index: 1;position: relative;background-color: white;}#sk-container-id-1 div.sk-parallel-item:first-child::after {align-self: flex-end;width: 50%;}#sk-container-id-1 div.sk-parallel-item:last-child::after {align-self: flex-start;width: 50%;}#sk-container-id-1 div.sk-parallel-item:only-child::after {width: 0;}#sk-container-id-1 div.sk-dashed-wrapped {border: 1px dashed gray;margin: 0 0.4em 0.5em 0.4em;box-sizing: border-box;padding-bottom: 0.4em;background-color: white;}#sk-container-id-1 div.sk-label label {font-family: monospace;font-weight: bold;display: inline-block;line-height: 1.2em;}#sk-container-id-1 div.sk-label-container {text-align: center;}#sk-container-id-1 div.sk-container {/* jupyter's `normalize.less` sets `[hidden] { display: none; }` but bootstrap.min.css set `[hidden] { display: none !important; }` so we also need the `!important` here to be able to override the default hidden behavior on the sphinx rendered scikit-learn.org. See: https://github.com/scikit-learn/scikit-learn/issues/21755 */display: inline-block !important;position: relative;}#sk-container-id-1 div.sk-text-repr-fallback {display: none;}</style><div id=\"sk-container-id-1\" class=\"sk-top-container\"><div class=\"sk-text-repr-fallback\"><pre>LinearRegression()</pre><b>In a Jupyter environment, please rerun this cell to show the HTML representation or trust the notebook. <br />On GitHub, the HTML representation is unable to render, please try loading this page with nbviewer.org.</b></div><div class=\"sk-container\" hidden><div class=\"sk-item\"><div class=\"sk-estimator sk-toggleable\"><input class=\"sk-toggleable__control sk-hidden--visually\" id=\"sk-estimator-id-1\" type=\"checkbox\" checked><label for=\"sk-estimator-id-1\" class=\"sk-toggleable__label sk-toggleable__label-arrow\">LinearRegression</label><div class=\"sk-toggleable__content\"><pre>LinearRegression()</pre></div></div></div></div></div>"
      ],
      "text/plain": [
       "LinearRegression()"
      ]
     },
     "execution_count": 14,
     "metadata": {},
     "output_type": "execute_result"
    }
   ],
   "source": [
    "from sklearn.linear_model import LinearRegression\n",
    "regressor = LinearRegression()\n",
    "print(regressor)\n",
    "regressor.fit(x_train,y_train)#Used to find the most accurate equation for our LR model as per the dataset"
   ]
  },
  {
   "cell_type": "code",
   "execution_count": 15,
   "id": "047a46c2",
   "metadata": {},
   "outputs": [
    {
     "name": "stdout",
     "output_type": "stream",
     "text": [
      "[-93.72876936  33.82559545  15.6287748 ]\n",
      "[[ 1.84407758e-01  1.84407758e-01  1.84407758e-01  3.32930800e+01\n",
      "   6.86116094e-02  3.83084105e-02]\n",
      " [-6.65505616e-02 -6.65505616e-02 -6.65505616e-02  4.71426037e-02\n",
      "   3.32937755e+01  5.90819276e-02]\n",
      " [-3.07490149e-02 -3.07490149e-02 -3.07490149e-02  3.22606522e-02\n",
      "   5.38859591e-02  3.33138534e+01]]\n"
     ]
    }
   ],
   "source": [
    "print(regressor.intercept_)#value of b\n",
    "print(regressor.coef_)#We will get 10 coefficients for 10 variables"
   ]
  },
  {
   "cell_type": "code",
   "execution_count": 16,
   "id": "21718aca",
   "metadata": {
    "scrolled": true
   },
   "outputs": [
    {
     "name": "stdout",
     "output_type": "stream",
     "text": [
      "          phase A    Phase B    phase C\n",
      "134495  40.324372  40.324372  40.324372\n",
      "175905  51.783408  51.783408  51.783408\n",
      "198246  51.783408  51.783408  51.783408\n",
      "36300   26.269462  26.269462  26.269462\n",
      "109986  32.037001  32.037001  32.037001\n",
      "...           ...        ...        ...\n",
      "15569   26.269462  26.269462  26.269462\n",
      "72979   27.274632  27.274632  27.274632\n",
      "117705  32.037001  32.037001  32.037001\n",
      "197183  51.783408  51.783408  51.783408\n",
      "72525   27.274632  27.274632  27.274632\n",
      "\n",
      "[40009 rows x 3 columns]\n"
     ]
    }
   ],
   "source": [
    "column_names = [\"phase A\", \"Phase B\", \"phase C\"]\n",
    "y_test_df = pd.DataFrame(data=y_test, columns=column_names)\n",
    "print(y_test_df)"
   ]
  },
  {
   "cell_type": "code",
   "execution_count": 17,
   "id": "889aa6c9",
   "metadata": {},
   "outputs": [],
   "source": [
    "y_test_a = y_test[\"phase A\"]\n",
    "y_test_b = y_test[\"Phase B\"]\n",
    "y_test_c = y_test[\"phase C\"]"
   ]
  },
  {
   "cell_type": "code",
   "execution_count": 18,
   "id": "dc2db67a",
   "metadata": {},
   "outputs": [
    {
     "name": "stdout",
     "output_type": "stream",
     "text": [
      "        Actual Phase A  Predicted Phase A  Actual Phase B  Predicted Phase B  \\\n",
      "134495       40.324372          40.324372       40.324372          40.324372   \n",
      "175905       51.783408          51.783408       51.783408          51.783408   \n",
      "198246       51.783408          51.783408       51.783408          51.783408   \n",
      "36300        26.269462          26.269462       26.269462          26.269462   \n",
      "109986       32.037001          32.037001       32.037001          32.037001   \n",
      "...                ...                ...             ...                ...   \n",
      "15569        26.269462          26.269462       26.269462          26.269462   \n",
      "72979        27.274632          27.274632       27.274632          27.274632   \n",
      "117705       32.037001          32.037001       32.037001          32.037001   \n",
      "197183       51.783408          51.783408       51.783408          51.783408   \n",
      "72525        27.274632          27.274632       27.274632          27.274632   \n",
      "\n",
      "        Actual Phase C  Predicted Phase C  \n",
      "134495       40.324372          40.324372  \n",
      "175905       51.783408          51.783408  \n",
      "198246       51.783408          51.783408  \n",
      "36300        26.269462          26.269462  \n",
      "109986       32.037001          32.037001  \n",
      "...                ...                ...  \n",
      "15569        26.269462          26.269462  \n",
      "72979        27.274632          27.274632  \n",
      "117705       32.037001          32.037001  \n",
      "197183       51.783408          51.783408  \n",
      "72525        27.274632          27.274632  \n",
      "\n",
      "[40009 rows x 6 columns]\n"
     ]
    }
   ],
   "source": [
    "y_test_predict = regressor.predict(x_test)\n",
    "y_test_predict_a = y_test_predict[:, 0]\n",
    "y_test_predict_b = y_test_predict[:, 1]\n",
    "y_test_predict_c = y_test_predict[:, 2]\n",
    "df_a = pd.DataFrame({\"Actual Phase A\": y_test_a, \"Predicted Phase A\": y_test_predict_a})\n",
    "df_b = pd.DataFrame({\"Actual Phase B\": y_test_b, \"Predicted Phase B\": y_test_predict_b})\n",
    "df_c = pd.DataFrame({\"Actual Phase C\": y_test_c, \"Predicted Phase C\": y_test_predict_c})\n",
    "comparison_df = pd.concat([df_a, df_b, df_c], axis=1)\n",
    "print(comparison_df)"
   ]
  },
  {
   "cell_type": "code",
   "execution_count": 25,
   "id": "34b6e08a",
   "metadata": {},
   "outputs": [
    {
     "name": "stdout",
     "output_type": "stream",
     "text": [
      "Calculating error(Test Dataset)-: \n",
      "\n",
      "Mean Absolute Error: 7.498520240205014e-09\n",
      "Mean Squared Error: 6.533559478656213e-17\n",
      "Root Mean Squared Error: 8.083043658583203e-09\n"
     ]
    }
   ],
   "source": [
    "print(\"Calculating error(Test Dataset)-: \\n\")\n",
    "from sklearn import metrics\n",
    "print('Mean Absolute Error:', metrics.mean_absolute_error(y_test, y_test_predict))  \n",
    "print('Mean Squared Error:', metrics.mean_squared_error(y_test, y_test_predict))  \n",
    "print('Root Mean Squared Error:', np.sqrt(metrics.mean_squared_error(y_test, y_test_predict)))"
   ]
  },
  {
   "cell_type": "code",
   "execution_count": 20,
   "id": "ba101de5",
   "metadata": {},
   "outputs": [],
   "source": [
    "from sklearn.ensemble import RandomForestRegressor"
   ]
  },
  {
   "cell_type": "code",
   "execution_count": 21,
   "id": "49405d8d",
   "metadata": {},
   "outputs": [
    {
     "data": {
      "text/html": [
       "<style>#sk-container-id-2 {color: black;}#sk-container-id-2 pre{padding: 0;}#sk-container-id-2 div.sk-toggleable {background-color: white;}#sk-container-id-2 label.sk-toggleable__label {cursor: pointer;display: block;width: 100%;margin-bottom: 0;padding: 0.3em;box-sizing: border-box;text-align: center;}#sk-container-id-2 label.sk-toggleable__label-arrow:before {content: \"▸\";float: left;margin-right: 0.25em;color: #696969;}#sk-container-id-2 label.sk-toggleable__label-arrow:hover:before {color: black;}#sk-container-id-2 div.sk-estimator:hover label.sk-toggleable__label-arrow:before {color: black;}#sk-container-id-2 div.sk-toggleable__content {max-height: 0;max-width: 0;overflow: hidden;text-align: left;background-color: #f0f8ff;}#sk-container-id-2 div.sk-toggleable__content pre {margin: 0.2em;color: black;border-radius: 0.25em;background-color: #f0f8ff;}#sk-container-id-2 input.sk-toggleable__control:checked~div.sk-toggleable__content {max-height: 200px;max-width: 100%;overflow: auto;}#sk-container-id-2 input.sk-toggleable__control:checked~label.sk-toggleable__label-arrow:before {content: \"▾\";}#sk-container-id-2 div.sk-estimator input.sk-toggleable__control:checked~label.sk-toggleable__label {background-color: #d4ebff;}#sk-container-id-2 div.sk-label input.sk-toggleable__control:checked~label.sk-toggleable__label {background-color: #d4ebff;}#sk-container-id-2 input.sk-hidden--visually {border: 0;clip: rect(1px 1px 1px 1px);clip: rect(1px, 1px, 1px, 1px);height: 1px;margin: -1px;overflow: hidden;padding: 0;position: absolute;width: 1px;}#sk-container-id-2 div.sk-estimator {font-family: monospace;background-color: #f0f8ff;border: 1px dotted black;border-radius: 0.25em;box-sizing: border-box;margin-bottom: 0.5em;}#sk-container-id-2 div.sk-estimator:hover {background-color: #d4ebff;}#sk-container-id-2 div.sk-parallel-item::after {content: \"\";width: 100%;border-bottom: 1px solid gray;flex-grow: 1;}#sk-container-id-2 div.sk-label:hover label.sk-toggleable__label {background-color: #d4ebff;}#sk-container-id-2 div.sk-serial::before {content: \"\";position: absolute;border-left: 1px solid gray;box-sizing: border-box;top: 0;bottom: 0;left: 50%;z-index: 0;}#sk-container-id-2 div.sk-serial {display: flex;flex-direction: column;align-items: center;background-color: white;padding-right: 0.2em;padding-left: 0.2em;position: relative;}#sk-container-id-2 div.sk-item {position: relative;z-index: 1;}#sk-container-id-2 div.sk-parallel {display: flex;align-items: stretch;justify-content: center;background-color: white;position: relative;}#sk-container-id-2 div.sk-item::before, #sk-container-id-2 div.sk-parallel-item::before {content: \"\";position: absolute;border-left: 1px solid gray;box-sizing: border-box;top: 0;bottom: 0;left: 50%;z-index: -1;}#sk-container-id-2 div.sk-parallel-item {display: flex;flex-direction: column;z-index: 1;position: relative;background-color: white;}#sk-container-id-2 div.sk-parallel-item:first-child::after {align-self: flex-end;width: 50%;}#sk-container-id-2 div.sk-parallel-item:last-child::after {align-self: flex-start;width: 50%;}#sk-container-id-2 div.sk-parallel-item:only-child::after {width: 0;}#sk-container-id-2 div.sk-dashed-wrapped {border: 1px dashed gray;margin: 0 0.4em 0.5em 0.4em;box-sizing: border-box;padding-bottom: 0.4em;background-color: white;}#sk-container-id-2 div.sk-label label {font-family: monospace;font-weight: bold;display: inline-block;line-height: 1.2em;}#sk-container-id-2 div.sk-label-container {text-align: center;}#sk-container-id-2 div.sk-container {/* jupyter's `normalize.less` sets `[hidden] { display: none; }` but bootstrap.min.css set `[hidden] { display: none !important; }` so we also need the `!important` here to be able to override the default hidden behavior on the sphinx rendered scikit-learn.org. See: https://github.com/scikit-learn/scikit-learn/issues/21755 */display: inline-block !important;position: relative;}#sk-container-id-2 div.sk-text-repr-fallback {display: none;}</style><div id=\"sk-container-id-2\" class=\"sk-top-container\"><div class=\"sk-text-repr-fallback\"><pre>RandomForestRegressor(max_depth=20)</pre><b>In a Jupyter environment, please rerun this cell to show the HTML representation or trust the notebook. <br />On GitHub, the HTML representation is unable to render, please try loading this page with nbviewer.org.</b></div><div class=\"sk-container\" hidden><div class=\"sk-item\"><div class=\"sk-estimator sk-toggleable\"><input class=\"sk-toggleable__control sk-hidden--visually\" id=\"sk-estimator-id-2\" type=\"checkbox\" checked><label for=\"sk-estimator-id-2\" class=\"sk-toggleable__label sk-toggleable__label-arrow\">RandomForestRegressor</label><div class=\"sk-toggleable__content\"><pre>RandomForestRegressor(max_depth=20)</pre></div></div></div></div></div>"
      ],
      "text/plain": [
       "RandomForestRegressor(max_depth=20)"
      ]
     },
     "execution_count": 21,
     "metadata": {},
     "output_type": "execute_result"
    }
   ],
   "source": [
    "rf=RandomForestRegressor(n_estimators=100, max_depth=20)\n",
    "rf.fit(x_train,y_train)"
   ]
  },
  {
   "cell_type": "code",
   "execution_count": 22,
   "id": "8f8a3669",
   "metadata": {},
   "outputs": [
    {
     "name": "stdout",
     "output_type": "stream",
     "text": [
      "        Actual Phase A  Predicted Phase A  Actual Phase B  Predicted Phase B  \\\n",
      "134495       40.324372          40.324372       40.324372          40.324372   \n",
      "175905       51.783408          51.783408       51.783408          51.783408   \n",
      "198246       51.783408          51.783408       51.783408          51.783408   \n",
      "36300        26.269462          26.269462       26.269462          26.269462   \n",
      "109986       32.037001          32.037001       32.037001          32.037001   \n",
      "...                ...                ...             ...                ...   \n",
      "15569        26.269462          26.269462       26.269462          26.269462   \n",
      "72979        27.274632          27.274632       27.274632          27.274632   \n",
      "117705       32.037001          32.037001       32.037001          32.037001   \n",
      "197183       51.783408          51.783408       51.783408          51.783408   \n",
      "72525        27.274632          27.274632       27.274632          27.274632   \n",
      "\n",
      "        Actual Phase C  Predicted Phase C  \n",
      "134495       40.324372          40.324372  \n",
      "175905       51.783408          51.783408  \n",
      "198246       51.783408          51.783408  \n",
      "36300        26.269462          26.269462  \n",
      "109986       32.037001          32.037001  \n",
      "...                ...                ...  \n",
      "15569        26.269462          26.269462  \n",
      "72979        27.274632          27.274632  \n",
      "117705       32.037001          32.037001  \n",
      "197183       51.783408          51.783408  \n",
      "72525        27.274632          27.274632  \n",
      "\n",
      "[40009 rows x 6 columns]\n"
     ]
    }
   ],
   "source": [
    "y_test_predict_rf = rf.predict(x_test)\n",
    "y_test_predict_a = y_test_predict[:, 0]\n",
    "y_test_predict_b = y_test_predict[:, 1]\n",
    "y_test_predict_c = y_test_predict[:, 2]\n",
    "df_a = pd.DataFrame({\"Actual Phase A\": y_test_a, \"Predicted Phase A\": y_test_predict_a})\n",
    "df_b = pd.DataFrame({\"Actual Phase B\": y_test_b, \"Predicted Phase B\": y_test_predict_b})\n",
    "df_c = pd.DataFrame({\"Actual Phase C\": y_test_c, \"Predicted Phase C\": y_test_predict_c})\n",
    "comparison_df = pd.concat([df_a, df_b, df_c], axis=1)\n",
    "print(comparison_df)"
   ]
  },
  {
   "cell_type": "code",
   "execution_count": 26,
   "id": "6c355d55",
   "metadata": {},
   "outputs": [
    {
     "name": "stdout",
     "output_type": "stream",
     "text": [
      "Mean Absolute Error:  7.606334606741435e-07\n",
      "Mean Squared Error:  7.606334606741435e-07\n",
      "Root Mean Squared Error:  7.606334606741435e-07\n"
     ]
    }
   ],
   "source": [
    "from sklearn import metrics\n",
    "print(\"Mean Absolute Error: \",metrics.mean_absolute_error(y_test,y_test_predict_rf))\n",
    "print(\"Mean Squared Error: \",metrics.mean_absolute_error(y_test,y_test_predict_rf))\n",
    "print(\"Root Mean Squared Error: \",metrics.mean_absolute_error(y_test,y_test_predict_rf))"
   ]
  },
  {
   "cell_type": "code",
   "execution_count": 27,
   "id": "9e001508",
   "metadata": {},
   "outputs": [],
   "source": [
    "import pandas as pd\n",
    "from IPython.display import display, HTML\n",
    "\n",
    "def predict_temperatures_from_csv(rf_model, csv_path):\n",
    "    # Read the CSV file into a DataFrame\n",
    "    df = pd.read_csv(csv_path)\n",
    "    \n",
    "    # Extract voltage and current columns\n",
    "    voltage_columns = [\"Vas_RMS\", \"Vbs_RMS\", \"Vcs_RMS\"]\n",
    "    current_columns = [\"Ias_RMS\", \"Ibs_RMS\", \"Ics_RMS\"]\n",
    "    \n",
    "    # Extract voltage and current values from the DataFrame\n",
    "    X = df[voltage_columns + current_columns]\n",
    "    \n",
    "    # Use the trained model to predict temperature values\n",
    "    temperature_predictions = rf_model.predict(X)\n",
    "    \n",
    "    # Create a DataFrame to store the predictions\n",
    "    predictions_df = pd.DataFrame(temperature_predictions, columns=[\"Predicted Phase A\", \"Predicted Phase B\", \"Predicted Phase C\"])\n",
    "    \n",
    "    # Concatenate the predictions DataFrame with the original DataFrame\n",
    "    result_df = pd.concat([df, predictions_df], axis=1)\n",
    "    \n",
    "    # Calculate average predicted temperature across phases\n",
    "    result_df[\"Average Temperature\"] = result_df.mean(axis=1)\n",
    "    \n",
    "    # Calculate Remaining Useful Life (RUL)\n",
    "    Lo = 20000\n",
    "    Tb = 155\n",
    "    Tc = result_df[\"Average Temperature\"]\n",
    "    result_df[\"RUL\"] = Lo * 2**((Tb - Tc) / 10) / (365 * 24)\n",
    "    \n",
    "    # Drop unnamed columns\n",
    "    result_df = result_df.drop(result_df.columns[result_df.columns.str.contains('Unnamed', case=False)], axis=1)\n",
    "    \n",
    "    # Display DataFrame with bold column headings\n",
    "    display(HTML(result_df.style.set_table_styles([{'selector': 'th', 'props': [('font-weight', 'bold')]}]).render()))\n",
    "    \n",
    "    return result_df"
   ]
  },
  {
   "cell_type": "code",
   "execution_count": 28,
   "id": "f3e26a43",
   "metadata": {},
   "outputs": [],
   "source": [
    "import numpy as np\n",
    "\n",
    "def predict_values(rf_model, v1, v2, v3, i1, i2, i3):\n",
    "    # Convert feature values to numpy array\n",
    "    user_input_array = np.array([v1, v2, v3, i1, i2, i3]).reshape(1, -1)\n",
    "    \n",
    "    # Make prediction using the trained Random Forest Regressor\n",
    "    predictions = rf_model.predict(user_input_array)\n",
    "    \n",
    "    # Calculate average predicted temperature across phases\n",
    "    average_temperature = np.mean(predictions)\n",
    "    \n",
    "    # Calculate RUL\n",
    "    Lo = 20000\n",
    "    Tb = 155\n",
    "    RUL = Lo * 2**((Tb - average_temperature) / 10) / (365 * 24)\n",
    "    \n",
    "    # Output predicted values for Phase A, Phase B, and Phase C along with RUL\n",
    "    print(f\"Predicted value for Temperature-Phase A: {predictions[0, 0]}, RUL: {RUL} years\")\n",
    "    print(f\"Predicted value for Temperature-Phase B: {predictions[0, 1]}, RUL: {RUL} years\")\n",
    "    print(f\"Predicted value for Temperature-Phase C: {predictions[0, 2]}, RUL: {RUL} years\")"
   ]
  }
 ],
 "metadata": {
  "kernelspec": {
   "display_name": "Python 3 (ipykernel)",
   "language": "python",
   "name": "python3"
  },
  "language_info": {
   "codemirror_mode": {
    "name": "ipython",
    "version": 3
   },
   "file_extension": ".py",
   "mimetype": "text/x-python",
   "name": "python",
   "nbconvert_exporter": "python",
   "pygments_lexer": "ipython3",
   "version": "3.11.4"
  }
 },
 "nbformat": 4,
 "nbformat_minor": 5
}
