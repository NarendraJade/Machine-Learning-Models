{
 "cells": [
  {
   "cell_type": "code",
   "execution_count": 1,
   "id": "040db69a",
   "metadata": {},
   "outputs": [],
   "source": [
    "import sklearn\n",
    "import pandas as pd\n",
    "import numpy as np"
   ]
  },
  {
   "cell_type": "code",
   "execution_count": 2,
   "id": "3cbd0aec",
   "metadata": {},
   "outputs": [
    {
     "data": {
      "text/html": [
       "<div>\n",
       "<style scoped>\n",
       "    .dataframe tbody tr th:only-of-type {\n",
       "        vertical-align: middle;\n",
       "    }\n",
       "\n",
       "    .dataframe tbody tr th {\n",
       "        vertical-align: top;\n",
       "    }\n",
       "\n",
       "    .dataframe thead th {\n",
       "        text-align: right;\n",
       "    }\n",
       "</style>\n",
       "<table border=\"1\" class=\"dataframe\">\n",
       "  <thead>\n",
       "    <tr style=\"text-align: right;\">\n",
       "      <th></th>\n",
       "      <th>Vas</th>\n",
       "      <th>Vbs</th>\n",
       "      <th>Vcs</th>\n",
       "      <th>Ias</th>\n",
       "      <th>Ibs</th>\n",
       "      <th>Ics</th>\n",
       "      <th>phase A</th>\n",
       "      <th>Phase B</th>\n",
       "      <th>phase C</th>\n",
       "    </tr>\n",
       "  </thead>\n",
       "  <tbody>\n",
       "    <tr>\n",
       "      <th>0</th>\n",
       "      <td>0.000000</td>\n",
       "      <td>-217.875000</td>\n",
       "      <td>217.875000</td>\n",
       "      <td>-2.660812</td>\n",
       "      <td>1.068153</td>\n",
       "      <td>1.592659</td>\n",
       "      <td>28.247051</td>\n",
       "      <td>28.247052</td>\n",
       "      <td>28.247052</td>\n",
       "    </tr>\n",
       "    <tr>\n",
       "      <th>1</th>\n",
       "      <td>0.000000</td>\n",
       "      <td>-217.875000</td>\n",
       "      <td>217.875000</td>\n",
       "      <td>-2.660812</td>\n",
       "      <td>1.068153</td>\n",
       "      <td>1.592659</td>\n",
       "      <td>28.247051</td>\n",
       "      <td>28.247052</td>\n",
       "      <td>28.247052</td>\n",
       "    </tr>\n",
       "    <tr>\n",
       "      <th>2</th>\n",
       "      <td>0.000000</td>\n",
       "      <td>-217.875000</td>\n",
       "      <td>217.875000</td>\n",
       "      <td>-2.660812</td>\n",
       "      <td>1.068153</td>\n",
       "      <td>1.592659</td>\n",
       "      <td>28.247051</td>\n",
       "      <td>28.247052</td>\n",
       "      <td>28.247052</td>\n",
       "    </tr>\n",
       "    <tr>\n",
       "      <th>3</th>\n",
       "      <td>7.902331</td>\n",
       "      <td>-221.718657</td>\n",
       "      <td>213.816327</td>\n",
       "      <td>-2.649988</td>\n",
       "      <td>0.990489</td>\n",
       "      <td>1.659498</td>\n",
       "      <td>28.247051</td>\n",
       "      <td>28.247052</td>\n",
       "      <td>28.247052</td>\n",
       "    </tr>\n",
       "    <tr>\n",
       "      <th>4</th>\n",
       "      <td>15.796863</td>\n",
       "      <td>-225.343505</td>\n",
       "      <td>209.546642</td>\n",
       "      <td>-2.636547</td>\n",
       "      <td>0.911848</td>\n",
       "      <td>1.724699</td>\n",
       "      <td>28.247051</td>\n",
       "      <td>28.247052</td>\n",
       "      <td>28.247052</td>\n",
       "    </tr>\n",
       "  </tbody>\n",
       "</table>\n",
       "</div>"
      ],
      "text/plain": [
       "         Vas         Vbs         Vcs       Ias       Ibs       Ics    phase A  \\\n",
       "0   0.000000 -217.875000  217.875000 -2.660812  1.068153  1.592659  28.247051   \n",
       "1   0.000000 -217.875000  217.875000 -2.660812  1.068153  1.592659  28.247051   \n",
       "2   0.000000 -217.875000  217.875000 -2.660812  1.068153  1.592659  28.247051   \n",
       "3   7.902331 -221.718657  213.816327 -2.649988  0.990489  1.659498  28.247051   \n",
       "4  15.796863 -225.343505  209.546642 -2.636547  0.911848  1.724699  28.247051   \n",
       "\n",
       "     Phase B    phase C  \n",
       "0  28.247052  28.247052  \n",
       "1  28.247052  28.247052  \n",
       "2  28.247052  28.247052  \n",
       "3  28.247052  28.247052  \n",
       "4  28.247052  28.247052  "
      ]
     },
     "execution_count": 2,
     "metadata": {},
     "output_type": "execute_result"
    }
   ],
   "source": [
    "df = pd.read_csv(\"C:\\\\Users\\\\Admin\\\\Desktop\\\\PQD Database\\\\PQD_OverVoltage_Database\\\\Symmetrical\\\\Inst\\\\PQD_OverVoltage_Symmetrical_Inst_Database.csv\")\n",
    "df = df.drop(columns=[\"Unnamed: 9\"])\n",
    "df.head()"
   ]
  },
  {
   "cell_type": "code",
   "execution_count": 3,
   "id": "4dfdcf77",
   "metadata": {},
   "outputs": [
    {
     "data": {
      "text/html": [
       "<div>\n",
       "<style scoped>\n",
       "    .dataframe tbody tr th:only-of-type {\n",
       "        vertical-align: middle;\n",
       "    }\n",
       "\n",
       "    .dataframe tbody tr th {\n",
       "        vertical-align: top;\n",
       "    }\n",
       "\n",
       "    .dataframe thead th {\n",
       "        text-align: right;\n",
       "    }\n",
       "</style>\n",
       "<table border=\"1\" class=\"dataframe\">\n",
       "  <thead>\n",
       "    <tr style=\"text-align: right;\">\n",
       "      <th></th>\n",
       "      <th>Vas</th>\n",
       "      <th>Vbs</th>\n",
       "      <th>Vcs</th>\n",
       "      <th>Ias</th>\n",
       "      <th>Ibs</th>\n",
       "      <th>Ics</th>\n",
       "      <th>phase A</th>\n",
       "      <th>Phase B</th>\n",
       "      <th>phase C</th>\n",
       "    </tr>\n",
       "  </thead>\n",
       "  <tbody>\n",
       "    <tr>\n",
       "      <th>count</th>\n",
       "      <td>4.000900e+05</td>\n",
       "      <td>400090.000000</td>\n",
       "      <td>400090.000000</td>\n",
       "      <td>400090.000000</td>\n",
       "      <td>400090.000000</td>\n",
       "      <td>400090.000000</td>\n",
       "      <td>400090.000000</td>\n",
       "      <td>400090.000000</td>\n",
       "      <td>400090.000000</td>\n",
       "    </tr>\n",
       "    <tr>\n",
       "      <th>mean</th>\n",
       "      <td>-1.778844e-13</td>\n",
       "      <td>-0.050178</td>\n",
       "      <td>0.050178</td>\n",
       "      <td>-0.000572</td>\n",
       "      <td>-0.000050</td>\n",
       "      <td>0.000622</td>\n",
       "      <td>36.496892</td>\n",
       "      <td>36.496892</td>\n",
       "      <td>36.496892</td>\n",
       "    </tr>\n",
       "    <tr>\n",
       "      <th>std</th>\n",
       "      <td>1.821587e+02</td>\n",
       "      <td>182.189479</td>\n",
       "      <td>182.189479</td>\n",
       "      <td>2.296922</td>\n",
       "      <td>2.296651</td>\n",
       "      <td>2.297014</td>\n",
       "      <td>7.625318</td>\n",
       "      <td>7.625318</td>\n",
       "      <td>7.625318</td>\n",
       "    </tr>\n",
       "    <tr>\n",
       "      <th>min</th>\n",
       "      <td>-2.635604e+02</td>\n",
       "      <td>-263.545947</td>\n",
       "      <td>-263.545947</td>\n",
       "      <td>-4.087237</td>\n",
       "      <td>-4.087559</td>\n",
       "      <td>-4.087622</td>\n",
       "      <td>28.247051</td>\n",
       "      <td>28.247051</td>\n",
       "      <td>28.247051</td>\n",
       "    </tr>\n",
       "    <tr>\n",
       "      <th>25%</th>\n",
       "      <td>-1.804195e+02</td>\n",
       "      <td>-182.421530</td>\n",
       "      <td>-181.580712</td>\n",
       "      <td>-2.198084</td>\n",
       "      <td>-2.204035</td>\n",
       "      <td>-2.201768</td>\n",
       "      <td>30.224548</td>\n",
       "      <td>30.224548</td>\n",
       "      <td>30.224548</td>\n",
       "    </tr>\n",
       "    <tr>\n",
       "      <th>50%</th>\n",
       "      <td>0.000000e+00</td>\n",
       "      <td>-2.634495</td>\n",
       "      <td>2.634495</td>\n",
       "      <td>-0.000028</td>\n",
       "      <td>-0.001814</td>\n",
       "      <td>0.000430</td>\n",
       "      <td>33.596911</td>\n",
       "      <td>33.596912</td>\n",
       "      <td>33.596911</td>\n",
       "    </tr>\n",
       "    <tr>\n",
       "      <th>75%</th>\n",
       "      <td>1.804195e+02</td>\n",
       "      <td>181.580712</td>\n",
       "      <td>182.421530</td>\n",
       "      <td>2.196166</td>\n",
       "      <td>2.204035</td>\n",
       "      <td>2.201884</td>\n",
       "      <td>40.321256</td>\n",
       "      <td>40.321256</td>\n",
       "      <td>40.321256</td>\n",
       "    </tr>\n",
       "    <tr>\n",
       "      <th>max</th>\n",
       "      <td>2.635604e+02</td>\n",
       "      <td>263.545947</td>\n",
       "      <td>263.545947</td>\n",
       "      <td>4.087260</td>\n",
       "      <td>4.087535</td>\n",
       "      <td>4.087646</td>\n",
       "      <td>50.077454</td>\n",
       "      <td>50.077572</td>\n",
       "      <td>50.077462</td>\n",
       "    </tr>\n",
       "  </tbody>\n",
       "</table>\n",
       "</div>"
      ],
      "text/plain": [
       "                Vas            Vbs            Vcs            Ias  \\\n",
       "count  4.000900e+05  400090.000000  400090.000000  400090.000000   \n",
       "mean  -1.778844e-13      -0.050178       0.050178      -0.000572   \n",
       "std    1.821587e+02     182.189479     182.189479       2.296922   \n",
       "min   -2.635604e+02    -263.545947    -263.545947      -4.087237   \n",
       "25%   -1.804195e+02    -182.421530    -181.580712      -2.198084   \n",
       "50%    0.000000e+00      -2.634495       2.634495      -0.000028   \n",
       "75%    1.804195e+02     181.580712     182.421530       2.196166   \n",
       "max    2.635604e+02     263.545947     263.545947       4.087260   \n",
       "\n",
       "                 Ibs            Ics        phase A        Phase B  \\\n",
       "count  400090.000000  400090.000000  400090.000000  400090.000000   \n",
       "mean       -0.000050       0.000622      36.496892      36.496892   \n",
       "std         2.296651       2.297014       7.625318       7.625318   \n",
       "min        -4.087559      -4.087622      28.247051      28.247051   \n",
       "25%        -2.204035      -2.201768      30.224548      30.224548   \n",
       "50%        -0.001814       0.000430      33.596911      33.596912   \n",
       "75%         2.204035       2.201884      40.321256      40.321256   \n",
       "max         4.087535       4.087646      50.077454      50.077572   \n",
       "\n",
       "             phase C  \n",
       "count  400090.000000  \n",
       "mean       36.496892  \n",
       "std         7.625318  \n",
       "min        28.247051  \n",
       "25%        30.224548  \n",
       "50%        33.596911  \n",
       "75%        40.321256  \n",
       "max        50.077462  "
      ]
     },
     "execution_count": 3,
     "metadata": {},
     "output_type": "execute_result"
    }
   ],
   "source": [
    "df.describe()"
   ]
  },
  {
   "cell_type": "code",
   "execution_count": 4,
   "id": "4061d639",
   "metadata": {},
   "outputs": [
    {
     "name": "stdout",
     "output_type": "stream",
     "text": [
      "<class 'pandas.core.frame.DataFrame'>\n",
      "RangeIndex: 400090 entries, 0 to 400089\n",
      "Data columns (total 9 columns):\n",
      " #   Column   Non-Null Count   Dtype  \n",
      "---  ------   --------------   -----  \n",
      " 0   Vas      400090 non-null  float64\n",
      " 1   Vbs      400090 non-null  float64\n",
      " 2   Vcs      400090 non-null  float64\n",
      " 3   Ias      400090 non-null  float64\n",
      " 4   Ibs      400090 non-null  float64\n",
      " 5   Ics      400090 non-null  float64\n",
      " 6   phase A  400090 non-null  float64\n",
      " 7   Phase B  400090 non-null  float64\n",
      " 8   phase C  400090 non-null  float64\n",
      "dtypes: float64(9)\n",
      "memory usage: 27.5 MB\n"
     ]
    }
   ],
   "source": [
    "df.info()"
   ]
  },
  {
   "cell_type": "code",
   "execution_count": 5,
   "id": "f1a60539",
   "metadata": {},
   "outputs": [
    {
     "name": "stdout",
     "output_type": "stream",
     "text": [
      "              Vas         Vbs         Vcs       Ias       Ibs       Ics\n",
      "0        0.000000 -217.875000  217.875000 -2.660812  1.068153  1.592659\n",
      "1        0.000000 -217.875000  217.875000 -2.660812  1.068153  1.592659\n",
      "2        0.000000 -217.875000  217.875000 -2.660812  1.068153  1.592659\n",
      "3        7.902331 -221.718657  213.816327 -2.649988  0.990489  1.659498\n",
      "4       15.796863 -225.343505  209.546642 -2.636547  0.911848  1.724699\n",
      "...           ...         ...         ...       ...       ...       ...\n",
      "400085 -33.032877 -209.933742  242.966619 -2.852109 -1.023238  3.875347\n",
      "400086 -24.803224 -214.835406  239.638631 -2.761866 -1.144735  3.906601\n",
      "400087 -16.549094 -219.525054  236.074148 -2.668897 -1.265103  3.934000\n",
      "400088  -8.278632 -223.998056  232.276689 -2.573294 -1.384222  3.957517\n",
      "400089   0.000000 -228.250000  228.250000 -2.475152 -1.501976  3.977128\n",
      "\n",
      "[400090 rows x 6 columns]\n"
     ]
    }
   ],
   "source": [
    "X = df[[\"Vas\",\"Vbs\",\"Vcs\",\"Ias\",\"Ibs\",\"Ics\"]]\n",
    "Y = df[[\"phase A\",\"Phase B\",\"phase C\"]]\n",
    "print(X)"
   ]
  },
  {
   "cell_type": "code",
   "execution_count": 6,
   "id": "27f61180",
   "metadata": {
    "scrolled": true
   },
   "outputs": [
    {
     "name": "stdout",
     "output_type": "stream",
     "text": [
      "          phase A    Phase B    phase C\n",
      "0       28.247051  28.247052  28.247052\n",
      "1       28.247051  28.247052  28.247052\n",
      "2       28.247051  28.247052  28.247052\n",
      "3       28.247051  28.247052  28.247052\n",
      "4       28.247051  28.247052  28.247052\n",
      "...           ...        ...        ...\n",
      "400085  48.974259  48.974259  48.974259\n",
      "400086  48.974259  48.974259  48.974259\n",
      "400087  48.974259  48.974259  48.974259\n",
      "400088  48.974259  48.974259  48.974259\n",
      "400089  48.974259  48.974259  48.974259\n",
      "\n",
      "[400090 rows x 3 columns]\n"
     ]
    }
   ],
   "source": [
    "print(Y)"
   ]
  },
  {
   "cell_type": "code",
   "execution_count": 7,
   "id": "eaf0636a",
   "metadata": {
    "scrolled": true
   },
   "outputs": [
    {
     "name": "stdout",
     "output_type": "stream",
     "text": [
      "               Vas         Vbs         Vcs       Ias       Ibs       Ics\n",
      "63162  -250.463857  145.735777  104.728080 -0.736302  2.642002 -1.905699\n",
      "6909    -54.880560  240.068144 -185.187585  2.530673 -0.506725 -2.023948\n",
      "216008 -253.095386   62.867973  190.227413 -1.076910  2.782419 -1.705509\n",
      "300502  226.857511 -229.617459    2.759948  0.096173 -2.697568  2.601396\n",
      "153453  134.803509 -251.359701  116.556192 -0.682877 -2.583522  3.266399\n",
      "...            ...         ...         ...       ...       ...       ...\n",
      "359783  -24.803224  239.638631 -214.835406  2.280971  1.109956 -3.390927\n",
      "358083   24.803224 -239.638631  214.835406 -2.280971 -1.109956  3.390927\n",
      "152315  147.875237  102.326959 -250.202196  3.391660 -1.168940 -2.222720\n",
      "117952 -183.394204  240.842803  -57.448599  0.435740  2.340170 -2.775910\n",
      "305711  255.280163 -184.403548  -70.876615  0.945888 -2.993988  2.048101\n",
      "\n",
      "[320072 rows x 6 columns]\n"
     ]
    }
   ],
   "source": [
    "from sklearn.model_selection import train_test_split\n",
    "x_train, x_test, y_train, y_test = train_test_split(X,Y,test_size=0.2,random_state=0)\n",
    "#test size = 0.2 denotes that 20% of the data will be in the test state. Random_state provides the seed value.\n",
    "print(x_train)"
   ]
  },
  {
   "cell_type": "code",
   "execution_count": 8,
   "id": "e217df2e",
   "metadata": {
    "scrolled": false
   },
   "outputs": [
    {
     "name": "stdout",
     "output_type": "stream",
     "text": [
      "          phase A    Phase B    phase C\n",
      "63162   29.007204  29.007204  29.007204\n",
      "6909    28.247051  28.247051  28.247051\n",
      "216008  30.224548  30.224548  30.224548\n",
      "300502  34.176259  34.176259  34.176259\n",
      "153453  40.141341  40.141341  40.141341\n",
      "...           ...        ...        ...\n",
      "359783  40.321256  40.321256  40.321256\n",
      "358083  40.321256  40.321256  40.321256\n",
      "152315  40.141341  40.141341  40.141341\n",
      "117952  33.017452  33.017452  33.017452\n",
      "305711  34.176259  34.176259  34.176259\n",
      "\n",
      "[320072 rows x 3 columns]\n"
     ]
    }
   ],
   "source": [
    "print(y_train)"
   ]
  },
  {
   "cell_type": "code",
   "execution_count": 9,
   "id": "18b03ade",
   "metadata": {
    "scrolled": true
   },
   "outputs": [
    {
     "name": "stdout",
     "output_type": "stream",
     "text": [
      "               Vas         Vbs         Vcs       Ias       Ibs       Ics\n",
      "102156 -212.416340  222.951433  -10.535093 -0.125459  2.646171 -2.520711\n",
      "362402 -148.142919  262.852600 -114.709682  0.269055  3.336183 -3.605238\n",
      "210282  226.857511 -229.617459    2.759948 -1.151639 -1.640139  2.791778\n",
      "228784 -226.857511  229.617459   -2.759948  1.151639  1.640139 -2.791778\n",
      "278354   65.544806  188.306704 -253.851509  2.830279 -1.190016 -1.640263\n",
      "...            ...         ...         ...       ...       ...       ...\n",
      "135180 -251.456240  132.571739  118.884501 -2.409592  3.337994 -0.928402\n",
      "260356   33.032877  209.933742 -242.966619  2.775381 -0.857139 -1.918242\n",
      "25750  -247.124200  164.387804   82.736396  0.201127  2.212093 -2.413220\n",
      "225038 -104.672456 -157.141265  261.813721 -2.682930  2.053217  0.629714\n",
      "110678  251.083943 -111.861487 -139.222456  1.854921 -2.953645  1.098724\n",
      "\n",
      "[80018 rows x 6 columns]\n"
     ]
    }
   ],
   "source": [
    "print(x_test)"
   ]
  },
  {
   "cell_type": "code",
   "execution_count": 10,
   "id": "6b4a3c8d",
   "metadata": {
    "scrolled": true
   },
   "outputs": [
    {
     "name": "stdout",
     "output_type": "stream",
     "text": [
      "          phase A    Phase B    phase C\n",
      "102156  33.017452  33.017452  33.017452\n",
      "362402  48.974804  48.974805  48.974791\n",
      "210282  30.224548  30.224548  30.224548\n",
      "228784  30.224548  30.224548  30.224548\n",
      "278354  30.787748  30.787748  30.787748\n",
      "...           ...        ...        ...\n",
      "135180  40.141341  40.141341  40.141341\n",
      "260356  30.787748  30.787748  30.787748\n",
      "25750   28.247051  28.247051  28.247051\n",
      "225038  30.224548  30.224548  30.224548\n",
      "110678  33.017452  33.017452  33.017452\n",
      "\n",
      "[80018 rows x 3 columns]\n"
     ]
    }
   ],
   "source": [
    "print(y_test)"
   ]
  },
  {
   "cell_type": "code",
   "execution_count": 11,
   "id": "353f7ad9",
   "metadata": {
    "scrolled": true
   },
   "outputs": [
    {
     "name": "stdout",
     "output_type": "stream",
     "text": [
      "LinearRegression()\n"
     ]
    },
    {
     "data": {
      "text/html": [
       "<style>#sk-container-id-1 {color: black;}#sk-container-id-1 pre{padding: 0;}#sk-container-id-1 div.sk-toggleable {background-color: white;}#sk-container-id-1 label.sk-toggleable__label {cursor: pointer;display: block;width: 100%;margin-bottom: 0;padding: 0.3em;box-sizing: border-box;text-align: center;}#sk-container-id-1 label.sk-toggleable__label-arrow:before {content: \"▸\";float: left;margin-right: 0.25em;color: #696969;}#sk-container-id-1 label.sk-toggleable__label-arrow:hover:before {color: black;}#sk-container-id-1 div.sk-estimator:hover label.sk-toggleable__label-arrow:before {color: black;}#sk-container-id-1 div.sk-toggleable__content {max-height: 0;max-width: 0;overflow: hidden;text-align: left;background-color: #f0f8ff;}#sk-container-id-1 div.sk-toggleable__content pre {margin: 0.2em;color: black;border-radius: 0.25em;background-color: #f0f8ff;}#sk-container-id-1 input.sk-toggleable__control:checked~div.sk-toggleable__content {max-height: 200px;max-width: 100%;overflow: auto;}#sk-container-id-1 input.sk-toggleable__control:checked~label.sk-toggleable__label-arrow:before {content: \"▾\";}#sk-container-id-1 div.sk-estimator input.sk-toggleable__control:checked~label.sk-toggleable__label {background-color: #d4ebff;}#sk-container-id-1 div.sk-label input.sk-toggleable__control:checked~label.sk-toggleable__label {background-color: #d4ebff;}#sk-container-id-1 input.sk-hidden--visually {border: 0;clip: rect(1px 1px 1px 1px);clip: rect(1px, 1px, 1px, 1px);height: 1px;margin: -1px;overflow: hidden;padding: 0;position: absolute;width: 1px;}#sk-container-id-1 div.sk-estimator {font-family: monospace;background-color: #f0f8ff;border: 1px dotted black;border-radius: 0.25em;box-sizing: border-box;margin-bottom: 0.5em;}#sk-container-id-1 div.sk-estimator:hover {background-color: #d4ebff;}#sk-container-id-1 div.sk-parallel-item::after {content: \"\";width: 100%;border-bottom: 1px solid gray;flex-grow: 1;}#sk-container-id-1 div.sk-label:hover label.sk-toggleable__label {background-color: #d4ebff;}#sk-container-id-1 div.sk-serial::before {content: \"\";position: absolute;border-left: 1px solid gray;box-sizing: border-box;top: 0;bottom: 0;left: 50%;z-index: 0;}#sk-container-id-1 div.sk-serial {display: flex;flex-direction: column;align-items: center;background-color: white;padding-right: 0.2em;padding-left: 0.2em;position: relative;}#sk-container-id-1 div.sk-item {position: relative;z-index: 1;}#sk-container-id-1 div.sk-parallel {display: flex;align-items: stretch;justify-content: center;background-color: white;position: relative;}#sk-container-id-1 div.sk-item::before, #sk-container-id-1 div.sk-parallel-item::before {content: \"\";position: absolute;border-left: 1px solid gray;box-sizing: border-box;top: 0;bottom: 0;left: 50%;z-index: -1;}#sk-container-id-1 div.sk-parallel-item {display: flex;flex-direction: column;z-index: 1;position: relative;background-color: white;}#sk-container-id-1 div.sk-parallel-item:first-child::after {align-self: flex-end;width: 50%;}#sk-container-id-1 div.sk-parallel-item:last-child::after {align-self: flex-start;width: 50%;}#sk-container-id-1 div.sk-parallel-item:only-child::after {width: 0;}#sk-container-id-1 div.sk-dashed-wrapped {border: 1px dashed gray;margin: 0 0.4em 0.5em 0.4em;box-sizing: border-box;padding-bottom: 0.4em;background-color: white;}#sk-container-id-1 div.sk-label label {font-family: monospace;font-weight: bold;display: inline-block;line-height: 1.2em;}#sk-container-id-1 div.sk-label-container {text-align: center;}#sk-container-id-1 div.sk-container {/* jupyter's `normalize.less` sets `[hidden] { display: none; }` but bootstrap.min.css set `[hidden] { display: none !important; }` so we also need the `!important` here to be able to override the default hidden behavior on the sphinx rendered scikit-learn.org. See: https://github.com/scikit-learn/scikit-learn/issues/21755 */display: inline-block !important;position: relative;}#sk-container-id-1 div.sk-text-repr-fallback {display: none;}</style><div id=\"sk-container-id-1\" class=\"sk-top-container\"><div class=\"sk-text-repr-fallback\"><pre>LinearRegression()</pre><b>In a Jupyter environment, please rerun this cell to show the HTML representation or trust the notebook. <br />On GitHub, the HTML representation is unable to render, please try loading this page with nbviewer.org.</b></div><div class=\"sk-container\" hidden><div class=\"sk-item\"><div class=\"sk-estimator sk-toggleable\"><input class=\"sk-toggleable__control sk-hidden--visually\" id=\"sk-estimator-id-1\" type=\"checkbox\" checked><label for=\"sk-estimator-id-1\" class=\"sk-toggleable__label sk-toggleable__label-arrow\">LinearRegression</label><div class=\"sk-toggleable__content\"><pre>LinearRegression()</pre></div></div></div></div></div>"
      ],
      "text/plain": [
       "LinearRegression()"
      ]
     },
     "execution_count": 11,
     "metadata": {},
     "output_type": "execute_result"
    }
   ],
   "source": [
    "from sklearn.linear_model import LinearRegression\n",
    "regressor = LinearRegression()\n",
    "print(regressor)\n",
    "regressor.fit(x_train,y_train)#Used to find the most accurate equation for our LR model as per the dataset"
   ]
  },
  {
   "cell_type": "code",
   "execution_count": 12,
   "id": "496f1a0a",
   "metadata": {},
   "outputs": [
    {
     "name": "stdout",
     "output_type": "stream",
     "text": [
      "[36.48919272 36.48919272 36.4891927 ]\n",
      "[[  108909.22246499   108909.22236244   108909.2223697  15274903.21311963\n",
      "  15274903.22366117 15274903.21222227]\n",
      " [  108909.1212313    108909.12112875   108909.12113602 15274908.42144032\n",
      "  15274908.43198187 15274908.42054296]\n",
      " [  108909.24180965   108909.2417071    108909.24171437 15274893.92845233\n",
      "  15274893.93899389 15274893.92755494]]\n"
     ]
    }
   ],
   "source": [
    "print(regressor.intercept_)\n",
    "print(regressor.coef_)"
   ]
  },
  {
   "cell_type": "code",
   "execution_count": 13,
   "id": "402ca9b4",
   "metadata": {},
   "outputs": [
    {
     "name": "stdout",
     "output_type": "stream",
     "text": [
      "          phase A    Phase B    phase C\n",
      "102156  33.017452  33.017452  33.017452\n",
      "362402  48.974804  48.974805  48.974791\n",
      "210282  30.224548  30.224548  30.224548\n",
      "228784  30.224548  30.224548  30.224548\n",
      "278354  30.787748  30.787748  30.787748\n",
      "...           ...        ...        ...\n",
      "135180  40.141341  40.141341  40.141341\n",
      "260356  30.787748  30.787748  30.787748\n",
      "25750   28.247051  28.247051  28.247051\n",
      "225038  30.224548  30.224548  30.224548\n",
      "110678  33.017452  33.017452  33.017452\n",
      "\n",
      "[80018 rows x 3 columns]\n"
     ]
    }
   ],
   "source": [
    "column_names = [\"phase A\", \"Phase B\", \"phase C\"]\n",
    "y_test_df = pd.DataFrame(data=y_test, columns=column_names)\n",
    "print(y_test_df)"
   ]
  },
  {
   "cell_type": "code",
   "execution_count": 14,
   "id": "fdc283cc",
   "metadata": {},
   "outputs": [],
   "source": [
    "y_test_a = y_test[\"phase A\"]\n",
    "y_test_b = y_test[\"Phase B\"]\n",
    "y_test_c = y_test[\"phase C\"]"
   ]
  },
  {
   "cell_type": "code",
   "execution_count": 15,
   "id": "1f91edca",
   "metadata": {},
   "outputs": [
    {
     "name": "stdout",
     "output_type": "stream",
     "text": [
      "        Actual Phase A  Predicted Phase A  Actual Phase B  Predicted Phase B  \\\n",
      "102156       33.017452          36.489866       33.017452          36.489866   \n",
      "362402       48.974804          36.511571       48.974805          36.511571   \n",
      "210282       30.224548          36.506650       30.224548          36.506650   \n",
      "228784       30.224548          36.471735       30.224548          36.471735   \n",
      "278354       30.787748          36.484087       30.787748          36.484087   \n",
      "...                ...                ...             ...                ...   \n",
      "135180       40.141341          36.485015       40.141341          36.485015   \n",
      "260356       30.787748          36.484591       30.787748          36.484591   \n",
      "25750        28.247051          36.473571       28.247051          36.473571   \n",
      "225038       30.224548          36.490548       30.224548          36.490548   \n",
      "110678       33.017452          36.481809       33.017452          36.481808   \n",
      "\n",
      "        Actual Phase C  Predicted Phase C  \n",
      "102156       33.017452          36.489866  \n",
      "362402       48.974791          36.511571  \n",
      "210282       30.224548          36.506650  \n",
      "228784       30.224548          36.471735  \n",
      "278354       30.787748          36.484087  \n",
      "...                ...                ...  \n",
      "135180       40.141341          36.485015  \n",
      "260356       30.787748          36.484591  \n",
      "25750        28.247051          36.473571  \n",
      "225038       30.224548          36.490548  \n",
      "110678       33.017452          36.481809  \n",
      "\n",
      "[80018 rows x 6 columns]\n"
     ]
    }
   ],
   "source": [
    "y_test_predict = regressor.predict(x_test)\n",
    "y_test_predict_a = y_test_predict[:, 0]\n",
    "y_test_predict_b = y_test_predict[:, 1]\n",
    "y_test_predict_c = y_test_predict[:, 2]\n",
    "df_a = pd.DataFrame({\"Actual Phase A\": y_test_a, \"Predicted Phase A\": y_test_predict_a})\n",
    "df_b = pd.DataFrame({\"Actual Phase B\": y_test_b, \"Predicted Phase B\": y_test_predict_b})\n",
    "df_c = pd.DataFrame({\"Actual Phase C\": y_test_c, \"Predicted Phase C\": y_test_predict_c})\n",
    "comparison_df = pd.concat([df_a, df_b, df_c], axis=1)\n",
    "print(comparison_df)"
   ]
  },
  {
   "cell_type": "code",
   "execution_count": 16,
   "id": "a7d587f8",
   "metadata": {},
   "outputs": [
    {
     "name": "stdout",
     "output_type": "stream",
     "text": [
      "Calculating error(Test Dataset)-: \n",
      "\n",
      "Mean Absolute Error: 6.722228280891084\n",
      "Mean Squared Error: 58.45065142825839\n",
      "Root Mean Squared Error: 7.645302572708185\n"
     ]
    }
   ],
   "source": [
    "print(\"Calculating error(Test Dataset)-: \\n\")\n",
    "from sklearn import metrics\n",
    "print('Mean Absolute Error:', metrics.mean_absolute_error(y_test, y_test_predict))  \n",
    "print('Mean Squared Error:', metrics.mean_squared_error(y_test, y_test_predict))  \n",
    "print('Root Mean Squared Error:', np.sqrt(metrics.mean_squared_error(y_test, y_test_predict)))"
   ]
  },
  {
   "cell_type": "code",
   "execution_count": 17,
   "id": "4f47cc60",
   "metadata": {},
   "outputs": [],
   "source": [
    "from sklearn.ensemble import RandomForestRegressor"
   ]
  },
  {
   "cell_type": "code",
   "execution_count": 18,
   "id": "a6f89ce7",
   "metadata": {
    "scrolled": true
   },
   "outputs": [
    {
     "data": {
      "text/html": [
       "<style>#sk-container-id-2 {color: black;}#sk-container-id-2 pre{padding: 0;}#sk-container-id-2 div.sk-toggleable {background-color: white;}#sk-container-id-2 label.sk-toggleable__label {cursor: pointer;display: block;width: 100%;margin-bottom: 0;padding: 0.3em;box-sizing: border-box;text-align: center;}#sk-container-id-2 label.sk-toggleable__label-arrow:before {content: \"▸\";float: left;margin-right: 0.25em;color: #696969;}#sk-container-id-2 label.sk-toggleable__label-arrow:hover:before {color: black;}#sk-container-id-2 div.sk-estimator:hover label.sk-toggleable__label-arrow:before {color: black;}#sk-container-id-2 div.sk-toggleable__content {max-height: 0;max-width: 0;overflow: hidden;text-align: left;background-color: #f0f8ff;}#sk-container-id-2 div.sk-toggleable__content pre {margin: 0.2em;color: black;border-radius: 0.25em;background-color: #f0f8ff;}#sk-container-id-2 input.sk-toggleable__control:checked~div.sk-toggleable__content {max-height: 200px;max-width: 100%;overflow: auto;}#sk-container-id-2 input.sk-toggleable__control:checked~label.sk-toggleable__label-arrow:before {content: \"▾\";}#sk-container-id-2 div.sk-estimator input.sk-toggleable__control:checked~label.sk-toggleable__label {background-color: #d4ebff;}#sk-container-id-2 div.sk-label input.sk-toggleable__control:checked~label.sk-toggleable__label {background-color: #d4ebff;}#sk-container-id-2 input.sk-hidden--visually {border: 0;clip: rect(1px 1px 1px 1px);clip: rect(1px, 1px, 1px, 1px);height: 1px;margin: -1px;overflow: hidden;padding: 0;position: absolute;width: 1px;}#sk-container-id-2 div.sk-estimator {font-family: monospace;background-color: #f0f8ff;border: 1px dotted black;border-radius: 0.25em;box-sizing: border-box;margin-bottom: 0.5em;}#sk-container-id-2 div.sk-estimator:hover {background-color: #d4ebff;}#sk-container-id-2 div.sk-parallel-item::after {content: \"\";width: 100%;border-bottom: 1px solid gray;flex-grow: 1;}#sk-container-id-2 div.sk-label:hover label.sk-toggleable__label {background-color: #d4ebff;}#sk-container-id-2 div.sk-serial::before {content: \"\";position: absolute;border-left: 1px solid gray;box-sizing: border-box;top: 0;bottom: 0;left: 50%;z-index: 0;}#sk-container-id-2 div.sk-serial {display: flex;flex-direction: column;align-items: center;background-color: white;padding-right: 0.2em;padding-left: 0.2em;position: relative;}#sk-container-id-2 div.sk-item {position: relative;z-index: 1;}#sk-container-id-2 div.sk-parallel {display: flex;align-items: stretch;justify-content: center;background-color: white;position: relative;}#sk-container-id-2 div.sk-item::before, #sk-container-id-2 div.sk-parallel-item::before {content: \"\";position: absolute;border-left: 1px solid gray;box-sizing: border-box;top: 0;bottom: 0;left: 50%;z-index: -1;}#sk-container-id-2 div.sk-parallel-item {display: flex;flex-direction: column;z-index: 1;position: relative;background-color: white;}#sk-container-id-2 div.sk-parallel-item:first-child::after {align-self: flex-end;width: 50%;}#sk-container-id-2 div.sk-parallel-item:last-child::after {align-self: flex-start;width: 50%;}#sk-container-id-2 div.sk-parallel-item:only-child::after {width: 0;}#sk-container-id-2 div.sk-dashed-wrapped {border: 1px dashed gray;margin: 0 0.4em 0.5em 0.4em;box-sizing: border-box;padding-bottom: 0.4em;background-color: white;}#sk-container-id-2 div.sk-label label {font-family: monospace;font-weight: bold;display: inline-block;line-height: 1.2em;}#sk-container-id-2 div.sk-label-container {text-align: center;}#sk-container-id-2 div.sk-container {/* jupyter's `normalize.less` sets `[hidden] { display: none; }` but bootstrap.min.css set `[hidden] { display: none !important; }` so we also need the `!important` here to be able to override the default hidden behavior on the sphinx rendered scikit-learn.org. See: https://github.com/scikit-learn/scikit-learn/issues/21755 */display: inline-block !important;position: relative;}#sk-container-id-2 div.sk-text-repr-fallback {display: none;}</style><div id=\"sk-container-id-2\" class=\"sk-top-container\"><div class=\"sk-text-repr-fallback\"><pre>RandomForestRegressor(max_depth=20)</pre><b>In a Jupyter environment, please rerun this cell to show the HTML representation or trust the notebook. <br />On GitHub, the HTML representation is unable to render, please try loading this page with nbviewer.org.</b></div><div class=\"sk-container\" hidden><div class=\"sk-item\"><div class=\"sk-estimator sk-toggleable\"><input class=\"sk-toggleable__control sk-hidden--visually\" id=\"sk-estimator-id-2\" type=\"checkbox\" checked><label for=\"sk-estimator-id-2\" class=\"sk-toggleable__label sk-toggleable__label-arrow\">RandomForestRegressor</label><div class=\"sk-toggleable__content\"><pre>RandomForestRegressor(max_depth=20)</pre></div></div></div></div></div>"
      ],
      "text/plain": [
       "RandomForestRegressor(max_depth=20)"
      ]
     },
     "execution_count": 18,
     "metadata": {},
     "output_type": "execute_result"
    }
   ],
   "source": [
    "rf=RandomForestRegressor(n_estimators=100, max_depth=20)\n",
    "rf.fit(x_train,y_train)"
   ]
  },
  {
   "cell_type": "code",
   "execution_count": 19,
   "id": "7d84def2",
   "metadata": {},
   "outputs": [
    {
     "name": "stdout",
     "output_type": "stream",
     "text": [
      "        Actual Phase A  Predicted Phase A  Actual Phase B  Predicted Phase B  \\\n",
      "102156       33.017452          36.489866       33.017452          36.489866   \n",
      "362402       48.974804          36.511571       48.974805          36.511571   \n",
      "210282       30.224548          36.506650       30.224548          36.506650   \n",
      "228784       30.224548          36.471735       30.224548          36.471735   \n",
      "278354       30.787748          36.484087       30.787748          36.484087   \n",
      "...                ...                ...             ...                ...   \n",
      "135180       40.141341          36.485015       40.141341          36.485015   \n",
      "260356       30.787748          36.484591       30.787748          36.484591   \n",
      "25750        28.247051          36.473571       28.247051          36.473571   \n",
      "225038       30.224548          36.490548       30.224548          36.490548   \n",
      "110678       33.017452          36.481809       33.017452          36.481808   \n",
      "\n",
      "        Actual Phase C  Predicted Phase C  \n",
      "102156       33.017452          36.489866  \n",
      "362402       48.974791          36.511571  \n",
      "210282       30.224548          36.506650  \n",
      "228784       30.224548          36.471735  \n",
      "278354       30.787748          36.484087  \n",
      "...                ...                ...  \n",
      "135180       40.141341          36.485015  \n",
      "260356       30.787748          36.484591  \n",
      "25750        28.247051          36.473571  \n",
      "225038       30.224548          36.490548  \n",
      "110678       33.017452          36.481809  \n",
      "\n",
      "[80018 rows x 6 columns]\n"
     ]
    }
   ],
   "source": [
    "y_test_predict_rf = rf.predict(x_test)\n",
    "y_test_predict_a = y_test_predict[:, 0]\n",
    "y_test_predict_b = y_test_predict[:, 1]\n",
    "y_test_predict_c = y_test_predict[:, 2]\n",
    "df_a = pd.DataFrame({\"Actual Phase A\": y_test_a, \"Predicted Phase A\": y_test_predict_a})\n",
    "df_b = pd.DataFrame({\"Actual Phase B\": y_test_b, \"Predicted Phase B\": y_test_predict_b})\n",
    "df_c = pd.DataFrame({\"Actual Phase C\": y_test_c, \"Predicted Phase C\": y_test_predict_c})\n",
    "comparison_df = pd.concat([df_a, df_b, df_c], axis=1)\n",
    "print(comparison_df)"
   ]
  },
  {
   "cell_type": "code",
   "execution_count": 21,
   "id": "d56d0240",
   "metadata": {},
   "outputs": [
    {
     "name": "stdout",
     "output_type": "stream",
     "text": [
      "Mean Absolute Error:  0.3584186268539707\n",
      "Mean Squared Error:  0.3584186268539707\n",
      "Root Mean Squared Error:  0.3584186268539707\n"
     ]
    }
   ],
   "source": [
    "from sklearn import metrics\n",
    "print(\"Mean Absolute Error: \",metrics.mean_absolute_error(y_test,y_test_predict_rf))\n",
    "print(\"Mean Squared Error: \",metrics.mean_absolute_error(y_test,y_test_predict_rf))\n",
    "print(\"Root Mean Squared Error: \",metrics.mean_absolute_error(y_test,y_test_predict_rf))"
   ]
  },
  {
   "cell_type": "code",
   "execution_count": 26,
   "id": "35188d2b",
   "metadata": {},
   "outputs": [],
   "source": [
    "import pandas as pd\n",
    "import numpy as np\n",
    "from IPython.display import display, HTML\n",
    "\n",
    "def predict_temperatures_from_csv(rf_model, csv_path):\n",
    "    # Read the CSV file into a DataFrame\n",
    "    df = pd.read_csv(csv_path)\n",
    "    \n",
    "    # Extract voltage and current columns\n",
    "    voltage_columns = [\"Vas\", \"Vbs\", \"Vcs\"]\n",
    "    current_columns = [\"Ias\", \"Ibs\", \"Ics\"]\n",
    "    \n",
    "    # Extract voltage and current values from the DataFrame\n",
    "    X = df[voltage_columns + current_columns]\n",
    "    \n",
    "    # Use the trained model to predict temperature values\n",
    "    temperature_predictions = rf_model.predict(X)\n",
    "    \n",
    "    # Create a DataFrame to store the predictions\n",
    "    predictions_df = pd.DataFrame(temperature_predictions, columns=[\"Predicted Phase A\", \"Predicted Phase B\", \"Predicted Phase C\"])\n",
    "    \n",
    "    # Calculate average predicted temperature across phases\n",
    "    predictions_df[\"Average Temperature\"] = predictions_df.mean(axis=1)\n",
    "    \n",
    "    # Concatenate the predictions DataFrame with the original DataFrame\n",
    "    result_df = pd.concat([df, predictions_df], axis=1)\n",
    "    \n",
    "    # Calculate Remaining Useful Life (RUL)\n",
    "    Lo = 20000\n",
    "    Tb = 155\n",
    "    Tc = result_df[\"Average Temperature\"]\n",
    "    result_df[\"RUL\"] = Lo * 2**((Tb - Tc) / 10)\n",
    "    \n",
    "    # Convert RUL from hours to years\n",
    "    result_df[\"RUL\"] /= (365 * 24)\n",
    "    \n",
    "    # Drop unnamed columns\n",
    "    result_df = result_df.drop(result_df.columns[result_df.columns.str.contains('Unnamed', case=False)], axis=1)\n",
    "    \n",
    "    # Display DataFrame with bold column headings\n",
    "    display(HTML(result_df.style.set_table_styles([{'selector': 'th', 'props': [('font-weight', 'bold')]}]).render()))\n",
    "    \n",
    "    return result_df"
   ]
  },
  {
   "cell_type": "code",
   "execution_count": 27,
   "id": "0aafe2d5",
   "metadata": {},
   "outputs": [],
   "source": [
    "import numpy as np\n",
    "\n",
    "def predict_values(rf_model, v1, v2, v3, i1, i2, i3):\n",
    "    # Convert feature values to numpy array\n",
    "    user_input_array = np.array([v1, v2, v3, i1, i2, i3]).reshape(1, -1)\n",
    "    \n",
    "    # Make prediction using the trained Random Forest Regressor\n",
    "    predictions = rf_model.predict(user_input_array)\n",
    "    \n",
    "    # Calculate RUL\n",
    "    Lo = 20000\n",
    "    Tb = 155\n",
    "    Tc = np.mean(predictions)\n",
    "    RUL = (Lo * 2**((Tb - Tc) / 10)) / (365 * 24)\n",
    "    \n",
    "    # Output predicted values for Phase A, Phase B, and Phase C\n",
    "    print(f\"Predicted value for Temperature-Phase A: {predictions[0, 0]}, RUL: {RUL} years\")\n",
    "    print(f\"Predicted value for Temperature-Phase B: {predictions[0, 1]}, RUL: {RUL} years\")\n",
    "    print(f\"Predicted value for Temperature-Phase C: {predictions[0, 2]}, RUL: {RUL} years\")"
   ]
  }
 ],
 "metadata": {
  "kernelspec": {
   "display_name": "Python 3 (ipykernel)",
   "language": "python",
   "name": "python3"
  },
  "language_info": {
   "codemirror_mode": {
    "name": "ipython",
    "version": 3
   },
   "file_extension": ".py",
   "mimetype": "text/x-python",
   "name": "python",
   "nbconvert_exporter": "python",
   "pygments_lexer": "ipython3",
   "version": "3.11.4"
  }
 },
 "nbformat": 4,
 "nbformat_minor": 5
}
