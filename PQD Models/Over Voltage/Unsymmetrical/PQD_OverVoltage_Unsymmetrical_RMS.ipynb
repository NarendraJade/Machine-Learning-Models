{
 "cells": [
  {
   "cell_type": "code",
   "execution_count": 1,
   "id": "e0ab1361",
   "metadata": {},
   "outputs": [],
   "source": [
    "import sklearn\n",
    "import pandas as pd\n",
    "import numpy as np"
   ]
  },
  {
   "cell_type": "code",
   "execution_count": 2,
   "id": "fbfbbb7f",
   "metadata": {},
   "outputs": [
    {
     "data": {
      "text/html": [
       "<div>\n",
       "<style scoped>\n",
       "    .dataframe tbody tr th:only-of-type {\n",
       "        vertical-align: middle;\n",
       "    }\n",
       "\n",
       "    .dataframe tbody tr th {\n",
       "        vertical-align: top;\n",
       "    }\n",
       "\n",
       "    .dataframe thead th {\n",
       "        text-align: right;\n",
       "    }\n",
       "</style>\n",
       "<table border=\"1\" class=\"dataframe\">\n",
       "  <thead>\n",
       "    <tr style=\"text-align: right;\">\n",
       "      <th></th>\n",
       "      <th>Vas_RMS</th>\n",
       "      <th>Vbs_RMS</th>\n",
       "      <th>Vcs_RMS</th>\n",
       "      <th>Ias_RMS</th>\n",
       "      <th>Ibs_RMS</th>\n",
       "      <th>Ics_RMS</th>\n",
       "      <th>phase A</th>\n",
       "      <th>Phase B</th>\n",
       "      <th>phase C</th>\n",
       "    </tr>\n",
       "  </thead>\n",
       "  <tbody>\n",
       "    <tr>\n",
       "      <th>0</th>\n",
       "      <td>177.894193</td>\n",
       "      <td>177.894193</td>\n",
       "      <td>169.423041</td>\n",
       "      <td>0.95171</td>\n",
       "      <td>0.865482</td>\n",
       "      <td>0.711029</td>\n",
       "      <td>31.787107</td>\n",
       "      <td>28.907087</td>\n",
       "      <td>23.748358</td>\n",
       "    </tr>\n",
       "    <tr>\n",
       "      <th>1</th>\n",
       "      <td>177.894193</td>\n",
       "      <td>177.894193</td>\n",
       "      <td>169.423041</td>\n",
       "      <td>0.95171</td>\n",
       "      <td>0.865482</td>\n",
       "      <td>0.711029</td>\n",
       "      <td>31.787107</td>\n",
       "      <td>28.907087</td>\n",
       "      <td>23.748358</td>\n",
       "    </tr>\n",
       "    <tr>\n",
       "      <th>2</th>\n",
       "      <td>177.894193</td>\n",
       "      <td>177.894193</td>\n",
       "      <td>169.423041</td>\n",
       "      <td>0.95171</td>\n",
       "      <td>0.865482</td>\n",
       "      <td>0.711029</td>\n",
       "      <td>31.787107</td>\n",
       "      <td>28.907087</td>\n",
       "      <td>23.748358</td>\n",
       "    </tr>\n",
       "    <tr>\n",
       "      <th>3</th>\n",
       "      <td>177.894193</td>\n",
       "      <td>177.894193</td>\n",
       "      <td>169.423041</td>\n",
       "      <td>0.95171</td>\n",
       "      <td>0.865482</td>\n",
       "      <td>0.711029</td>\n",
       "      <td>31.787107</td>\n",
       "      <td>28.907087</td>\n",
       "      <td>23.748358</td>\n",
       "    </tr>\n",
       "    <tr>\n",
       "      <th>4</th>\n",
       "      <td>177.894193</td>\n",
       "      <td>177.894193</td>\n",
       "      <td>169.423041</td>\n",
       "      <td>0.95171</td>\n",
       "      <td>0.865482</td>\n",
       "      <td>0.711029</td>\n",
       "      <td>31.787107</td>\n",
       "      <td>28.907087</td>\n",
       "      <td>23.748358</td>\n",
       "    </tr>\n",
       "  </tbody>\n",
       "</table>\n",
       "</div>"
      ],
      "text/plain": [
       "      Vas_RMS     Vbs_RMS     Vcs_RMS  Ias_RMS   Ibs_RMS   Ics_RMS    phase A  \\\n",
       "0  177.894193  177.894193  169.423041  0.95171  0.865482  0.711029  31.787107   \n",
       "1  177.894193  177.894193  169.423041  0.95171  0.865482  0.711029  31.787107   \n",
       "2  177.894193  177.894193  169.423041  0.95171  0.865482  0.711029  31.787107   \n",
       "3  177.894193  177.894193  169.423041  0.95171  0.865482  0.711029  31.787107   \n",
       "4  177.894193  177.894193  169.423041  0.95171  0.865482  0.711029  31.787107   \n",
       "\n",
       "     Phase B    phase C  \n",
       "0  28.907087  23.748358  \n",
       "1  28.907087  23.748358  \n",
       "2  28.907087  23.748358  \n",
       "3  28.907087  23.748358  \n",
       "4  28.907087  23.748358  "
      ]
     },
     "execution_count": 2,
     "metadata": {},
     "output_type": "execute_result"
    }
   ],
   "source": [
    "df = pd.read_csv(\"C:\\\\Users\\\\Admin\\\\Desktop\\\\PQD Database\\\\PQD_OverVoltage_Database\\\\Unsymmetrical\\\\RMS\\\\PQD_OverVoltage_Unsymmetrical_RMS_Database.csv\")\n",
    "df.head()"
   ]
  },
  {
   "cell_type": "code",
   "execution_count": 3,
   "id": "d7bf8ef8",
   "metadata": {},
   "outputs": [
    {
     "data": {
      "text/html": [
       "<div>\n",
       "<style scoped>\n",
       "    .dataframe tbody tr th:only-of-type {\n",
       "        vertical-align: middle;\n",
       "    }\n",
       "\n",
       "    .dataframe tbody tr th {\n",
       "        vertical-align: top;\n",
       "    }\n",
       "\n",
       "    .dataframe thead th {\n",
       "        text-align: right;\n",
       "    }\n",
       "</style>\n",
       "<table border=\"1\" class=\"dataframe\">\n",
       "  <thead>\n",
       "    <tr style=\"text-align: right;\">\n",
       "      <th></th>\n",
       "      <th>Vas_RMS</th>\n",
       "      <th>Vbs_RMS</th>\n",
       "      <th>Vcs_RMS</th>\n",
       "      <th>Ias_RMS</th>\n",
       "      <th>Ibs_RMS</th>\n",
       "      <th>Ics_RMS</th>\n",
       "      <th>phase A</th>\n",
       "      <th>Phase B</th>\n",
       "      <th>phase C</th>\n",
       "    </tr>\n",
       "  </thead>\n",
       "  <tbody>\n",
       "    <tr>\n",
       "      <th>count</th>\n",
       "      <td>800180.000000</td>\n",
       "      <td>800180.000000</td>\n",
       "      <td>8.001800e+05</td>\n",
       "      <td>800180.000000</td>\n",
       "      <td>800180.000000</td>\n",
       "      <td>800180.000000</td>\n",
       "      <td>800180.000000</td>\n",
       "      <td>800180.000000</td>\n",
       "      <td>800180.000000</td>\n",
       "    </tr>\n",
       "    <tr>\n",
       "      <th>mean</th>\n",
       "      <td>182.129769</td>\n",
       "      <td>175.776405</td>\n",
       "      <td>1.694230e+02</td>\n",
       "      <td>1.398827</td>\n",
       "      <td>1.029195</td>\n",
       "      <td>0.856465</td>\n",
       "      <td>46.720808</td>\n",
       "      <td>34.375098</td>\n",
       "      <td>28.605916</td>\n",
       "    </tr>\n",
       "    <tr>\n",
       "      <th>std</th>\n",
       "      <td>4.235579</td>\n",
       "      <td>7.023913</td>\n",
       "      <td>2.070210e-09</td>\n",
       "      <td>0.325739</td>\n",
       "      <td>0.327819</td>\n",
       "      <td>0.225658</td>\n",
       "      <td>10.879697</td>\n",
       "      <td>10.949154</td>\n",
       "      <td>7.536993</td>\n",
       "    </tr>\n",
       "    <tr>\n",
       "      <th>min</th>\n",
       "      <td>177.894193</td>\n",
       "      <td>169.423041</td>\n",
       "      <td>1.694230e+02</td>\n",
       "      <td>0.951710</td>\n",
       "      <td>0.572416</td>\n",
       "      <td>0.546781</td>\n",
       "      <td>31.787107</td>\n",
       "      <td>19.118679</td>\n",
       "      <td>18.262499</td>\n",
       "    </tr>\n",
       "    <tr>\n",
       "      <th>25%</th>\n",
       "      <td>177.894193</td>\n",
       "      <td>169.423041</td>\n",
       "      <td>1.694230e+02</td>\n",
       "      <td>1.145284</td>\n",
       "      <td>0.772464</td>\n",
       "      <td>0.713531</td>\n",
       "      <td>38.252472</td>\n",
       "      <td>25.800312</td>\n",
       "      <td>23.831932</td>\n",
       "    </tr>\n",
       "    <tr>\n",
       "      <th>50%</th>\n",
       "      <td>182.129769</td>\n",
       "      <td>173.658617</td>\n",
       "      <td>1.694230e+02</td>\n",
       "      <td>1.346145</td>\n",
       "      <td>0.990616</td>\n",
       "      <td>0.788246</td>\n",
       "      <td>44.961240</td>\n",
       "      <td>33.086584</td>\n",
       "      <td>26.327425</td>\n",
       "    </tr>\n",
       "    <tr>\n",
       "      <th>75%</th>\n",
       "      <td>186.365345</td>\n",
       "      <td>180.011981</td>\n",
       "      <td>1.694230e+02</td>\n",
       "      <td>1.597262</td>\n",
       "      <td>1.228643</td>\n",
       "      <td>0.931502</td>\n",
       "      <td>53.348557</td>\n",
       "      <td>41.036677</td>\n",
       "      <td>31.112179</td>\n",
       "    </tr>\n",
       "    <tr>\n",
       "      <th>max</th>\n",
       "      <td>186.365345</td>\n",
       "      <td>186.365345</td>\n",
       "      <td>1.694230e+02</td>\n",
       "      <td>2.134730</td>\n",
       "      <td>1.738444</td>\n",
       "      <td>1.406625</td>\n",
       "      <td>71.299967</td>\n",
       "      <td>58.064031</td>\n",
       "      <td>46.981273</td>\n",
       "    </tr>\n",
       "  </tbody>\n",
       "</table>\n",
       "</div>"
      ],
      "text/plain": [
       "             Vas_RMS        Vbs_RMS       Vcs_RMS        Ias_RMS  \\\n",
       "count  800180.000000  800180.000000  8.001800e+05  800180.000000   \n",
       "mean      182.129769     175.776405  1.694230e+02       1.398827   \n",
       "std         4.235579       7.023913  2.070210e-09       0.325739   \n",
       "min       177.894193     169.423041  1.694230e+02       0.951710   \n",
       "25%       177.894193     169.423041  1.694230e+02       1.145284   \n",
       "50%       182.129769     173.658617  1.694230e+02       1.346145   \n",
       "75%       186.365345     180.011981  1.694230e+02       1.597262   \n",
       "max       186.365345     186.365345  1.694230e+02       2.134730   \n",
       "\n",
       "             Ibs_RMS        Ics_RMS        phase A        Phase B  \\\n",
       "count  800180.000000  800180.000000  800180.000000  800180.000000   \n",
       "mean        1.029195       0.856465      46.720808      34.375098   \n",
       "std         0.327819       0.225658      10.879697      10.949154   \n",
       "min         0.572416       0.546781      31.787107      19.118679   \n",
       "25%         0.772464       0.713531      38.252472      25.800312   \n",
       "50%         0.990616       0.788246      44.961240      33.086584   \n",
       "75%         1.228643       0.931502      53.348557      41.036677   \n",
       "max         1.738444       1.406625      71.299967      58.064031   \n",
       "\n",
       "             phase C  \n",
       "count  800180.000000  \n",
       "mean       28.605916  \n",
       "std         7.536993  \n",
       "min        18.262499  \n",
       "25%        23.831932  \n",
       "50%        26.327425  \n",
       "75%        31.112179  \n",
       "max        46.981273  "
      ]
     },
     "execution_count": 3,
     "metadata": {},
     "output_type": "execute_result"
    }
   ],
   "source": [
    "df.describe()"
   ]
  },
  {
   "cell_type": "code",
   "execution_count": 4,
   "id": "0f5390ad",
   "metadata": {},
   "outputs": [
    {
     "name": "stdout",
     "output_type": "stream",
     "text": [
      "<class 'pandas.core.frame.DataFrame'>\n",
      "RangeIndex: 800180 entries, 0 to 800179\n",
      "Data columns (total 9 columns):\n",
      " #   Column   Non-Null Count   Dtype  \n",
      "---  ------   --------------   -----  \n",
      " 0   Vas_RMS  800180 non-null  float64\n",
      " 1   Vbs_RMS  800180 non-null  float64\n",
      " 2   Vcs_RMS  800180 non-null  float64\n",
      " 3   Ias_RMS  800180 non-null  float64\n",
      " 4   Ibs_RMS  800180 non-null  float64\n",
      " 5   Ics_RMS  800180 non-null  float64\n",
      " 6   phase A  800180 non-null  float64\n",
      " 7   Phase B  800180 non-null  float64\n",
      " 8   phase C  800180 non-null  float64\n",
      "dtypes: float64(9)\n",
      "memory usage: 54.9 MB\n"
     ]
    }
   ],
   "source": [
    "df.info()"
   ]
  },
  {
   "cell_type": "code",
   "execution_count": 5,
   "id": "7a7211f7",
   "metadata": {},
   "outputs": [
    {
     "name": "stdout",
     "output_type": "stream",
     "text": [
      "           Vas_RMS     Vbs_RMS     Vcs_RMS   Ias_RMS   Ibs_RMS   Ics_RMS\n",
      "0       177.894193  177.894193  169.423041  0.951710  0.865482  0.711029\n",
      "1       177.894193  177.894193  169.423041  0.951710  0.865482  0.711029\n",
      "2       177.894193  177.894193  169.423041  0.951710  0.865482  0.711029\n",
      "3       177.894193  177.894193  169.423041  0.951710  0.865482  0.711029\n",
      "4       177.894193  177.894193  169.423041  0.951710  0.865482  0.711029\n",
      "...            ...         ...         ...       ...       ...       ...\n",
      "800175  186.365345  169.423041  169.423041  2.134547  1.150602  1.270964\n",
      "800176  186.365345  169.423041  169.423041  2.134547  1.150602  1.270964\n",
      "800177  186.365345  169.423041  169.423041  2.134547  1.150602  1.270964\n",
      "800178  186.365345  169.423041  169.423041  2.134547  1.150602  1.270964\n",
      "800179  186.365345  169.423041  169.423041  2.134547  1.150602  1.270964\n",
      "\n",
      "[800180 rows x 6 columns]\n"
     ]
    }
   ],
   "source": [
    "X = df[[\"Vas_RMS\",\"Vbs_RMS\",\"Vcs_RMS\",\"Ias_RMS\",\"Ibs_RMS\",\"Ics_RMS\"]]\n",
    "Y = df[[\"phase A\",\"Phase B\",\"phase C\"]]\n",
    "print(X)"
   ]
  },
  {
   "cell_type": "code",
   "execution_count": 6,
   "id": "2e624fc8",
   "metadata": {},
   "outputs": [
    {
     "name": "stdout",
     "output_type": "stream",
     "text": [
      "          phase A    Phase B    phase C\n",
      "0       31.787107  28.907087  23.748358\n",
      "1       31.787107  28.907087  23.748358\n",
      "2       31.787107  28.907087  23.748358\n",
      "3       31.787107  28.907087  23.748358\n",
      "4       31.787107  28.907087  23.748358\n",
      "...           ...        ...        ...\n",
      "800175  71.293860  38.430102  42.450208\n",
      "800176  71.293860  38.430102  42.450208\n",
      "800177  71.293860  38.430102  42.450208\n",
      "800178  71.293860  38.430102  42.450208\n",
      "800179  71.293860  38.430102  42.450208\n",
      "\n",
      "[800180 rows x 3 columns]\n"
     ]
    }
   ],
   "source": [
    "print(Y)"
   ]
  },
  {
   "cell_type": "code",
   "execution_count": 7,
   "id": "439df2ef",
   "metadata": {},
   "outputs": [
    {
     "name": "stdout",
     "output_type": "stream",
     "text": [
      "           Vas_RMS     Vbs_RMS     Vcs_RMS   Ias_RMS   Ibs_RMS   Ics_RMS\n",
      "400511  177.894193  169.423041  169.423041  0.985106  0.696612  0.782281\n",
      "397551  186.365345  186.365345  169.423041  1.852961  1.738273  0.886858\n",
      "341534  186.365345  186.365345  169.423041  1.564006  1.434128  0.651995\n",
      "215657  186.365345  186.365345  169.423041  1.128004  0.957546  0.714365\n",
      "57646   177.894193  177.894193  169.423041  1.005664  0.923590  0.659092\n",
      "...            ...         ...         ...       ...       ...       ...\n",
      "359783  186.365345  186.365345  169.423041  1.564006  1.434128  0.651995\n",
      "152315  177.894193  177.894193  169.423041  1.383452  1.318539  0.913199\n",
      "117952  177.894193  177.894193  169.423041  1.151044  1.076939  0.724956\n",
      "435829  177.894193  169.423041  169.423041  0.985106  0.696612  0.782281\n",
      "305711  186.365345  186.365345  169.423041  1.344801  1.198674  0.546781\n",
      "\n",
      "[640144 rows x 6 columns]\n"
     ]
    }
   ],
   "source": [
    "from sklearn.model_selection import train_test_split\n",
    "x_train, x_test, y_train, y_test = train_test_split(X,Y,test_size=0.2,random_state=0)\n",
    "#test size = 0.2 denotes that 20% of the data will be in the test state. Random_state provides the seed value.\n",
    "print(x_train)"
   ]
  },
  {
   "cell_type": "code",
   "execution_count": 8,
   "id": "1e7ecde3",
   "metadata": {},
   "outputs": [
    {
     "name": "stdout",
     "output_type": "stream",
     "text": [
      "          phase A    Phase B    phase C\n",
      "400511  32.902540  23.266854  26.128192\n",
      "397551  61.888905  58.058330  29.621045\n",
      "341534  52.237797  47.899879  21.776646\n",
      "215657  37.675323  31.982022  23.859791\n",
      "57646   33.589178  30.847917  22.013687\n",
      "...           ...        ...        ...\n",
      "359783  52.237797  47.899879  21.776646\n",
      "152315  46.207302  44.039218  30.500841\n",
      "117952  38.444855  35.969777  24.213541\n",
      "435829  32.902540  23.266854  26.128192\n",
      "305711  44.916368  40.035709  18.262499\n",
      "\n",
      "[640144 rows x 3 columns]\n"
     ]
    }
   ],
   "source": [
    "print(y_train)"
   ]
  },
  {
   "cell_type": "code",
   "execution_count": 9,
   "id": "f6e0cc1f",
   "metadata": {},
   "outputs": [
    {
     "name": "stdout",
     "output_type": "stream",
     "text": [
      "           Vas_RMS     Vbs_RMS     Vcs_RMS   Ias_RMS   Ibs_RMS   Ics_RMS\n",
      "352131  186.365345  186.365345  169.423041  1.564006  1.434128  0.651995\n",
      "287427  186.365345  186.365345  169.423041  1.344801  1.198674  0.546781\n",
      "264333  186.365345  186.365345  169.423041  1.198585  1.037745  0.578348\n",
      "450811  177.894193  169.423041  169.423041  1.070884  0.687022  0.772757\n",
      "593083  177.894193  169.423041  169.423041  1.840938  1.348922  1.406497\n",
      "...            ...         ...         ...       ...       ...       ...\n",
      "289827  186.365345  186.365345  169.423041  1.344801  1.198674  0.546781\n",
      "497732  177.894193  169.423041  169.423041  1.245679  0.797748  0.876326\n",
      "208796  186.365345  186.365345  169.423041  1.128004  0.957546  0.714365\n",
      "246199  186.365345  186.365345  169.423041  1.198585  1.037745  0.578348\n",
      "392589  186.365345  186.365345  169.423041  1.852961  1.738273  0.886858\n",
      "\n",
      "[160036 rows x 6 columns]\n"
     ]
    }
   ],
   "source": [
    "print(x_test)"
   ]
  },
  {
   "cell_type": "code",
   "execution_count": 10,
   "id": "8626e5c1",
   "metadata": {},
   "outputs": [
    {
     "name": "stdout",
     "output_type": "stream",
     "text": [
      "          phase A    Phase B    phase C\n",
      "352131  52.237797  47.899879  21.776646\n",
      "287427  44.916368  40.035709  18.262499\n",
      "264333  40.032725  34.660687  19.316834\n",
      "450811  35.767514  22.946547  25.810096\n",
      "593083  61.487343  45.053999  46.976984\n",
      "...           ...        ...        ...\n",
      "289827  44.916368  40.035709  18.262499\n",
      "497732  41.605683  26.644797  29.269297\n",
      "208796  37.675323  31.982022  23.859791\n",
      "246199  40.032725  34.660687  19.316834\n",
      "392589  61.888905  58.058330  29.621045\n",
      "\n",
      "[160036 rows x 3 columns]\n"
     ]
    }
   ],
   "source": [
    "print(y_test)"
   ]
  },
  {
   "cell_type": "code",
   "execution_count": 11,
   "id": "425cfb68",
   "metadata": {},
   "outputs": [
    {
     "name": "stdout",
     "output_type": "stream",
     "text": [
      "LinearRegression()\n"
     ]
    },
    {
     "data": {
      "text/html": [
       "<style>#sk-container-id-1 {color: black;}#sk-container-id-1 pre{padding: 0;}#sk-container-id-1 div.sk-toggleable {background-color: white;}#sk-container-id-1 label.sk-toggleable__label {cursor: pointer;display: block;width: 100%;margin-bottom: 0;padding: 0.3em;box-sizing: border-box;text-align: center;}#sk-container-id-1 label.sk-toggleable__label-arrow:before {content: \"▸\";float: left;margin-right: 0.25em;color: #696969;}#sk-container-id-1 label.sk-toggleable__label-arrow:hover:before {color: black;}#sk-container-id-1 div.sk-estimator:hover label.sk-toggleable__label-arrow:before {color: black;}#sk-container-id-1 div.sk-toggleable__content {max-height: 0;max-width: 0;overflow: hidden;text-align: left;background-color: #f0f8ff;}#sk-container-id-1 div.sk-toggleable__content pre {margin: 0.2em;color: black;border-radius: 0.25em;background-color: #f0f8ff;}#sk-container-id-1 input.sk-toggleable__control:checked~div.sk-toggleable__content {max-height: 200px;max-width: 100%;overflow: auto;}#sk-container-id-1 input.sk-toggleable__control:checked~label.sk-toggleable__label-arrow:before {content: \"▾\";}#sk-container-id-1 div.sk-estimator input.sk-toggleable__control:checked~label.sk-toggleable__label {background-color: #d4ebff;}#sk-container-id-1 div.sk-label input.sk-toggleable__control:checked~label.sk-toggleable__label {background-color: #d4ebff;}#sk-container-id-1 input.sk-hidden--visually {border: 0;clip: rect(1px 1px 1px 1px);clip: rect(1px, 1px, 1px, 1px);height: 1px;margin: -1px;overflow: hidden;padding: 0;position: absolute;width: 1px;}#sk-container-id-1 div.sk-estimator {font-family: monospace;background-color: #f0f8ff;border: 1px dotted black;border-radius: 0.25em;box-sizing: border-box;margin-bottom: 0.5em;}#sk-container-id-1 div.sk-estimator:hover {background-color: #d4ebff;}#sk-container-id-1 div.sk-parallel-item::after {content: \"\";width: 100%;border-bottom: 1px solid gray;flex-grow: 1;}#sk-container-id-1 div.sk-label:hover label.sk-toggleable__label {background-color: #d4ebff;}#sk-container-id-1 div.sk-serial::before {content: \"\";position: absolute;border-left: 1px solid gray;box-sizing: border-box;top: 0;bottom: 0;left: 50%;z-index: 0;}#sk-container-id-1 div.sk-serial {display: flex;flex-direction: column;align-items: center;background-color: white;padding-right: 0.2em;padding-left: 0.2em;position: relative;}#sk-container-id-1 div.sk-item {position: relative;z-index: 1;}#sk-container-id-1 div.sk-parallel {display: flex;align-items: stretch;justify-content: center;background-color: white;position: relative;}#sk-container-id-1 div.sk-item::before, #sk-container-id-1 div.sk-parallel-item::before {content: \"\";position: absolute;border-left: 1px solid gray;box-sizing: border-box;top: 0;bottom: 0;left: 50%;z-index: -1;}#sk-container-id-1 div.sk-parallel-item {display: flex;flex-direction: column;z-index: 1;position: relative;background-color: white;}#sk-container-id-1 div.sk-parallel-item:first-child::after {align-self: flex-end;width: 50%;}#sk-container-id-1 div.sk-parallel-item:last-child::after {align-self: flex-start;width: 50%;}#sk-container-id-1 div.sk-parallel-item:only-child::after {width: 0;}#sk-container-id-1 div.sk-dashed-wrapped {border: 1px dashed gray;margin: 0 0.4em 0.5em 0.4em;box-sizing: border-box;padding-bottom: 0.4em;background-color: white;}#sk-container-id-1 div.sk-label label {font-family: monospace;font-weight: bold;display: inline-block;line-height: 1.2em;}#sk-container-id-1 div.sk-label-container {text-align: center;}#sk-container-id-1 div.sk-container {/* jupyter's `normalize.less` sets `[hidden] { display: none; }` but bootstrap.min.css set `[hidden] { display: none !important; }` so we also need the `!important` here to be able to override the default hidden behavior on the sphinx rendered scikit-learn.org. See: https://github.com/scikit-learn/scikit-learn/issues/21755 */display: inline-block !important;position: relative;}#sk-container-id-1 div.sk-text-repr-fallback {display: none;}</style><div id=\"sk-container-id-1\" class=\"sk-top-container\"><div class=\"sk-text-repr-fallback\"><pre>LinearRegression()</pre><b>In a Jupyter environment, please rerun this cell to show the HTML representation or trust the notebook. <br />On GitHub, the HTML representation is unable to render, please try loading this page with nbviewer.org.</b></div><div class=\"sk-container\" hidden><div class=\"sk-item\"><div class=\"sk-estimator sk-toggleable\"><input class=\"sk-toggleable__control sk-hidden--visually\" id=\"sk-estimator-id-1\" type=\"checkbox\" checked><label for=\"sk-estimator-id-1\" class=\"sk-toggleable__label sk-toggleable__label-arrow\">LinearRegression</label><div class=\"sk-toggleable__content\"><pre>LinearRegression()</pre></div></div></div></div></div>"
      ],
      "text/plain": [
       "LinearRegression()"
      ]
     },
     "execution_count": 11,
     "metadata": {},
     "output_type": "execute_result"
    }
   ],
   "source": [
    "from sklearn.linear_model import LinearRegression\n",
    "regressor = LinearRegression()\n",
    "print(regressor)\n",
    "regressor.fit(x_train,y_train)#Used to find the most accurate equation for our LR model as per the dataset"
   ]
  },
  {
   "cell_type": "code",
   "execution_count": 12,
   "id": "eac6457b",
   "metadata": {},
   "outputs": [
    {
     "name": "stdout",
     "output_type": "stream",
     "text": [
      "[-39.32697064 -12.95833982   5.27627574]\n",
      "[[-6.55197058e-10 -1.87899590e-10  2.32122920e-01  3.34000000e+01\n",
      "   2.60159805e-09  9.23413048e-10]\n",
      " [-2.25835767e-09  1.10426230e-09  7.64851108e-02  4.67088364e-08\n",
      "   3.34000000e+01 -2.88884954e-08]\n",
      " [ 1.72617371e-09  1.83243752e-10 -3.11426124e-02 -3.42604884e-08\n",
      "   1.42267841e-08  3.34000000e+01]]\n"
     ]
    }
   ],
   "source": [
    "print(regressor.intercept_)\n",
    "print(regressor.coef_)"
   ]
  },
  {
   "cell_type": "code",
   "execution_count": 13,
   "id": "9b4944a7",
   "metadata": {},
   "outputs": [
    {
     "name": "stdout",
     "output_type": "stream",
     "text": [
      "          phase A    Phase B    phase C\n",
      "352131  52.237797  47.899879  21.776646\n",
      "287427  44.916368  40.035709  18.262499\n",
      "264333  40.032725  34.660687  19.316834\n",
      "450811  35.767514  22.946547  25.810096\n",
      "593083  61.487343  45.053999  46.976984\n",
      "...           ...        ...        ...\n",
      "289827  44.916368  40.035709  18.262499\n",
      "497732  41.605683  26.644797  29.269297\n",
      "208796  37.675323  31.982022  23.859791\n",
      "246199  40.032725  34.660687  19.316834\n",
      "392589  61.888905  58.058330  29.621045\n",
      "\n",
      "[160036 rows x 3 columns]\n"
     ]
    }
   ],
   "source": [
    "column_names = [\"phase A\", \"Phase B\", \"phase C\"]\n",
    "y_test_df = pd.DataFrame(data=y_test, columns=column_names)\n",
    "print(y_test_df)"
   ]
  },
  {
   "cell_type": "code",
   "execution_count": 14,
   "id": "c874ef57",
   "metadata": {},
   "outputs": [],
   "source": [
    "y_test_a = y_test[\"phase A\"]\n",
    "y_test_b = y_test[\"Phase B\"]\n",
    "y_test_c = y_test[\"phase C\"]"
   ]
  },
  {
   "cell_type": "code",
   "execution_count": 15,
   "id": "81e5c679",
   "metadata": {},
   "outputs": [
    {
     "name": "stdout",
     "output_type": "stream",
     "text": [
      "        Actual Phase A  Predicted Phase A  Actual Phase B  Predicted Phase B  \\\n",
      "352131       52.237797          52.237797       47.899879          47.899879   \n",
      "287427       44.916368          44.916368       40.035709          40.035709   \n",
      "264333       40.032725          40.032725       34.660687          34.660687   \n",
      "450811       35.767514          35.767514       22.946547          22.946547   \n",
      "593083       61.487343          61.487343       45.053999          45.053999   \n",
      "...                ...                ...             ...                ...   \n",
      "289827       44.916368          44.916368       40.035709          40.035709   \n",
      "497732       41.605683          41.605683       26.644797          26.644797   \n",
      "208796       37.675323          37.675323       31.982022          31.982022   \n",
      "246199       40.032725          40.032725       34.660687          34.660687   \n",
      "392589       61.888905          61.888905       58.058330          58.058330   \n",
      "\n",
      "        Actual Phase C  Predicted Phase C  \n",
      "352131       21.776646          21.776646  \n",
      "287427       18.262499          18.262499  \n",
      "264333       19.316834          19.316834  \n",
      "450811       25.810096          25.810096  \n",
      "593083       46.976984          46.976984  \n",
      "...                ...                ...  \n",
      "289827       18.262499          18.262499  \n",
      "497732       29.269297          29.269297  \n",
      "208796       23.859791          23.859791  \n",
      "246199       19.316834          19.316834  \n",
      "392589       29.621045          29.621045  \n",
      "\n",
      "[160036 rows x 6 columns]\n"
     ]
    }
   ],
   "source": [
    "y_test_predict = regressor.predict(x_test)\n",
    "y_test_predict_a = y_test_predict[:, 0]\n",
    "y_test_predict_b = y_test_predict[:, 1]\n",
    "y_test_predict_c = y_test_predict[:, 2]\n",
    "df_a = pd.DataFrame({\"Actual Phase A\": y_test_a, \"Predicted Phase A\": y_test_predict_a})\n",
    "df_b = pd.DataFrame({\"Actual Phase B\": y_test_b, \"Predicted Phase B\": y_test_predict_b})\n",
    "df_c = pd.DataFrame({\"Actual Phase C\": y_test_c, \"Predicted Phase C\": y_test_predict_c})\n",
    "comparison_df = pd.concat([df_a, df_b, df_c], axis=1)\n",
    "print(comparison_df)"
   ]
  },
  {
   "cell_type": "code",
   "execution_count": 16,
   "id": "e9c75e80",
   "metadata": {},
   "outputs": [
    {
     "name": "stdout",
     "output_type": "stream",
     "text": [
      "Calculating error(Test Dataset)-: \n",
      "\n",
      "Mean Absolute Error: 8.091099152954221e-09\n",
      "Mean Squared Error: 9.035851825843861e-17\n",
      "Root Mean Squared Error: 9.505709771418366e-09\n"
     ]
    }
   ],
   "source": [
    "print(\"Calculating error(Test Dataset)-: \\n\")\n",
    "from sklearn import metrics\n",
    "print('Mean Absolute Error:', metrics.mean_absolute_error(y_test, y_test_predict))  \n",
    "print('Mean Squared Error:', metrics.mean_squared_error(y_test, y_test_predict))  \n",
    "print('Root Mean Squared Error:', np.sqrt(metrics.mean_squared_error(y_test, y_test_predict)))"
   ]
  },
  {
   "cell_type": "code",
   "execution_count": 17,
   "id": "58fea4a3",
   "metadata": {},
   "outputs": [],
   "source": [
    "from sklearn.ensemble import RandomForestRegressor"
   ]
  },
  {
   "cell_type": "code",
   "execution_count": 18,
   "id": "c4bd2325",
   "metadata": {},
   "outputs": [
    {
     "data": {
      "text/html": [
       "<style>#sk-container-id-2 {color: black;}#sk-container-id-2 pre{padding: 0;}#sk-container-id-2 div.sk-toggleable {background-color: white;}#sk-container-id-2 label.sk-toggleable__label {cursor: pointer;display: block;width: 100%;margin-bottom: 0;padding: 0.3em;box-sizing: border-box;text-align: center;}#sk-container-id-2 label.sk-toggleable__label-arrow:before {content: \"▸\";float: left;margin-right: 0.25em;color: #696969;}#sk-container-id-2 label.sk-toggleable__label-arrow:hover:before {color: black;}#sk-container-id-2 div.sk-estimator:hover label.sk-toggleable__label-arrow:before {color: black;}#sk-container-id-2 div.sk-toggleable__content {max-height: 0;max-width: 0;overflow: hidden;text-align: left;background-color: #f0f8ff;}#sk-container-id-2 div.sk-toggleable__content pre {margin: 0.2em;color: black;border-radius: 0.25em;background-color: #f0f8ff;}#sk-container-id-2 input.sk-toggleable__control:checked~div.sk-toggleable__content {max-height: 200px;max-width: 100%;overflow: auto;}#sk-container-id-2 input.sk-toggleable__control:checked~label.sk-toggleable__label-arrow:before {content: \"▾\";}#sk-container-id-2 div.sk-estimator input.sk-toggleable__control:checked~label.sk-toggleable__label {background-color: #d4ebff;}#sk-container-id-2 div.sk-label input.sk-toggleable__control:checked~label.sk-toggleable__label {background-color: #d4ebff;}#sk-container-id-2 input.sk-hidden--visually {border: 0;clip: rect(1px 1px 1px 1px);clip: rect(1px, 1px, 1px, 1px);height: 1px;margin: -1px;overflow: hidden;padding: 0;position: absolute;width: 1px;}#sk-container-id-2 div.sk-estimator {font-family: monospace;background-color: #f0f8ff;border: 1px dotted black;border-radius: 0.25em;box-sizing: border-box;margin-bottom: 0.5em;}#sk-container-id-2 div.sk-estimator:hover {background-color: #d4ebff;}#sk-container-id-2 div.sk-parallel-item::after {content: \"\";width: 100%;border-bottom: 1px solid gray;flex-grow: 1;}#sk-container-id-2 div.sk-label:hover label.sk-toggleable__label {background-color: #d4ebff;}#sk-container-id-2 div.sk-serial::before {content: \"\";position: absolute;border-left: 1px solid gray;box-sizing: border-box;top: 0;bottom: 0;left: 50%;z-index: 0;}#sk-container-id-2 div.sk-serial {display: flex;flex-direction: column;align-items: center;background-color: white;padding-right: 0.2em;padding-left: 0.2em;position: relative;}#sk-container-id-2 div.sk-item {position: relative;z-index: 1;}#sk-container-id-2 div.sk-parallel {display: flex;align-items: stretch;justify-content: center;background-color: white;position: relative;}#sk-container-id-2 div.sk-item::before, #sk-container-id-2 div.sk-parallel-item::before {content: \"\";position: absolute;border-left: 1px solid gray;box-sizing: border-box;top: 0;bottom: 0;left: 50%;z-index: -1;}#sk-container-id-2 div.sk-parallel-item {display: flex;flex-direction: column;z-index: 1;position: relative;background-color: white;}#sk-container-id-2 div.sk-parallel-item:first-child::after {align-self: flex-end;width: 50%;}#sk-container-id-2 div.sk-parallel-item:last-child::after {align-self: flex-start;width: 50%;}#sk-container-id-2 div.sk-parallel-item:only-child::after {width: 0;}#sk-container-id-2 div.sk-dashed-wrapped {border: 1px dashed gray;margin: 0 0.4em 0.5em 0.4em;box-sizing: border-box;padding-bottom: 0.4em;background-color: white;}#sk-container-id-2 div.sk-label label {font-family: monospace;font-weight: bold;display: inline-block;line-height: 1.2em;}#sk-container-id-2 div.sk-label-container {text-align: center;}#sk-container-id-2 div.sk-container {/* jupyter's `normalize.less` sets `[hidden] { display: none; }` but bootstrap.min.css set `[hidden] { display: none !important; }` so we also need the `!important` here to be able to override the default hidden behavior on the sphinx rendered scikit-learn.org. See: https://github.com/scikit-learn/scikit-learn/issues/21755 */display: inline-block !important;position: relative;}#sk-container-id-2 div.sk-text-repr-fallback {display: none;}</style><div id=\"sk-container-id-2\" class=\"sk-top-container\"><div class=\"sk-text-repr-fallback\"><pre>RandomForestRegressor(max_depth=20)</pre><b>In a Jupyter environment, please rerun this cell to show the HTML representation or trust the notebook. <br />On GitHub, the HTML representation is unable to render, please try loading this page with nbviewer.org.</b></div><div class=\"sk-container\" hidden><div class=\"sk-item\"><div class=\"sk-estimator sk-toggleable\"><input class=\"sk-toggleable__control sk-hidden--visually\" id=\"sk-estimator-id-2\" type=\"checkbox\" checked><label for=\"sk-estimator-id-2\" class=\"sk-toggleable__label sk-toggleable__label-arrow\">RandomForestRegressor</label><div class=\"sk-toggleable__content\"><pre>RandomForestRegressor(max_depth=20)</pre></div></div></div></div></div>"
      ],
      "text/plain": [
       "RandomForestRegressor(max_depth=20)"
      ]
     },
     "execution_count": 18,
     "metadata": {},
     "output_type": "execute_result"
    }
   ],
   "source": [
    "rf=RandomForestRegressor(n_estimators=100, max_depth=20)\n",
    "rf.fit(x_train,y_train)"
   ]
  },
  {
   "cell_type": "code",
   "execution_count": 19,
   "id": "6e179732",
   "metadata": {},
   "outputs": [
    {
     "name": "stdout",
     "output_type": "stream",
     "text": [
      "        Actual Phase A  Predicted Phase A  Actual Phase B  Predicted Phase B  \\\n",
      "352131       52.237797          52.237797       47.899879          47.899879   \n",
      "287427       44.916368          44.916368       40.035709          40.035709   \n",
      "264333       40.032725          40.032725       34.660687          34.660687   \n",
      "450811       35.767514          35.767514       22.946547          22.946547   \n",
      "593083       61.487343          61.487343       45.053999          45.053999   \n",
      "...                ...                ...             ...                ...   \n",
      "289827       44.916368          44.916368       40.035709          40.035709   \n",
      "497732       41.605683          41.605683       26.644797          26.644797   \n",
      "208796       37.675323          37.675323       31.982022          31.982022   \n",
      "246199       40.032725          40.032725       34.660687          34.660687   \n",
      "392589       61.888905          61.888905       58.058330          58.058330   \n",
      "\n",
      "        Actual Phase C  Predicted Phase C  \n",
      "352131       21.776646          21.776646  \n",
      "287427       18.262499          18.262499  \n",
      "264333       19.316834          19.316834  \n",
      "450811       25.810096          25.810096  \n",
      "593083       46.976984          46.976984  \n",
      "...                ...                ...  \n",
      "289827       18.262499          18.262499  \n",
      "497732       29.269297          29.269297  \n",
      "208796       23.859791          23.859791  \n",
      "246199       19.316834          19.316834  \n",
      "392589       29.621045          29.621045  \n",
      "\n",
      "[160036 rows x 6 columns]\n"
     ]
    }
   ],
   "source": [
    "y_test_predict_rf = rf.predict(x_test)\n",
    "y_test_predict_a = y_test_predict[:, 0]\n",
    "y_test_predict_b = y_test_predict[:, 1]\n",
    "y_test_predict_c = y_test_predict[:, 2]\n",
    "df_a = pd.DataFrame({\"Actual Phase A\": y_test_a, \"Predicted Phase A\": y_test_predict_a})\n",
    "df_b = pd.DataFrame({\"Actual Phase B\": y_test_b, \"Predicted Phase B\": y_test_predict_b})\n",
    "df_c = pd.DataFrame({\"Actual Phase C\": y_test_c, \"Predicted Phase C\": y_test_predict_c})\n",
    "comparison_df = pd.concat([df_a, df_b, df_c], axis=1)\n",
    "print(comparison_df)"
   ]
  },
  {
   "cell_type": "code",
   "execution_count": 20,
   "id": "d063e417",
   "metadata": {},
   "outputs": [
    {
     "name": "stdout",
     "output_type": "stream",
     "text": [
      "Mean Absolute Error:  1.0009350922473262e-05\n",
      "Mean Squared Error:  1.0009350922473262e-05\n",
      "Root Mean Squared Error:  1.0009350922473262e-05\n"
     ]
    }
   ],
   "source": [
    "from sklearn import metrics\n",
    "print(\"Mean Absolute Error: \",metrics.mean_absolute_error(y_test,y_test_predict_rf))\n",
    "print(\"Mean Squared Error: \",metrics.mean_absolute_error(y_test,y_test_predict_rf))\n",
    "print(\"Root Mean Squared Error: \",metrics.mean_absolute_error(y_test,y_test_predict_rf))"
   ]
  },
  {
   "cell_type": "code",
   "execution_count": 23,
   "id": "d7e1dc8f",
   "metadata": {},
   "outputs": [],
   "source": [
    "import pandas as pd\n",
    "from IPython.display import display, HTML\n",
    "\n",
    "def predict_temperatures_from_csv(rf_model, csv_path):\n",
    "    # Read the CSV file into a DataFrame\n",
    "    df = pd.read_csv(csv_path)\n",
    "    \n",
    "    # Extract voltage and current columns\n",
    "    voltage_columns = [\"Vas_RMS\", \"Vbs_RMS\", \"Vcs_RMS\"]\n",
    "    current_columns = [\"Ias_RMS\", \"Ibs_RMS\", \"Ics_RMS\"]\n",
    "    \n",
    "    # Extract voltage and current values from the DataFrame\n",
    "    X = df[voltage_columns + current_columns]\n",
    "    \n",
    "    # Use the trained model to predict temperature values\n",
    "    temperature_predictions = rf_model.predict(X)\n",
    "    \n",
    "    # Create a DataFrame to store the predictions\n",
    "    predictions_df = pd.DataFrame(temperature_predictions, columns=[\"Predicted Phase A\", \"Predicted Phase B\", \"Predicted Phase C\"])\n",
    "    \n",
    "    # Concatenate the predictions DataFrame with the original DataFrame\n",
    "    result_df = pd.concat([df, predictions_df], axis=1)\n",
    "    \n",
    "    # Calculate average predicted temperature across phases\n",
    "    result_df[\"Average Temperature\"] = result_df.mean(axis=1)\n",
    "    \n",
    "    # Calculate Remaining Useful Life (RUL)\n",
    "    Lo = 20000\n",
    "    Tb = 155\n",
    "    Tc = result_df[\"Average Temperature\"]\n",
    "    result_df[\"RUL\"] = Lo * 2**((Tb - Tc) / 10) / (365 * 24)\n",
    "    \n",
    "    # Drop unnamed columns\n",
    "    result_df = result_df.drop(result_df.columns[result_df.columns.str.contains('Unnamed', case=False)], axis=1)\n",
    "    \n",
    "    # Display DataFrame with bold column headings\n",
    "    display(HTML(result_df.style.set_table_styles([{'selector': 'th', 'props': [('font-weight', 'bold')]}]).render()))\n",
    "    \n",
    "    return result_df"
   ]
  },
  {
   "cell_type": "code",
   "execution_count": 24,
   "id": "f04fe68f",
   "metadata": {},
   "outputs": [],
   "source": [
    "import numpy as np\n",
    "\n",
    "def predict_values(rf_model, v1, v2, v3, i1, i2, i3):\n",
    "    # Convert feature values to numpy array\n",
    "    user_input_array = np.array([v1, v2, v3, i1, i2, i3]).reshape(1, -1)\n",
    "    \n",
    "    # Make prediction using the trained Random Forest Regressor\n",
    "    predictions = rf_model.predict(user_input_array)\n",
    "    \n",
    "    # Calculate average predicted temperature across phases\n",
    "    average_temperature = np.mean(predictions)\n",
    "    \n",
    "    # Calculate RUL\n",
    "    Lo = 20000\n",
    "    Tb = 155\n",
    "    RUL = Lo * 2**((Tb - average_temperature) / 10) / (365 * 24)\n",
    "    \n",
    "    # Output predicted values for Phase A, Phase B, and Phase C along with RUL\n",
    "    print(f\"Predicted value for Temperature-Phase A: {predictions[0, 0]}, RUL: {RUL} years\")\n",
    "    print(f\"Predicted value for Temperature-Phase B: {predictions[0, 1]}, RUL: {RUL} years\")\n",
    "    print(f\"Predicted value for Temperature-Phase C: {predictions[0, 2]}, RUL: {RUL} years\")"
   ]
  }
 ],
 "metadata": {
  "kernelspec": {
   "display_name": "Python 3 (ipykernel)",
   "language": "python",
   "name": "python3"
  },
  "language_info": {
   "codemirror_mode": {
    "name": "ipython",
    "version": 3
   },
   "file_extension": ".py",
   "mimetype": "text/x-python",
   "name": "python",
   "nbconvert_exporter": "python",
   "pygments_lexer": "ipython3",
   "version": "3.11.4"
  }
 },
 "nbformat": 4,
 "nbformat_minor": 5
}
