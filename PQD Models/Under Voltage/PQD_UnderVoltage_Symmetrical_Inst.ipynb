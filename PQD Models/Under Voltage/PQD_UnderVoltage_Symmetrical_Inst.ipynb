{
 "cells": [
  {
   "cell_type": "code",
   "execution_count": 1,
   "id": "217be846",
   "metadata": {},
   "outputs": [],
   "source": [
    "import sklearn\n",
    "import pandas as pd\n",
    "import numpy as np"
   ]
  },
  {
   "cell_type": "code",
   "execution_count": 2,
   "id": "580733dd",
   "metadata": {},
   "outputs": [
    {
     "data": {
      "text/html": [
       "<div>\n",
       "<style scoped>\n",
       "    .dataframe tbody tr th:only-of-type {\n",
       "        vertical-align: middle;\n",
       "    }\n",
       "\n",
       "    .dataframe tbody tr th {\n",
       "        vertical-align: top;\n",
       "    }\n",
       "\n",
       "    .dataframe thead th {\n",
       "        text-align: right;\n",
       "    }\n",
       "</style>\n",
       "<table border=\"1\" class=\"dataframe\">\n",
       "  <thead>\n",
       "    <tr style=\"text-align: right;\">\n",
       "      <th></th>\n",
       "      <th>Vas</th>\n",
       "      <th>Vbs</th>\n",
       "      <th>Vcs</th>\n",
       "      <th>Ias</th>\n",
       "      <th>Ibs</th>\n",
       "      <th>Ics</th>\n",
       "      <th>phase A</th>\n",
       "      <th>Phase B</th>\n",
       "      <th>phase C</th>\n",
       "    </tr>\n",
       "  </thead>\n",
       "  <tbody>\n",
       "    <tr>\n",
       "      <th>0</th>\n",
       "      <td>0.000000</td>\n",
       "      <td>-197.125000</td>\n",
       "      <td>197.125000</td>\n",
       "      <td>-2.404923</td>\n",
       "      <td>0.954006</td>\n",
       "      <td>1.450917</td>\n",
       "      <td>24.291812</td>\n",
       "      <td>24.291812</td>\n",
       "      <td>24.291812</td>\n",
       "    </tr>\n",
       "    <tr>\n",
       "      <th>1</th>\n",
       "      <td>0.000000</td>\n",
       "      <td>-197.125000</td>\n",
       "      <td>197.125000</td>\n",
       "      <td>-2.404923</td>\n",
       "      <td>0.954006</td>\n",
       "      <td>1.450917</td>\n",
       "      <td>24.291812</td>\n",
       "      <td>24.291812</td>\n",
       "      <td>24.291812</td>\n",
       "    </tr>\n",
       "    <tr>\n",
       "      <th>2</th>\n",
       "      <td>0.000000</td>\n",
       "      <td>-197.125000</td>\n",
       "      <td>197.125000</td>\n",
       "      <td>-2.404923</td>\n",
       "      <td>0.954006</td>\n",
       "      <td>1.450917</td>\n",
       "      <td>24.291812</td>\n",
       "      <td>24.291812</td>\n",
       "      <td>24.291812</td>\n",
       "    </tr>\n",
       "    <tr>\n",
       "      <th>3</th>\n",
       "      <td>7.149728</td>\n",
       "      <td>-200.602595</td>\n",
       "      <td>193.452867</td>\n",
       "      <td>-2.394725</td>\n",
       "      <td>0.883610</td>\n",
       "      <td>1.511115</td>\n",
       "      <td>24.291812</td>\n",
       "      <td>24.291812</td>\n",
       "      <td>24.291812</td>\n",
       "    </tr>\n",
       "    <tr>\n",
       "      <th>4</th>\n",
       "      <td>14.292400</td>\n",
       "      <td>-203.882219</td>\n",
       "      <td>189.589819</td>\n",
       "      <td>-2.382164</td>\n",
       "      <td>0.812342</td>\n",
       "      <td>1.569822</td>\n",
       "      <td>24.291812</td>\n",
       "      <td>24.291812</td>\n",
       "      <td>24.291812</td>\n",
       "    </tr>\n",
       "  </tbody>\n",
       "</table>\n",
       "</div>"
      ],
      "text/plain": [
       "         Vas         Vbs         Vcs       Ias       Ibs       Ics    phase A  \\\n",
       "0   0.000000 -197.125000  197.125000 -2.404923  0.954006  1.450917  24.291812   \n",
       "1   0.000000 -197.125000  197.125000 -2.404923  0.954006  1.450917  24.291812   \n",
       "2   0.000000 -197.125000  197.125000 -2.404923  0.954006  1.450917  24.291812   \n",
       "3   7.149728 -200.602595  193.452867 -2.394725  0.883610  1.511115  24.291812   \n",
       "4  14.292400 -203.882219  189.589819 -2.382164  0.812342  1.569822  24.291812   \n",
       "\n",
       "     Phase B    phase C  \n",
       "0  24.291812  24.291812  \n",
       "1  24.291812  24.291812  \n",
       "2  24.291812  24.291812  \n",
       "3  24.291812  24.291812  \n",
       "4  24.291812  24.291812  "
      ]
     },
     "execution_count": 2,
     "metadata": {},
     "output_type": "execute_result"
    }
   ],
   "source": [
    "df = pd.read_csv(\"C:\\\\Users\\\\Admin\\\\Desktop\\\\PQD Database\\\\PQD_UnderVoltage_Database\\\\Symmetrical\\\\Inst\\\\PQD_UnderVoltage_Symmetrical_Inst_Database.csv\")\n",
    "df.head()"
   ]
  },
  {
   "cell_type": "code",
   "execution_count": 3,
   "id": "c94fd78b",
   "metadata": {},
   "outputs": [
    {
     "data": {
      "text/html": [
       "<div>\n",
       "<style scoped>\n",
       "    .dataframe tbody tr th:only-of-type {\n",
       "        vertical-align: middle;\n",
       "    }\n",
       "\n",
       "    .dataframe tbody tr th {\n",
       "        vertical-align: top;\n",
       "    }\n",
       "\n",
       "    .dataframe thead th {\n",
       "        text-align: right;\n",
       "    }\n",
       "</style>\n",
       "<table border=\"1\" class=\"dataframe\">\n",
       "  <thead>\n",
       "    <tr style=\"text-align: right;\">\n",
       "      <th></th>\n",
       "      <th>Vas</th>\n",
       "      <th>Vbs</th>\n",
       "      <th>Vcs</th>\n",
       "      <th>Ias</th>\n",
       "      <th>Ibs</th>\n",
       "      <th>Ics</th>\n",
       "      <th>phase A</th>\n",
       "      <th>Phase B</th>\n",
       "      <th>phase C</th>\n",
       "    </tr>\n",
       "  </thead>\n",
       "  <tbody>\n",
       "    <tr>\n",
       "      <th>count</th>\n",
       "      <td>4.000900e+05</td>\n",
       "      <td>400090.000000</td>\n",
       "      <td>400090.000000</td>\n",
       "      <td>400090.000000</td>\n",
       "      <td>400090.000000</td>\n",
       "      <td>400090.000000</td>\n",
       "      <td>400090.000000</td>\n",
       "      <td>400090.000000</td>\n",
       "      <td>400090.000000</td>\n",
       "    </tr>\n",
       "    <tr>\n",
       "      <th>mean</th>\n",
       "      <td>-1.747974e-13</td>\n",
       "      <td>-0.043176</td>\n",
       "      <td>0.043176</td>\n",
       "      <td>-0.000491</td>\n",
       "      <td>-0.000146</td>\n",
       "      <td>0.000637</td>\n",
       "      <td>35.360982</td>\n",
       "      <td>35.360982</td>\n",
       "      <td>35.360982</td>\n",
       "    </tr>\n",
       "    <tr>\n",
       "      <th>std</th>\n",
       "      <td>1.567561e+02</td>\n",
       "      <td>156.782546</td>\n",
       "      <td>156.782546</td>\n",
       "      <td>2.287238</td>\n",
       "      <td>2.287091</td>\n",
       "      <td>2.287456</td>\n",
       "      <td>12.233830</td>\n",
       "      <td>12.233830</td>\n",
       "      <td>12.233830</td>\n",
       "    </tr>\n",
       "    <tr>\n",
       "      <th>min</th>\n",
       "      <td>-2.276203e+02</td>\n",
       "      <td>-227.607863</td>\n",
       "      <td>-227.607863</td>\n",
       "      <td>-4.591885</td>\n",
       "      <td>-4.591432</td>\n",
       "      <td>-4.591911</td>\n",
       "      <td>22.314154</td>\n",
       "      <td>22.314154</td>\n",
       "      <td>22.314154</td>\n",
       "    </tr>\n",
       "    <tr>\n",
       "      <th>25%</th>\n",
       "      <td>-1.558168e+02</td>\n",
       "      <td>-157.545867</td>\n",
       "      <td>-155.640611</td>\n",
       "      <td>-2.048528</td>\n",
       "      <td>-2.036650</td>\n",
       "      <td>-2.049032</td>\n",
       "      <td>24.291812</td>\n",
       "      <td>24.291812</td>\n",
       "      <td>24.291812</td>\n",
       "    </tr>\n",
       "    <tr>\n",
       "      <th>50%</th>\n",
       "      <td>0.000000e+00</td>\n",
       "      <td>-2.258139</td>\n",
       "      <td>2.258139</td>\n",
       "      <td>-0.008077</td>\n",
       "      <td>-0.001833</td>\n",
       "      <td>0.007252</td>\n",
       "      <td>31.045314</td>\n",
       "      <td>31.045300</td>\n",
       "      <td>31.045313</td>\n",
       "    </tr>\n",
       "    <tr>\n",
       "      <th>75%</th>\n",
       "      <td>1.558168e+02</td>\n",
       "      <td>155.640611</td>\n",
       "      <td>157.545867</td>\n",
       "      <td>2.047593</td>\n",
       "      <td>2.036650</td>\n",
       "      <td>2.049713</td>\n",
       "      <td>42.178696</td>\n",
       "      <td>42.178696</td>\n",
       "      <td>42.178696</td>\n",
       "    </tr>\n",
       "    <tr>\n",
       "      <th>max</th>\n",
       "      <td>2.276203e+02</td>\n",
       "      <td>227.607863</td>\n",
       "      <td>227.607863</td>\n",
       "      <td>4.591885</td>\n",
       "      <td>4.591432</td>\n",
       "      <td>4.591911</td>\n",
       "      <td>57.888463</td>\n",
       "      <td>57.888463</td>\n",
       "      <td>57.888463</td>\n",
       "    </tr>\n",
       "  </tbody>\n",
       "</table>\n",
       "</div>"
      ],
      "text/plain": [
       "                Vas            Vbs            Vcs            Ias  \\\n",
       "count  4.000900e+05  400090.000000  400090.000000  400090.000000   \n",
       "mean  -1.747974e-13      -0.043176       0.043176      -0.000491   \n",
       "std    1.567561e+02     156.782546     156.782546       2.287238   \n",
       "min   -2.276203e+02    -227.607863    -227.607863      -4.591885   \n",
       "25%   -1.558168e+02    -157.545867    -155.640611      -2.048528   \n",
       "50%    0.000000e+00      -2.258139       2.258139      -0.008077   \n",
       "75%    1.558168e+02     155.640611     157.545867       2.047593   \n",
       "max    2.276203e+02     227.607863     227.607863       4.591885   \n",
       "\n",
       "                 Ibs            Ics        phase A        Phase B  \\\n",
       "count  400090.000000  400090.000000  400090.000000  400090.000000   \n",
       "mean       -0.000146       0.000637      35.360982      35.360982   \n",
       "std         2.287091       2.287456      12.233830      12.233830   \n",
       "min        -4.591432      -4.591911      22.314154      22.314154   \n",
       "25%        -2.036650      -2.049032      24.291812      24.291812   \n",
       "50%        -0.001833       0.007252      31.045314      31.045300   \n",
       "75%         2.036650       2.049713      42.178696      42.178696   \n",
       "max         4.591432       4.591911      57.888463      57.888463   \n",
       "\n",
       "             phase C  \n",
       "count  400090.000000  \n",
       "mean       35.360982  \n",
       "std        12.233830  \n",
       "min        22.314154  \n",
       "25%        24.291812  \n",
       "50%        31.045313  \n",
       "75%        42.178696  \n",
       "max        57.888463  "
      ]
     },
     "execution_count": 3,
     "metadata": {},
     "output_type": "execute_result"
    }
   ],
   "source": [
    "df.describe()"
   ]
  },
  {
   "cell_type": "code",
   "execution_count": 4,
   "id": "72b0b181",
   "metadata": {},
   "outputs": [
    {
     "name": "stdout",
     "output_type": "stream",
     "text": [
      "<class 'pandas.core.frame.DataFrame'>\n",
      "RangeIndex: 400090 entries, 0 to 400089\n",
      "Data columns (total 9 columns):\n",
      " #   Column   Non-Null Count   Dtype  \n",
      "---  ------   --------------   -----  \n",
      " 0   Vas      400090 non-null  float64\n",
      " 1   Vbs      400090 non-null  float64\n",
      " 2   Vcs      400090 non-null  float64\n",
      " 3   Ias      400090 non-null  float64\n",
      " 4   Ibs      400090 non-null  float64\n",
      " 5   Ics      400090 non-null  float64\n",
      " 6   phase A  400090 non-null  float64\n",
      " 7   Phase B  400090 non-null  float64\n",
      " 8   phase C  400090 non-null  float64\n",
      "dtypes: float64(9)\n",
      "memory usage: 27.5 MB\n"
     ]
    }
   ],
   "source": [
    "df.info()"
   ]
  },
  {
   "cell_type": "code",
   "execution_count": 5,
   "id": "ebe48e75",
   "metadata": {},
   "outputs": [
    {
     "name": "stdout",
     "output_type": "stream",
     "text": [
      "              Vas         Vbs         Vcs       Ias       Ibs       Ics\n",
      "0        0.000000 -197.125000  197.125000 -2.404923  0.954006  1.450917\n",
      "1        0.000000 -197.125000  197.125000 -2.404923  0.954006  1.450917\n",
      "2        0.000000 -197.125000  197.125000 -2.404923  0.954006  1.450917\n",
      "3        7.149728 -200.602595  193.452867 -2.394725  0.883610  1.511115\n",
      "4       14.292400 -203.882219  189.589819 -2.382164  0.812342  1.569822\n",
      "...           ...         ...         ...       ...       ...       ...\n",
      "400085 -27.026899 -171.763971  198.790870 -2.559144 -2.022347  4.581491\n",
      "400086 -20.293547 -175.774423  196.067971 -2.438120 -2.150845  4.588965\n",
      "400087 -13.540168 -179.611408  193.151576 -2.314691 -2.277220  4.591911\n",
      "400088  -6.773426 -183.271137  190.044563 -2.188977 -2.401347  4.590324\n",
      "400089   0.000000 -186.750000  186.750000 -2.061103 -2.523105  4.584208\n",
      "\n",
      "[400090 rows x 6 columns]\n"
     ]
    }
   ],
   "source": [
    "X = df[[\"Vas\",\"Vbs\",\"Vcs\",\"Ias\",\"Ibs\",\"Ics\"]]\n",
    "Y = df[[\"phase A\",\"Phase B\",\"phase C\"]]\n",
    "print(X)"
   ]
  },
  {
   "cell_type": "code",
   "execution_count": 6,
   "id": "c1b81b26",
   "metadata": {},
   "outputs": [
    {
     "name": "stdout",
     "output_type": "stream",
     "text": [
      "          phase A    Phase B    phase C\n",
      "0       24.291812  24.291812  24.291812\n",
      "1       24.291812  24.291812  24.291812\n",
      "2       24.291812  24.291812  24.291812\n",
      "3       24.291812  24.291812  24.291812\n",
      "4       24.291812  24.291812  24.291812\n",
      "...           ...        ...        ...\n",
      "400085  57.888463  57.888463  57.888463\n",
      "400086  57.888463  57.888463  57.888463\n",
      "400087  57.888463  57.888463  57.888463\n",
      "400088  57.888463  57.888463  57.888463\n",
      "400089  57.888463  57.888463  57.888463\n",
      "\n",
      "[400090 rows x 3 columns]\n"
     ]
    }
   ],
   "source": [
    "print(Y)"
   ]
  },
  {
   "cell_type": "code",
   "execution_count": 7,
   "id": "342dc823",
   "metadata": {},
   "outputs": [
    {
     "name": "stdout",
     "output_type": "stream",
     "text": [
      "               Vas         Vbs         Vcs       Ias       Ibs       Ics\n",
      "63162  -226.610156  131.856179   94.753977 -0.822581  2.461783 -1.639202\n",
      "6909    -49.653840  217.204511 -167.550672  2.284422 -0.445407 -1.839015\n",
      "216008 -207.078043   51.437432  155.640611 -0.903625  2.277820 -1.374195\n",
      "300502  185.610691 -187.868830    2.258139  0.641996 -2.718956  2.076959\n",
      "153453  121.965079 -227.420682  105.455603 -0.319695 -2.857133  3.176829\n",
      "...            ...         ...         ...       ...       ...       ...\n",
      "359783  -20.293547  196.067971 -175.774423  1.732522  1.843673 -3.576196\n",
      "358083   20.293547 -196.067971  175.774423 -1.732522 -1.843673  3.576196\n",
      "152315  133.791881   92.581534 -226.373416  3.356759 -0.825176 -2.531582\n",
      "117952 -165.928089  217.905393  -51.977304  0.139152  2.415628 -2.554780\n",
      "305711  208.865588 -150.875630  -57.989958  1.389010 -2.842133  1.453123\n",
      "\n",
      "[320072 rows x 6 columns]\n"
     ]
    }
   ],
   "source": [
    "from sklearn.model_selection import train_test_split\n",
    "x_train, x_test, y_train, y_test = train_test_split(X,Y,test_size=0.2,random_state=0)\n",
    "#test size = 0.2 denotes that 20% of the data will be in the test state. Random_state provides the seed value.\n",
    "print(x_train)"
   ]
  },
  {
   "cell_type": "code",
   "execution_count": 8,
   "id": "54d61d62",
   "metadata": {},
   "outputs": [
    {
     "name": "stdout",
     "output_type": "stream",
     "text": [
      "          phase A    Phase B    phase C\n",
      "63162   25.604051  25.604051  25.604051\n",
      "6909    24.291812  24.291812  24.291812\n",
      "216008  22.314154  22.314154  22.314154\n",
      "300502  30.810578  30.810578  30.810578\n",
      "153453  40.961838  40.961838  40.961838\n",
      "...           ...        ...        ...\n",
      "359783  42.178699  42.178699  42.178699\n",
      "358083  42.178699  42.178699  42.178699\n",
      "152315  40.961838  40.961838  40.961838\n",
      "117952  31.281216  31.281216  31.281216\n",
      "305711  30.810578  30.810578  30.810578\n",
      "\n",
      "[320072 rows x 3 columns]\n"
     ]
    }
   ],
   "source": [
    "print(y_train)"
   ]
  },
  {
   "cell_type": "code",
   "execution_count": 9,
   "id": "a5db9205",
   "metadata": {},
   "outputs": [
    {
     "name": "stdout",
     "output_type": "stream",
     "text": [
      "               Vas         Vbs         Vcs       Ias       Ibs       Ics\n",
      "102156 -192.186213  201.717963   -9.531751 -0.401035  2.664283 -2.263248\n",
      "362402 -121.207843  215.061218  -93.853376 -0.597308  4.234131 -3.636823\n",
      "210282  185.610691 -187.868830    2.258139 -0.918451 -1.361226  2.279677\n",
      "228784 -185.610691  187.868830   -2.258139  0.918451  1.361226 -2.279677\n",
      "278354   53.627568  154.069121 -207.696689  2.348250 -0.730141 -1.618109\n",
      "...            ...         ...         ...       ...       ...       ...\n",
      "135180 -227.508027  119.945859  107.562168 -2.701613  3.275590 -0.573977\n",
      "260356   27.026899  171.763971 -198.790870  2.265479 -0.437373 -1.828105\n",
      "25750  -223.588562  148.731822   74.856739  0.168828  2.007976 -2.176804\n",
      "225038  -85.641100 -128.570126  214.211227 -2.200613  1.661273  0.539340\n",
      "110678  227.171187 -101.208012 -125.963175  1.996641 -2.787407  0.790766\n",
      "\n",
      "[80018 rows x 6 columns]\n"
     ]
    }
   ],
   "source": [
    "print(x_test)"
   ]
  },
  {
   "cell_type": "code",
   "execution_count": 10,
   "id": "181e8073",
   "metadata": {},
   "outputs": [
    {
     "name": "stdout",
     "output_type": "stream",
     "text": [
      "          phase A    Phase B    phase C\n",
      "102156  31.281216  31.281216  31.281216\n",
      "362402  57.750361  57.750517  57.751703\n",
      "210282  22.314154  22.314154  22.314154\n",
      "228784  22.314154  22.314154  22.314154\n",
      "278354  24.014371  24.014371  24.014371\n",
      "...           ...        ...        ...\n",
      "135180  40.961837  40.961837  40.961837\n",
      "260356  24.014371  24.014371  24.014371\n",
      "25750   24.291812  24.291812  24.291812\n",
      "225038  22.314154  22.314154  22.314154\n",
      "110678  31.281216  31.281216  31.281216\n",
      "\n",
      "[80018 rows x 3 columns]\n"
     ]
    }
   ],
   "source": [
    "print(y_test)"
   ]
  },
  {
   "cell_type": "code",
   "execution_count": 11,
   "id": "2673f707",
   "metadata": {},
   "outputs": [
    {
     "name": "stdout",
     "output_type": "stream",
     "text": [
      "LinearRegression()\n"
     ]
    },
    {
     "data": {
      "text/html": [
       "<style>#sk-container-id-1 {color: black;}#sk-container-id-1 pre{padding: 0;}#sk-container-id-1 div.sk-toggleable {background-color: white;}#sk-container-id-1 label.sk-toggleable__label {cursor: pointer;display: block;width: 100%;margin-bottom: 0;padding: 0.3em;box-sizing: border-box;text-align: center;}#sk-container-id-1 label.sk-toggleable__label-arrow:before {content: \"▸\";float: left;margin-right: 0.25em;color: #696969;}#sk-container-id-1 label.sk-toggleable__label-arrow:hover:before {color: black;}#sk-container-id-1 div.sk-estimator:hover label.sk-toggleable__label-arrow:before {color: black;}#sk-container-id-1 div.sk-toggleable__content {max-height: 0;max-width: 0;overflow: hidden;text-align: left;background-color: #f0f8ff;}#sk-container-id-1 div.sk-toggleable__content pre {margin: 0.2em;color: black;border-radius: 0.25em;background-color: #f0f8ff;}#sk-container-id-1 input.sk-toggleable__control:checked~div.sk-toggleable__content {max-height: 200px;max-width: 100%;overflow: auto;}#sk-container-id-1 input.sk-toggleable__control:checked~label.sk-toggleable__label-arrow:before {content: \"▾\";}#sk-container-id-1 div.sk-estimator input.sk-toggleable__control:checked~label.sk-toggleable__label {background-color: #d4ebff;}#sk-container-id-1 div.sk-label input.sk-toggleable__control:checked~label.sk-toggleable__label {background-color: #d4ebff;}#sk-container-id-1 input.sk-hidden--visually {border: 0;clip: rect(1px 1px 1px 1px);clip: rect(1px, 1px, 1px, 1px);height: 1px;margin: -1px;overflow: hidden;padding: 0;position: absolute;width: 1px;}#sk-container-id-1 div.sk-estimator {font-family: monospace;background-color: #f0f8ff;border: 1px dotted black;border-radius: 0.25em;box-sizing: border-box;margin-bottom: 0.5em;}#sk-container-id-1 div.sk-estimator:hover {background-color: #d4ebff;}#sk-container-id-1 div.sk-parallel-item::after {content: \"\";width: 100%;border-bottom: 1px solid gray;flex-grow: 1;}#sk-container-id-1 div.sk-label:hover label.sk-toggleable__label {background-color: #d4ebff;}#sk-container-id-1 div.sk-serial::before {content: \"\";position: absolute;border-left: 1px solid gray;box-sizing: border-box;top: 0;bottom: 0;left: 50%;z-index: 0;}#sk-container-id-1 div.sk-serial {display: flex;flex-direction: column;align-items: center;background-color: white;padding-right: 0.2em;padding-left: 0.2em;position: relative;}#sk-container-id-1 div.sk-item {position: relative;z-index: 1;}#sk-container-id-1 div.sk-parallel {display: flex;align-items: stretch;justify-content: center;background-color: white;position: relative;}#sk-container-id-1 div.sk-item::before, #sk-container-id-1 div.sk-parallel-item::before {content: \"\";position: absolute;border-left: 1px solid gray;box-sizing: border-box;top: 0;bottom: 0;left: 50%;z-index: -1;}#sk-container-id-1 div.sk-parallel-item {display: flex;flex-direction: column;z-index: 1;position: relative;background-color: white;}#sk-container-id-1 div.sk-parallel-item:first-child::after {align-self: flex-end;width: 50%;}#sk-container-id-1 div.sk-parallel-item:last-child::after {align-self: flex-start;width: 50%;}#sk-container-id-1 div.sk-parallel-item:only-child::after {width: 0;}#sk-container-id-1 div.sk-dashed-wrapped {border: 1px dashed gray;margin: 0 0.4em 0.5em 0.4em;box-sizing: border-box;padding-bottom: 0.4em;background-color: white;}#sk-container-id-1 div.sk-label label {font-family: monospace;font-weight: bold;display: inline-block;line-height: 1.2em;}#sk-container-id-1 div.sk-label-container {text-align: center;}#sk-container-id-1 div.sk-container {/* jupyter's `normalize.less` sets `[hidden] { display: none; }` but bootstrap.min.css set `[hidden] { display: none !important; }` so we also need the `!important` here to be able to override the default hidden behavior on the sphinx rendered scikit-learn.org. See: https://github.com/scikit-learn/scikit-learn/issues/21755 */display: inline-block !important;position: relative;}#sk-container-id-1 div.sk-text-repr-fallback {display: none;}</style><div id=\"sk-container-id-1\" class=\"sk-top-container\"><div class=\"sk-text-repr-fallback\"><pre>LinearRegression()</pre><b>In a Jupyter environment, please rerun this cell to show the HTML representation or trust the notebook. <br />On GitHub, the HTML representation is unable to render, please try loading this page with nbviewer.org.</b></div><div class=\"sk-container\" hidden><div class=\"sk-item\"><div class=\"sk-estimator sk-toggleable\"><input class=\"sk-toggleable__control sk-hidden--visually\" id=\"sk-estimator-id-1\" type=\"checkbox\" checked><label for=\"sk-estimator-id-1\" class=\"sk-toggleable__label sk-toggleable__label-arrow\">LinearRegression</label><div class=\"sk-toggleable__content\"><pre>LinearRegression()</pre></div></div></div></div></div>"
      ],
      "text/plain": [
       "LinearRegression()"
      ]
     },
     "execution_count": 11,
     "metadata": {},
     "output_type": "execute_result"
    }
   ],
   "source": [
    "from sklearn.linear_model import LinearRegression\n",
    "regressor = LinearRegression()\n",
    "print(regressor)\n",
    "regressor.fit(x_train,y_train)#Used to find the most accurate equation for our LR model as per the dataset"
   ]
  },
  {
   "cell_type": "code",
   "execution_count": 12,
   "id": "199a38d3",
   "metadata": {},
   "outputs": [
    {
     "name": "stdout",
     "output_type": "stream",
     "text": [
      "[35.34692478 35.34692504 35.34692513]\n",
      "[[ -129401.94474727  -129401.94486085  -129401.9447947  29420522.20500808\n",
      "  29420522.2146077  29420522.20208018]\n",
      " [ -129401.07491087  -129401.07502445  -129401.0749583  29421884.90392278\n",
      "  29421884.91352206 29421884.90099473]\n",
      " [ -129401.69083558  -129401.69094915  -129401.69088301 29421680.18258512\n",
      "  29421680.1921845  29421680.17965789]]\n"
     ]
    }
   ],
   "source": [
    "print(regressor.intercept_)\n",
    "print(regressor.coef_)"
   ]
  },
  {
   "cell_type": "code",
   "execution_count": 13,
   "id": "0f89f807",
   "metadata": {},
   "outputs": [
    {
     "name": "stdout",
     "output_type": "stream",
     "text": [
      "          phase A    Phase B    phase C\n",
      "102156  31.281216  31.281216  31.281216\n",
      "362402  57.750361  57.750517  57.751703\n",
      "210282  22.314154  22.314154  22.314154\n",
      "228784  22.314154  22.314154  22.314154\n",
      "278354  24.014371  24.014371  24.014371\n",
      "...           ...        ...        ...\n",
      "135180  40.961837  40.961837  40.961837\n",
      "260356  24.014371  24.014371  24.014371\n",
      "25750   24.291812  24.291812  24.291812\n",
      "225038  22.314154  22.314154  22.314154\n",
      "110678  31.281216  31.281216  31.281216\n",
      "\n",
      "[80018 rows x 3 columns]\n"
     ]
    }
   ],
   "source": [
    "column_names = [\"phase A\", \"Phase B\", \"phase C\"]\n",
    "y_test_df = pd.DataFrame(data=y_test, columns=column_names)\n",
    "print(y_test_df)"
   ]
  },
  {
   "cell_type": "code",
   "execution_count": 14,
   "id": "8c0c58dd",
   "metadata": {},
   "outputs": [],
   "source": [
    "y_test_a = y_test[\"phase A\"]\n",
    "y_test_b = y_test[\"Phase B\"]\n",
    "y_test_c = y_test[\"phase C\"]"
   ]
  },
  {
   "cell_type": "code",
   "execution_count": 15,
   "id": "eba5c36e",
   "metadata": {},
   "outputs": [
    {
     "name": "stdout",
     "output_type": "stream",
     "text": [
      "        Actual Phase A  Predicted Phase A  Actual Phase B  Predicted Phase B  \\\n",
      "102156       31.281216          35.355504       31.281216          35.355504   \n",
      "362402       57.750361          35.414135       57.750517          35.414136   \n",
      "210282       22.314154          35.373176       22.314154          35.373177   \n",
      "228784       22.314154          35.320674       22.314154          35.320673   \n",
      "278354       24.014371          35.346064       24.014371          35.346064   \n",
      "...                ...                ...             ...                ...   \n",
      "135180       40.961837          35.390745       40.961837          35.390746   \n",
      "260356       24.014371          35.368713       24.014371          35.368715   \n",
      "25750        24.291812          35.359895       24.291812          35.359895   \n",
      "225038       22.314154          35.355384       22.314154          35.355384   \n",
      "110678       31.281216          35.305901       31.281216          35.305900   \n",
      "\n",
      "        Actual Phase C  Predicted Phase C  \n",
      "102156       31.281216          35.355504  \n",
      "362402       57.751703          35.414135  \n",
      "210282       22.314154          35.373177  \n",
      "228784       22.314154          35.320673  \n",
      "278354       24.014371          35.346064  \n",
      "...                ...                ...  \n",
      "135180       40.961837          35.390747  \n",
      "260356       24.014371          35.368715  \n",
      "25750        24.291812          35.359895  \n",
      "225038       22.314154          35.355383  \n",
      "110678       31.281216          35.305900  \n",
      "\n",
      "[80018 rows x 6 columns]\n"
     ]
    }
   ],
   "source": [
    "y_test_predict = regressor.predict(x_test)\n",
    "y_test_predict_a = y_test_predict[:, 0]\n",
    "y_test_predict_b = y_test_predict[:, 1]\n",
    "y_test_predict_c = y_test_predict[:, 2]\n",
    "df_a = pd.DataFrame({\"Actual Phase A\": y_test_a, \"Predicted Phase A\": y_test_predict_a})\n",
    "df_b = pd.DataFrame({\"Actual Phase B\": y_test_b, \"Predicted Phase B\": y_test_predict_b})\n",
    "df_c = pd.DataFrame({\"Actual Phase C\": y_test_c, \"Predicted Phase C\": y_test_predict_c})\n",
    "comparison_df = pd.concat([df_a, df_b, df_c], axis=1)\n",
    "print(comparison_df)"
   ]
  },
  {
   "cell_type": "code",
   "execution_count": 16,
   "id": "3e8a6084",
   "metadata": {},
   "outputs": [
    {
     "name": "stdout",
     "output_type": "stream",
     "text": [
      "Calculating error(Test Dataset)-: \n",
      "\n",
      "Mean Absolute Error: 10.787867323289326\n",
      "Mean Squared Error: 150.25571673398028\n",
      "Root Mean Squared Error: 12.25788386035617\n"
     ]
    }
   ],
   "source": [
    "print(\"Calculating error(Test Dataset)-: \\n\")\n",
    "from sklearn import metrics\n",
    "print('Mean Absolute Error:', metrics.mean_absolute_error(y_test, y_test_predict))  \n",
    "print('Mean Squared Error:', metrics.mean_squared_error(y_test, y_test_predict))  \n",
    "print('Root Mean Squared Error:', np.sqrt(metrics.mean_squared_error(y_test, y_test_predict)))"
   ]
  },
  {
   "cell_type": "code",
   "execution_count": 17,
   "id": "28ed6541",
   "metadata": {},
   "outputs": [],
   "source": [
    "from sklearn.ensemble import RandomForestRegressor"
   ]
  },
  {
   "cell_type": "code",
   "execution_count": 18,
   "id": "95d4a08b",
   "metadata": {},
   "outputs": [
    {
     "data": {
      "text/html": [
       "<style>#sk-container-id-2 {color: black;}#sk-container-id-2 pre{padding: 0;}#sk-container-id-2 div.sk-toggleable {background-color: white;}#sk-container-id-2 label.sk-toggleable__label {cursor: pointer;display: block;width: 100%;margin-bottom: 0;padding: 0.3em;box-sizing: border-box;text-align: center;}#sk-container-id-2 label.sk-toggleable__label-arrow:before {content: \"▸\";float: left;margin-right: 0.25em;color: #696969;}#sk-container-id-2 label.sk-toggleable__label-arrow:hover:before {color: black;}#sk-container-id-2 div.sk-estimator:hover label.sk-toggleable__label-arrow:before {color: black;}#sk-container-id-2 div.sk-toggleable__content {max-height: 0;max-width: 0;overflow: hidden;text-align: left;background-color: #f0f8ff;}#sk-container-id-2 div.sk-toggleable__content pre {margin: 0.2em;color: black;border-radius: 0.25em;background-color: #f0f8ff;}#sk-container-id-2 input.sk-toggleable__control:checked~div.sk-toggleable__content {max-height: 200px;max-width: 100%;overflow: auto;}#sk-container-id-2 input.sk-toggleable__control:checked~label.sk-toggleable__label-arrow:before {content: \"▾\";}#sk-container-id-2 div.sk-estimator input.sk-toggleable__control:checked~label.sk-toggleable__label {background-color: #d4ebff;}#sk-container-id-2 div.sk-label input.sk-toggleable__control:checked~label.sk-toggleable__label {background-color: #d4ebff;}#sk-container-id-2 input.sk-hidden--visually {border: 0;clip: rect(1px 1px 1px 1px);clip: rect(1px, 1px, 1px, 1px);height: 1px;margin: -1px;overflow: hidden;padding: 0;position: absolute;width: 1px;}#sk-container-id-2 div.sk-estimator {font-family: monospace;background-color: #f0f8ff;border: 1px dotted black;border-radius: 0.25em;box-sizing: border-box;margin-bottom: 0.5em;}#sk-container-id-2 div.sk-estimator:hover {background-color: #d4ebff;}#sk-container-id-2 div.sk-parallel-item::after {content: \"\";width: 100%;border-bottom: 1px solid gray;flex-grow: 1;}#sk-container-id-2 div.sk-label:hover label.sk-toggleable__label {background-color: #d4ebff;}#sk-container-id-2 div.sk-serial::before {content: \"\";position: absolute;border-left: 1px solid gray;box-sizing: border-box;top: 0;bottom: 0;left: 50%;z-index: 0;}#sk-container-id-2 div.sk-serial {display: flex;flex-direction: column;align-items: center;background-color: white;padding-right: 0.2em;padding-left: 0.2em;position: relative;}#sk-container-id-2 div.sk-item {position: relative;z-index: 1;}#sk-container-id-2 div.sk-parallel {display: flex;align-items: stretch;justify-content: center;background-color: white;position: relative;}#sk-container-id-2 div.sk-item::before, #sk-container-id-2 div.sk-parallel-item::before {content: \"\";position: absolute;border-left: 1px solid gray;box-sizing: border-box;top: 0;bottom: 0;left: 50%;z-index: -1;}#sk-container-id-2 div.sk-parallel-item {display: flex;flex-direction: column;z-index: 1;position: relative;background-color: white;}#sk-container-id-2 div.sk-parallel-item:first-child::after {align-self: flex-end;width: 50%;}#sk-container-id-2 div.sk-parallel-item:last-child::after {align-self: flex-start;width: 50%;}#sk-container-id-2 div.sk-parallel-item:only-child::after {width: 0;}#sk-container-id-2 div.sk-dashed-wrapped {border: 1px dashed gray;margin: 0 0.4em 0.5em 0.4em;box-sizing: border-box;padding-bottom: 0.4em;background-color: white;}#sk-container-id-2 div.sk-label label {font-family: monospace;font-weight: bold;display: inline-block;line-height: 1.2em;}#sk-container-id-2 div.sk-label-container {text-align: center;}#sk-container-id-2 div.sk-container {/* jupyter's `normalize.less` sets `[hidden] { display: none; }` but bootstrap.min.css set `[hidden] { display: none !important; }` so we also need the `!important` here to be able to override the default hidden behavior on the sphinx rendered scikit-learn.org. See: https://github.com/scikit-learn/scikit-learn/issues/21755 */display: inline-block !important;position: relative;}#sk-container-id-2 div.sk-text-repr-fallback {display: none;}</style><div id=\"sk-container-id-2\" class=\"sk-top-container\"><div class=\"sk-text-repr-fallback\"><pre>RandomForestRegressor(max_depth=20)</pre><b>In a Jupyter environment, please rerun this cell to show the HTML representation or trust the notebook. <br />On GitHub, the HTML representation is unable to render, please try loading this page with nbviewer.org.</b></div><div class=\"sk-container\" hidden><div class=\"sk-item\"><div class=\"sk-estimator sk-toggleable\"><input class=\"sk-toggleable__control sk-hidden--visually\" id=\"sk-estimator-id-2\" type=\"checkbox\" checked><label for=\"sk-estimator-id-2\" class=\"sk-toggleable__label sk-toggleable__label-arrow\">RandomForestRegressor</label><div class=\"sk-toggleable__content\"><pre>RandomForestRegressor(max_depth=20)</pre></div></div></div></div></div>"
      ],
      "text/plain": [
       "RandomForestRegressor(max_depth=20)"
      ]
     },
     "execution_count": 18,
     "metadata": {},
     "output_type": "execute_result"
    }
   ],
   "source": [
    "rf=RandomForestRegressor(n_estimators=100, max_depth=20)\n",
    "rf.fit(x_train,y_train)"
   ]
  },
  {
   "cell_type": "code",
   "execution_count": 19,
   "id": "60e97cf5",
   "metadata": {},
   "outputs": [
    {
     "name": "stdout",
     "output_type": "stream",
     "text": [
      "        Actual Phase A  Predicted Phase A  Actual Phase B  Predicted Phase B  \\\n",
      "102156       31.281216          35.355504       31.281216          35.355504   \n",
      "362402       57.750361          35.414135       57.750517          35.414136   \n",
      "210282       22.314154          35.373176       22.314154          35.373177   \n",
      "228784       22.314154          35.320674       22.314154          35.320673   \n",
      "278354       24.014371          35.346064       24.014371          35.346064   \n",
      "...                ...                ...             ...                ...   \n",
      "135180       40.961837          35.390745       40.961837          35.390746   \n",
      "260356       24.014371          35.368713       24.014371          35.368715   \n",
      "25750        24.291812          35.359895       24.291812          35.359895   \n",
      "225038       22.314154          35.355384       22.314154          35.355384   \n",
      "110678       31.281216          35.305901       31.281216          35.305900   \n",
      "\n",
      "        Actual Phase C  Predicted Phase C  \n",
      "102156       31.281216          35.355504  \n",
      "362402       57.751703          35.414135  \n",
      "210282       22.314154          35.373177  \n",
      "228784       22.314154          35.320673  \n",
      "278354       24.014371          35.346064  \n",
      "...                ...                ...  \n",
      "135180       40.961837          35.390747  \n",
      "260356       24.014371          35.368715  \n",
      "25750        24.291812          35.359895  \n",
      "225038       22.314154          35.355383  \n",
      "110678       31.281216          35.305900  \n",
      "\n",
      "[80018 rows x 6 columns]\n"
     ]
    }
   ],
   "source": [
    "y_test_predict_rf = rf.predict(x_test)\n",
    "y_test_predict_a = y_test_predict[:, 0]\n",
    "y_test_predict_b = y_test_predict[:, 1]\n",
    "y_test_predict_c = y_test_predict[:, 2]\n",
    "df_a = pd.DataFrame({\"Actual Phase A\": y_test_a, \"Predicted Phase A\": y_test_predict_a})\n",
    "df_b = pd.DataFrame({\"Actual Phase B\": y_test_b, \"Predicted Phase B\": y_test_predict_b})\n",
    "df_c = pd.DataFrame({\"Actual Phase C\": y_test_c, \"Predicted Phase C\": y_test_predict_c})\n",
    "comparison_df = pd.concat([df_a, df_b, df_c], axis=1)\n",
    "print(comparison_df)"
   ]
  },
  {
   "cell_type": "code",
   "execution_count": 20,
   "id": "31577e67",
   "metadata": {},
   "outputs": [
    {
     "name": "stdout",
     "output_type": "stream",
     "text": [
      "Mean Absolute Error:  0.2682846014033864\n",
      "Mean Squared Error:  0.2682846014033864\n",
      "Root Mean Squared Error:  0.2682846014033864\n"
     ]
    }
   ],
   "source": [
    "from sklearn import metrics\n",
    "print(\"Mean Absolute Error: \",metrics.mean_absolute_error(y_test,y_test_predict_rf))\n",
    "print(\"Mean Squared Error: \",metrics.mean_absolute_error(y_test,y_test_predict_rf))\n",
    "print(\"Root Mean Squared Error: \",metrics.mean_absolute_error(y_test,y_test_predict_rf))"
   ]
  },
  {
   "cell_type": "code",
   "execution_count": 23,
   "id": "2f01d1c8",
   "metadata": {},
   "outputs": [],
   "source": [
    "import pandas as pd\n",
    "import numpy as np\n",
    "from IPython.display import display, HTML\n",
    "\n",
    "def predict_temperatures_from_csv(rf_model, csv_path):\n",
    "    # Read the CSV file into a DataFrame\n",
    "    df = pd.read_csv(csv_path)\n",
    "    \n",
    "    # Extract voltage and current columns\n",
    "    voltage_columns = [\"Vas\", \"Vbs\", \"Vcs\"]\n",
    "    current_columns = [\"Ias\", \"Ibs\", \"Ics\"]\n",
    "    \n",
    "    # Extract voltage and current values from the DataFrame\n",
    "    X = df[voltage_columns + current_columns]\n",
    "    \n",
    "    # Use the trained model to predict temperature values\n",
    "    temperature_predictions = rf_model.predict(X)\n",
    "    \n",
    "    # Create a DataFrame to store the predictions\n",
    "    predictions_df = pd.DataFrame(temperature_predictions, columns=[\"Predicted Phase A\", \"Predicted Phase B\", \"Predicted Phase C\"])\n",
    "    \n",
    "    # Calculate average predicted temperature across phases\n",
    "    predictions_df[\"Average Temperature\"] = predictions_df.mean(axis=1)\n",
    "    \n",
    "    # Concatenate the predictions DataFrame with the original DataFrame\n",
    "    result_df = pd.concat([df, predictions_df], axis=1)\n",
    "    \n",
    "    # Calculate Remaining Useful Life (RUL)\n",
    "    Lo = 20000\n",
    "    Tb = 155\n",
    "    Tc = result_df[\"Average Temperature\"]\n",
    "    result_df[\"RUL\"] = Lo * 2**((Tb - Tc) / 10)\n",
    "    \n",
    "    # Convert RUL from hours to years\n",
    "    result_df[\"RUL\"] /= (365 * 24)\n",
    "    \n",
    "    # Drop unnamed columns\n",
    "    result_df = result_df.drop(result_df.columns[result_df.columns.str.contains('Unnamed', case=False)], axis=1)\n",
    "    \n",
    "    # Display DataFrame with bold column headings\n",
    "    display(HTML(result_df.style.set_table_styles([{'selector': 'th', 'props': [('font-weight', 'bold')]}]).render()))\n",
    "    \n",
    "    return result_df"
   ]
  },
  {
   "cell_type": "code",
   "execution_count": 24,
   "id": "5f5824a0",
   "metadata": {},
   "outputs": [],
   "source": [
    "import numpy as np\n",
    "\n",
    "def predict_values(rf_model, v1, v2, v3, i1, i2, i3):\n",
    "    # Convert feature values to numpy array\n",
    "    user_input_array = np.array([v1, v2, v3, i1, i2, i3]).reshape(1, -1)\n",
    "    \n",
    "    # Make prediction using the trained Random Forest Regressor\n",
    "    predictions = rf_model.predict(user_input_array)\n",
    "    \n",
    "    # Calculate RUL\n",
    "    Lo = 20000\n",
    "    Tb = 155\n",
    "    Tc = np.mean(predictions)\n",
    "    RUL = (Lo * 2**((Tb - Tc) / 10)) / (365 * 24)\n",
    "    \n",
    "    # Output predicted values for Phase A, Phase B, and Phase C\n",
    "    print(f\"Predicted value for Temperature-Phase A: {predictions[0, 0]}, RUL: {RUL} years\")\n",
    "    print(f\"Predicted value for Temperature-Phase B: {predictions[0, 1]}, RUL: {RUL} years\")\n",
    "    print(f\"Predicted value for Temperature-Phase C: {predictions[0, 2]}, RUL: {RUL} years\")"
   ]
  }
 ],
 "metadata": {
  "kernelspec": {
   "display_name": "Python 3 (ipykernel)",
   "language": "python",
   "name": "python3"
  },
  "language_info": {
   "codemirror_mode": {
    "name": "ipython",
    "version": 3
   },
   "file_extension": ".py",
   "mimetype": "text/x-python",
   "name": "python",
   "nbconvert_exporter": "python",
   "pygments_lexer": "ipython3",
   "version": "3.11.4"
  }
 },
 "nbformat": 4,
 "nbformat_minor": 5
}
