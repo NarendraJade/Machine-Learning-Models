{
 "cells": [
  {
   "cell_type": "code",
   "execution_count": 1,
   "id": "d74bfb66",
   "metadata": {},
   "outputs": [],
   "source": [
    "import sklearn\n",
    "import pandas as pd\n",
    "import numpy as np"
   ]
  },
  {
   "cell_type": "code",
   "execution_count": 2,
   "id": "c778b757",
   "metadata": {},
   "outputs": [
    {
     "data": {
      "text/html": [
       "<div>\n",
       "<style scoped>\n",
       "    .dataframe tbody tr th:only-of-type {\n",
       "        vertical-align: middle;\n",
       "    }\n",
       "\n",
       "    .dataframe tbody tr th {\n",
       "        vertical-align: top;\n",
       "    }\n",
       "\n",
       "    .dataframe thead th {\n",
       "        text-align: right;\n",
       "    }\n",
       "</style>\n",
       "<table border=\"1\" class=\"dataframe\">\n",
       "  <thead>\n",
       "    <tr style=\"text-align: right;\">\n",
       "      <th></th>\n",
       "      <th>Vas_RMS</th>\n",
       "      <th>Vbs_RMS</th>\n",
       "      <th>Vcs_RMS</th>\n",
       "      <th>Ias_RMS</th>\n",
       "      <th>Ibs_RMS</th>\n",
       "      <th>Ics_RMS</th>\n",
       "      <th>phase A</th>\n",
       "      <th>Phase B</th>\n",
       "      <th>phase C</th>\n",
       "    </tr>\n",
       "  </thead>\n",
       "  <tbody>\n",
       "    <tr>\n",
       "      <th>0</th>\n",
       "      <td>160.951888</td>\n",
       "      <td>160.951888</td>\n",
       "      <td>160.951888</td>\n",
       "      <td>0.7273</td>\n",
       "      <td>0.7273</td>\n",
       "      <td>0.7273</td>\n",
       "      <td>24.291812</td>\n",
       "      <td>24.291812</td>\n",
       "      <td>24.291812</td>\n",
       "    </tr>\n",
       "    <tr>\n",
       "      <th>1</th>\n",
       "      <td>160.951888</td>\n",
       "      <td>160.951888</td>\n",
       "      <td>160.951888</td>\n",
       "      <td>0.7273</td>\n",
       "      <td>0.7273</td>\n",
       "      <td>0.7273</td>\n",
       "      <td>24.291812</td>\n",
       "      <td>24.291812</td>\n",
       "      <td>24.291812</td>\n",
       "    </tr>\n",
       "    <tr>\n",
       "      <th>2</th>\n",
       "      <td>160.951888</td>\n",
       "      <td>160.951888</td>\n",
       "      <td>160.951888</td>\n",
       "      <td>0.7273</td>\n",
       "      <td>0.7273</td>\n",
       "      <td>0.7273</td>\n",
       "      <td>24.291812</td>\n",
       "      <td>24.291812</td>\n",
       "      <td>24.291812</td>\n",
       "    </tr>\n",
       "    <tr>\n",
       "      <th>3</th>\n",
       "      <td>160.951888</td>\n",
       "      <td>160.951888</td>\n",
       "      <td>160.951888</td>\n",
       "      <td>0.7273</td>\n",
       "      <td>0.7273</td>\n",
       "      <td>0.7273</td>\n",
       "      <td>24.291812</td>\n",
       "      <td>24.291812</td>\n",
       "      <td>24.291812</td>\n",
       "    </tr>\n",
       "    <tr>\n",
       "      <th>4</th>\n",
       "      <td>160.951888</td>\n",
       "      <td>160.951888</td>\n",
       "      <td>160.951888</td>\n",
       "      <td>0.7273</td>\n",
       "      <td>0.7273</td>\n",
       "      <td>0.7273</td>\n",
       "      <td>24.291812</td>\n",
       "      <td>24.291812</td>\n",
       "      <td>24.291812</td>\n",
       "    </tr>\n",
       "  </tbody>\n",
       "</table>\n",
       "</div>"
      ],
      "text/plain": [
       "      Vas_RMS     Vbs_RMS     Vcs_RMS  Ias_RMS  Ibs_RMS  Ics_RMS    phase A  \\\n",
       "0  160.951888  160.951888  160.951888   0.7273   0.7273   0.7273  24.291812   \n",
       "1  160.951888  160.951888  160.951888   0.7273   0.7273   0.7273  24.291812   \n",
       "2  160.951888  160.951888  160.951888   0.7273   0.7273   0.7273  24.291812   \n",
       "3  160.951888  160.951888  160.951888   0.7273   0.7273   0.7273  24.291812   \n",
       "4  160.951888  160.951888  160.951888   0.7273   0.7273   0.7273  24.291812   \n",
       "\n",
       "     Phase B    phase C  \n",
       "0  24.291812  24.291812  \n",
       "1  24.291812  24.291812  \n",
       "2  24.291812  24.291812  \n",
       "3  24.291812  24.291812  \n",
       "4  24.291812  24.291812  "
      ]
     },
     "execution_count": 2,
     "metadata": {},
     "output_type": "execute_result"
    }
   ],
   "source": [
    "df = pd.read_csv(\"C:\\\\Users\\\\Admin\\\\Desktop\\\\PQD Database\\\\PQD_UnderVoltage_Database\\\\Symmetrical\\\\RMS\\\\PQD_UnderVoltage_Symmetrical_RMS_Database.csv\")\n",
    "df.head()"
   ]
  },
  {
   "cell_type": "code",
   "execution_count": 3,
   "id": "3b1cfdef",
   "metadata": {},
   "outputs": [
    {
     "data": {
      "text/html": [
       "<div>\n",
       "<style scoped>\n",
       "    .dataframe tbody tr th:only-of-type {\n",
       "        vertical-align: middle;\n",
       "    }\n",
       "\n",
       "    .dataframe tbody tr th {\n",
       "        vertical-align: top;\n",
       "    }\n",
       "\n",
       "    .dataframe thead th {\n",
       "        text-align: right;\n",
       "    }\n",
       "</style>\n",
       "<table border=\"1\" class=\"dataframe\">\n",
       "  <thead>\n",
       "    <tr style=\"text-align: right;\">\n",
       "      <th></th>\n",
       "      <th>Vas_RMS</th>\n",
       "      <th>Vbs_RMS</th>\n",
       "      <th>Vcs_RMS</th>\n",
       "      <th>Ias_RMS</th>\n",
       "      <th>Ibs_RMS</th>\n",
       "      <th>Ics_RMS</th>\n",
       "      <th>phase A</th>\n",
       "      <th>Phase B</th>\n",
       "      <th>phase C</th>\n",
       "    </tr>\n",
       "  </thead>\n",
       "  <tbody>\n",
       "    <tr>\n",
       "      <th>count</th>\n",
       "      <td>400090.000000</td>\n",
       "      <td>400090.000000</td>\n",
       "      <td>400090.000000</td>\n",
       "      <td>400090.000000</td>\n",
       "      <td>400090.000000</td>\n",
       "      <td>400090.000000</td>\n",
       "      <td>400090.000000</td>\n",
       "      <td>400090.000000</td>\n",
       "      <td>400090.000000</td>\n",
       "    </tr>\n",
       "    <tr>\n",
       "      <th>mean</th>\n",
       "      <td>156.716312</td>\n",
       "      <td>156.716312</td>\n",
       "      <td>156.716312</td>\n",
       "      <td>1.058712</td>\n",
       "      <td>1.058712</td>\n",
       "      <td>1.058712</td>\n",
       "      <td>35.360982</td>\n",
       "      <td>35.360982</td>\n",
       "      <td>35.360982</td>\n",
       "    </tr>\n",
       "    <tr>\n",
       "      <th>std</th>\n",
       "      <td>4.235581</td>\n",
       "      <td>4.235581</td>\n",
       "      <td>4.235581</td>\n",
       "      <td>0.366282</td>\n",
       "      <td>0.366282</td>\n",
       "      <td>0.366282</td>\n",
       "      <td>12.233830</td>\n",
       "      <td>12.233830</td>\n",
       "      <td>12.233830</td>\n",
       "    </tr>\n",
       "    <tr>\n",
       "      <th>min</th>\n",
       "      <td>152.480737</td>\n",
       "      <td>152.480737</td>\n",
       "      <td>152.480737</td>\n",
       "      <td>0.668088</td>\n",
       "      <td>0.668088</td>\n",
       "      <td>0.668088</td>\n",
       "      <td>22.314154</td>\n",
       "      <td>22.314154</td>\n",
       "      <td>22.314154</td>\n",
       "    </tr>\n",
       "    <tr>\n",
       "      <th>25%</th>\n",
       "      <td>152.480737</td>\n",
       "      <td>152.480737</td>\n",
       "      <td>152.480737</td>\n",
       "      <td>0.727300</td>\n",
       "      <td>0.727300</td>\n",
       "      <td>0.727300</td>\n",
       "      <td>24.291812</td>\n",
       "      <td>24.291812</td>\n",
       "      <td>24.291812</td>\n",
       "    </tr>\n",
       "    <tr>\n",
       "      <th>50%</th>\n",
       "      <td>156.716313</td>\n",
       "      <td>156.716313</td>\n",
       "      <td>156.716313</td>\n",
       "      <td>0.929500</td>\n",
       "      <td>0.929500</td>\n",
       "      <td>0.929500</td>\n",
       "      <td>31.045314</td>\n",
       "      <td>31.045300</td>\n",
       "      <td>31.045313</td>\n",
       "    </tr>\n",
       "    <tr>\n",
       "      <th>75%</th>\n",
       "      <td>160.951888</td>\n",
       "      <td>160.951888</td>\n",
       "      <td>160.951888</td>\n",
       "      <td>1.262835</td>\n",
       "      <td>1.262835</td>\n",
       "      <td>1.262835</td>\n",
       "      <td>42.178696</td>\n",
       "      <td>42.178696</td>\n",
       "      <td>42.178696</td>\n",
       "    </tr>\n",
       "    <tr>\n",
       "      <th>max</th>\n",
       "      <td>160.951888</td>\n",
       "      <td>160.951888</td>\n",
       "      <td>160.951888</td>\n",
       "      <td>1.733188</td>\n",
       "      <td>1.733188</td>\n",
       "      <td>1.733188</td>\n",
       "      <td>57.888463</td>\n",
       "      <td>57.888463</td>\n",
       "      <td>57.888463</td>\n",
       "    </tr>\n",
       "  </tbody>\n",
       "</table>\n",
       "</div>"
      ],
      "text/plain": [
       "             Vas_RMS        Vbs_RMS        Vcs_RMS        Ias_RMS  \\\n",
       "count  400090.000000  400090.000000  400090.000000  400090.000000   \n",
       "mean      156.716312     156.716312     156.716312       1.058712   \n",
       "std         4.235581       4.235581       4.235581       0.366282   \n",
       "min       152.480737     152.480737     152.480737       0.668088   \n",
       "25%       152.480737     152.480737     152.480737       0.727300   \n",
       "50%       156.716313     156.716313     156.716313       0.929500   \n",
       "75%       160.951888     160.951888     160.951888       1.262835   \n",
       "max       160.951888     160.951888     160.951888       1.733188   \n",
       "\n",
       "             Ibs_RMS        Ics_RMS        phase A        Phase B  \\\n",
       "count  400090.000000  400090.000000  400090.000000  400090.000000   \n",
       "mean        1.058712       1.058712      35.360982      35.360982   \n",
       "std         0.366282       0.366282      12.233830      12.233830   \n",
       "min         0.668088       0.668088      22.314154      22.314154   \n",
       "25%         0.727300       0.727300      24.291812      24.291812   \n",
       "50%         0.929500       0.929500      31.045314      31.045300   \n",
       "75%         1.262835       1.262835      42.178696      42.178696   \n",
       "max         1.733188       1.733188      57.888463      57.888463   \n",
       "\n",
       "             phase C  \n",
       "count  400090.000000  \n",
       "mean       35.360982  \n",
       "std        12.233830  \n",
       "min        22.314154  \n",
       "25%        24.291812  \n",
       "50%        31.045313  \n",
       "75%        42.178696  \n",
       "max        57.888463  "
      ]
     },
     "execution_count": 3,
     "metadata": {},
     "output_type": "execute_result"
    }
   ],
   "source": [
    "df.describe()"
   ]
  },
  {
   "cell_type": "code",
   "execution_count": 4,
   "id": "8014c540",
   "metadata": {},
   "outputs": [
    {
     "name": "stdout",
     "output_type": "stream",
     "text": [
      "<class 'pandas.core.frame.DataFrame'>\n",
      "RangeIndex: 400090 entries, 0 to 400089\n",
      "Data columns (total 9 columns):\n",
      " #   Column   Non-Null Count   Dtype  \n",
      "---  ------   --------------   -----  \n",
      " 0   Vas_RMS  400090 non-null  float64\n",
      " 1   Vbs_RMS  400090 non-null  float64\n",
      " 2   Vcs_RMS  400090 non-null  float64\n",
      " 3   Ias_RMS  400090 non-null  float64\n",
      " 4   Ibs_RMS  400090 non-null  float64\n",
      " 5   Ics_RMS  400090 non-null  float64\n",
      " 6   phase A  400090 non-null  float64\n",
      " 7   Phase B  400090 non-null  float64\n",
      " 8   phase C  400090 non-null  float64\n",
      "dtypes: float64(9)\n",
      "memory usage: 27.5 MB\n"
     ]
    }
   ],
   "source": [
    "df.info()"
   ]
  },
  {
   "cell_type": "code",
   "execution_count": 5,
   "id": "9e5cb382",
   "metadata": {},
   "outputs": [
    {
     "name": "stdout",
     "output_type": "stream",
     "text": [
      "           Vas_RMS     Vbs_RMS     Vcs_RMS   Ias_RMS   Ibs_RMS   Ics_RMS\n",
      "0       160.951888  160.951888  160.951888  0.727300  0.727300  0.727300\n",
      "1       160.951888  160.951888  160.951888  0.727300  0.727300  0.727300\n",
      "2       160.951888  160.951888  160.951888  0.727300  0.727300  0.727300\n",
      "3       160.951888  160.951888  160.951888  0.727300  0.727300  0.727300\n",
      "4       160.951888  160.951888  160.951888  0.727300  0.727300  0.727300\n",
      "...            ...         ...         ...       ...       ...       ...\n",
      "400085  152.480737  152.480737  152.480737  1.733188  1.733188  1.733188\n",
      "400086  152.480737  152.480737  152.480737  1.733188  1.733188  1.733188\n",
      "400087  152.480737  152.480737  152.480737  1.733188  1.733188  1.733188\n",
      "400088  152.480737  152.480737  152.480737  1.733188  1.733188  1.733188\n",
      "400089  152.480737  152.480737  152.480737  1.733188  1.733188  1.733188\n",
      "\n",
      "[400090 rows x 6 columns]\n"
     ]
    }
   ],
   "source": [
    "X = df[[\"Vas_RMS\",\"Vbs_RMS\",\"Vcs_RMS\",\"Ias_RMS\",\"Ibs_RMS\",\"Ics_RMS\"]]\n",
    "Y = df[[\"phase A\",\"Phase B\",\"phase C\"]]\n",
    "print(X)"
   ]
  },
  {
   "cell_type": "code",
   "execution_count": 6,
   "id": "e1dbc0e6",
   "metadata": {},
   "outputs": [
    {
     "name": "stdout",
     "output_type": "stream",
     "text": [
      "          phase A    Phase B    phase C\n",
      "0       24.291812  24.291812  24.291812\n",
      "1       24.291812  24.291812  24.291812\n",
      "2       24.291812  24.291812  24.291812\n",
      "3       24.291812  24.291812  24.291812\n",
      "4       24.291812  24.291812  24.291812\n",
      "...           ...        ...        ...\n",
      "400085  57.888463  57.888463  57.888463\n",
      "400086  57.888463  57.888463  57.888463\n",
      "400087  57.888463  57.888463  57.888463\n",
      "400088  57.888463  57.888463  57.888463\n",
      "400089  57.888463  57.888463  57.888463\n",
      "\n",
      "[400090 rows x 3 columns]\n"
     ]
    }
   ],
   "source": [
    "print(Y)"
   ]
  },
  {
   "cell_type": "code",
   "execution_count": 7,
   "id": "c23d883a",
   "metadata": {},
   "outputs": [
    {
     "name": "stdout",
     "output_type": "stream",
     "text": [
      "           Vas_RMS     Vbs_RMS     Vcs_RMS   Ias_RMS   Ibs_RMS   Ics_RMS\n",
      "63162   160.951888  160.951888  160.951888  0.766588  0.766588  0.766588\n",
      "6909    160.951888  160.951888  160.951888  0.727300  0.727300  0.727300\n",
      "216008  152.480737  152.480737  152.480737  0.668088  0.668088  0.668088\n",
      "300502  152.480737  152.480737  152.480737  0.922472  0.922472  0.922472\n",
      "153453  160.951888  160.951888  160.951888  1.226402  1.226402  1.226402\n",
      "...            ...         ...         ...       ...       ...       ...\n",
      "359783  152.480737  152.480737  152.480737  1.262835  1.262835  1.262835\n",
      "358083  152.480737  152.480737  152.480737  1.262835  1.262835  1.262835\n",
      "152315  160.951888  160.951888  160.951888  1.226402  1.226402  1.226402\n",
      "117952  160.951888  160.951888  160.951888  0.936563  0.936563  0.936563\n",
      "305711  152.480737  152.480737  152.480737  0.922472  0.922472  0.922472\n",
      "\n",
      "[320072 rows x 6 columns]\n"
     ]
    }
   ],
   "source": [
    "from sklearn.model_selection import train_test_split\n",
    "x_train, x_test, y_train, y_test = train_test_split(X,Y,test_size=0.2,random_state=0)\n",
    "#test size = 0.2 denotes that 20% of the data will be in the test state. Random_state provides the seed value.\n",
    "print(x_train)"
   ]
  },
  {
   "cell_type": "code",
   "execution_count": 8,
   "id": "81253bae",
   "metadata": {},
   "outputs": [
    {
     "name": "stdout",
     "output_type": "stream",
     "text": [
      "          phase A    Phase B    phase C\n",
      "63162   25.604051  25.604051  25.604051\n",
      "6909    24.291812  24.291812  24.291812\n",
      "216008  22.314154  22.314154  22.314154\n",
      "300502  30.810578  30.810578  30.810578\n",
      "153453  40.961838  40.961838  40.961838\n",
      "...           ...        ...        ...\n",
      "359783  42.178699  42.178699  42.178699\n",
      "358083  42.178699  42.178699  42.178699\n",
      "152315  40.961838  40.961838  40.961838\n",
      "117952  31.281216  31.281216  31.281216\n",
      "305711  30.810578  30.810578  30.810578\n",
      "\n",
      "[320072 rows x 3 columns]\n"
     ]
    }
   ],
   "source": [
    "print(y_train)"
   ]
  },
  {
   "cell_type": "code",
   "execution_count": 9,
   "id": "22af63c3",
   "metadata": {},
   "outputs": [
    {
     "name": "stdout",
     "output_type": "stream",
     "text": [
      "           Vas_RMS     Vbs_RMS     Vcs_RMS   Ias_RMS   Ibs_RMS   Ics_RMS\n",
      "102156  160.951888  160.951888  160.951888  0.936563  0.936563  0.936563\n",
      "362402  152.480737  152.480737  152.480737  1.729053  1.729057  1.729093\n",
      "210282  152.480737  152.480737  152.480737  0.668088  0.668088  0.668088\n",
      "228784  152.480737  152.480737  152.480737  0.668088  0.668088  0.668088\n",
      "278354  152.480737  152.480737  152.480737  0.718993  0.718993  0.718993\n",
      "...            ...         ...         ...       ...       ...       ...\n",
      "135180  160.951888  160.951888  160.951888  1.226402  1.226402  1.226402\n",
      "260356  152.480737  152.480737  152.480737  0.718993  0.718993  0.718993\n",
      "25750   160.951888  160.951888  160.951888  0.727300  0.727300  0.727300\n",
      "225038  152.480737  152.480737  152.480737  0.668088  0.668088  0.668088\n",
      "110678  160.951888  160.951888  160.951888  0.936563  0.936563  0.936563\n",
      "\n",
      "[80018 rows x 6 columns]\n"
     ]
    }
   ],
   "source": [
    "print(x_test)"
   ]
  },
  {
   "cell_type": "code",
   "execution_count": 10,
   "id": "eb19b5f6",
   "metadata": {},
   "outputs": [
    {
     "name": "stdout",
     "output_type": "stream",
     "text": [
      "          phase A    Phase B    phase C\n",
      "102156  31.281216  31.281216  31.281216\n",
      "362402  57.750361  57.750517  57.751703\n",
      "210282  22.314154  22.314154  22.314154\n",
      "228784  22.314154  22.314154  22.314154\n",
      "278354  24.014371  24.014371  24.014371\n",
      "...           ...        ...        ...\n",
      "135180  40.961837  40.961837  40.961837\n",
      "260356  24.014371  24.014371  24.014371\n",
      "25750   24.291812  24.291812  24.291812\n",
      "225038  22.314154  22.314154  22.314154\n",
      "110678  31.281216  31.281216  31.281216\n",
      "\n",
      "[80018 rows x 3 columns]\n"
     ]
    }
   ],
   "source": [
    "print(y_test)"
   ]
  },
  {
   "cell_type": "code",
   "execution_count": 11,
   "id": "23d45fdc",
   "metadata": {},
   "outputs": [
    {
     "name": "stdout",
     "output_type": "stream",
     "text": [
      "LinearRegression()\n"
     ]
    },
    {
     "data": {
      "text/html": [
       "<style>#sk-container-id-1 {color: black;}#sk-container-id-1 pre{padding: 0;}#sk-container-id-1 div.sk-toggleable {background-color: white;}#sk-container-id-1 label.sk-toggleable__label {cursor: pointer;display: block;width: 100%;margin-bottom: 0;padding: 0.3em;box-sizing: border-box;text-align: center;}#sk-container-id-1 label.sk-toggleable__label-arrow:before {content: \"▸\";float: left;margin-right: 0.25em;color: #696969;}#sk-container-id-1 label.sk-toggleable__label-arrow:hover:before {color: black;}#sk-container-id-1 div.sk-estimator:hover label.sk-toggleable__label-arrow:before {color: black;}#sk-container-id-1 div.sk-toggleable__content {max-height: 0;max-width: 0;overflow: hidden;text-align: left;background-color: #f0f8ff;}#sk-container-id-1 div.sk-toggleable__content pre {margin: 0.2em;color: black;border-radius: 0.25em;background-color: #f0f8ff;}#sk-container-id-1 input.sk-toggleable__control:checked~div.sk-toggleable__content {max-height: 200px;max-width: 100%;overflow: auto;}#sk-container-id-1 input.sk-toggleable__control:checked~label.sk-toggleable__label-arrow:before {content: \"▾\";}#sk-container-id-1 div.sk-estimator input.sk-toggleable__control:checked~label.sk-toggleable__label {background-color: #d4ebff;}#sk-container-id-1 div.sk-label input.sk-toggleable__control:checked~label.sk-toggleable__label {background-color: #d4ebff;}#sk-container-id-1 input.sk-hidden--visually {border: 0;clip: rect(1px 1px 1px 1px);clip: rect(1px, 1px, 1px, 1px);height: 1px;margin: -1px;overflow: hidden;padding: 0;position: absolute;width: 1px;}#sk-container-id-1 div.sk-estimator {font-family: monospace;background-color: #f0f8ff;border: 1px dotted black;border-radius: 0.25em;box-sizing: border-box;margin-bottom: 0.5em;}#sk-container-id-1 div.sk-estimator:hover {background-color: #d4ebff;}#sk-container-id-1 div.sk-parallel-item::after {content: \"\";width: 100%;border-bottom: 1px solid gray;flex-grow: 1;}#sk-container-id-1 div.sk-label:hover label.sk-toggleable__label {background-color: #d4ebff;}#sk-container-id-1 div.sk-serial::before {content: \"\";position: absolute;border-left: 1px solid gray;box-sizing: border-box;top: 0;bottom: 0;left: 50%;z-index: 0;}#sk-container-id-1 div.sk-serial {display: flex;flex-direction: column;align-items: center;background-color: white;padding-right: 0.2em;padding-left: 0.2em;position: relative;}#sk-container-id-1 div.sk-item {position: relative;z-index: 1;}#sk-container-id-1 div.sk-parallel {display: flex;align-items: stretch;justify-content: center;background-color: white;position: relative;}#sk-container-id-1 div.sk-item::before, #sk-container-id-1 div.sk-parallel-item::before {content: \"\";position: absolute;border-left: 1px solid gray;box-sizing: border-box;top: 0;bottom: 0;left: 50%;z-index: -1;}#sk-container-id-1 div.sk-parallel-item {display: flex;flex-direction: column;z-index: 1;position: relative;background-color: white;}#sk-container-id-1 div.sk-parallel-item:first-child::after {align-self: flex-end;width: 50%;}#sk-container-id-1 div.sk-parallel-item:last-child::after {align-self: flex-start;width: 50%;}#sk-container-id-1 div.sk-parallel-item:only-child::after {width: 0;}#sk-container-id-1 div.sk-dashed-wrapped {border: 1px dashed gray;margin: 0 0.4em 0.5em 0.4em;box-sizing: border-box;padding-bottom: 0.4em;background-color: white;}#sk-container-id-1 div.sk-label label {font-family: monospace;font-weight: bold;display: inline-block;line-height: 1.2em;}#sk-container-id-1 div.sk-label-container {text-align: center;}#sk-container-id-1 div.sk-container {/* jupyter's `normalize.less` sets `[hidden] { display: none; }` but bootstrap.min.css set `[hidden] { display: none !important; }` so we also need the `!important` here to be able to override the default hidden behavior on the sphinx rendered scikit-learn.org. See: https://github.com/scikit-learn/scikit-learn/issues/21755 */display: inline-block !important;position: relative;}#sk-container-id-1 div.sk-text-repr-fallback {display: none;}</style><div id=\"sk-container-id-1\" class=\"sk-top-container\"><div class=\"sk-text-repr-fallback\"><pre>LinearRegression()</pre><b>In a Jupyter environment, please rerun this cell to show the HTML representation or trust the notebook. <br />On GitHub, the HTML representation is unable to render, please try loading this page with nbviewer.org.</b></div><div class=\"sk-container\" hidden><div class=\"sk-item\"><div class=\"sk-estimator sk-toggleable\"><input class=\"sk-toggleable__control sk-hidden--visually\" id=\"sk-estimator-id-1\" type=\"checkbox\" checked><label for=\"sk-estimator-id-1\" class=\"sk-toggleable__label sk-toggleable__label-arrow\">LinearRegression</label><div class=\"sk-toggleable__content\"><pre>LinearRegression()</pre></div></div></div></div></div>"
      ],
      "text/plain": [
       "LinearRegression()"
      ]
     },
     "execution_count": 11,
     "metadata": {},
     "output_type": "execute_result"
    }
   ],
   "source": [
    "from sklearn.linear_model import LinearRegression\n",
    "regressor = LinearRegression()\n",
    "print(regressor)\n",
    "regressor.fit(x_train,y_train)#Used to find the most accurate equation for our LR model as per the dataset"
   ]
  },
  {
   "cell_type": "code",
   "execution_count": 12,
   "id": "33a2baf5",
   "metadata": {},
   "outputs": [
    {
     "name": "stdout",
     "output_type": "stream",
     "text": [
      "[3.47763702e-08 3.40756543e-08 3.48884086e-08]\n",
      "[[-7.11543951e-11 -7.11944182e-11 -7.11935472e-11  3.34000004e+01\n",
      "   2.64802575e-06 -3.04067681e-06]\n",
      " [-6.97668549e-11 -6.97442139e-11 -6.97411138e-11 -1.43755008e-06\n",
      "   3.33999949e+01  6.55340758e-06]\n",
      " [-7.17916958e-11 -7.17729024e-11 -7.17799345e-11 -2.87904534e-06\n",
      "   4.93580153e-06  3.33999979e+01]]\n"
     ]
    }
   ],
   "source": [
    "print(regressor.intercept_)\n",
    "print(regressor.coef_)"
   ]
  },
  {
   "cell_type": "code",
   "execution_count": 13,
   "id": "7fca46d5",
   "metadata": {},
   "outputs": [
    {
     "name": "stdout",
     "output_type": "stream",
     "text": [
      "          phase A    Phase B    phase C\n",
      "102156  31.281216  31.281216  31.281216\n",
      "362402  57.750361  57.750517  57.751703\n",
      "210282  22.314154  22.314154  22.314154\n",
      "228784  22.314154  22.314154  22.314154\n",
      "278354  24.014371  24.014371  24.014371\n",
      "...           ...        ...        ...\n",
      "135180  40.961837  40.961837  40.961837\n",
      "260356  24.014371  24.014371  24.014371\n",
      "25750   24.291812  24.291812  24.291812\n",
      "225038  22.314154  22.314154  22.314154\n",
      "110678  31.281216  31.281216  31.281216\n",
      "\n",
      "[80018 rows x 3 columns]\n"
     ]
    }
   ],
   "source": [
    "column_names = [\"phase A\", \"Phase B\", \"phase C\"]\n",
    "y_test_df = pd.DataFrame(data=y_test, columns=column_names)\n",
    "print(y_test_df)"
   ]
  },
  {
   "cell_type": "code",
   "execution_count": 14,
   "id": "390a542f",
   "metadata": {},
   "outputs": [],
   "source": [
    "y_test_a = y_test[\"phase A\"]\n",
    "y_test_b = y_test[\"Phase B\"]\n",
    "y_test_c = y_test[\"phase C\"]"
   ]
  },
  {
   "cell_type": "code",
   "execution_count": 15,
   "id": "f680def9",
   "metadata": {},
   "outputs": [
    {
     "name": "stdout",
     "output_type": "stream",
     "text": [
      "        Actual Phase A  Predicted Phase A  Actual Phase B  Predicted Phase B  \\\n",
      "102156       31.281216          31.281216       31.281216          31.281216   \n",
      "362402       57.750361          57.750361       57.750517          57.750517   \n",
      "210282       22.314154          22.314154       22.314154          22.314154   \n",
      "228784       22.314154          22.314154       22.314154          22.314154   \n",
      "278354       24.014371          24.014371       24.014371          24.014371   \n",
      "...                ...                ...             ...                ...   \n",
      "135180       40.961837          40.961837       40.961837          40.961837   \n",
      "260356       24.014371          24.014371       24.014371          24.014371   \n",
      "25750        24.291812          24.291812       24.291812          24.291812   \n",
      "225038       22.314154          22.314154       22.314154          22.314154   \n",
      "110678       31.281216          31.281216       31.281216          31.281216   \n",
      "\n",
      "        Actual Phase C  Predicted Phase C  \n",
      "102156       31.281216          31.281216  \n",
      "362402       57.751703          57.751703  \n",
      "210282       22.314154          22.314154  \n",
      "228784       22.314154          22.314154  \n",
      "278354       24.014371          24.014371  \n",
      "...                ...                ...  \n",
      "135180       40.961837          40.961837  \n",
      "260356       24.014371          24.014371  \n",
      "25750        24.291812          24.291812  \n",
      "225038       22.314154          22.314154  \n",
      "110678       31.281216          31.281216  \n",
      "\n",
      "[80018 rows x 6 columns]\n"
     ]
    }
   ],
   "source": [
    "y_test_predict = regressor.predict(x_test)\n",
    "y_test_predict_a = y_test_predict[:, 0]\n",
    "y_test_predict_b = y_test_predict[:, 1]\n",
    "y_test_predict_c = y_test_predict[:, 2]\n",
    "df_a = pd.DataFrame({\"Actual Phase A\": y_test_a, \"Predicted Phase A\": y_test_predict_a})\n",
    "df_b = pd.DataFrame({\"Actual Phase B\": y_test_b, \"Predicted Phase B\": y_test_predict_b})\n",
    "df_c = pd.DataFrame({\"Actual Phase C\": y_test_c, \"Predicted Phase C\": y_test_predict_c})\n",
    "comparison_df = pd.concat([df_a, df_b, df_c], axis=1)\n",
    "print(comparison_df)"
   ]
  },
  {
   "cell_type": "code",
   "execution_count": 16,
   "id": "2dcfa282",
   "metadata": {},
   "outputs": [
    {
     "name": "stdout",
     "output_type": "stream",
     "text": [
      "Calculating error(Test Dataset)-: \n",
      "\n",
      "Mean Absolute Error: 8.534665247625952e-09\n",
      "Mean Squared Error: 9.441532773140244e-17\n",
      "Root Mean Squared Error: 9.71675500007088e-09\n"
     ]
    }
   ],
   "source": [
    "print(\"Calculating error(Test Dataset)-: \\n\")\n",
    "from sklearn import metrics\n",
    "print('Mean Absolute Error:', metrics.mean_absolute_error(y_test, y_test_predict))  \n",
    "print('Mean Squared Error:', metrics.mean_squared_error(y_test, y_test_predict))  \n",
    "print('Root Mean Squared Error:', np.sqrt(metrics.mean_squared_error(y_test, y_test_predict)))"
   ]
  },
  {
   "cell_type": "code",
   "execution_count": 17,
   "id": "c3268e5f",
   "metadata": {},
   "outputs": [],
   "source": [
    "from sklearn.ensemble import RandomForestRegressor"
   ]
  },
  {
   "cell_type": "code",
   "execution_count": 18,
   "id": "dd0c87b4",
   "metadata": {},
   "outputs": [
    {
     "data": {
      "text/html": [
       "<style>#sk-container-id-2 {color: black;}#sk-container-id-2 pre{padding: 0;}#sk-container-id-2 div.sk-toggleable {background-color: white;}#sk-container-id-2 label.sk-toggleable__label {cursor: pointer;display: block;width: 100%;margin-bottom: 0;padding: 0.3em;box-sizing: border-box;text-align: center;}#sk-container-id-2 label.sk-toggleable__label-arrow:before {content: \"▸\";float: left;margin-right: 0.25em;color: #696969;}#sk-container-id-2 label.sk-toggleable__label-arrow:hover:before {color: black;}#sk-container-id-2 div.sk-estimator:hover label.sk-toggleable__label-arrow:before {color: black;}#sk-container-id-2 div.sk-toggleable__content {max-height: 0;max-width: 0;overflow: hidden;text-align: left;background-color: #f0f8ff;}#sk-container-id-2 div.sk-toggleable__content pre {margin: 0.2em;color: black;border-radius: 0.25em;background-color: #f0f8ff;}#sk-container-id-2 input.sk-toggleable__control:checked~div.sk-toggleable__content {max-height: 200px;max-width: 100%;overflow: auto;}#sk-container-id-2 input.sk-toggleable__control:checked~label.sk-toggleable__label-arrow:before {content: \"▾\";}#sk-container-id-2 div.sk-estimator input.sk-toggleable__control:checked~label.sk-toggleable__label {background-color: #d4ebff;}#sk-container-id-2 div.sk-label input.sk-toggleable__control:checked~label.sk-toggleable__label {background-color: #d4ebff;}#sk-container-id-2 input.sk-hidden--visually {border: 0;clip: rect(1px 1px 1px 1px);clip: rect(1px, 1px, 1px, 1px);height: 1px;margin: -1px;overflow: hidden;padding: 0;position: absolute;width: 1px;}#sk-container-id-2 div.sk-estimator {font-family: monospace;background-color: #f0f8ff;border: 1px dotted black;border-radius: 0.25em;box-sizing: border-box;margin-bottom: 0.5em;}#sk-container-id-2 div.sk-estimator:hover {background-color: #d4ebff;}#sk-container-id-2 div.sk-parallel-item::after {content: \"\";width: 100%;border-bottom: 1px solid gray;flex-grow: 1;}#sk-container-id-2 div.sk-label:hover label.sk-toggleable__label {background-color: #d4ebff;}#sk-container-id-2 div.sk-serial::before {content: \"\";position: absolute;border-left: 1px solid gray;box-sizing: border-box;top: 0;bottom: 0;left: 50%;z-index: 0;}#sk-container-id-2 div.sk-serial {display: flex;flex-direction: column;align-items: center;background-color: white;padding-right: 0.2em;padding-left: 0.2em;position: relative;}#sk-container-id-2 div.sk-item {position: relative;z-index: 1;}#sk-container-id-2 div.sk-parallel {display: flex;align-items: stretch;justify-content: center;background-color: white;position: relative;}#sk-container-id-2 div.sk-item::before, #sk-container-id-2 div.sk-parallel-item::before {content: \"\";position: absolute;border-left: 1px solid gray;box-sizing: border-box;top: 0;bottom: 0;left: 50%;z-index: -1;}#sk-container-id-2 div.sk-parallel-item {display: flex;flex-direction: column;z-index: 1;position: relative;background-color: white;}#sk-container-id-2 div.sk-parallel-item:first-child::after {align-self: flex-end;width: 50%;}#sk-container-id-2 div.sk-parallel-item:last-child::after {align-self: flex-start;width: 50%;}#sk-container-id-2 div.sk-parallel-item:only-child::after {width: 0;}#sk-container-id-2 div.sk-dashed-wrapped {border: 1px dashed gray;margin: 0 0.4em 0.5em 0.4em;box-sizing: border-box;padding-bottom: 0.4em;background-color: white;}#sk-container-id-2 div.sk-label label {font-family: monospace;font-weight: bold;display: inline-block;line-height: 1.2em;}#sk-container-id-2 div.sk-label-container {text-align: center;}#sk-container-id-2 div.sk-container {/* jupyter's `normalize.less` sets `[hidden] { display: none; }` but bootstrap.min.css set `[hidden] { display: none !important; }` so we also need the `!important` here to be able to override the default hidden behavior on the sphinx rendered scikit-learn.org. See: https://github.com/scikit-learn/scikit-learn/issues/21755 */display: inline-block !important;position: relative;}#sk-container-id-2 div.sk-text-repr-fallback {display: none;}</style><div id=\"sk-container-id-2\" class=\"sk-top-container\"><div class=\"sk-text-repr-fallback\"><pre>RandomForestRegressor(max_depth=20)</pre><b>In a Jupyter environment, please rerun this cell to show the HTML representation or trust the notebook. <br />On GitHub, the HTML representation is unable to render, please try loading this page with nbviewer.org.</b></div><div class=\"sk-container\" hidden><div class=\"sk-item\"><div class=\"sk-estimator sk-toggleable\"><input class=\"sk-toggleable__control sk-hidden--visually\" id=\"sk-estimator-id-2\" type=\"checkbox\" checked><label for=\"sk-estimator-id-2\" class=\"sk-toggleable__label sk-toggleable__label-arrow\">RandomForestRegressor</label><div class=\"sk-toggleable__content\"><pre>RandomForestRegressor(max_depth=20)</pre></div></div></div></div></div>"
      ],
      "text/plain": [
       "RandomForestRegressor(max_depth=20)"
      ]
     },
     "execution_count": 18,
     "metadata": {},
     "output_type": "execute_result"
    }
   ],
   "source": [
    "rf=RandomForestRegressor(n_estimators=100, max_depth=20)\n",
    "rf.fit(x_train,y_train)"
   ]
  },
  {
   "cell_type": "code",
   "execution_count": 19,
   "id": "9a5a44db",
   "metadata": {},
   "outputs": [
    {
     "name": "stdout",
     "output_type": "stream",
     "text": [
      "        Actual Phase A  Predicted Phase A  Actual Phase B  Predicted Phase B  \\\n",
      "102156       31.281216          31.281216       31.281216          31.281216   \n",
      "362402       57.750361          57.750361       57.750517          57.750517   \n",
      "210282       22.314154          22.314154       22.314154          22.314154   \n",
      "228784       22.314154          22.314154       22.314154          22.314154   \n",
      "278354       24.014371          24.014371       24.014371          24.014371   \n",
      "...                ...                ...             ...                ...   \n",
      "135180       40.961837          40.961837       40.961837          40.961837   \n",
      "260356       24.014371          24.014371       24.014371          24.014371   \n",
      "25750        24.291812          24.291812       24.291812          24.291812   \n",
      "225038       22.314154          22.314154       22.314154          22.314154   \n",
      "110678       31.281216          31.281216       31.281216          31.281216   \n",
      "\n",
      "        Actual Phase C  Predicted Phase C  \n",
      "102156       31.281216          31.281216  \n",
      "362402       57.751703          57.751703  \n",
      "210282       22.314154          22.314154  \n",
      "228784       22.314154          22.314154  \n",
      "278354       24.014371          24.014371  \n",
      "...                ...                ...  \n",
      "135180       40.961837          40.961837  \n",
      "260356       24.014371          24.014371  \n",
      "25750        24.291812          24.291812  \n",
      "225038       22.314154          22.314154  \n",
      "110678       31.281216          31.281216  \n",
      "\n",
      "[80018 rows x 6 columns]\n"
     ]
    }
   ],
   "source": [
    "y_test_predict_rf = rf.predict(x_test)\n",
    "y_test_predict_a = y_test_predict[:, 0]\n",
    "y_test_predict_b = y_test_predict[:, 1]\n",
    "y_test_predict_c = y_test_predict[:, 2]\n",
    "df_a = pd.DataFrame({\"Actual Phase A\": y_test_a, \"Predicted Phase A\": y_test_predict_a})\n",
    "df_b = pd.DataFrame({\"Actual Phase B\": y_test_b, \"Predicted Phase B\": y_test_predict_b})\n",
    "df_c = pd.DataFrame({\"Actual Phase C\": y_test_c, \"Predicted Phase C\": y_test_predict_c})\n",
    "comparison_df = pd.concat([df_a, df_b, df_c], axis=1)\n",
    "print(comparison_df)"
   ]
  },
  {
   "cell_type": "code",
   "execution_count": 20,
   "id": "8e5bffa7",
   "metadata": {},
   "outputs": [
    {
     "name": "stdout",
     "output_type": "stream",
     "text": [
      "Mean Absolute Error:  2.9109316266280816e-05\n",
      "Mean Squared Error:  2.9109316266280816e-05\n",
      "Root Mean Squared Error:  2.9109316266280816e-05\n"
     ]
    }
   ],
   "source": [
    "from sklearn import metrics\n",
    "print(\"Mean Absolute Error: \",metrics.mean_absolute_error(y_test,y_test_predict_rf))\n",
    "print(\"Mean Squared Error: \",metrics.mean_absolute_error(y_test,y_test_predict_rf))\n",
    "print(\"Root Mean Squared Error: \",metrics.mean_absolute_error(y_test,y_test_predict_rf))"
   ]
  },
  {
   "cell_type": "code",
   "execution_count": 23,
   "id": "612fbdba",
   "metadata": {},
   "outputs": [],
   "source": [
    "import pandas as pd\n",
    "from IPython.display import display, HTML\n",
    "\n",
    "def predict_temperatures_from_csv(rf_model, csv_path):\n",
    "    # Read the CSV file into a DataFrame\n",
    "    df = pd.read_csv(csv_path)\n",
    "    \n",
    "    # Extract voltage and current columns\n",
    "    voltage_columns = [\"Vas_RMS\", \"Vbs_RMS\", \"Vcs_RMS\"]\n",
    "    current_columns = [\"Ias_RMS\", \"Ibs_RMS\", \"Ics_RMS\"]\n",
    "    \n",
    "    # Extract voltage and current values from the DataFrame\n",
    "    X = df[voltage_columns + current_columns]\n",
    "    \n",
    "    # Use the trained model to predict temperature values\n",
    "    temperature_predictions = rf_model.predict(X)\n",
    "    \n",
    "    # Create a DataFrame to store the predictions\n",
    "    predictions_df = pd.DataFrame(temperature_predictions, columns=[\"Predicted Phase A\", \"Predicted Phase B\", \"Predicted Phase C\"])\n",
    "    \n",
    "    # Concatenate the predictions DataFrame with the original DataFrame\n",
    "    result_df = pd.concat([df, predictions_df], axis=1)\n",
    "    \n",
    "    # Calculate average predicted temperature across phases\n",
    "    result_df[\"Average Temperature\"] = result_df.mean(axis=1)\n",
    "    \n",
    "    # Calculate Remaining Useful Life (RUL)\n",
    "    Lo = 20000\n",
    "    Tb = 155\n",
    "    Tc = result_df[\"Average Temperature\"]\n",
    "    result_df[\"RUL\"] = Lo * 2**((Tb - Tc) / 10) / (365 * 24)\n",
    "    \n",
    "    # Drop unnamed columns\n",
    "    result_df = result_df.drop(result_df.columns[result_df.columns.str.contains('Unnamed', case=False)], axis=1)\n",
    "    \n",
    "    # Display DataFrame with bold column headings\n",
    "    display(HTML(result_df.style.set_table_styles([{'selector': 'th', 'props': [('font-weight', 'bold')]}]).render()))\n",
    "    \n",
    "    return result_df"
   ]
  },
  {
   "cell_type": "code",
   "execution_count": 24,
   "id": "b687ddba",
   "metadata": {},
   "outputs": [],
   "source": [
    "import numpy as np\n",
    "\n",
    "def predict_values(rf_model, v1, v2, v3, i1, i2, i3):\n",
    "    # Convert feature values to numpy array\n",
    "    user_input_array = np.array([v1, v2, v3, i1, i2, i3]).reshape(1, -1)\n",
    "    \n",
    "    # Make prediction using the trained Random Forest Regressor\n",
    "    predictions = rf_model.predict(user_input_array)\n",
    "    \n",
    "    # Calculate average predicted temperature across phases\n",
    "    average_temperature = np.mean(predictions)\n",
    "    \n",
    "    # Calculate RUL\n",
    "    Lo = 20000\n",
    "    Tb = 155\n",
    "    RUL = Lo * 2**((Tb - average_temperature) / 10) / (365 * 24)\n",
    "    \n",
    "    # Output predicted values for Phase A, Phase B, and Phase C along with RUL\n",
    "    print(f\"Predicted value for Temperature-Phase A: {predictions[0, 0]}, RUL: {RUL} years\")\n",
    "    print(f\"Predicted value for Temperature-Phase B: {predictions[0, 1]}, RUL: {RUL} years\")\n",
    "    print(f\"Predicted value for Temperature-Phase C: {predictions[0, 2]}, RUL: {RUL} years\")"
   ]
  }
 ],
 "metadata": {
  "kernelspec": {
   "display_name": "Python 3 (ipykernel)",
   "language": "python",
   "name": "python3"
  },
  "language_info": {
   "codemirror_mode": {
    "name": "ipython",
    "version": 3
   },
   "file_extension": ".py",
   "mimetype": "text/x-python",
   "name": "python",
   "nbconvert_exporter": "python",
   "pygments_lexer": "ipython3",
   "version": "3.11.4"
  }
 },
 "nbformat": 4,
 "nbformat_minor": 5
}
