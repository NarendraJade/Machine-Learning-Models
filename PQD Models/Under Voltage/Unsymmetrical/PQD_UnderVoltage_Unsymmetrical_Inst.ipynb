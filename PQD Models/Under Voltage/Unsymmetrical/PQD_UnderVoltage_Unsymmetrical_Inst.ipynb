{
 "cells": [
  {
   "cell_type": "code",
   "execution_count": 1,
   "id": "3b26ab7f",
   "metadata": {},
   "outputs": [],
   "source": [
    "import sklearn\n",
    "import pandas as pd\n",
    "import numpy as np"
   ]
  },
  {
   "cell_type": "code",
   "execution_count": 2,
   "id": "751d6e30",
   "metadata": {},
   "outputs": [
    {
     "data": {
      "text/html": [
       "<div>\n",
       "<style scoped>\n",
       "    .dataframe tbody tr th:only-of-type {\n",
       "        vertical-align: middle;\n",
       "    }\n",
       "\n",
       "    .dataframe tbody tr th {\n",
       "        vertical-align: top;\n",
       "    }\n",
       "\n",
       "    .dataframe thead th {\n",
       "        text-align: right;\n",
       "    }\n",
       "</style>\n",
       "<table border=\"1\" class=\"dataframe\">\n",
       "  <thead>\n",
       "    <tr style=\"text-align: right;\">\n",
       "      <th></th>\n",
       "      <th>Vas</th>\n",
       "      <th>Vbs</th>\n",
       "      <th>Vcs</th>\n",
       "      <th>Ias</th>\n",
       "      <th>Ibs</th>\n",
       "      <th>Ics</th>\n",
       "      <th>phase A</th>\n",
       "      <th>Phase B</th>\n",
       "      <th>phase C</th>\n",
       "    </tr>\n",
       "  </thead>\n",
       "  <tbody>\n",
       "    <tr>\n",
       "      <th>0</th>\n",
       "      <td>0.000000</td>\n",
       "      <td>-197.125000</td>\n",
       "      <td>197.125000</td>\n",
       "      <td>-2.404923</td>\n",
       "      <td>0.954006</td>\n",
       "      <td>1.450917</td>\n",
       "      <td>24.291812</td>\n",
       "      <td>24.291812</td>\n",
       "      <td>24.291812</td>\n",
       "    </tr>\n",
       "    <tr>\n",
       "      <th>1</th>\n",
       "      <td>0.000000</td>\n",
       "      <td>-197.125000</td>\n",
       "      <td>197.125000</td>\n",
       "      <td>-2.404923</td>\n",
       "      <td>0.954006</td>\n",
       "      <td>1.450917</td>\n",
       "      <td>24.291812</td>\n",
       "      <td>24.291812</td>\n",
       "      <td>24.291812</td>\n",
       "    </tr>\n",
       "    <tr>\n",
       "      <th>2</th>\n",
       "      <td>0.000000</td>\n",
       "      <td>-197.125000</td>\n",
       "      <td>197.125000</td>\n",
       "      <td>-2.404923</td>\n",
       "      <td>0.954006</td>\n",
       "      <td>1.450917</td>\n",
       "      <td>24.291812</td>\n",
       "      <td>24.291812</td>\n",
       "      <td>24.291812</td>\n",
       "    </tr>\n",
       "    <tr>\n",
       "      <th>3</th>\n",
       "      <td>7.149728</td>\n",
       "      <td>-200.602595</td>\n",
       "      <td>193.452867</td>\n",
       "      <td>-2.394725</td>\n",
       "      <td>0.883610</td>\n",
       "      <td>1.511115</td>\n",
       "      <td>24.291812</td>\n",
       "      <td>24.291812</td>\n",
       "      <td>24.291812</td>\n",
       "    </tr>\n",
       "    <tr>\n",
       "      <th>4</th>\n",
       "      <td>14.292400</td>\n",
       "      <td>-203.882219</td>\n",
       "      <td>189.589819</td>\n",
       "      <td>-2.382164</td>\n",
       "      <td>0.812342</td>\n",
       "      <td>1.569822</td>\n",
       "      <td>24.291812</td>\n",
       "      <td>24.291812</td>\n",
       "      <td>24.291812</td>\n",
       "    </tr>\n",
       "  </tbody>\n",
       "</table>\n",
       "</div>"
      ],
      "text/plain": [
       "         Vas         Vbs         Vcs       Ias       Ibs       Ics    phase A  \\\n",
       "0   0.000000 -197.125000  197.125000 -2.404923  0.954006  1.450917  24.291812   \n",
       "1   0.000000 -197.125000  197.125000 -2.404923  0.954006  1.450917  24.291812   \n",
       "2   0.000000 -197.125000  197.125000 -2.404923  0.954006  1.450917  24.291812   \n",
       "3   7.149728 -200.602595  193.452867 -2.394725  0.883610  1.511115  24.291812   \n",
       "4  14.292400 -203.882219  189.589819 -2.382164  0.812342  1.569822  24.291812   \n",
       "\n",
       "     Phase B    phase C  \n",
       "0  24.291812  24.291812  \n",
       "1  24.291812  24.291812  \n",
       "2  24.291812  24.291812  \n",
       "3  24.291812  24.291812  \n",
       "4  24.291812  24.291812  "
      ]
     },
     "execution_count": 2,
     "metadata": {},
     "output_type": "execute_result"
    }
   ],
   "source": [
    "df = pd.read_csv(\"C:\\\\Users\\\\Admin\\Desktop\\\\PQD Database\\\\PQD_UnderVoltage_Database\\\\Unsymmetrical\\\\Inst\\\\PQD_UnderVoltage_Unsymmetrical_Inst_Database.csv\")\n",
    "df.head()"
   ]
  },
  {
   "cell_type": "code",
   "execution_count": 3,
   "id": "7749e58c",
   "metadata": {},
   "outputs": [
    {
     "data": {
      "text/html": [
       "<div>\n",
       "<style scoped>\n",
       "    .dataframe tbody tr th:only-of-type {\n",
       "        vertical-align: middle;\n",
       "    }\n",
       "\n",
       "    .dataframe tbody tr th {\n",
       "        vertical-align: top;\n",
       "    }\n",
       "\n",
       "    .dataframe thead th {\n",
       "        text-align: right;\n",
       "    }\n",
       "</style>\n",
       "<table border=\"1\" class=\"dataframe\">\n",
       "  <thead>\n",
       "    <tr style=\"text-align: right;\">\n",
       "      <th></th>\n",
       "      <th>Vas</th>\n",
       "      <th>Vbs</th>\n",
       "      <th>Vcs</th>\n",
       "      <th>Ias</th>\n",
       "      <th>Ibs</th>\n",
       "      <th>Ics</th>\n",
       "      <th>phase A</th>\n",
       "      <th>Phase B</th>\n",
       "      <th>phase C</th>\n",
       "    </tr>\n",
       "  </thead>\n",
       "  <tbody>\n",
       "    <tr>\n",
       "      <th>count</th>\n",
       "      <td>8.001800e+05</td>\n",
       "      <td>800180.000000</td>\n",
       "      <td>800180.000000</td>\n",
       "      <td>800180.000000</td>\n",
       "      <td>800180.000000</td>\n",
       "      <td>800180.000000</td>\n",
       "      <td>800180.000000</td>\n",
       "      <td>800180.000000</td>\n",
       "      <td>800180.000000</td>\n",
       "    </tr>\n",
       "    <tr>\n",
       "      <th>mean</th>\n",
       "      <td>-1.747667e-13</td>\n",
       "      <td>-0.044927</td>\n",
       "      <td>0.046094</td>\n",
       "      <td>-0.000439</td>\n",
       "      <td>-0.000125</td>\n",
       "      <td>0.000754</td>\n",
       "      <td>27.138196</td>\n",
       "      <td>38.113065</td>\n",
       "      <td>42.377339</td>\n",
       "    </tr>\n",
       "    <tr>\n",
       "      <th>std</th>\n",
       "      <td>1.567560e+02</td>\n",
       "      <td>163.230152</td>\n",
       "      <td>167.354968</td>\n",
       "      <td>1.905168</td>\n",
       "      <td>2.411496</td>\n",
       "      <td>2.618754</td>\n",
       "      <td>10.634951</td>\n",
       "      <td>12.434595</td>\n",
       "      <td>14.040202</td>\n",
       "    </tr>\n",
       "    <tr>\n",
       "      <th>min</th>\n",
       "      <td>-2.276203e+02</td>\n",
       "      <td>-239.587224</td>\n",
       "      <td>-239.587224</td>\n",
       "      <td>-4.359466</td>\n",
       "      <td>-5.089255</td>\n",
       "      <td>-5.784600</td>\n",
       "      <td>14.930673</td>\n",
       "      <td>21.067098</td>\n",
       "      <td>24.291812</td>\n",
       "    </tr>\n",
       "    <tr>\n",
       "      <th>25%</th>\n",
       "      <td>-1.558168e+02</td>\n",
       "      <td>-162.628517</td>\n",
       "      <td>-167.550672</td>\n",
       "      <td>-1.686948</td>\n",
       "      <td>-2.146712</td>\n",
       "      <td>-2.317721</td>\n",
       "      <td>19.919925</td>\n",
       "      <td>28.775435</td>\n",
       "      <td>30.774510</td>\n",
       "    </tr>\n",
       "    <tr>\n",
       "      <th>50%</th>\n",
       "      <td>0.000000e+00</td>\n",
       "      <td>-2.258139</td>\n",
       "      <td>2.383591</td>\n",
       "      <td>-0.001063</td>\n",
       "      <td>-0.001833</td>\n",
       "      <td>0.002350</td>\n",
       "      <td>23.641739</td>\n",
       "      <td>35.390000</td>\n",
       "      <td>39.848796</td>\n",
       "    </tr>\n",
       "    <tr>\n",
       "      <th>75%</th>\n",
       "      <td>1.558168e+02</td>\n",
       "      <td>162.179727</td>\n",
       "      <td>167.639589</td>\n",
       "      <td>1.685193</td>\n",
       "      <td>2.146712</td>\n",
       "      <td>2.321409</td>\n",
       "      <td>31.639750</td>\n",
       "      <td>46.597563</td>\n",
       "      <td>51.558890</td>\n",
       "    </tr>\n",
       "    <tr>\n",
       "      <th>max</th>\n",
       "      <td>2.276203e+02</td>\n",
       "      <td>239.587224</td>\n",
       "      <td>239.587224</td>\n",
       "      <td>4.359466</td>\n",
       "      <td>5.089255</td>\n",
       "      <td>5.784600</td>\n",
       "      <td>54.293160</td>\n",
       "      <td>65.590595</td>\n",
       "      <td>76.339200</td>\n",
       "    </tr>\n",
       "  </tbody>\n",
       "</table>\n",
       "</div>"
      ],
      "text/plain": [
       "                Vas            Vbs            Vcs            Ias  \\\n",
       "count  8.001800e+05  800180.000000  800180.000000  800180.000000   \n",
       "mean  -1.747667e-13      -0.044927       0.046094      -0.000439   \n",
       "std    1.567560e+02     163.230152     167.354968       1.905168   \n",
       "min   -2.276203e+02    -239.587224    -239.587224      -4.359466   \n",
       "25%   -1.558168e+02    -162.628517    -167.550672      -1.686948   \n",
       "50%    0.000000e+00      -2.258139       2.383591      -0.001063   \n",
       "75%    1.558168e+02     162.179727     167.639589       1.685193   \n",
       "max    2.276203e+02     239.587224     239.587224       4.359466   \n",
       "\n",
       "                 Ibs            Ics        phase A        Phase B  \\\n",
       "count  800180.000000  800180.000000  800180.000000  800180.000000   \n",
       "mean       -0.000125       0.000754      27.138196      38.113065   \n",
       "std         2.411496       2.618754      10.634951      12.434595   \n",
       "min        -5.089255      -5.784600      14.930673      21.067098   \n",
       "25%        -2.146712      -2.317721      19.919925      28.775435   \n",
       "50%        -0.001833       0.002350      23.641739      35.390000   \n",
       "75%         2.146712       2.321409      31.639750      46.597563   \n",
       "max         5.089255       5.784600      54.293160      65.590595   \n",
       "\n",
       "             phase C  \n",
       "count  800180.000000  \n",
       "mean       42.377339  \n",
       "std        14.040202  \n",
       "min        24.291812  \n",
       "25%        30.774510  \n",
       "50%        39.848796  \n",
       "75%        51.558890  \n",
       "max        76.339200  "
      ]
     },
     "execution_count": 3,
     "metadata": {},
     "output_type": "execute_result"
    }
   ],
   "source": [
    "df.describe()"
   ]
  },
  {
   "cell_type": "code",
   "execution_count": 4,
   "id": "6edec7af",
   "metadata": {},
   "outputs": [
    {
     "name": "stdout",
     "output_type": "stream",
     "text": [
      "<class 'pandas.core.frame.DataFrame'>\n",
      "RangeIndex: 800180 entries, 0 to 800179\n",
      "Data columns (total 9 columns):\n",
      " #   Column   Non-Null Count   Dtype  \n",
      "---  ------   --------------   -----  \n",
      " 0   Vas      800180 non-null  float64\n",
      " 1   Vbs      800180 non-null  float64\n",
      " 2   Vcs      800180 non-null  float64\n",
      " 3   Ias      800180 non-null  float64\n",
      " 4   Ibs      800180 non-null  float64\n",
      " 5   Ics      800180 non-null  float64\n",
      " 6   phase A  800180 non-null  float64\n",
      " 7   Phase B  800180 non-null  float64\n",
      " 8   phase C  800180 non-null  float64\n",
      "dtypes: float64(9)\n",
      "memory usage: 54.9 MB\n"
     ]
    }
   ],
   "source": [
    "df.info()"
   ]
  },
  {
   "cell_type": "code",
   "execution_count": 5,
   "id": "2525c28b",
   "metadata": {},
   "outputs": [
    {
     "name": "stdout",
     "output_type": "stream",
     "text": [
      "              Vas         Vbs         Vcs       Ias       Ibs       Ics\n",
      "0        0.000000 -197.125000  197.125000 -2.404923  0.954006  1.450917\n",
      "1        0.000000 -197.125000  197.125000 -2.404923  0.954006  1.450917\n",
      "2        0.000000 -197.125000  197.125000 -2.404923  0.954006  1.450917\n",
      "3        7.149728 -200.602595  193.452867 -2.394725  0.883610  1.511115\n",
      "4       14.292400 -203.882219  189.589819 -2.382164  0.812342  1.569822\n",
      "...           ...         ...         ...       ...       ...       ...\n",
      "800175 -27.026899 -190.848857  220.878745 -1.965649 -1.895966  4.853113\n",
      "800176 -20.293547 -195.304915  217.853301 -1.894800 -2.043465  4.862962\n",
      "800177 -13.540168 -199.568231  214.612862 -1.822080 -2.188942  4.868007\n",
      "800178  -6.773426 -203.634597  211.160626 -1.747563 -2.332252  4.868242\n",
      "800179   0.000000 -207.500000  207.500000 -1.671322 -2.473255  4.863667\n",
      "\n",
      "[800180 rows x 6 columns]\n"
     ]
    }
   ],
   "source": [
    "X = df[[\"Vas\",\"Vbs\",\"Vcs\",\"Ias\",\"Ibs\",\"Ics\"]]\n",
    "Y = df[[\"phase A\",\"Phase B\",\"phase C\"]]\n",
    "print(X)"
   ]
  },
  {
   "cell_type": "code",
   "execution_count": 6,
   "id": "65bf6a19",
   "metadata": {},
   "outputs": [
    {
     "name": "stdout",
     "output_type": "stream",
     "text": [
      "          phase A    Phase B    phase C\n",
      "0       24.291812  24.291812  24.291812\n",
      "1       24.291812  24.291812  24.291812\n",
      "2       24.291812  24.291812  24.291812\n",
      "3       24.291812  24.291812  24.291812\n",
      "4       24.291812  24.291812  24.291812\n",
      "...           ...        ...        ...\n",
      "800175  32.741476  65.590595  62.154812\n",
      "800176  32.741476  65.590595  62.154812\n",
      "800177  32.741476  65.590595  62.154812\n",
      "800178  32.741476  65.590595  62.154812\n",
      "800179  32.741476  65.590595  62.154812\n",
      "\n",
      "[800180 rows x 3 columns]\n"
     ]
    }
   ],
   "source": [
    "print(Y)"
   ]
  },
  {
   "cell_type": "code",
   "execution_count": 7,
   "id": "58eebdc8",
   "metadata": {},
   "outputs": [
    {
     "name": "stdout",
     "output_type": "stream",
     "text": [
      "               Vas         Vbs         Vcs       Ias       Ibs       Ics\n",
      "400511  127.941612 -238.956909  104.281529 -2.039650 -0.818493  2.531965\n",
      "397551  200.497304  -31.501392 -187.773236  3.633041 -2.509698 -2.415472\n",
      "341534  211.820742  -70.916911 -156.559813  2.449861 -2.650310 -0.704955\n",
      "215657   53.627568 -207.696689  171.187913 -1.952720  0.924385  3.116666\n",
      "57646   195.922396 -198.305987    2.383591 -0.263826 -2.026743  2.290569\n",
      "...            ...         ...         ...       ...       ...       ...\n",
      "359783  -20.293547  196.067971 -195.304915  1.443102  1.176727 -4.844918\n",
      "152315  133.791881   92.581534 -226.373416  3.356759 -0.825176 -2.531582\n",
      "117952 -165.928089  217.905393  -51.977304  0.139152  2.415628 -2.554780\n",
      "435829 -188.260365  215.716703  -17.547899  1.537913  1.738581 -2.561062\n",
      "305711  208.865588 -150.875630  -64.433286  0.779462 -2.386545  1.703028\n",
      "\n",
      "[640144 rows x 6 columns]\n"
     ]
    }
   ],
   "source": [
    "from sklearn.model_selection import train_test_split\n",
    "x_train, x_test, y_train, y_test = train_test_split(X,Y,test_size=0.2,random_state=0)\n",
    "#test size = 0.2 denotes that 20% of the data will be in the test state. Random_state provides the seed value.\n",
    "print(x_train)"
   ]
  },
  {
   "cell_type": "code",
   "execution_count": 8,
   "id": "c22288f2",
   "metadata": {},
   "outputs": [
    {
     "name": "stdout",
     "output_type": "stream",
     "text": [
      "               Vas         Vbs         Vcs       Ias       Ibs       Ics\n",
      "400511  127.941612 -238.956909  104.281529 -2.039650 -0.818493  2.531965\n",
      "397551  200.497304  -31.501392 -187.773236  3.633041 -2.509698 -2.415472\n",
      "341534  211.820742  -70.916911 -156.559813  2.449861 -2.650310 -0.704955\n",
      "215657   53.627568 -207.696689  171.187913 -1.952720  0.924385  3.116666\n",
      "57646   195.922396 -198.305987    2.383591 -0.263826 -2.026743  2.290569\n",
      "...            ...         ...         ...       ...       ...       ...\n",
      "359783  -20.293547  196.067971 -195.304915  1.443102  1.176727 -4.844918\n",
      "152315  133.791881   92.581534 -226.373416  3.356759 -0.825176 -2.531582\n",
      "117952 -165.928089  217.905393  -51.977304  0.139152  2.415628 -2.554780\n",
      "435829 -188.260365  215.716703  -17.547899  1.537913  1.738581 -2.561062\n",
      "305711  208.865588 -150.875630  -64.433286  0.779462 -2.386545  1.703028\n",
      "\n",
      "[640144 rows x 6 columns]\n"
     ]
    }
   ],
   "source": [
    "from sklearn.model_selection import train_test_split\n",
    "x_train, x_test, y_train, y_test = train_test_split(X,Y,test_size=0.2,random_state=0)\n",
    "#test size = 0.2 denotes that 20% of the data will be in the test state. Random_state provides the seed value.\n",
    "print(x_train)"
   ]
  },
  {
   "cell_type": "code",
   "execution_count": 9,
   "id": "2bf32581",
   "metadata": {},
   "outputs": [
    {
     "name": "stdout",
     "output_type": "stream",
     "text": [
      "          phase A    Phase B    phase C\n",
      "400511  21.809985  29.832563  26.953389\n",
      "397551  43.322173  46.791915  76.339200\n",
      "341534  29.170490  33.433232  61.902212\n",
      "215657  17.107665  22.635533  37.311429\n",
      "57646   25.604051  25.604051  25.604051\n",
      "...           ...        ...        ...\n",
      "359783  29.170490  33.433232  61.902212\n",
      "152315  40.961838  40.961838  40.961838\n",
      "117952  31.281216  31.281216  31.281216\n",
      "435829  21.809984  29.832563  26.953389\n",
      "305711  19.451493  24.653294  50.666402\n",
      "\n",
      "[640144 rows x 3 columns]\n"
     ]
    }
   ],
   "source": [
    "print(y_train)"
   ]
  },
  {
   "cell_type": "code",
   "execution_count": 10,
   "id": "76ceacc9",
   "metadata": {},
   "outputs": [
    {
     "name": "stdout",
     "output_type": "stream",
     "text": [
      "                 Vas         Vbs         Vcs       Ias       Ibs       Ics\n",
      "352131  2.155339e+02 -101.901001 -126.258799  2.228603 -2.841549  0.054932\n",
      "287427 -2.004973e+02   31.501392  187.773236 -1.783383  2.243350  0.832162\n",
      "264333  1.617542e+02   42.622893 -227.085654  1.488988 -2.035196 -1.327257\n",
      "450811 -5.660688e+01  230.774099 -171.187913  1.950695  0.603385 -2.626444\n",
      "593083 -2.275080e+02  126.258799  113.223334 -2.931516  4.148156 -0.119126\n",
      "...              ...         ...         ...       ...       ...       ...\n",
      "289827 -2.004973e+02   31.501392  187.773236 -1.783384  2.243350  0.832163\n",
      "497732  1.337919e+02 -238.287806   97.454247 -0.944786 -2.382911  2.966512\n",
      "208796 -2.155339e+02  113.632919  113.223334  0.430272  1.781143 -1.796697\n",
      "246199 -2.104470e+02  145.961755   71.650282  0.001064  1.900224 -1.923987\n",
      "392589  2.377580e-11  186.750000 -207.500000  1.672940  1.822382 -5.776329\n",
      "\n",
      "[160036 rows x 6 columns]\n"
     ]
    }
   ],
   "source": [
    "print(x_test)"
   ]
  },
  {
   "cell_type": "code",
   "execution_count": 11,
   "id": "38bc3672",
   "metadata": {},
   "outputs": [
    {
     "name": "stdout",
     "output_type": "stream",
     "text": [
      "          phase A    Phase B    phase C\n",
      "352131  29.170490  33.433232  61.902212\n",
      "287427  19.451481  24.653284  50.666386\n",
      "264333  15.284894  21.067159  42.431502\n",
      "450811  20.076073  31.970889  29.257898\n",
      "593083  42.195607  58.625519  56.847126\n",
      "...           ...        ...        ...\n",
      "289827  19.451490  24.653292  50.666399\n",
      "497732  22.991666  37.620581  35.214771\n",
      "208796  17.107665  22.635533  37.311429\n",
      "246199  15.284894  21.067159  42.431500\n",
      "392589  43.322173  46.791915  76.339200\n",
      "\n",
      "[160036 rows x 3 columns]\n"
     ]
    }
   ],
   "source": [
    "print(y_test)"
   ]
  },
  {
   "cell_type": "code",
   "execution_count": 12,
   "id": "4686148a",
   "metadata": {},
   "outputs": [
    {
     "name": "stdout",
     "output_type": "stream",
     "text": [
      "LinearRegression()\n"
     ]
    },
    {
     "data": {
      "text/html": [
       "<style>#sk-container-id-1 {color: black;}#sk-container-id-1 pre{padding: 0;}#sk-container-id-1 div.sk-toggleable {background-color: white;}#sk-container-id-1 label.sk-toggleable__label {cursor: pointer;display: block;width: 100%;margin-bottom: 0;padding: 0.3em;box-sizing: border-box;text-align: center;}#sk-container-id-1 label.sk-toggleable__label-arrow:before {content: \"▸\";float: left;margin-right: 0.25em;color: #696969;}#sk-container-id-1 label.sk-toggleable__label-arrow:hover:before {color: black;}#sk-container-id-1 div.sk-estimator:hover label.sk-toggleable__label-arrow:before {color: black;}#sk-container-id-1 div.sk-toggleable__content {max-height: 0;max-width: 0;overflow: hidden;text-align: left;background-color: #f0f8ff;}#sk-container-id-1 div.sk-toggleable__content pre {margin: 0.2em;color: black;border-radius: 0.25em;background-color: #f0f8ff;}#sk-container-id-1 input.sk-toggleable__control:checked~div.sk-toggleable__content {max-height: 200px;max-width: 100%;overflow: auto;}#sk-container-id-1 input.sk-toggleable__control:checked~label.sk-toggleable__label-arrow:before {content: \"▾\";}#sk-container-id-1 div.sk-estimator input.sk-toggleable__control:checked~label.sk-toggleable__label {background-color: #d4ebff;}#sk-container-id-1 div.sk-label input.sk-toggleable__control:checked~label.sk-toggleable__label {background-color: #d4ebff;}#sk-container-id-1 input.sk-hidden--visually {border: 0;clip: rect(1px 1px 1px 1px);clip: rect(1px, 1px, 1px, 1px);height: 1px;margin: -1px;overflow: hidden;padding: 0;position: absolute;width: 1px;}#sk-container-id-1 div.sk-estimator {font-family: monospace;background-color: #f0f8ff;border: 1px dotted black;border-radius: 0.25em;box-sizing: border-box;margin-bottom: 0.5em;}#sk-container-id-1 div.sk-estimator:hover {background-color: #d4ebff;}#sk-container-id-1 div.sk-parallel-item::after {content: \"\";width: 100%;border-bottom: 1px solid gray;flex-grow: 1;}#sk-container-id-1 div.sk-label:hover label.sk-toggleable__label {background-color: #d4ebff;}#sk-container-id-1 div.sk-serial::before {content: \"\";position: absolute;border-left: 1px solid gray;box-sizing: border-box;top: 0;bottom: 0;left: 50%;z-index: 0;}#sk-container-id-1 div.sk-serial {display: flex;flex-direction: column;align-items: center;background-color: white;padding-right: 0.2em;padding-left: 0.2em;position: relative;}#sk-container-id-1 div.sk-item {position: relative;z-index: 1;}#sk-container-id-1 div.sk-parallel {display: flex;align-items: stretch;justify-content: center;background-color: white;position: relative;}#sk-container-id-1 div.sk-item::before, #sk-container-id-1 div.sk-parallel-item::before {content: \"\";position: absolute;border-left: 1px solid gray;box-sizing: border-box;top: 0;bottom: 0;left: 50%;z-index: -1;}#sk-container-id-1 div.sk-parallel-item {display: flex;flex-direction: column;z-index: 1;position: relative;background-color: white;}#sk-container-id-1 div.sk-parallel-item:first-child::after {align-self: flex-end;width: 50%;}#sk-container-id-1 div.sk-parallel-item:last-child::after {align-self: flex-start;width: 50%;}#sk-container-id-1 div.sk-parallel-item:only-child::after {width: 0;}#sk-container-id-1 div.sk-dashed-wrapped {border: 1px dashed gray;margin: 0 0.4em 0.5em 0.4em;box-sizing: border-box;padding-bottom: 0.4em;background-color: white;}#sk-container-id-1 div.sk-label label {font-family: monospace;font-weight: bold;display: inline-block;line-height: 1.2em;}#sk-container-id-1 div.sk-label-container {text-align: center;}#sk-container-id-1 div.sk-container {/* jupyter's `normalize.less` sets `[hidden] { display: none; }` but bootstrap.min.css set `[hidden] { display: none !important; }` so we also need the `!important` here to be able to override the default hidden behavior on the sphinx rendered scikit-learn.org. See: https://github.com/scikit-learn/scikit-learn/issues/21755 */display: inline-block !important;position: relative;}#sk-container-id-1 div.sk-text-repr-fallback {display: none;}</style><div id=\"sk-container-id-1\" class=\"sk-top-container\"><div class=\"sk-text-repr-fallback\"><pre>LinearRegression()</pre><b>In a Jupyter environment, please rerun this cell to show the HTML representation or trust the notebook. <br />On GitHub, the HTML representation is unable to render, please try loading this page with nbviewer.org.</b></div><div class=\"sk-container\" hidden><div class=\"sk-item\"><div class=\"sk-estimator sk-toggleable\"><input class=\"sk-toggleable__control sk-hidden--visually\" id=\"sk-estimator-id-1\" type=\"checkbox\" checked><label for=\"sk-estimator-id-1\" class=\"sk-toggleable__label sk-toggleable__label-arrow\">LinearRegression</label><div class=\"sk-toggleable__content\"><pre>LinearRegression()</pre></div></div></div></div></div>"
      ],
      "text/plain": [
       "LinearRegression()"
      ]
     },
     "execution_count": 12,
     "metadata": {},
     "output_type": "execute_result"
    }
   ],
   "source": [
    "from sklearn.linear_model import LinearRegression\n",
    "regressor = LinearRegression()\n",
    "print(regressor)\n",
    "regressor.fit(x_train,y_train)#Used to find the most accurate equation for our LR model as per the dataset"
   ]
  },
  {
   "cell_type": "code",
   "execution_count": 13,
   "id": "2b130232",
   "metadata": {},
   "outputs": [
    {
     "name": "stdout",
     "output_type": "stream",
     "text": [
      "[27.13652647 38.11328432 42.38253971]\n",
      "[[-0.00114524 -0.00120893 -0.00113781  0.01778171  0.01455804  0.00937147]\n",
      " [-0.00146638 -0.0013877  -0.00133845  0.02032796  0.00960144  0.0106645 ]\n",
      " [-0.0061889  -0.00603408 -0.00602971  0.06877662  0.05134119  0.05318031]]\n"
     ]
    }
   ],
   "source": [
    "print(regressor.intercept_)\n",
    "print(regressor.coef_)"
   ]
  },
  {
   "cell_type": "code",
   "execution_count": 14,
   "id": "ff04bfb4",
   "metadata": {},
   "outputs": [
    {
     "name": "stdout",
     "output_type": "stream",
     "text": [
      "          phase A    Phase B    phase C\n",
      "352131  29.170490  33.433232  61.902212\n",
      "287427  19.451481  24.653284  50.666386\n",
      "264333  15.284894  21.067159  42.431502\n",
      "450811  20.076073  31.970889  29.257898\n",
      "593083  42.195607  58.625519  56.847126\n",
      "...           ...        ...        ...\n",
      "289827  19.451490  24.653292  50.666399\n",
      "497732  22.991666  37.620581  35.214771\n",
      "208796  17.107665  22.635533  37.311429\n",
      "246199  15.284894  21.067159  42.431500\n",
      "392589  43.322173  46.791915  76.339200\n",
      "\n",
      "[160036 rows x 3 columns]\n"
     ]
    }
   ],
   "source": [
    "column_names = [\"phase A\", \"Phase B\", \"phase C\"]\n",
    "y_test_df = pd.DataFrame(data=y_test, columns=column_names)\n",
    "print(y_test_df)"
   ]
  },
  {
   "cell_type": "code",
   "execution_count": 15,
   "id": "021201ef",
   "metadata": {},
   "outputs": [],
   "source": [
    "y_test_a = y_test[\"phase A\"]\n",
    "y_test_b = y_test[\"Phase B\"]\n",
    "y_test_c = y_test[\"phase C\"]"
   ]
  },
  {
   "cell_type": "code",
   "execution_count": 16,
   "id": "c42848e6",
   "metadata": {},
   "outputs": [
    {
     "name": "stdout",
     "output_type": "stream",
     "text": [
      "        Actual Phase A  Predicted Phase A  Actual Phase B  Predicted Phase B  \\\n",
      "352131       29.170490          27.155314       33.433232          38.126236   \n",
      "287427       19.451481          27.123156       24.653284          38.106410   \n",
      "264333       15.284894          27.142542       21.067159          38.117460   \n",
      "450811       20.076073          27.136002       31.970889          38.122610   \n",
      "593083       42.195607          27.122758       58.625519          38.099109   \n",
      "...                ...                ...             ...                ...   \n",
      "289827       19.451490          27.123156       24.653292          38.106410   \n",
      "497732       22.991666          27.136801       37.620581          38.106881   \n",
      "208796       17.107665          27.133907       22.635533          38.126793   \n",
      "246199       15.284894          27.129209       21.067159          38.121175   \n",
      "392589       43.322173          27.149000       46.791915          38.121763   \n",
      "\n",
      "        Actual Phase C  Predicted Phase C  \n",
      "352131       61.902212          42.435112  \n",
      "287427       50.666386          42.337875  \n",
      "264333       42.431502          42.420863  \n",
      "450811       29.257898          42.398043  \n",
      "593083       56.847126          42.351022  \n",
      "...                ...                ...  \n",
      "289827       50.666399          42.337875  \n",
      "497732       35.214771          42.375182  \n",
      "208796       37.311429          42.373574  \n",
      "246199       42.431500          42.367515  \n",
      "392589       76.339200          42.408274  \n",
      "\n",
      "[160036 rows x 6 columns]\n"
     ]
    }
   ],
   "source": [
    "y_test_predict = regressor.predict(x_test)\n",
    "y_test_predict_a = y_test_predict[:, 0]\n",
    "y_test_predict_b = y_test_predict[:, 1]\n",
    "y_test_predict_c = y_test_predict[:, 2]\n",
    "df_a = pd.DataFrame({\"Actual Phase A\": y_test_a, \"Predicted Phase A\": y_test_predict_a})\n",
    "df_b = pd.DataFrame({\"Actual Phase B\": y_test_b, \"Predicted Phase B\": y_test_predict_b})\n",
    "df_c = pd.DataFrame({\"Actual Phase C\": y_test_c, \"Predicted Phase C\": y_test_predict_c})\n",
    "comparison_df = pd.concat([df_a, df_b, df_c], axis=1)\n",
    "print(comparison_df)"
   ]
  },
  {
   "cell_type": "code",
   "execution_count": 17,
   "id": "fbeea470",
   "metadata": {},
   "outputs": [
    {
     "name": "stdout",
     "output_type": "stream",
     "text": [
      "Calculating error(Test Dataset)-: \n",
      "\n",
      "Mean Absolute Error: 10.27239732539733\n",
      "Mean Squared Error: 154.75963606997064\n",
      "Root Mean Squared Error: 12.44024260494829\n"
     ]
    }
   ],
   "source": [
    "print(\"Calculating error(Test Dataset)-: \\n\")\n",
    "from sklearn import metrics\n",
    "print('Mean Absolute Error:', metrics.mean_absolute_error(y_test, y_test_predict))  \n",
    "print('Mean Squared Error:', metrics.mean_squared_error(y_test, y_test_predict))  \n",
    "print('Root Mean Squared Error:', np.sqrt(metrics.mean_squared_error(y_test, y_test_predict)))"
   ]
  },
  {
   "cell_type": "code",
   "execution_count": 18,
   "id": "22b61116",
   "metadata": {},
   "outputs": [],
   "source": [
    "from sklearn.ensemble import RandomForestRegressor"
   ]
  },
  {
   "cell_type": "code",
   "execution_count": 19,
   "id": "872a564e",
   "metadata": {},
   "outputs": [
    {
     "data": {
      "text/html": [
       "<style>#sk-container-id-2 {color: black;}#sk-container-id-2 pre{padding: 0;}#sk-container-id-2 div.sk-toggleable {background-color: white;}#sk-container-id-2 label.sk-toggleable__label {cursor: pointer;display: block;width: 100%;margin-bottom: 0;padding: 0.3em;box-sizing: border-box;text-align: center;}#sk-container-id-2 label.sk-toggleable__label-arrow:before {content: \"▸\";float: left;margin-right: 0.25em;color: #696969;}#sk-container-id-2 label.sk-toggleable__label-arrow:hover:before {color: black;}#sk-container-id-2 div.sk-estimator:hover label.sk-toggleable__label-arrow:before {color: black;}#sk-container-id-2 div.sk-toggleable__content {max-height: 0;max-width: 0;overflow: hidden;text-align: left;background-color: #f0f8ff;}#sk-container-id-2 div.sk-toggleable__content pre {margin: 0.2em;color: black;border-radius: 0.25em;background-color: #f0f8ff;}#sk-container-id-2 input.sk-toggleable__control:checked~div.sk-toggleable__content {max-height: 200px;max-width: 100%;overflow: auto;}#sk-container-id-2 input.sk-toggleable__control:checked~label.sk-toggleable__label-arrow:before {content: \"▾\";}#sk-container-id-2 div.sk-estimator input.sk-toggleable__control:checked~label.sk-toggleable__label {background-color: #d4ebff;}#sk-container-id-2 div.sk-label input.sk-toggleable__control:checked~label.sk-toggleable__label {background-color: #d4ebff;}#sk-container-id-2 input.sk-hidden--visually {border: 0;clip: rect(1px 1px 1px 1px);clip: rect(1px, 1px, 1px, 1px);height: 1px;margin: -1px;overflow: hidden;padding: 0;position: absolute;width: 1px;}#sk-container-id-2 div.sk-estimator {font-family: monospace;background-color: #f0f8ff;border: 1px dotted black;border-radius: 0.25em;box-sizing: border-box;margin-bottom: 0.5em;}#sk-container-id-2 div.sk-estimator:hover {background-color: #d4ebff;}#sk-container-id-2 div.sk-parallel-item::after {content: \"\";width: 100%;border-bottom: 1px solid gray;flex-grow: 1;}#sk-container-id-2 div.sk-label:hover label.sk-toggleable__label {background-color: #d4ebff;}#sk-container-id-2 div.sk-serial::before {content: \"\";position: absolute;border-left: 1px solid gray;box-sizing: border-box;top: 0;bottom: 0;left: 50%;z-index: 0;}#sk-container-id-2 div.sk-serial {display: flex;flex-direction: column;align-items: center;background-color: white;padding-right: 0.2em;padding-left: 0.2em;position: relative;}#sk-container-id-2 div.sk-item {position: relative;z-index: 1;}#sk-container-id-2 div.sk-parallel {display: flex;align-items: stretch;justify-content: center;background-color: white;position: relative;}#sk-container-id-2 div.sk-item::before, #sk-container-id-2 div.sk-parallel-item::before {content: \"\";position: absolute;border-left: 1px solid gray;box-sizing: border-box;top: 0;bottom: 0;left: 50%;z-index: -1;}#sk-container-id-2 div.sk-parallel-item {display: flex;flex-direction: column;z-index: 1;position: relative;background-color: white;}#sk-container-id-2 div.sk-parallel-item:first-child::after {align-self: flex-end;width: 50%;}#sk-container-id-2 div.sk-parallel-item:last-child::after {align-self: flex-start;width: 50%;}#sk-container-id-2 div.sk-parallel-item:only-child::after {width: 0;}#sk-container-id-2 div.sk-dashed-wrapped {border: 1px dashed gray;margin: 0 0.4em 0.5em 0.4em;box-sizing: border-box;padding-bottom: 0.4em;background-color: white;}#sk-container-id-2 div.sk-label label {font-family: monospace;font-weight: bold;display: inline-block;line-height: 1.2em;}#sk-container-id-2 div.sk-label-container {text-align: center;}#sk-container-id-2 div.sk-container {/* jupyter's `normalize.less` sets `[hidden] { display: none; }` but bootstrap.min.css set `[hidden] { display: none !important; }` so we also need the `!important` here to be able to override the default hidden behavior on the sphinx rendered scikit-learn.org. See: https://github.com/scikit-learn/scikit-learn/issues/21755 */display: inline-block !important;position: relative;}#sk-container-id-2 div.sk-text-repr-fallback {display: none;}</style><div id=\"sk-container-id-2\" class=\"sk-top-container\"><div class=\"sk-text-repr-fallback\"><pre>RandomForestRegressor(max_depth=20)</pre><b>In a Jupyter environment, please rerun this cell to show the HTML representation or trust the notebook. <br />On GitHub, the HTML representation is unable to render, please try loading this page with nbviewer.org.</b></div><div class=\"sk-container\" hidden><div class=\"sk-item\"><div class=\"sk-estimator sk-toggleable\"><input class=\"sk-toggleable__control sk-hidden--visually\" id=\"sk-estimator-id-2\" type=\"checkbox\" checked><label for=\"sk-estimator-id-2\" class=\"sk-toggleable__label sk-toggleable__label-arrow\">RandomForestRegressor</label><div class=\"sk-toggleable__content\"><pre>RandomForestRegressor(max_depth=20)</pre></div></div></div></div></div>"
      ],
      "text/plain": [
       "RandomForestRegressor(max_depth=20)"
      ]
     },
     "execution_count": 19,
     "metadata": {},
     "output_type": "execute_result"
    }
   ],
   "source": [
    "rf=RandomForestRegressor(n_estimators=100, max_depth=20)\n",
    "rf.fit(x_train,y_train)"
   ]
  },
  {
   "cell_type": "code",
   "execution_count": 22,
   "id": "22257c46",
   "metadata": {},
   "outputs": [
    {
     "name": "stdout",
     "output_type": "stream",
     "text": [
      "        Actual Phase A  Predicted Phase A  Actual Phase B  Predicted Phase B  \\\n",
      "352131       29.170490          28.777696       33.433232          33.555190   \n",
      "287427       19.451481          18.957063       24.653284          27.750848   \n",
      "264333       15.284894          18.695253       21.067159          29.048363   \n",
      "450811       20.076073          20.102838       31.970889          32.408074   \n",
      "593083       42.195607          42.195495       58.625519          58.625406   \n",
      "...                ...                ...             ...                ...   \n",
      "289827       19.451490          18.957063       24.653292          27.750848   \n",
      "497732       22.991666          22.991664       37.620581          37.620578   \n",
      "208796       17.107665          18.558195       22.635533          24.743525   \n",
      "246199       15.284894          18.897625       21.067159          25.981369   \n",
      "392589       43.322173          43.316881       46.791915          46.786777   \n",
      "\n",
      "        Actual Phase C  Predicted Phase C  \n",
      "352131       61.902212          59.716984  \n",
      "287427       50.666386          36.073907  \n",
      "264333       42.431502          35.394326  \n",
      "450811       29.257898          29.048559  \n",
      "593083       56.847126          56.847010  \n",
      "...                ...                ...  \n",
      "289827       50.666399          36.073907  \n",
      "497732       35.214771          35.214769  \n",
      "208796       37.311429          38.899844  \n",
      "246199       42.431500          37.932404  \n",
      "392589       76.339200          76.333914  \n",
      "\n",
      "[160036 rows x 6 columns]\n"
     ]
    }
   ],
   "source": [
    "y_test_predict_rf = rf.predict(x_test)\n",
    "y_test_predict_a = y_test_predict[:, 0]\n",
    "y_test_predict_b = y_test_predict[:, 1]\n",
    "y_test_predict_c = y_test_predict[:, 2]\n",
    "df_a = pd.DataFrame({\"Actual Phase A\": y_test_a, \"Predicted Phase A\": y_test_predict_a})\n",
    "df_b = pd.DataFrame({\"Actual Phase B\": y_test_b, \"Predicted Phase B\": y_test_predict_b})\n",
    "df_c = pd.DataFrame({\"Actual Phase C\": y_test_c, \"Predicted Phase C\": y_test_predict_c})\n",
    "comparison_df = pd.concat([df_a, df_b, df_c], axis=1)\n",
    "print(comparison_df)"
   ]
  },
  {
   "cell_type": "code",
   "execution_count": 23,
   "id": "e8ba31e6",
   "metadata": {},
   "outputs": [
    {
     "name": "stdout",
     "output_type": "stream",
     "text": [
      "Mean Absolute Error:  1.0299485269348645\n",
      "Mean Squared Error:  1.0299485269348645\n",
      "Root Mean Squared Error:  1.0299485269348645\n"
     ]
    }
   ],
   "source": [
    "from sklearn import metrics\n",
    "print(\"Mean Absolute Error: \",metrics.mean_absolute_error(y_test,y_test_predict_rf))\n",
    "print(\"Mean Squared Error: \",metrics.mean_absolute_error(y_test,y_test_predict_rf))\n",
    "print(\"Root Mean Squared Error: \",metrics.mean_absolute_error(y_test,y_test_predict_rf))"
   ]
  },
  {
   "cell_type": "code",
   "execution_count": 33,
   "id": "09c5afd8",
   "metadata": {},
   "outputs": [],
   "source": [
    "import pandas as pd\n",
    "import numpy as np\n",
    "from IPython.display import display, HTML\n",
    "\n",
    "def predict_temperatures_from_csv(rf_model, csv_path):\n",
    "    # Read the CSV file into a DataFrame\n",
    "    df = pd.read_csv(csv_path)\n",
    "    \n",
    "    # Extract voltage and current columns\n",
    "    voltage_columns = [\"Vas\", \"Vbs\", \"Vcs\"]\n",
    "    current_columns = [\"Ias\", \"Ibs\", \"Ics\"]\n",
    "    \n",
    "    # Extract voltage and current values from the DataFrame\n",
    "    X = df[voltage_columns + current_columns]\n",
    "    \n",
    "    # Use the trained model to predict temperature values\n",
    "    temperature_predictions = rf_model.predict(X)\n",
    "    \n",
    "    # Create a DataFrame to store the predictions\n",
    "    predictions_df = pd.DataFrame(temperature_predictions, columns=[\"Predicted Phase A\", \"Predicted Phase B\", \"Predicted Phase C\"])\n",
    "    \n",
    "    # Calculate average predicted temperature across phases\n",
    "    predictions_df[\"Average Temperature\"] = predictions_df.mean(axis=1)\n",
    "    \n",
    "    # Concatenate the predictions DataFrame with the original DataFrame\n",
    "    result_df = pd.concat([df, predictions_df], axis=1)\n",
    "    \n",
    "    # Calculate Remaining Useful Life (RUL)\n",
    "    Lo = 20000\n",
    "    Tb = 155\n",
    "    Tc = result_df[\"Average Temperature\"]\n",
    "    result_df[\"RUL\"] = Lo * 2**((Tb - Tc) / 10)\n",
    "    \n",
    "    # Convert RUL from hours to years\n",
    "    result_df[\"RUL\"] /= (365 * 24)\n",
    "    \n",
    "    # Drop unnamed columns\n",
    "    result_df = result_df.drop(result_df.columns[result_df.columns.str.contains('Unnamed', case=False)], axis=1)\n",
    "    \n",
    "    # Display DataFrame with bold column headings\n",
    "    display(HTML(result_df.style.set_table_styles([{'selector': 'th', 'props': [('font-weight', 'bold')]}]).render()))\n",
    "    \n",
    "    return result_df"
   ]
  },
  {
   "cell_type": "code",
   "execution_count": 34,
   "id": "bd11cc7a",
   "metadata": {},
   "outputs": [],
   "source": [
    "import numpy as np\n",
    "\n",
    "def predict_values(rf_model, v1, v2, v3, i1, i2, i3):\n",
    "    # Convert feature values to numpy array\n",
    "    user_input_array = np.array([v1, v2, v3, i1, i2, i3]).reshape(1, -1)\n",
    "    \n",
    "    # Make prediction using the trained Random Forest Regressor\n",
    "    predictions = rf_model.predict(user_input_array)\n",
    "    \n",
    "    # Calculate RUL\n",
    "    Lo = 20000\n",
    "    Tb = 155\n",
    "    Tc = np.mean(predictions)\n",
    "    RUL = (Lo * 2**((Tb - Tc) / 10)) / (365 * 24)\n",
    "    \n",
    "    # Output predicted values for Phase A, Phase B, and Phase C\n",
    "    print(f\"Predicted value for Temperature-Phase A: {predictions[0, 0]}, RUL: {RUL} years\")\n",
    "    print(f\"Predicted value for Temperature-Phase B: {predictions[0, 1]}, RUL: {RUL} years\")\n",
    "    print(f\"Predicted value for Temperature-Phase C: {predictions[0, 2]}, RUL: {RUL} years\")"
   ]
  }
 ],
 "metadata": {
  "kernelspec": {
   "display_name": "Python 3 (ipykernel)",
   "language": "python",
   "name": "python3"
  },
  "language_info": {
   "codemirror_mode": {
    "name": "ipython",
    "version": 3
   },
   "file_extension": ".py",
   "mimetype": "text/x-python",
   "name": "python",
   "nbconvert_exporter": "python",
   "pygments_lexer": "ipython3",
   "version": "3.11.4"
  }
 },
 "nbformat": 4,
 "nbformat_minor": 5
}
