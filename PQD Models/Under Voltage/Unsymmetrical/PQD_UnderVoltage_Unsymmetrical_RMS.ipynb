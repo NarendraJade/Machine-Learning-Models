{
 "cells": [
  {
   "cell_type": "code",
   "execution_count": 1,
   "id": "b6018439",
   "metadata": {},
   "outputs": [],
   "source": [
    "import sklearn\n",
    "import pandas as pd\n",
    "import numpy as np"
   ]
  },
  {
   "cell_type": "code",
   "execution_count": 2,
   "id": "73d735de",
   "metadata": {},
   "outputs": [
    {
     "data": {
      "text/html": [
       "<div>\n",
       "<style scoped>\n",
       "    .dataframe tbody tr th:only-of-type {\n",
       "        vertical-align: middle;\n",
       "    }\n",
       "\n",
       "    .dataframe tbody tr th {\n",
       "        vertical-align: top;\n",
       "    }\n",
       "\n",
       "    .dataframe thead th {\n",
       "        text-align: right;\n",
       "    }\n",
       "</style>\n",
       "<table border=\"1\" class=\"dataframe\">\n",
       "  <thead>\n",
       "    <tr style=\"text-align: right;\">\n",
       "      <th></th>\n",
       "      <th>Vas_RMS</th>\n",
       "      <th>Vbs_RMS</th>\n",
       "      <th>Vcs_RMS</th>\n",
       "      <th>Ias_RMS</th>\n",
       "      <th>Ibs_RMS</th>\n",
       "      <th>Ics_RMS</th>\n",
       "      <th>phase A</th>\n",
       "      <th>Phase B</th>\n",
       "      <th>phase C</th>\n",
       "    </tr>\n",
       "  </thead>\n",
       "  <tbody>\n",
       "    <tr>\n",
       "      <th>0</th>\n",
       "      <td>160.951888</td>\n",
       "      <td>160.951888</td>\n",
       "      <td>160.951888</td>\n",
       "      <td>0.7273</td>\n",
       "      <td>0.7273</td>\n",
       "      <td>0.7273</td>\n",
       "      <td>24.291812</td>\n",
       "      <td>24.291812</td>\n",
       "      <td>24.291812</td>\n",
       "    </tr>\n",
       "    <tr>\n",
       "      <th>1</th>\n",
       "      <td>160.951888</td>\n",
       "      <td>160.951888</td>\n",
       "      <td>160.951888</td>\n",
       "      <td>0.7273</td>\n",
       "      <td>0.7273</td>\n",
       "      <td>0.7273</td>\n",
       "      <td>24.291812</td>\n",
       "      <td>24.291812</td>\n",
       "      <td>24.291812</td>\n",
       "    </tr>\n",
       "    <tr>\n",
       "      <th>2</th>\n",
       "      <td>160.951888</td>\n",
       "      <td>160.951888</td>\n",
       "      <td>160.951888</td>\n",
       "      <td>0.7273</td>\n",
       "      <td>0.7273</td>\n",
       "      <td>0.7273</td>\n",
       "      <td>24.291812</td>\n",
       "      <td>24.291812</td>\n",
       "      <td>24.291812</td>\n",
       "    </tr>\n",
       "    <tr>\n",
       "      <th>3</th>\n",
       "      <td>160.951888</td>\n",
       "      <td>160.951888</td>\n",
       "      <td>160.951888</td>\n",
       "      <td>0.7273</td>\n",
       "      <td>0.7273</td>\n",
       "      <td>0.7273</td>\n",
       "      <td>24.291812</td>\n",
       "      <td>24.291812</td>\n",
       "      <td>24.291812</td>\n",
       "    </tr>\n",
       "    <tr>\n",
       "      <th>4</th>\n",
       "      <td>160.951888</td>\n",
       "      <td>160.951888</td>\n",
       "      <td>160.951888</td>\n",
       "      <td>0.7273</td>\n",
       "      <td>0.7273</td>\n",
       "      <td>0.7273</td>\n",
       "      <td>24.291812</td>\n",
       "      <td>24.291812</td>\n",
       "      <td>24.291812</td>\n",
       "    </tr>\n",
       "  </tbody>\n",
       "</table>\n",
       "</div>"
      ],
      "text/plain": [
       "      Vas_RMS     Vbs_RMS     Vcs_RMS  Ias_RMS  Ibs_RMS  Ics_RMS    phase A  \\\n",
       "0  160.951888  160.951888  160.951888   0.7273   0.7273   0.7273  24.291812   \n",
       "1  160.951888  160.951888  160.951888   0.7273   0.7273   0.7273  24.291812   \n",
       "2  160.951888  160.951888  160.951888   0.7273   0.7273   0.7273  24.291812   \n",
       "3  160.951888  160.951888  160.951888   0.7273   0.7273   0.7273  24.291812   \n",
       "4  160.951888  160.951888  160.951888   0.7273   0.7273   0.7273  24.291812   \n",
       "\n",
       "     Phase B    phase C  \n",
       "0  24.291812  24.291812  \n",
       "1  24.291812  24.291812  \n",
       "2  24.291812  24.291812  \n",
       "3  24.291812  24.291812  \n",
       "4  24.291812  24.291812  "
      ]
     },
     "execution_count": 2,
     "metadata": {},
     "output_type": "execute_result"
    }
   ],
   "source": [
    "df = pd.read_csv(\"C:\\\\Users\\\\Admin\\\\Desktop\\\\PQD Database\\\\PQD_UnderVoltage_Database\\\\Unsymmetrical\\\\RMS\\\\PQD_UnderVoltage_Unsymmetrical_RMS_Database.csv\")\n",
    "df.head()"
   ]
  },
  {
   "cell_type": "code",
   "execution_count": 3,
   "id": "afe16429",
   "metadata": {},
   "outputs": [
    {
     "data": {
      "text/html": [
       "<div>\n",
       "<style scoped>\n",
       "    .dataframe tbody tr th:only-of-type {\n",
       "        vertical-align: middle;\n",
       "    }\n",
       "\n",
       "    .dataframe tbody tr th {\n",
       "        vertical-align: top;\n",
       "    }\n",
       "\n",
       "    .dataframe thead th {\n",
       "        text-align: right;\n",
       "    }\n",
       "</style>\n",
       "<table border=\"1\" class=\"dataframe\">\n",
       "  <thead>\n",
       "    <tr style=\"text-align: right;\">\n",
       "      <th></th>\n",
       "      <th>Vas_RMS</th>\n",
       "      <th>Vbs_RMS</th>\n",
       "      <th>Vcs_RMS</th>\n",
       "      <th>Ias_RMS</th>\n",
       "      <th>Ibs_RMS</th>\n",
       "      <th>Ics_RMS</th>\n",
       "      <th>phase A</th>\n",
       "      <th>Phase B</th>\n",
       "      <th>phase C</th>\n",
       "    </tr>\n",
       "  </thead>\n",
       "  <tbody>\n",
       "    <tr>\n",
       "      <th>count</th>\n",
       "      <td>800180.000000</td>\n",
       "      <td>800180.000000</td>\n",
       "      <td>800180.000000</td>\n",
       "      <td>800180.000000</td>\n",
       "      <td>800180.000000</td>\n",
       "      <td>800180.000000</td>\n",
       "      <td>800180.000000</td>\n",
       "      <td>800180.000000</td>\n",
       "      <td>800180.000000</td>\n",
       "    </tr>\n",
       "    <tr>\n",
       "      <th>mean</th>\n",
       "      <td>156.716312</td>\n",
       "      <td>163.069676</td>\n",
       "      <td>167.305252</td>\n",
       "      <td>0.812521</td>\n",
       "      <td>1.141110</td>\n",
       "      <td>1.268783</td>\n",
       "      <td>27.138196</td>\n",
       "      <td>38.113065</td>\n",
       "      <td>42.377339</td>\n",
       "    </tr>\n",
       "    <tr>\n",
       "      <th>std</th>\n",
       "      <td>4.235579</td>\n",
       "      <td>7.023913</td>\n",
       "      <td>3.668119</td>\n",
       "      <td>0.318412</td>\n",
       "      <td>0.372293</td>\n",
       "      <td>0.420365</td>\n",
       "      <td>10.634951</td>\n",
       "      <td>12.434595</td>\n",
       "      <td>14.040202</td>\n",
       "    </tr>\n",
       "    <tr>\n",
       "      <th>min</th>\n",
       "      <td>152.480737</td>\n",
       "      <td>152.480737</td>\n",
       "      <td>160.951888</td>\n",
       "      <td>0.447026</td>\n",
       "      <td>0.630751</td>\n",
       "      <td>0.727300</td>\n",
       "      <td>14.930673</td>\n",
       "      <td>21.067098</td>\n",
       "      <td>24.291812</td>\n",
       "    </tr>\n",
       "    <tr>\n",
       "      <th>25%</th>\n",
       "      <td>152.480737</td>\n",
       "      <td>158.834101</td>\n",
       "      <td>167.305252</td>\n",
       "      <td>0.596405</td>\n",
       "      <td>0.861540</td>\n",
       "      <td>0.921393</td>\n",
       "      <td>19.919925</td>\n",
       "      <td>28.775435</td>\n",
       "      <td>30.774510</td>\n",
       "    </tr>\n",
       "    <tr>\n",
       "      <th>50%</th>\n",
       "      <td>156.716313</td>\n",
       "      <td>165.187465</td>\n",
       "      <td>169.423041</td>\n",
       "      <td>0.707836</td>\n",
       "      <td>1.059581</td>\n",
       "      <td>1.193078</td>\n",
       "      <td>23.641739</td>\n",
       "      <td>35.390000</td>\n",
       "      <td>39.848796</td>\n",
       "    </tr>\n",
       "    <tr>\n",
       "      <th>75%</th>\n",
       "      <td>160.951888</td>\n",
       "      <td>169.423041</td>\n",
       "      <td>169.423041</td>\n",
       "      <td>0.947298</td>\n",
       "      <td>1.395137</td>\n",
       "      <td>1.543679</td>\n",
       "      <td>31.639750</td>\n",
       "      <td>46.597563</td>\n",
       "      <td>51.558890</td>\n",
       "    </tr>\n",
       "    <tr>\n",
       "      <th>max</th>\n",
       "      <td>160.951888</td>\n",
       "      <td>169.423041</td>\n",
       "      <td>169.423041</td>\n",
       "      <td>1.625544</td>\n",
       "      <td>1.963790</td>\n",
       "      <td>2.285605</td>\n",
       "      <td>54.293160</td>\n",
       "      <td>65.590595</td>\n",
       "      <td>76.339200</td>\n",
       "    </tr>\n",
       "  </tbody>\n",
       "</table>\n",
       "</div>"
      ],
      "text/plain": [
       "             Vas_RMS        Vbs_RMS        Vcs_RMS        Ias_RMS  \\\n",
       "count  800180.000000  800180.000000  800180.000000  800180.000000   \n",
       "mean      156.716312     163.069676     167.305252       0.812521   \n",
       "std         4.235579       7.023913       3.668119       0.318412   \n",
       "min       152.480737     152.480737     160.951888       0.447026   \n",
       "25%       152.480737     158.834101     167.305252       0.596405   \n",
       "50%       156.716313     165.187465     169.423041       0.707836   \n",
       "75%       160.951888     169.423041     169.423041       0.947298   \n",
       "max       160.951888     169.423041     169.423041       1.625544   \n",
       "\n",
       "             Ibs_RMS        Ics_RMS        phase A        Phase B  \\\n",
       "count  800180.000000  800180.000000  800180.000000  800180.000000   \n",
       "mean        1.141110       1.268783      27.138196      38.113065   \n",
       "std         0.372293       0.420365      10.634951      12.434595   \n",
       "min         0.630751       0.727300      14.930673      21.067098   \n",
       "25%         0.861540       0.921393      19.919925      28.775435   \n",
       "50%         1.059581       1.193078      23.641739      35.390000   \n",
       "75%         1.395137       1.543679      31.639750      46.597563   \n",
       "max         1.963790       2.285605      54.293160      65.590595   \n",
       "\n",
       "             phase C  \n",
       "count  800180.000000  \n",
       "mean       42.377339  \n",
       "std        14.040202  \n",
       "min        24.291812  \n",
       "25%        30.774510  \n",
       "50%        39.848796  \n",
       "75%        51.558890  \n",
       "max        76.339200  "
      ]
     },
     "execution_count": 3,
     "metadata": {},
     "output_type": "execute_result"
    }
   ],
   "source": [
    "df.describe()"
   ]
  },
  {
   "cell_type": "code",
   "execution_count": 4,
   "id": "872cafbd",
   "metadata": {},
   "outputs": [
    {
     "name": "stdout",
     "output_type": "stream",
     "text": [
      "<class 'pandas.core.frame.DataFrame'>\n",
      "RangeIndex: 800180 entries, 0 to 800179\n",
      "Data columns (total 9 columns):\n",
      " #   Column   Non-Null Count   Dtype  \n",
      "---  ------   --------------   -----  \n",
      " 0   Vas_RMS  800180 non-null  float64\n",
      " 1   Vbs_RMS  800180 non-null  float64\n",
      " 2   Vcs_RMS  800180 non-null  float64\n",
      " 3   Ias_RMS  800180 non-null  float64\n",
      " 4   Ibs_RMS  800180 non-null  float64\n",
      " 5   Ics_RMS  800180 non-null  float64\n",
      " 6   phase A  800180 non-null  float64\n",
      " 7   Phase B  800180 non-null  float64\n",
      " 8   phase C  800180 non-null  float64\n",
      "dtypes: float64(9)\n",
      "memory usage: 54.9 MB\n"
     ]
    }
   ],
   "source": [
    "df.info()"
   ]
  },
  {
   "cell_type": "code",
   "execution_count": 5,
   "id": "fc1a2b64",
   "metadata": {},
   "outputs": [
    {
     "name": "stdout",
     "output_type": "stream",
     "text": [
      "           Vas_RMS     Vbs_RMS     Vcs_RMS   Ias_RMS  Ibs_RMS   Ics_RMS\n",
      "0       160.951888  160.951888  160.951888  0.727300  0.72730  0.727300\n",
      "1       160.951888  160.951888  160.951888  0.727300  0.72730  0.727300\n",
      "2       160.951888  160.951888  160.951888  0.727300  0.72730  0.727300\n",
      "3       160.951888  160.951888  160.951888  0.727300  0.72730  0.727300\n",
      "4       160.951888  160.951888  160.951888  0.727300  0.72730  0.727300\n",
      "...            ...         ...         ...       ...      ...       ...\n",
      "800175  152.480737  169.423041  169.423041  0.980284  1.96379  1.860923\n",
      "800176  152.480737  169.423041  169.423041  0.980284  1.96379  1.860923\n",
      "800177  152.480737  169.423041  169.423041  0.980284  1.96379  1.860923\n",
      "800178  152.480737  169.423041  169.423041  0.980284  1.96379  1.860923\n",
      "800179  152.480737  169.423041  169.423041  0.980284  1.96379  1.860923\n",
      "\n",
      "[800180 rows x 6 columns]\n"
     ]
    }
   ],
   "source": [
    "X = df[[\"Vas_RMS\",\"Vbs_RMS\",\"Vcs_RMS\",\"Ias_RMS\",\"Ibs_RMS\",\"Ics_RMS\"]]\n",
    "Y = df[[\"phase A\",\"Phase B\",\"phase C\"]]\n",
    "print(X)"
   ]
  },
  {
   "cell_type": "code",
   "execution_count": 6,
   "id": "f7c9a7e7",
   "metadata": {},
   "outputs": [
    {
     "name": "stdout",
     "output_type": "stream",
     "text": [
      "          phase A    Phase B    phase C\n",
      "0       24.291812  24.291812  24.291812\n",
      "1       24.291812  24.291812  24.291812\n",
      "2       24.291812  24.291812  24.291812\n",
      "3       24.291812  24.291812  24.291812\n",
      "4       24.291812  24.291812  24.291812\n",
      "...           ...        ...        ...\n",
      "800175  32.741476  65.590595  62.154812\n",
      "800176  32.741476  65.590595  62.154812\n",
      "800177  32.741476  65.590595  62.154812\n",
      "800178  32.741476  65.590595  62.154812\n",
      "800179  32.741476  65.590595  62.154812\n",
      "\n",
      "[800180 rows x 3 columns]\n"
     ]
    }
   ],
   "source": [
    "print(Y)"
   ]
  },
  {
   "cell_type": "code",
   "execution_count": 7,
   "id": "492f0cf7",
   "metadata": {},
   "outputs": [
    {
     "name": "stdout",
     "output_type": "stream",
     "text": [
      "           Vas_RMS     Vbs_RMS     Vcs_RMS   Ias_RMS   Ibs_RMS   Ics_RMS\n",
      "400511  160.951888  169.423041  169.423041  0.652994  0.893191  0.806988\n",
      "397551  152.480737  152.480737  169.423041  1.297071  1.400956  2.285605\n",
      "341534  152.480737  152.480737  169.423041  0.873368  1.000995  1.853360\n",
      "215657  152.480737  152.480737  169.423041  0.512206  0.677711  1.117109\n",
      "57646   160.951888  160.951888  160.951888  0.766588  0.766588  0.766588\n",
      "...            ...         ...         ...       ...       ...       ...\n",
      "359783  152.480737  152.480737  169.423041  0.873368  1.000995  1.853360\n",
      "152315  160.951888  160.951888  160.951888  1.226402  1.226402  1.226402\n",
      "117952  160.951888  160.951888  160.951888  0.936563  0.936563  0.936563\n",
      "435829  160.951888  169.423041  169.423041  0.652994  0.893191  0.806988\n",
      "305711  152.480737  152.480737  169.423041  0.582380  0.738123  1.516958\n",
      "\n",
      "[640144 rows x 6 columns]\n"
     ]
    }
   ],
   "source": [
    "from sklearn.model_selection import train_test_split\n",
    "x_train, x_test, y_train, y_test = train_test_split(X,Y,test_size=0.2,random_state=0)\n",
    "#test size = 0.2 denotes that 20% of the data will be in the test state. Random_state provides the seed value.\n",
    "print(x_train)"
   ]
  },
  {
   "cell_type": "code",
   "execution_count": 8,
   "id": "092e0d2f",
   "metadata": {},
   "outputs": [
    {
     "name": "stdout",
     "output_type": "stream",
     "text": [
      "          phase A    Phase B    phase C\n",
      "400511  21.809985  29.832563  26.953389\n",
      "397551  43.322173  46.791915  76.339200\n",
      "341534  29.170490  33.433232  61.902212\n",
      "215657  17.107665  22.635533  37.311429\n",
      "57646   25.604051  25.604051  25.604051\n",
      "...           ...        ...        ...\n",
      "359783  29.170490  33.433232  61.902212\n",
      "152315  40.961838  40.961838  40.961838\n",
      "117952  31.281216  31.281216  31.281216\n",
      "435829  21.809984  29.832563  26.953389\n",
      "305711  19.451493  24.653294  50.666402\n",
      "\n",
      "[640144 rows x 3 columns]\n"
     ]
    }
   ],
   "source": [
    "print(y_train)"
   ]
  },
  {
   "cell_type": "code",
   "execution_count": 9,
   "id": "f5a1b4cf",
   "metadata": {},
   "outputs": [
    {
     "name": "stdout",
     "output_type": "stream",
     "text": [
      "           Vas_RMS     Vbs_RMS     Vcs_RMS   Ias_RMS   Ibs_RMS   Ics_RMS\n",
      "352131  152.480737  152.480737  169.423041  0.873368  1.000995  1.853360\n",
      "287427  152.480737  152.480737  169.423041  0.582380  0.738122  1.516958\n",
      "264333  152.480737  152.480737  169.423041  0.457632  0.630753  1.270404\n",
      "450811  160.951888  169.423041  169.423041  0.601080  0.957212  0.875985\n",
      "593083  160.951888  169.423041  169.423041  1.263342  1.755255  1.702010\n",
      "...            ...         ...         ...       ...       ...       ...\n",
      "289827  152.480737  152.480737  169.423041  0.582380  0.738123  1.516958\n",
      "497732  160.951888  169.423041  169.423041  0.688373  1.126365  1.054334\n",
      "208796  152.480737  152.480737  169.423041  0.512206  0.677711  1.117109\n",
      "246199  152.480737  152.480737  169.423041  0.457632  0.630753  1.270404\n",
      "392589  152.480737  152.480737  169.423041  1.297071  1.400956  2.285605\n",
      "\n",
      "[160036 rows x 6 columns]\n"
     ]
    }
   ],
   "source": [
    "print(x_test)"
   ]
  },
  {
   "cell_type": "code",
   "execution_count": 10,
   "id": "d26c64bf",
   "metadata": {},
   "outputs": [
    {
     "name": "stdout",
     "output_type": "stream",
     "text": [
      "          phase A    Phase B    phase C\n",
      "352131  29.170490  33.433232  61.902212\n",
      "287427  19.451481  24.653284  50.666386\n",
      "264333  15.284894  21.067159  42.431502\n",
      "450811  20.076073  31.970889  29.257898\n",
      "593083  42.195607  58.625519  56.847126\n",
      "...           ...        ...        ...\n",
      "289827  19.451490  24.653292  50.666399\n",
      "497732  22.991666  37.620581  35.214771\n",
      "208796  17.107665  22.635533  37.311429\n",
      "246199  15.284894  21.067159  42.431500\n",
      "392589  43.322173  46.791915  76.339200\n",
      "\n",
      "[160036 rows x 3 columns]\n"
     ]
    }
   ],
   "source": [
    "print(y_test)"
   ]
  },
  {
   "cell_type": "code",
   "execution_count": 11,
   "id": "a690ea1c",
   "metadata": {},
   "outputs": [
    {
     "name": "stdout",
     "output_type": "stream",
     "text": [
      "LinearRegression()\n"
     ]
    },
    {
     "data": {
      "text/html": [
       "<style>#sk-container-id-1 {color: black;}#sk-container-id-1 pre{padding: 0;}#sk-container-id-1 div.sk-toggleable {background-color: white;}#sk-container-id-1 label.sk-toggleable__label {cursor: pointer;display: block;width: 100%;margin-bottom: 0;padding: 0.3em;box-sizing: border-box;text-align: center;}#sk-container-id-1 label.sk-toggleable__label-arrow:before {content: \"▸\";float: left;margin-right: 0.25em;color: #696969;}#sk-container-id-1 label.sk-toggleable__label-arrow:hover:before {color: black;}#sk-container-id-1 div.sk-estimator:hover label.sk-toggleable__label-arrow:before {color: black;}#sk-container-id-1 div.sk-toggleable__content {max-height: 0;max-width: 0;overflow: hidden;text-align: left;background-color: #f0f8ff;}#sk-container-id-1 div.sk-toggleable__content pre {margin: 0.2em;color: black;border-radius: 0.25em;background-color: #f0f8ff;}#sk-container-id-1 input.sk-toggleable__control:checked~div.sk-toggleable__content {max-height: 200px;max-width: 100%;overflow: auto;}#sk-container-id-1 input.sk-toggleable__control:checked~label.sk-toggleable__label-arrow:before {content: \"▾\";}#sk-container-id-1 div.sk-estimator input.sk-toggleable__control:checked~label.sk-toggleable__label {background-color: #d4ebff;}#sk-container-id-1 div.sk-label input.sk-toggleable__control:checked~label.sk-toggleable__label {background-color: #d4ebff;}#sk-container-id-1 input.sk-hidden--visually {border: 0;clip: rect(1px 1px 1px 1px);clip: rect(1px, 1px, 1px, 1px);height: 1px;margin: -1px;overflow: hidden;padding: 0;position: absolute;width: 1px;}#sk-container-id-1 div.sk-estimator {font-family: monospace;background-color: #f0f8ff;border: 1px dotted black;border-radius: 0.25em;box-sizing: border-box;margin-bottom: 0.5em;}#sk-container-id-1 div.sk-estimator:hover {background-color: #d4ebff;}#sk-container-id-1 div.sk-parallel-item::after {content: \"\";width: 100%;border-bottom: 1px solid gray;flex-grow: 1;}#sk-container-id-1 div.sk-label:hover label.sk-toggleable__label {background-color: #d4ebff;}#sk-container-id-1 div.sk-serial::before {content: \"\";position: absolute;border-left: 1px solid gray;box-sizing: border-box;top: 0;bottom: 0;left: 50%;z-index: 0;}#sk-container-id-1 div.sk-serial {display: flex;flex-direction: column;align-items: center;background-color: white;padding-right: 0.2em;padding-left: 0.2em;position: relative;}#sk-container-id-1 div.sk-item {position: relative;z-index: 1;}#sk-container-id-1 div.sk-parallel {display: flex;align-items: stretch;justify-content: center;background-color: white;position: relative;}#sk-container-id-1 div.sk-item::before, #sk-container-id-1 div.sk-parallel-item::before {content: \"\";position: absolute;border-left: 1px solid gray;box-sizing: border-box;top: 0;bottom: 0;left: 50%;z-index: -1;}#sk-container-id-1 div.sk-parallel-item {display: flex;flex-direction: column;z-index: 1;position: relative;background-color: white;}#sk-container-id-1 div.sk-parallel-item:first-child::after {align-self: flex-end;width: 50%;}#sk-container-id-1 div.sk-parallel-item:last-child::after {align-self: flex-start;width: 50%;}#sk-container-id-1 div.sk-parallel-item:only-child::after {width: 0;}#sk-container-id-1 div.sk-dashed-wrapped {border: 1px dashed gray;margin: 0 0.4em 0.5em 0.4em;box-sizing: border-box;padding-bottom: 0.4em;background-color: white;}#sk-container-id-1 div.sk-label label {font-family: monospace;font-weight: bold;display: inline-block;line-height: 1.2em;}#sk-container-id-1 div.sk-label-container {text-align: center;}#sk-container-id-1 div.sk-container {/* jupyter's `normalize.less` sets `[hidden] { display: none; }` but bootstrap.min.css set `[hidden] { display: none !important; }` so we also need the `!important` here to be able to override the default hidden behavior on the sphinx rendered scikit-learn.org. See: https://github.com/scikit-learn/scikit-learn/issues/21755 */display: inline-block !important;position: relative;}#sk-container-id-1 div.sk-text-repr-fallback {display: none;}</style><div id=\"sk-container-id-1\" class=\"sk-top-container\"><div class=\"sk-text-repr-fallback\"><pre>LinearRegression()</pre><b>In a Jupyter environment, please rerun this cell to show the HTML representation or trust the notebook. <br />On GitHub, the HTML representation is unable to render, please try loading this page with nbviewer.org.</b></div><div class=\"sk-container\" hidden><div class=\"sk-item\"><div class=\"sk-estimator sk-toggleable\"><input class=\"sk-toggleable__control sk-hidden--visually\" id=\"sk-estimator-id-1\" type=\"checkbox\" checked><label for=\"sk-estimator-id-1\" class=\"sk-toggleable__label sk-toggleable__label-arrow\">LinearRegression</label><div class=\"sk-toggleable__content\"><pre>LinearRegression()</pre></div></div></div></div></div>"
      ],
      "text/plain": [
       "LinearRegression()"
      ]
     },
     "execution_count": 11,
     "metadata": {},
     "output_type": "execute_result"
    }
   ],
   "source": [
    "from sklearn.linear_model import LinearRegression\n",
    "regressor = LinearRegression()\n",
    "print(regressor)\n",
    "regressor.fit(x_train,y_train)#Used to find the most accurate equation for our LR model as per the dataset"
   ]
  },
  {
   "cell_type": "code",
   "execution_count": 12,
   "id": "ba86649b",
   "metadata": {},
   "outputs": [
    {
     "name": "stdout",
     "output_type": "stream",
     "text": [
      "[-1.26887024e-07  8.71865709e-08 -4.86643614e-08]\n",
      "[[ 1.14267101e-09 -1.72150456e-10 -1.69676178e-10  3.34000000e+01\n",
      "  -7.80187481e-10  1.15600523e-08]\n",
      " [-1.68253987e-09 -5.46005620e-10  1.64703192e-09  3.54989345e-08\n",
      "   3.34000000e+01 -3.44170519e-08]\n",
      " [-2.02834048e-11 -3.01693713e-10  6.39332686e-10 -8.99806036e-10\n",
      "   6.20322824e-09  3.34000000e+01]]\n"
     ]
    }
   ],
   "source": [
    "print(regressor.intercept_)\n",
    "print(regressor.coef_)"
   ]
  },
  {
   "cell_type": "code",
   "execution_count": 13,
   "id": "ca40aa99",
   "metadata": {},
   "outputs": [
    {
     "name": "stdout",
     "output_type": "stream",
     "text": [
      "          phase A    Phase B    phase C\n",
      "352131  29.170490  33.433232  61.902212\n",
      "287427  19.451481  24.653284  50.666386\n",
      "264333  15.284894  21.067159  42.431502\n",
      "450811  20.076073  31.970889  29.257898\n",
      "593083  42.195607  58.625519  56.847126\n",
      "...           ...        ...        ...\n",
      "289827  19.451490  24.653292  50.666399\n",
      "497732  22.991666  37.620581  35.214771\n",
      "208796  17.107665  22.635533  37.311429\n",
      "246199  15.284894  21.067159  42.431500\n",
      "392589  43.322173  46.791915  76.339200\n",
      "\n",
      "[160036 rows x 3 columns]\n"
     ]
    }
   ],
   "source": [
    "column_names = [\"phase A\", \"Phase B\", \"phase C\"]\n",
    "y_test_df = pd.DataFrame(data=y_test, columns=column_names)\n",
    "print(y_test_df)"
   ]
  },
  {
   "cell_type": "code",
   "execution_count": 14,
   "id": "34f9df1b",
   "metadata": {},
   "outputs": [],
   "source": [
    "y_test_a = y_test[\"phase A\"]\n",
    "y_test_b = y_test[\"Phase B\"]\n",
    "y_test_c = y_test[\"phase C\"]"
   ]
  },
  {
   "cell_type": "code",
   "execution_count": 15,
   "id": "58a06c56",
   "metadata": {},
   "outputs": [
    {
     "name": "stdout",
     "output_type": "stream",
     "text": [
      "        Actual Phase A  Predicted Phase A  Actual Phase B  Predicted Phase B  \\\n",
      "352131       29.170490          29.170490       33.433232          33.433232   \n",
      "287427       19.451481          19.451481       24.653284          24.653284   \n",
      "264333       15.284894          15.284894       21.067159          21.067159   \n",
      "450811       20.076073          20.076073       31.970889          31.970889   \n",
      "593083       42.195607          42.195607       58.625519          58.625519   \n",
      "...                ...                ...             ...                ...   \n",
      "289827       19.451490          19.451490       24.653292          24.653292   \n",
      "497732       22.991666          22.991666       37.620581          37.620581   \n",
      "208796       17.107665          17.107665       22.635533          22.635533   \n",
      "246199       15.284894          15.284894       21.067159          21.067159   \n",
      "392589       43.322173          43.322173       46.791915          46.791915   \n",
      "\n",
      "        Actual Phase C  Predicted Phase C  \n",
      "352131       61.902212          61.902212  \n",
      "287427       50.666386          50.666386  \n",
      "264333       42.431502          42.431502  \n",
      "450811       29.257898          29.257898  \n",
      "593083       56.847126          56.847126  \n",
      "...                ...                ...  \n",
      "289827       50.666399          50.666399  \n",
      "497732       35.214771          35.214771  \n",
      "208796       37.311429          37.311429  \n",
      "246199       42.431500          42.431500  \n",
      "392589       76.339200          76.339200  \n",
      "\n",
      "[160036 rows x 6 columns]\n"
     ]
    }
   ],
   "source": [
    "y_test_predict = regressor.predict(x_test)\n",
    "y_test_predict_a = y_test_predict[:, 0]\n",
    "y_test_predict_b = y_test_predict[:, 1]\n",
    "y_test_predict_c = y_test_predict[:, 2]\n",
    "df_a = pd.DataFrame({\"Actual Phase A\": y_test_a, \"Predicted Phase A\": y_test_predict_a})\n",
    "df_b = pd.DataFrame({\"Actual Phase B\": y_test_b, \"Predicted Phase B\": y_test_predict_b})\n",
    "df_c = pd.DataFrame({\"Actual Phase C\": y_test_c, \"Predicted Phase C\": y_test_predict_c})\n",
    "comparison_df = pd.concat([df_a, df_b, df_c], axis=1)\n",
    "print(comparison_df)"
   ]
  },
  {
   "cell_type": "code",
   "execution_count": 16,
   "id": "dfbe0231",
   "metadata": {},
   "outputs": [
    {
     "name": "stdout",
     "output_type": "stream",
     "text": [
      "Calculating error(Test Dataset)-: \n",
      "\n",
      "Mean Absolute Error: 7.920975319167453e-09\n",
      "Mean Squared Error: 9.30224750819871e-17\n",
      "Root Mean Squared Error: 9.644815969316733e-09\n"
     ]
    }
   ],
   "source": [
    "print(\"Calculating error(Test Dataset)-: \\n\")\n",
    "from sklearn import metrics\n",
    "print('Mean Absolute Error:', metrics.mean_absolute_error(y_test, y_test_predict))  \n",
    "print('Mean Squared Error:', metrics.mean_squared_error(y_test, y_test_predict))  \n",
    "print('Root Mean Squared Error:', np.sqrt(metrics.mean_squared_error(y_test, y_test_predict)))"
   ]
  },
  {
   "cell_type": "code",
   "execution_count": 17,
   "id": "8cfc9865",
   "metadata": {},
   "outputs": [],
   "source": [
    "from sklearn.ensemble import RandomForestRegressor"
   ]
  },
  {
   "cell_type": "code",
   "execution_count": 18,
   "id": "79fcfd1a",
   "metadata": {},
   "outputs": [
    {
     "data": {
      "text/html": [
       "<style>#sk-container-id-2 {color: black;}#sk-container-id-2 pre{padding: 0;}#sk-container-id-2 div.sk-toggleable {background-color: white;}#sk-container-id-2 label.sk-toggleable__label {cursor: pointer;display: block;width: 100%;margin-bottom: 0;padding: 0.3em;box-sizing: border-box;text-align: center;}#sk-container-id-2 label.sk-toggleable__label-arrow:before {content: \"▸\";float: left;margin-right: 0.25em;color: #696969;}#sk-container-id-2 label.sk-toggleable__label-arrow:hover:before {color: black;}#sk-container-id-2 div.sk-estimator:hover label.sk-toggleable__label-arrow:before {color: black;}#sk-container-id-2 div.sk-toggleable__content {max-height: 0;max-width: 0;overflow: hidden;text-align: left;background-color: #f0f8ff;}#sk-container-id-2 div.sk-toggleable__content pre {margin: 0.2em;color: black;border-radius: 0.25em;background-color: #f0f8ff;}#sk-container-id-2 input.sk-toggleable__control:checked~div.sk-toggleable__content {max-height: 200px;max-width: 100%;overflow: auto;}#sk-container-id-2 input.sk-toggleable__control:checked~label.sk-toggleable__label-arrow:before {content: \"▾\";}#sk-container-id-2 div.sk-estimator input.sk-toggleable__control:checked~label.sk-toggleable__label {background-color: #d4ebff;}#sk-container-id-2 div.sk-label input.sk-toggleable__control:checked~label.sk-toggleable__label {background-color: #d4ebff;}#sk-container-id-2 input.sk-hidden--visually {border: 0;clip: rect(1px 1px 1px 1px);clip: rect(1px, 1px, 1px, 1px);height: 1px;margin: -1px;overflow: hidden;padding: 0;position: absolute;width: 1px;}#sk-container-id-2 div.sk-estimator {font-family: monospace;background-color: #f0f8ff;border: 1px dotted black;border-radius: 0.25em;box-sizing: border-box;margin-bottom: 0.5em;}#sk-container-id-2 div.sk-estimator:hover {background-color: #d4ebff;}#sk-container-id-2 div.sk-parallel-item::after {content: \"\";width: 100%;border-bottom: 1px solid gray;flex-grow: 1;}#sk-container-id-2 div.sk-label:hover label.sk-toggleable__label {background-color: #d4ebff;}#sk-container-id-2 div.sk-serial::before {content: \"\";position: absolute;border-left: 1px solid gray;box-sizing: border-box;top: 0;bottom: 0;left: 50%;z-index: 0;}#sk-container-id-2 div.sk-serial {display: flex;flex-direction: column;align-items: center;background-color: white;padding-right: 0.2em;padding-left: 0.2em;position: relative;}#sk-container-id-2 div.sk-item {position: relative;z-index: 1;}#sk-container-id-2 div.sk-parallel {display: flex;align-items: stretch;justify-content: center;background-color: white;position: relative;}#sk-container-id-2 div.sk-item::before, #sk-container-id-2 div.sk-parallel-item::before {content: \"\";position: absolute;border-left: 1px solid gray;box-sizing: border-box;top: 0;bottom: 0;left: 50%;z-index: -1;}#sk-container-id-2 div.sk-parallel-item {display: flex;flex-direction: column;z-index: 1;position: relative;background-color: white;}#sk-container-id-2 div.sk-parallel-item:first-child::after {align-self: flex-end;width: 50%;}#sk-container-id-2 div.sk-parallel-item:last-child::after {align-self: flex-start;width: 50%;}#sk-container-id-2 div.sk-parallel-item:only-child::after {width: 0;}#sk-container-id-2 div.sk-dashed-wrapped {border: 1px dashed gray;margin: 0 0.4em 0.5em 0.4em;box-sizing: border-box;padding-bottom: 0.4em;background-color: white;}#sk-container-id-2 div.sk-label label {font-family: monospace;font-weight: bold;display: inline-block;line-height: 1.2em;}#sk-container-id-2 div.sk-label-container {text-align: center;}#sk-container-id-2 div.sk-container {/* jupyter's `normalize.less` sets `[hidden] { display: none; }` but bootstrap.min.css set `[hidden] { display: none !important; }` so we also need the `!important` here to be able to override the default hidden behavior on the sphinx rendered scikit-learn.org. See: https://github.com/scikit-learn/scikit-learn/issues/21755 */display: inline-block !important;position: relative;}#sk-container-id-2 div.sk-text-repr-fallback {display: none;}</style><div id=\"sk-container-id-2\" class=\"sk-top-container\"><div class=\"sk-text-repr-fallback\"><pre>RandomForestRegressor(max_depth=20)</pre><b>In a Jupyter environment, please rerun this cell to show the HTML representation or trust the notebook. <br />On GitHub, the HTML representation is unable to render, please try loading this page with nbviewer.org.</b></div><div class=\"sk-container\" hidden><div class=\"sk-item\"><div class=\"sk-estimator sk-toggleable\"><input class=\"sk-toggleable__control sk-hidden--visually\" id=\"sk-estimator-id-2\" type=\"checkbox\" checked><label for=\"sk-estimator-id-2\" class=\"sk-toggleable__label sk-toggleable__label-arrow\">RandomForestRegressor</label><div class=\"sk-toggleable__content\"><pre>RandomForestRegressor(max_depth=20)</pre></div></div></div></div></div>"
      ],
      "text/plain": [
       "RandomForestRegressor(max_depth=20)"
      ]
     },
     "execution_count": 18,
     "metadata": {},
     "output_type": "execute_result"
    }
   ],
   "source": [
    "rf=RandomForestRegressor(n_estimators=100, max_depth=20)\n",
    "rf.fit(x_train,y_train)"
   ]
  },
  {
   "cell_type": "code",
   "execution_count": 19,
   "id": "03615f04",
   "metadata": {},
   "outputs": [
    {
     "name": "stdout",
     "output_type": "stream",
     "text": [
      "        Actual Phase A  Predicted Phase A  Actual Phase B  Predicted Phase B  \\\n",
      "352131       29.170490          29.170490       33.433232          33.433232   \n",
      "287427       19.451481          19.451481       24.653284          24.653284   \n",
      "264333       15.284894          15.284894       21.067159          21.067159   \n",
      "450811       20.076073          20.076073       31.970889          31.970889   \n",
      "593083       42.195607          42.195607       58.625519          58.625519   \n",
      "...                ...                ...             ...                ...   \n",
      "289827       19.451490          19.451490       24.653292          24.653292   \n",
      "497732       22.991666          22.991666       37.620581          37.620581   \n",
      "208796       17.107665          17.107665       22.635533          22.635533   \n",
      "246199       15.284894          15.284894       21.067159          21.067159   \n",
      "392589       43.322173          43.322173       46.791915          46.791915   \n",
      "\n",
      "        Actual Phase C  Predicted Phase C  \n",
      "352131       61.902212          61.902212  \n",
      "287427       50.666386          50.666386  \n",
      "264333       42.431502          42.431502  \n",
      "450811       29.257898          29.257898  \n",
      "593083       56.847126          56.847126  \n",
      "...                ...                ...  \n",
      "289827       50.666399          50.666399  \n",
      "497732       35.214771          35.214771  \n",
      "208796       37.311429          37.311429  \n",
      "246199       42.431500          42.431500  \n",
      "392589       76.339200          76.339200  \n",
      "\n",
      "[160036 rows x 6 columns]\n"
     ]
    }
   ],
   "source": [
    "y_test_predict_rf = rf.predict(x_test)\n",
    "y_test_predict_a = y_test_predict[:, 0]\n",
    "y_test_predict_b = y_test_predict[:, 1]\n",
    "y_test_predict_c = y_test_predict[:, 2]\n",
    "df_a = pd.DataFrame({\"Actual Phase A\": y_test_a, \"Predicted Phase A\": y_test_predict_a})\n",
    "df_b = pd.DataFrame({\"Actual Phase B\": y_test_b, \"Predicted Phase B\": y_test_predict_b})\n",
    "df_c = pd.DataFrame({\"Actual Phase C\": y_test_c, \"Predicted Phase C\": y_test_predict_c})\n",
    "comparison_df = pd.concat([df_a, df_b, df_c], axis=1)\n",
    "print(comparison_df)"
   ]
  },
  {
   "cell_type": "code",
   "execution_count": 20,
   "id": "69bdcb83",
   "metadata": {},
   "outputs": [
    {
     "name": "stdout",
     "output_type": "stream",
     "text": [
      "Mean Absolute Error:  1.8649186635442737e-05\n",
      "Mean Squared Error:  1.8649186635442737e-05\n",
      "Root Mean Squared Error:  1.8649186635442737e-05\n"
     ]
    }
   ],
   "source": [
    "from sklearn import metrics\n",
    "print(\"Mean Absolute Error: \",metrics.mean_absolute_error(y_test,y_test_predict_rf))\n",
    "print(\"Mean Squared Error: \",metrics.mean_absolute_error(y_test,y_test_predict_rf))\n",
    "print(\"Root Mean Squared Error: \",metrics.mean_absolute_error(y_test,y_test_predict_rf))"
   ]
  },
  {
   "cell_type": "code",
   "execution_count": 23,
   "id": "807ed474",
   "metadata": {},
   "outputs": [],
   "source": [
    "import pandas as pd\n",
    "from IPython.display import display, HTML\n",
    "\n",
    "def predict_temperatures_from_csv(rf_model, csv_path):\n",
    "    # Read the CSV file into a DataFrame\n",
    "    df = pd.read_csv(csv_path)\n",
    "    \n",
    "    # Extract voltage and current columns\n",
    "    voltage_columns = [\"Vas_RMS\", \"Vbs_RMS\", \"Vcs_RMS\"]\n",
    "    current_columns = [\"Ias_RMS\", \"Ibs_RMS\", \"Ics_RMS\"]\n",
    "    \n",
    "    # Extract voltage and current values from the DataFrame\n",
    "    X = df[voltage_columns + current_columns]\n",
    "    \n",
    "    # Use the trained model to predict temperature values\n",
    "    temperature_predictions = rf_model.predict(X)\n",
    "    \n",
    "    # Create a DataFrame to store the predictions\n",
    "    predictions_df = pd.DataFrame(temperature_predictions, columns=[\"Predicted Phase A\", \"Predicted Phase B\", \"Predicted Phase C\"])\n",
    "    \n",
    "    # Concatenate the predictions DataFrame with the original DataFrame\n",
    "    result_df = pd.concat([df, predictions_df], axis=1)\n",
    "    \n",
    "    # Calculate average predicted temperature across phases\n",
    "    result_df[\"Average Temperature\"] = result_df.mean(axis=1)\n",
    "    \n",
    "    # Calculate Remaining Useful Life (RUL)\n",
    "    Lo = 20000\n",
    "    Tb = 155\n",
    "    Tc = result_df[\"Average Temperature\"]\n",
    "    result_df[\"RUL\"] = Lo * 2**((Tb - Tc) / 10) / (365 * 24)\n",
    "    \n",
    "    # Drop unnamed columns\n",
    "    result_df = result_df.drop(result_df.columns[result_df.columns.str.contains('Unnamed', case=False)], axis=1)\n",
    "    \n",
    "    # Display DataFrame with bold column headings\n",
    "    display(HTML(result_df.style.set_table_styles([{'selector': 'th', 'props': [('font-weight', 'bold')]}]).render()))\n",
    "    \n",
    "    return result_df"
   ]
  },
  {
   "cell_type": "code",
   "execution_count": 24,
   "id": "1ea349b5",
   "metadata": {},
   "outputs": [],
   "source": [
    "import numpy as np\n",
    "\n",
    "def predict_values(rf_model, v1, v2, v3, i1, i2, i3):\n",
    "    # Convert feature values to numpy array\n",
    "    user_input_array = np.array([v1, v2, v3, i1, i2, i3]).reshape(1, -1)\n",
    "    \n",
    "    # Make prediction using the trained Random Forest Regressor\n",
    "    predictions = rf_model.predict(user_input_array)\n",
    "    \n",
    "    # Calculate average predicted temperature across phases\n",
    "    average_temperature = np.mean(predictions)\n",
    "    \n",
    "    # Calculate RUL\n",
    "    Lo = 20000\n",
    "    Tb = 155\n",
    "    RUL = Lo * 2**((Tb - average_temperature) / 10) / (365 * 24)\n",
    "    \n",
    "    # Output predicted values for Phase A, Phase B, and Phase C along with RUL\n",
    "    print(f\"Predicted value for Temperature-Phase A: {predictions[0, 0]}, RUL: {RUL} years\")\n",
    "    print(f\"Predicted value for Temperature-Phase B: {predictions[0, 1]}, RUL: {RUL} years\")\n",
    "    print(f\"Predicted value for Temperature-Phase C: {predictions[0, 2]}, RUL: {RUL} years\")"
   ]
  }
 ],
 "metadata": {
  "kernelspec": {
   "display_name": "Python 3 (ipykernel)",
   "language": "python",
   "name": "python3"
  },
  "language_info": {
   "codemirror_mode": {
    "name": "ipython",
    "version": 3
   },
   "file_extension": ".py",
   "mimetype": "text/x-python",
   "name": "python",
   "nbconvert_exporter": "python",
   "pygments_lexer": "ipython3",
   "version": "3.11.4"
  }
 },
 "nbformat": 4,
 "nbformat_minor": 5
}
