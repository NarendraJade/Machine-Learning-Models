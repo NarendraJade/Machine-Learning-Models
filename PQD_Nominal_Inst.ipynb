{
 "cells": [
  {
   "cell_type": "code",
   "execution_count": 2,
   "id": "b6357a9d",
   "metadata": {},
   "outputs": [],
   "source": [
    "import sklearn\n",
    "import pandas as pd\n",
    "import numpy as np"
   ]
  },
  {
   "cell_type": "code",
   "execution_count": 3,
   "id": "4fb7134d",
   "metadata": {},
   "outputs": [
    {
     "data": {
      "text/html": [
       "<div>\n",
       "<style scoped>\n",
       "    .dataframe tbody tr th:only-of-type {\n",
       "        vertical-align: middle;\n",
       "    }\n",
       "\n",
       "    .dataframe tbody tr th {\n",
       "        vertical-align: top;\n",
       "    }\n",
       "\n",
       "    .dataframe thead th {\n",
       "        text-align: right;\n",
       "    }\n",
       "</style>\n",
       "<table border=\"1\" class=\"dataframe\">\n",
       "  <thead>\n",
       "    <tr style=\"text-align: right;\">\n",
       "      <th></th>\n",
       "      <th>Vas</th>\n",
       "      <th>Vbs</th>\n",
       "      <th>Vcs</th>\n",
       "      <th>Ias</th>\n",
       "      <th>Ibs</th>\n",
       "      <th>Ics</th>\n",
       "      <th>Phase A</th>\n",
       "      <th>Phase B</th>\n",
       "      <th>Phase C</th>\n",
       "    </tr>\n",
       "  </thead>\n",
       "  <tbody>\n",
       "    <tr>\n",
       "      <th>0</th>\n",
       "      <td>0.000000</td>\n",
       "      <td>-207.500000</td>\n",
       "      <td>207.500000</td>\n",
       "      <td>-2.532899</td>\n",
       "      <td>1.011243</td>\n",
       "      <td>1.521656</td>\n",
       "      <td>26.269462</td>\n",
       "      <td>26.269462</td>\n",
       "      <td>26.269462</td>\n",
       "    </tr>\n",
       "    <tr>\n",
       "      <th>1</th>\n",
       "      <td>0.000000</td>\n",
       "      <td>-207.500000</td>\n",
       "      <td>207.500000</td>\n",
       "      <td>-2.532899</td>\n",
       "      <td>1.011243</td>\n",
       "      <td>1.521656</td>\n",
       "      <td>26.269462</td>\n",
       "      <td>26.269462</td>\n",
       "      <td>26.269462</td>\n",
       "    </tr>\n",
       "    <tr>\n",
       "      <th>2</th>\n",
       "      <td>0.000000</td>\n",
       "      <td>-207.500000</td>\n",
       "      <td>207.500000</td>\n",
       "      <td>-2.532899</td>\n",
       "      <td>1.011243</td>\n",
       "      <td>1.521656</td>\n",
       "      <td>26.269462</td>\n",
       "      <td>26.269462</td>\n",
       "      <td>26.269462</td>\n",
       "    </tr>\n",
       "    <tr>\n",
       "      <th>3</th>\n",
       "      <td>7.526029</td>\n",
       "      <td>-211.160626</td>\n",
       "      <td>203.634597</td>\n",
       "      <td>-2.522393</td>\n",
       "      <td>0.937215</td>\n",
       "      <td>1.585178</td>\n",
       "      <td>26.269462</td>\n",
       "      <td>26.269462</td>\n",
       "      <td>26.269462</td>\n",
       "    </tr>\n",
       "    <tr>\n",
       "      <th>4</th>\n",
       "      <td>15.044631</td>\n",
       "      <td>-214.612862</td>\n",
       "      <td>199.568231</td>\n",
       "      <td>-2.509397</td>\n",
       "      <td>0.862261</td>\n",
       "      <td>1.647136</td>\n",
       "      <td>26.269462</td>\n",
       "      <td>26.269462</td>\n",
       "      <td>26.269462</td>\n",
       "    </tr>\n",
       "  </tbody>\n",
       "</table>\n",
       "</div>"
      ],
      "text/plain": [
       "         Vas         Vbs         Vcs       Ias       Ibs       Ics    Phase A  \\\n",
       "0   0.000000 -207.500000  207.500000 -2.532899  1.011243  1.521656  26.269462   \n",
       "1   0.000000 -207.500000  207.500000 -2.532899  1.011243  1.521656  26.269462   \n",
       "2   0.000000 -207.500000  207.500000 -2.532899  1.011243  1.521656  26.269462   \n",
       "3   7.526029 -211.160626  203.634597 -2.522393  0.937215  1.585178  26.269462   \n",
       "4  15.044631 -214.612862  199.568231 -2.509397  0.862261  1.647136  26.269462   \n",
       "\n",
       "     Phase B    Phase C  \n",
       "0  26.269462  26.269462  \n",
       "1  26.269462  26.269462  \n",
       "2  26.269462  26.269462  \n",
       "3  26.269462  26.269462  \n",
       "4  26.269462  26.269462  "
      ]
     },
     "execution_count": 3,
     "metadata": {},
     "output_type": "execute_result"
    }
   ],
   "source": [
    "df = pd.read_csv(\"C:\\\\Users\\\\Admin\\Desktop\\\\PQD Database\\\\PQD_Nominal_Database\\\\Inst\\\\PQD_Nominal_Inst_Database.csv\")\n",
    "df.head()"
   ]
  },
  {
   "cell_type": "code",
   "execution_count": 4,
   "id": "873d32be",
   "metadata": {},
   "outputs": [
    {
     "data": {
      "text/html": [
       "<div>\n",
       "<style scoped>\n",
       "    .dataframe tbody tr th:only-of-type {\n",
       "        vertical-align: middle;\n",
       "    }\n",
       "\n",
       "    .dataframe tbody tr th {\n",
       "        vertical-align: top;\n",
       "    }\n",
       "\n",
       "    .dataframe thead th {\n",
       "        text-align: right;\n",
       "    }\n",
       "</style>\n",
       "<table border=\"1\" class=\"dataframe\">\n",
       "  <thead>\n",
       "    <tr style=\"text-align: right;\">\n",
       "      <th></th>\n",
       "      <th>Vas</th>\n",
       "      <th>Vbs</th>\n",
       "      <th>Vcs</th>\n",
       "      <th>Ias</th>\n",
       "      <th>Ibs</th>\n",
       "      <th>Ics</th>\n",
       "      <th>Phase A</th>\n",
       "      <th>Phase B</th>\n",
       "      <th>Phase C</th>\n",
       "    </tr>\n",
       "  </thead>\n",
       "  <tbody>\n",
       "    <tr>\n",
       "      <th>count</th>\n",
       "      <td>2.000450e+05</td>\n",
       "      <td>200045.000000</td>\n",
       "      <td>200045.000000</td>\n",
       "      <td>200045.000000</td>\n",
       "      <td>200045.000000</td>\n",
       "      <td>200045.000000</td>\n",
       "      <td>200045.000000</td>\n",
       "      <td>200045.000000</td>\n",
       "      <td>200045.000000</td>\n",
       "    </tr>\n",
       "    <tr>\n",
       "      <th>mean</th>\n",
       "      <td>-1.884413e-13</td>\n",
       "      <td>-0.046677</td>\n",
       "      <td>0.046677</td>\n",
       "      <td>-0.000529</td>\n",
       "      <td>-0.000095</td>\n",
       "      <td>0.000625</td>\n",
       "      <td>35.537775</td>\n",
       "      <td>35.537775</td>\n",
       "      <td>35.537775</td>\n",
       "    </tr>\n",
       "    <tr>\n",
       "      <th>std</th>\n",
       "      <td>1.694044e+02</td>\n",
       "      <td>169.432985</td>\n",
       "      <td>169.432985</td>\n",
       "      <td>2.268340</td>\n",
       "      <td>2.268128</td>\n",
       "      <td>2.268492</td>\n",
       "      <td>9.521250</td>\n",
       "      <td>9.521250</td>\n",
       "      <td>9.521250</td>\n",
       "    </tr>\n",
       "    <tr>\n",
       "      <th>min</th>\n",
       "      <td>-2.396004e+02</td>\n",
       "      <td>-239.587224</td>\n",
       "      <td>-239.587224</td>\n",
       "      <td>-4.197740</td>\n",
       "      <td>-4.197457</td>\n",
       "      <td>-4.197563</td>\n",
       "      <td>26.269462</td>\n",
       "      <td>26.269462</td>\n",
       "      <td>26.269462</td>\n",
       "    </tr>\n",
       "    <tr>\n",
       "      <th>25%</th>\n",
       "      <td>-1.694230e+02</td>\n",
       "      <td>-171.187913</td>\n",
       "      <td>-167.639589</td>\n",
       "      <td>-2.132455</td>\n",
       "      <td>-2.112376</td>\n",
       "      <td>-2.118552</td>\n",
       "      <td>27.274632</td>\n",
       "      <td>27.274632</td>\n",
       "      <td>27.274632</td>\n",
       "    </tr>\n",
       "    <tr>\n",
       "      <th>50%</th>\n",
       "      <td>0.000000e+00</td>\n",
       "      <td>-2.509043</td>\n",
       "      <td>2.509043</td>\n",
       "      <td>-0.005073</td>\n",
       "      <td>-0.001610</td>\n",
       "      <td>0.000636</td>\n",
       "      <td>32.037001</td>\n",
       "      <td>32.037001</td>\n",
       "      <td>32.037001</td>\n",
       "    </tr>\n",
       "    <tr>\n",
       "      <th>75%</th>\n",
       "      <td>1.694230e+02</td>\n",
       "      <td>167.639589</td>\n",
       "      <td>171.187913</td>\n",
       "      <td>2.123045</td>\n",
       "      <td>2.112376</td>\n",
       "      <td>2.119557</td>\n",
       "      <td>40.324372</td>\n",
       "      <td>40.324372</td>\n",
       "      <td>40.324372</td>\n",
       "    </tr>\n",
       "    <tr>\n",
       "      <th>max</th>\n",
       "      <td>2.396004e+02</td>\n",
       "      <td>239.587224</td>\n",
       "      <td>239.587224</td>\n",
       "      <td>4.197740</td>\n",
       "      <td>4.197456</td>\n",
       "      <td>4.197563</td>\n",
       "      <td>51.783459</td>\n",
       "      <td>51.783460</td>\n",
       "      <td>51.783459</td>\n",
       "    </tr>\n",
       "  </tbody>\n",
       "</table>\n",
       "</div>"
      ],
      "text/plain": [
       "                Vas            Vbs            Vcs            Ias  \\\n",
       "count  2.000450e+05  200045.000000  200045.000000  200045.000000   \n",
       "mean  -1.884413e-13      -0.046677       0.046677      -0.000529   \n",
       "std    1.694044e+02     169.432985     169.432985       2.268340   \n",
       "min   -2.396004e+02    -239.587224    -239.587224      -4.197740   \n",
       "25%   -1.694230e+02    -171.187913    -167.639589      -2.132455   \n",
       "50%    0.000000e+00      -2.509043       2.509043      -0.005073   \n",
       "75%    1.694230e+02     167.639589     171.187913       2.123045   \n",
       "max    2.396004e+02     239.587224     239.587224       4.197740   \n",
       "\n",
       "                 Ibs            Ics        Phase A        Phase B  \\\n",
       "count  200045.000000  200045.000000  200045.000000  200045.000000   \n",
       "mean       -0.000095       0.000625      35.537775      35.537775   \n",
       "std         2.268128       2.268492       9.521250       9.521250   \n",
       "min        -4.197457      -4.197563      26.269462      26.269462   \n",
       "25%        -2.112376      -2.118552      27.274632      27.274632   \n",
       "50%        -0.001610       0.000636      32.037001      32.037001   \n",
       "75%         2.112376       2.119557      40.324372      40.324372   \n",
       "max         4.197456       4.197563      51.783459      51.783460   \n",
       "\n",
       "             Phase C  \n",
       "count  200045.000000  \n",
       "mean       35.537775  \n",
       "std         9.521250  \n",
       "min        26.269462  \n",
       "25%        27.274632  \n",
       "50%        32.037001  \n",
       "75%        40.324372  \n",
       "max        51.783459  "
      ]
     },
     "execution_count": 4,
     "metadata": {},
     "output_type": "execute_result"
    }
   ],
   "source": [
    "df.describe()"
   ]
  },
  {
   "cell_type": "code",
   "execution_count": 5,
   "id": "59f7e811",
   "metadata": {},
   "outputs": [
    {
     "name": "stdout",
     "output_type": "stream",
     "text": [
      "<class 'pandas.core.frame.DataFrame'>\n",
      "RangeIndex: 200045 entries, 0 to 200044\n",
      "Data columns (total 9 columns):\n",
      " #   Column   Non-Null Count   Dtype  \n",
      "---  ------   --------------   -----  \n",
      " 0   Vas      200045 non-null  float64\n",
      " 1   Vbs      200045 non-null  float64\n",
      " 2   Vcs      200045 non-null  float64\n",
      " 3   Ias      200045 non-null  float64\n",
      " 4   Ibs      200045 non-null  float64\n",
      " 5   Ics      200045 non-null  float64\n",
      " 6   Phase A  200045 non-null  float64\n",
      " 7   Phase B  200045 non-null  float64\n",
      " 8   Phase C  200045 non-null  float64\n",
      "dtypes: float64(9)\n",
      "memory usage: 13.7 MB\n"
     ]
    }
   ],
   "source": [
    "df.info()"
   ]
  },
  {
   "cell_type": "code",
   "execution_count": 6,
   "id": "695768a0",
   "metadata": {
    "scrolled": true
   },
   "outputs": [
    {
     "name": "stdout",
     "output_type": "stream",
     "text": [
      "              Vas         Vbs         Vcs       Ias       Ibs       Ics\n",
      "0        0.000000 -207.500000  207.500000 -2.532899  1.011243  1.521656\n",
      "1        0.000000 -207.500000  207.500000 -2.532899  1.011243  1.521656\n",
      "2        0.000000 -207.500000  207.500000 -2.532899  1.011243  1.521656\n",
      "3        7.526029 -211.160626  203.634597 -2.522393  0.937215  1.585178\n",
      "4       15.044631 -214.612862  199.568231 -2.509397  0.862261  1.647136\n",
      "...           ...         ...         ...       ...       ...       ...\n",
      "200040 -30.029888 -190.848857  220.878745 -2.671829 -1.467969  4.139798\n",
      "200041 -22.548386 -195.304915  217.853301 -2.568814 -1.590773  4.159587\n",
      "200042 -15.044631 -199.568231  214.612862 -2.463264 -1.712008  4.175272\n",
      "200043  -7.526029 -203.634597  211.160626 -2.355282 -1.831553  4.186835\n",
      "200044   0.000000 -207.500000  207.500000 -2.244977 -1.949291  4.194267\n",
      "\n",
      "[200045 rows x 6 columns]\n"
     ]
    }
   ],
   "source": [
    "X = df[[\"Vas\",\"Vbs\",\"Vcs\",\"Ias\",\"Ibs\",\"Ics\"]]\n",
    "Y = df[[\"Phase A\",\"Phase B\",\"Phase C\"]]\n",
    "print(X)"
   ]
  },
  {
   "cell_type": "code",
   "execution_count": 7,
   "id": "086b4c93",
   "metadata": {},
   "outputs": [
    {
     "name": "stdout",
     "output_type": "stream",
     "text": [
      "          Phase A    Phase B    Phase C\n",
      "0       26.269462  26.269462  26.269462\n",
      "1       26.269462  26.269462  26.269462\n",
      "2       26.269462  26.269462  26.269462\n",
      "3       26.269462  26.269462  26.269462\n",
      "4       26.269462  26.269462  26.269462\n",
      "...           ...        ...        ...\n",
      "200040  51.783408  51.783408  51.783408\n",
      "200041  51.783408  51.783408  51.783408\n",
      "200042  51.783408  51.783408  51.783408\n",
      "200043  51.783408  51.783408  51.783408\n",
      "200044  51.783408  51.783408  51.783408\n",
      "\n",
      "[200045 rows x 3 columns]\n"
     ]
    }
   ],
   "source": [
    "print(Y)"
   ]
  },
  {
   "cell_type": "code",
   "execution_count": 8,
   "id": "d60f7d9f",
   "metadata": {},
   "outputs": [
    {
     "name": "stdout",
     "output_type": "stream",
     "text": [
      "               Vas         Vbs         Vcs       Ias       Ibs       Ics\n",
      "27886   140.833559   97.454247 -238.287806  2.222371 -2.194058 -0.028313\n",
      "175954 -102.016872  238.760050 -136.743177  0.521083  3.346690 -3.867773\n",
      "89658   222.774782 -187.773236  -35.001546  0.799442 -2.833812  2.034370\n",
      "75920   -22.548386  217.853301 -195.304915  2.306736 -0.087176 -2.219561\n",
      "180254   88.202776 -237.030009  148.827233 -0.781594 -3.180981  3.962575\n",
      "...            ...         ...         ...       ...       ...       ...\n",
      "176963 -158.450562  234.873328  -76.422766 -0.661681  3.920743 -3.259062\n",
      "117952 -174.661147  229.374098  -54.712951  0.291366  2.372344 -2.663710\n",
      "173685  236.650484 -150.785393  -85.865090  3.152124 -3.976864  0.824740\n",
      "43567  -235.356381   78.796568  156.559813 -1.442752  2.609865 -1.167113\n",
      "199340   30.029888  190.848857 -220.878745  2.671829  1.467969 -4.139798\n",
      "\n",
      "[160036 rows x 6 columns]\n"
     ]
    }
   ],
   "source": [
    "from sklearn.model_selection import train_test_split\n",
    "x_train, x_test, y_train, y_test = train_test_split(X,Y,test_size=0.2,random_state=0)\n",
    "#test size = 0.2 denotes that 20% of the data will be in the test state. Random_state provides the seed value.\n",
    "print(x_train)"
   ]
  },
  {
   "cell_type": "code",
   "execution_count": 9,
   "id": "b0e997cc",
   "metadata": {},
   "outputs": [
    {
     "name": "stdout",
     "output_type": "stream",
     "text": [
      "          Phase A    Phase B    Phase C\n",
      "27886   26.269462  26.269462  26.269462\n",
      "175954  51.783408  51.783408  51.783408\n",
      "89658   32.037001  32.037001  32.037001\n",
      "75920   27.274632  27.274632  27.274632\n",
      "180254  51.783408  51.783408  51.783408\n",
      "...           ...        ...        ...\n",
      "176963  51.783408  51.783408  51.783408\n",
      "117952  32.037001  32.037001  32.037001\n",
      "173685  51.783408  51.783408  51.783408\n",
      "43567   27.274632  27.274632  27.274632\n",
      "199340  51.783408  51.783408  51.783408\n",
      "\n",
      "[160036 rows x 3 columns]\n"
     ]
    }
   ],
   "source": [
    "print(y_train)"
   ]
  },
  {
   "cell_type": "code",
   "execution_count": 10,
   "id": "b41df6ee",
   "metadata": {},
   "outputs": [
    {
     "name": "stdout",
     "output_type": "stream",
     "text": [
      "               Vas         Vbs         Vcs       Ias       Ibs       Ics\n",
      "134495  216.796889  -20.049242 -196.747647  3.329851 -2.470651 -0.859201\n",
      "175905  213.485486  -12.539714 -200.945771  4.179585 -2.427535 -1.752050\n",
      "198246   15.044631 -214.612862  199.568231 -2.017830 -2.178880  4.196710\n",
      "36300    59.586187  171.187913 -230.774099  2.526609 -1.561631 -0.964978\n",
      "109986 -222.774782   35.001546  187.773236 -2.506788  2.553833 -0.047045\n",
      "...            ...         ...         ...       ...       ...       ...\n",
      "15569  -213.485486   12.539714  200.945771 -1.412480  2.544851 -1.132370\n",
      "72979  -222.774782   35.001546  187.773236 -1.825808  2.533817 -0.708009\n",
      "117705  146.852752   90.530789 -237.383541  2.922083 -1.475285 -1.446798\n",
      "197183 -225.435373  183.005805   42.429568 -2.576831  4.158210 -1.581379\n",
      "72525   -59.586187  230.774099 -171.187913  2.085745  0.322701 -2.408446\n",
      "\n",
      "[40009 rows x 6 columns]\n"
     ]
    }
   ],
   "source": [
    "print(x_test)"
   ]
  },
  {
   "cell_type": "code",
   "execution_count": 11,
   "id": "7effd43d",
   "metadata": {},
   "outputs": [
    {
     "name": "stdout",
     "output_type": "stream",
     "text": [
      "          Phase A    Phase B    Phase C\n",
      "134495  40.324372  40.324372  40.324372\n",
      "175905  51.783408  51.783408  51.783408\n",
      "198246  51.783408  51.783408  51.783408\n",
      "36300   26.269462  26.269462  26.269462\n",
      "109986  32.037001  32.037001  32.037001\n",
      "...           ...        ...        ...\n",
      "15569   26.269462  26.269462  26.269462\n",
      "72979   27.274632  27.274632  27.274632\n",
      "117705  32.037001  32.037001  32.037001\n",
      "197183  51.783408  51.783408  51.783408\n",
      "72525   27.274632  27.274632  27.274632\n",
      "\n",
      "[40009 rows x 3 columns]\n"
     ]
    }
   ],
   "source": [
    "print(y_test)"
   ]
  },
  {
   "cell_type": "code",
   "execution_count": 12,
   "id": "e44a9c68",
   "metadata": {},
   "outputs": [
    {
     "name": "stdout",
     "output_type": "stream",
     "text": [
      "LinearRegression()\n"
     ]
    },
    {
     "data": {
      "text/html": [
       "<style>#sk-container-id-1 {color: black;}#sk-container-id-1 pre{padding: 0;}#sk-container-id-1 div.sk-toggleable {background-color: white;}#sk-container-id-1 label.sk-toggleable__label {cursor: pointer;display: block;width: 100%;margin-bottom: 0;padding: 0.3em;box-sizing: border-box;text-align: center;}#sk-container-id-1 label.sk-toggleable__label-arrow:before {content: \"▸\";float: left;margin-right: 0.25em;color: #696969;}#sk-container-id-1 label.sk-toggleable__label-arrow:hover:before {color: black;}#sk-container-id-1 div.sk-estimator:hover label.sk-toggleable__label-arrow:before {color: black;}#sk-container-id-1 div.sk-toggleable__content {max-height: 0;max-width: 0;overflow: hidden;text-align: left;background-color: #f0f8ff;}#sk-container-id-1 div.sk-toggleable__content pre {margin: 0.2em;color: black;border-radius: 0.25em;background-color: #f0f8ff;}#sk-container-id-1 input.sk-toggleable__control:checked~div.sk-toggleable__content {max-height: 200px;max-width: 100%;overflow: auto;}#sk-container-id-1 input.sk-toggleable__control:checked~label.sk-toggleable__label-arrow:before {content: \"▾\";}#sk-container-id-1 div.sk-estimator input.sk-toggleable__control:checked~label.sk-toggleable__label {background-color: #d4ebff;}#sk-container-id-1 div.sk-label input.sk-toggleable__control:checked~label.sk-toggleable__label {background-color: #d4ebff;}#sk-container-id-1 input.sk-hidden--visually {border: 0;clip: rect(1px 1px 1px 1px);clip: rect(1px, 1px, 1px, 1px);height: 1px;margin: -1px;overflow: hidden;padding: 0;position: absolute;width: 1px;}#sk-container-id-1 div.sk-estimator {font-family: monospace;background-color: #f0f8ff;border: 1px dotted black;border-radius: 0.25em;box-sizing: border-box;margin-bottom: 0.5em;}#sk-container-id-1 div.sk-estimator:hover {background-color: #d4ebff;}#sk-container-id-1 div.sk-parallel-item::after {content: \"\";width: 100%;border-bottom: 1px solid gray;flex-grow: 1;}#sk-container-id-1 div.sk-label:hover label.sk-toggleable__label {background-color: #d4ebff;}#sk-container-id-1 div.sk-serial::before {content: \"\";position: absolute;border-left: 1px solid gray;box-sizing: border-box;top: 0;bottom: 0;left: 50%;z-index: 0;}#sk-container-id-1 div.sk-serial {display: flex;flex-direction: column;align-items: center;background-color: white;padding-right: 0.2em;padding-left: 0.2em;position: relative;}#sk-container-id-1 div.sk-item {position: relative;z-index: 1;}#sk-container-id-1 div.sk-parallel {display: flex;align-items: stretch;justify-content: center;background-color: white;position: relative;}#sk-container-id-1 div.sk-item::before, #sk-container-id-1 div.sk-parallel-item::before {content: \"\";position: absolute;border-left: 1px solid gray;box-sizing: border-box;top: 0;bottom: 0;left: 50%;z-index: -1;}#sk-container-id-1 div.sk-parallel-item {display: flex;flex-direction: column;z-index: 1;position: relative;background-color: white;}#sk-container-id-1 div.sk-parallel-item:first-child::after {align-self: flex-end;width: 50%;}#sk-container-id-1 div.sk-parallel-item:last-child::after {align-self: flex-start;width: 50%;}#sk-container-id-1 div.sk-parallel-item:only-child::after {width: 0;}#sk-container-id-1 div.sk-dashed-wrapped {border: 1px dashed gray;margin: 0 0.4em 0.5em 0.4em;box-sizing: border-box;padding-bottom: 0.4em;background-color: white;}#sk-container-id-1 div.sk-label label {font-family: monospace;font-weight: bold;display: inline-block;line-height: 1.2em;}#sk-container-id-1 div.sk-label-container {text-align: center;}#sk-container-id-1 div.sk-container {/* jupyter's `normalize.less` sets `[hidden] { display: none; }` but bootstrap.min.css set `[hidden] { display: none !important; }` so we also need the `!important` here to be able to override the default hidden behavior on the sphinx rendered scikit-learn.org. See: https://github.com/scikit-learn/scikit-learn/issues/21755 */display: inline-block !important;position: relative;}#sk-container-id-1 div.sk-text-repr-fallback {display: none;}</style><div id=\"sk-container-id-1\" class=\"sk-top-container\"><div class=\"sk-text-repr-fallback\"><pre>LinearRegression()</pre><b>In a Jupyter environment, please rerun this cell to show the HTML representation or trust the notebook. <br />On GitHub, the HTML representation is unable to render, please try loading this page with nbviewer.org.</b></div><div class=\"sk-container\" hidden><div class=\"sk-item\"><div class=\"sk-estimator sk-toggleable\"><input class=\"sk-toggleable__control sk-hidden--visually\" id=\"sk-estimator-id-1\" type=\"checkbox\" checked><label for=\"sk-estimator-id-1\" class=\"sk-toggleable__label sk-toggleable__label-arrow\">LinearRegression</label><div class=\"sk-toggleable__content\"><pre>LinearRegression()</pre></div></div></div></div></div>"
      ],
      "text/plain": [
       "LinearRegression()"
      ]
     },
     "execution_count": 12,
     "metadata": {},
     "output_type": "execute_result"
    }
   ],
   "source": [
    "from sklearn.linear_model import LinearRegression\n",
    "regressor = LinearRegression()\n",
    "print(regressor)\n",
    "regressor.fit(x_train,y_train)#Used to find the most accurate equation for our LR model as per the dataset"
   ]
  },
  {
   "cell_type": "code",
   "execution_count": 13,
   "id": "a109461d",
   "metadata": {},
   "outputs": [
    {
     "name": "stdout",
     "output_type": "stream",
     "text": [
      "[35.52285348 35.52285348 35.52285348]\n",
      "[[   -44567.93593344    -44567.93575       -44567.93545864\n",
      "  -30479324.10224497 -30479324.13811329 -30479324.12362632]\n",
      " [   -44567.93764957    -44567.93746613    -44567.93717477\n",
      "  -30479324.04373344 -30479324.07960176 -30479324.06511479]\n",
      " [   -44567.93684512    -44567.93666168    -44567.93637032\n",
      "  -30479324.13928072 -30479324.17514903 -30479324.16066206]]\n"
     ]
    }
   ],
   "source": [
    "print(regressor.intercept_)#value of b\n",
    "print(regressor.coef_)#We will get 10 coefficients for 10 variables"
   ]
  },
  {
   "cell_type": "code",
   "execution_count": 14,
   "id": "bc88d6f2",
   "metadata": {},
   "outputs": [
    {
     "name": "stdout",
     "output_type": "stream",
     "text": [
      "        phase A    Phase B  phase C\n",
      "134495      NaN  40.324372      NaN\n",
      "175905      NaN  51.783408      NaN\n",
      "198246      NaN  51.783408      NaN\n",
      "36300       NaN  26.269462      NaN\n",
      "109986      NaN  32.037001      NaN\n",
      "...         ...        ...      ...\n",
      "15569       NaN  26.269462      NaN\n",
      "72979       NaN  27.274632      NaN\n",
      "117705      NaN  32.037001      NaN\n",
      "197183      NaN  51.783408      NaN\n",
      "72525       NaN  27.274632      NaN\n",
      "\n",
      "[40009 rows x 3 columns]\n"
     ]
    }
   ],
   "source": [
    "column_names = [\"phase A\", \"Phase B\", \"phase C\"]\n",
    "y_test_df = pd.DataFrame(data=y_test, columns=column_names)\n",
    "print(y_test_df)"
   ]
  },
  {
   "cell_type": "code",
   "execution_count": 15,
   "id": "1c8d00ec",
   "metadata": {},
   "outputs": [],
   "source": [
    "y_test_a = y_test[\"Phase A\"]\n",
    "y_test_b = y_test[\"Phase B\"]\n",
    "y_test_c = y_test[\"Phase C\"]"
   ]
  },
  {
   "cell_type": "code",
   "execution_count": 16,
   "id": "22b5c829",
   "metadata": {},
   "outputs": [
    {
     "name": "stdout",
     "output_type": "stream",
     "text": [
      "        Actual Phase A  Predicted Phase A  Actual Phase B  Predicted Phase B  \\\n",
      "134495       40.324372          35.529629       40.324372          35.529629   \n",
      "175905       51.783408          35.547448       51.783408          35.547449   \n",
      "198246       51.783408          35.562650       51.783408          35.562650   \n",
      "36300        26.269462          35.520439       26.269462          35.520439   \n",
      "109986       32.037001          35.528724       32.037001          35.528724   \n",
      "...                ...                ...             ...                ...   \n",
      "15569        26.269462          35.555723       26.269462          35.555723   \n",
      "72979        27.274632          35.543575       27.274632          35.543575   \n",
      "117705       32.037001          35.506590       32.037001          35.506590   \n",
      "197183       51.783408          35.494833       51.783408          35.494833   \n",
      "72525        27.274632          35.524719       27.274632          35.524719   \n",
      "\n",
      "        Actual Phase C  Predicted Phase C  \n",
      "134495       40.324372          35.529629  \n",
      "175905       51.783408          35.547449  \n",
      "198246       51.783408          35.562650  \n",
      "36300        26.269462          35.520439  \n",
      "109986       32.037001          35.528724  \n",
      "...                ...                ...  \n",
      "15569        26.269462          35.555723  \n",
      "72979        27.274632          35.543575  \n",
      "117705       32.037001          35.506590  \n",
      "197183       51.783408          35.494833  \n",
      "72525        27.274632          35.524719  \n",
      "\n",
      "[40009 rows x 6 columns]\n"
     ]
    }
   ],
   "source": [
    "y_test_predict = regressor.predict(x_test)\n",
    "y_test_predict_a = y_test_predict[:, 0]\n",
    "y_test_predict_b = y_test_predict[:, 1]\n",
    "y_test_predict_c = y_test_predict[:, 2]\n",
    "df_a = pd.DataFrame({\"Actual Phase A\": y_test_a, \"Predicted Phase A\": y_test_predict_a})\n",
    "df_b = pd.DataFrame({\"Actual Phase B\": y_test_b, \"Predicted Phase B\": y_test_predict_b})\n",
    "df_c = pd.DataFrame({\"Actual Phase C\": y_test_c, \"Predicted Phase C\": y_test_predict_c})\n",
    "comparison_df = pd.concat([df_a, df_b, df_c], axis=1)\n",
    "print(comparison_df)"
   ]
  },
  {
   "cell_type": "code",
   "execution_count": 25,
   "id": "2695c068",
   "metadata": {},
   "outputs": [
    {
     "name": "stdout",
     "output_type": "stream",
     "text": [
      "Calculating error(Test Dataset)-: \n",
      "\n",
      "Mean Absolute Error: 0.14976367688444345\n",
      "Mean Squared Error: 0.07326923470967624\n",
      "Root Mean Squared Error: 0.27068290435429465\n"
     ]
    }
   ],
   "source": [
    "print(\"Calculating error(Test Dataset)-: \\n\")\n",
    "from sklearn import metrics\n",
    "print('Mean Absolute Error:', metrics.mean_absolute_error(y_test, y_test_predict))  \n",
    "print('Mean Squared Error:', metrics.mean_squared_error(y_test, y_test_predict))  \n",
    "print('Root Mean Squared Error:', np.sqrt(metrics.mean_squared_error(y_test, y_test_predict)))"
   ]
  },
  {
   "cell_type": "code",
   "execution_count": 17,
   "id": "aaade471",
   "metadata": {},
   "outputs": [],
   "source": [
    "from sklearn.ensemble import RandomForestRegressor"
   ]
  },
  {
   "cell_type": "code",
   "execution_count": 18,
   "id": "c1fb5e8a",
   "metadata": {},
   "outputs": [
    {
     "data": {
      "text/html": [
       "<style>#sk-container-id-2 {color: black;}#sk-container-id-2 pre{padding: 0;}#sk-container-id-2 div.sk-toggleable {background-color: white;}#sk-container-id-2 label.sk-toggleable__label {cursor: pointer;display: block;width: 100%;margin-bottom: 0;padding: 0.3em;box-sizing: border-box;text-align: center;}#sk-container-id-2 label.sk-toggleable__label-arrow:before {content: \"▸\";float: left;margin-right: 0.25em;color: #696969;}#sk-container-id-2 label.sk-toggleable__label-arrow:hover:before {color: black;}#sk-container-id-2 div.sk-estimator:hover label.sk-toggleable__label-arrow:before {color: black;}#sk-container-id-2 div.sk-toggleable__content {max-height: 0;max-width: 0;overflow: hidden;text-align: left;background-color: #f0f8ff;}#sk-container-id-2 div.sk-toggleable__content pre {margin: 0.2em;color: black;border-radius: 0.25em;background-color: #f0f8ff;}#sk-container-id-2 input.sk-toggleable__control:checked~div.sk-toggleable__content {max-height: 200px;max-width: 100%;overflow: auto;}#sk-container-id-2 input.sk-toggleable__control:checked~label.sk-toggleable__label-arrow:before {content: \"▾\";}#sk-container-id-2 div.sk-estimator input.sk-toggleable__control:checked~label.sk-toggleable__label {background-color: #d4ebff;}#sk-container-id-2 div.sk-label input.sk-toggleable__control:checked~label.sk-toggleable__label {background-color: #d4ebff;}#sk-container-id-2 input.sk-hidden--visually {border: 0;clip: rect(1px 1px 1px 1px);clip: rect(1px, 1px, 1px, 1px);height: 1px;margin: -1px;overflow: hidden;padding: 0;position: absolute;width: 1px;}#sk-container-id-2 div.sk-estimator {font-family: monospace;background-color: #f0f8ff;border: 1px dotted black;border-radius: 0.25em;box-sizing: border-box;margin-bottom: 0.5em;}#sk-container-id-2 div.sk-estimator:hover {background-color: #d4ebff;}#sk-container-id-2 div.sk-parallel-item::after {content: \"\";width: 100%;border-bottom: 1px solid gray;flex-grow: 1;}#sk-container-id-2 div.sk-label:hover label.sk-toggleable__label {background-color: #d4ebff;}#sk-container-id-2 div.sk-serial::before {content: \"\";position: absolute;border-left: 1px solid gray;box-sizing: border-box;top: 0;bottom: 0;left: 50%;z-index: 0;}#sk-container-id-2 div.sk-serial {display: flex;flex-direction: column;align-items: center;background-color: white;padding-right: 0.2em;padding-left: 0.2em;position: relative;}#sk-container-id-2 div.sk-item {position: relative;z-index: 1;}#sk-container-id-2 div.sk-parallel {display: flex;align-items: stretch;justify-content: center;background-color: white;position: relative;}#sk-container-id-2 div.sk-item::before, #sk-container-id-2 div.sk-parallel-item::before {content: \"\";position: absolute;border-left: 1px solid gray;box-sizing: border-box;top: 0;bottom: 0;left: 50%;z-index: -1;}#sk-container-id-2 div.sk-parallel-item {display: flex;flex-direction: column;z-index: 1;position: relative;background-color: white;}#sk-container-id-2 div.sk-parallel-item:first-child::after {align-self: flex-end;width: 50%;}#sk-container-id-2 div.sk-parallel-item:last-child::after {align-self: flex-start;width: 50%;}#sk-container-id-2 div.sk-parallel-item:only-child::after {width: 0;}#sk-container-id-2 div.sk-dashed-wrapped {border: 1px dashed gray;margin: 0 0.4em 0.5em 0.4em;box-sizing: border-box;padding-bottom: 0.4em;background-color: white;}#sk-container-id-2 div.sk-label label {font-family: monospace;font-weight: bold;display: inline-block;line-height: 1.2em;}#sk-container-id-2 div.sk-label-container {text-align: center;}#sk-container-id-2 div.sk-container {/* jupyter's `normalize.less` sets `[hidden] { display: none; }` but bootstrap.min.css set `[hidden] { display: none !important; }` so we also need the `!important` here to be able to override the default hidden behavior on the sphinx rendered scikit-learn.org. See: https://github.com/scikit-learn/scikit-learn/issues/21755 */display: inline-block !important;position: relative;}#sk-container-id-2 div.sk-text-repr-fallback {display: none;}</style><div id=\"sk-container-id-2\" class=\"sk-top-container\"><div class=\"sk-text-repr-fallback\"><pre>RandomForestRegressor(max_depth=20)</pre><b>In a Jupyter environment, please rerun this cell to show the HTML representation or trust the notebook. <br />On GitHub, the HTML representation is unable to render, please try loading this page with nbviewer.org.</b></div><div class=\"sk-container\" hidden><div class=\"sk-item\"><div class=\"sk-estimator sk-toggleable\"><input class=\"sk-toggleable__control sk-hidden--visually\" id=\"sk-estimator-id-2\" type=\"checkbox\" checked><label for=\"sk-estimator-id-2\" class=\"sk-toggleable__label sk-toggleable__label-arrow\">RandomForestRegressor</label><div class=\"sk-toggleable__content\"><pre>RandomForestRegressor(max_depth=20)</pre></div></div></div></div></div>"
      ],
      "text/plain": [
       "RandomForestRegressor(max_depth=20)"
      ]
     },
     "execution_count": 18,
     "metadata": {},
     "output_type": "execute_result"
    }
   ],
   "source": [
    "rf=RandomForestRegressor(n_estimators=100, max_depth=20)\n",
    "rf.fit(x_train,y_train)"
   ]
  },
  {
   "cell_type": "code",
   "execution_count": 26,
   "id": "d63e44c4",
   "metadata": {},
   "outputs": [
    {
     "name": "stdout",
     "output_type": "stream",
     "text": [
      "        Actual Phase A  Predicted Phase A  Actual Phase B  Predicted Phase B  \\\n",
      "134495       40.324372          40.324372       40.324372          40.324372   \n",
      "175905       51.783408          51.783410       51.783408          51.783410   \n",
      "198246       51.783408          51.783410       51.783408          51.783410   \n",
      "36300        26.269462          26.647223       26.269462          26.647223   \n",
      "109986       32.037001          32.037001       32.037001          32.037001   \n",
      "...                ...                ...             ...                ...   \n",
      "15569        26.269462          26.647223       26.269462          26.647223   \n",
      "72979        27.274632          26.647223       27.274632          26.647223   \n",
      "117705       32.037001          32.037001       32.037001          32.037001   \n",
      "197183       51.783408          51.783410       51.783408          51.783410   \n",
      "72525        27.274632          26.690570       27.274632          26.690570   \n",
      "\n",
      "        Actual Phase C  Predicted Phase C  \n",
      "134495       40.324372          40.324372  \n",
      "175905       51.783408          51.783410  \n",
      "198246       51.783408          51.783410  \n",
      "36300        26.269462          26.647223  \n",
      "109986       32.037001          32.037001  \n",
      "...                ...                ...  \n",
      "15569        26.269462          26.647223  \n",
      "72979        27.274632          26.647223  \n",
      "117705       32.037001          32.037001  \n",
      "197183       51.783408          51.783410  \n",
      "72525        27.274632          26.690570  \n",
      "\n",
      "[40009 rows x 6 columns]\n"
     ]
    }
   ],
   "source": [
    "y_test_predict_rf = rf.predict(x_test)\n",
    "y_test_predict_a = y_test_predict[:, 0]\n",
    "y_test_predict_b = y_test_predict[:, 1]\n",
    "y_test_predict_c = y_test_predict[:, 2]\n",
    "df_a = pd.DataFrame({\"Actual Phase A\": y_test_a, \"Predicted Phase A\": y_test_predict_a})\n",
    "df_b = pd.DataFrame({\"Actual Phase B\": y_test_b, \"Predicted Phase B\": y_test_predict_b})\n",
    "df_c = pd.DataFrame({\"Actual Phase C\": y_test_c, \"Predicted Phase C\": y_test_predict_c})\n",
    "comparison_df = pd.concat([df_a, df_b, df_c], axis=1)\n",
    "print(comparison_df)"
   ]
  },
  {
   "cell_type": "code",
   "execution_count": 28,
   "id": "bcad182e",
   "metadata": {},
   "outputs": [
    {
     "name": "stdout",
     "output_type": "stream",
     "text": [
      "Mean Absolute Error:  0.14976367688444345\n",
      "Mean Squared Error:  0.14976367688444345\n",
      "Root Mean Squared Error:  0.14976367688444345\n"
     ]
    }
   ],
   "source": [
    "from sklearn import metrics\n",
    "print(\"Mean Absolute Error: \",metrics.mean_absolute_error(y_test,y_test_predict_rf))\n",
    "print(\"Mean Squared Error: \",metrics.mean_absolute_error(y_test,y_test_predict_rf))\n",
    "print(\"Root Mean Squared Error: \",metrics.mean_absolute_error(y_test,y_test_predict_rf))"
   ]
  },
  {
   "cell_type": "code",
   "execution_count": 29,
   "id": "59758afb",
   "metadata": {},
   "outputs": [],
   "source": [
    "import pandas as pd\n",
    "import numpy as np\n",
    "from IPython.display import display, HTML\n",
    "\n",
    "def predict_temperatures_from_csv(rf_model, csv_path):\n",
    "    # Read the CSV file into a DataFrame\n",
    "    df = pd.read_csv(csv_path)\n",
    "    \n",
    "    # Extract voltage and current columns\n",
    "    voltage_columns = [\"Vas\", \"Vbs\", \"Vcs\"]\n",
    "    current_columns = [\"Ias\", \"Ibs\", \"Ics\"]\n",
    "    \n",
    "    # Extract voltage and current values from the DataFrame\n",
    "    X = df[voltage_columns + current_columns]\n",
    "    \n",
    "    # Use the trained model to predict temperature values\n",
    "    temperature_predictions = rf_model.predict(X)\n",
    "    \n",
    "    # Create a DataFrame to store the predictions\n",
    "    predictions_df = pd.DataFrame(temperature_predictions, columns=[\"Predicted Phase A\", \"Predicted Phase B\", \"Predicted Phase C\"])\n",
    "    \n",
    "    # Calculate average predicted temperature across phases\n",
    "    predictions_df[\"Average Temperature\"] = predictions_df.mean(axis=1)\n",
    "    \n",
    "    # Concatenate the predictions DataFrame with the original DataFrame\n",
    "    result_df = pd.concat([df, predictions_df], axis=1)\n",
    "    \n",
    "    # Calculate Remaining Useful Life (RUL)\n",
    "    Lo = 20000\n",
    "    Tb = 155\n",
    "    Tc = result_df[\"Average Temperature\"]\n",
    "    result_df[\"RUL\"] = Lo * 2**((Tb - Tc) / 10)\n",
    "    \n",
    "    # Convert RUL from hours to years\n",
    "    result_df[\"RUL\"] /= (365 * 24)\n",
    "    \n",
    "    # Drop unnamed columns\n",
    "    result_df = result_df.drop(result_df.columns[result_df.columns.str.contains('Unnamed', case=False)], axis=1)\n",
    "    \n",
    "    # Display DataFrame with bold column headings\n",
    "    display(HTML(result_df.style.set_table_styles([{'selector': 'th', 'props': [('font-weight', 'bold')]}]).render()))\n",
    "    \n",
    "    return result_df"
   ]
  },
  {
   "cell_type": "code",
   "execution_count": 30,
   "id": "dbad3d48",
   "metadata": {},
   "outputs": [],
   "source": [
    "import numpy as np\n",
    "\n",
    "def predict_values(rf_model, v1, v2, v3, i1, i2, i3):\n",
    "    # Convert feature values to numpy array\n",
    "    user_input_array = np.array([v1, v2, v3, i1, i2, i3]).reshape(1, -1)\n",
    "    \n",
    "    # Make prediction using the trained Random Forest Regressor\n",
    "    predictions = rf_model.predict(user_input_array)\n",
    "    \n",
    "    # Calculate RUL\n",
    "    Lo = 20000\n",
    "    Tb = 155\n",
    "    Tc = np.mean(predictions)\n",
    "    RUL = (Lo * 2**((Tb - Tc) / 10)) / (365 * 24)\n",
    "    \n",
    "    # Output predicted values for Phase A, Phase B, and Phase C\n",
    "    print(f\"Predicted value for Temperature-Phase A: {predictions[0, 0]}, RUL: {RUL} years\")\n",
    "    print(f\"Predicted value for Temperature-Phase B: {predictions[0, 1]}, RUL: {RUL} years\")\n",
    "    print(f\"Predicted value for Temperature-Phase C: {predictions[0, 2]}, RUL: {RUL} years\")"
   ]
  }
 ],
 "metadata": {
  "kernelspec": {
   "display_name": "Python 3 (ipykernel)",
   "language": "python",
   "name": "python3"
  },
  "language_info": {
   "codemirror_mode": {
    "name": "ipython",
    "version": 3
   },
   "file_extension": ".py",
   "mimetype": "text/x-python",
   "name": "python",
   "nbconvert_exporter": "python",
   "pygments_lexer": "ipython3",
   "version": "3.11.4"
  }
 },
 "nbformat": 4,
 "nbformat_minor": 5
}
