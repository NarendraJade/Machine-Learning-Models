{
 "cells": [
  {
   "cell_type": "code",
   "execution_count": 2,
   "id": "907aa138",
   "metadata": {},
   "outputs": [],
   "source": [
    "import sklearn\n",
    "import pandas as pd\n",
    "import numpy as np"
   ]
  },
  {
   "cell_type": "code",
   "execution_count": 3,
   "id": "1dc6db2a",
   "metadata": {},
   "outputs": [
    {
     "data": {
      "text/html": [
       "<div>\n",
       "<style scoped>\n",
       "    .dataframe tbody tr th:only-of-type {\n",
       "        vertical-align: middle;\n",
       "    }\n",
       "\n",
       "    .dataframe tbody tr th {\n",
       "        vertical-align: top;\n",
       "    }\n",
       "\n",
       "    .dataframe thead th {\n",
       "        text-align: right;\n",
       "    }\n",
       "</style>\n",
       "<table border=\"1\" class=\"dataframe\">\n",
       "  <thead>\n",
       "    <tr style=\"text-align: right;\">\n",
       "      <th></th>\n",
       "      <th>Vas_RMS</th>\n",
       "      <th>Vbs_RMS</th>\n",
       "      <th>Vcs_RMS</th>\n",
       "      <th>Ias_RMS</th>\n",
       "      <th>Ibs_RMS</th>\n",
       "      <th>Ics_RMS</th>\n",
       "      <th>phase A</th>\n",
       "      <th>Phase B</th>\n",
       "      <th>phase C</th>\n",
       "    </tr>\n",
       "  </thead>\n",
       "  <tbody>\n",
       "    <tr>\n",
       "      <th>0</th>\n",
       "      <td>177.894193</td>\n",
       "      <td>177.894193</td>\n",
       "      <td>177.894193</td>\n",
       "      <td>0.84572</td>\n",
       "      <td>0.84572</td>\n",
       "      <td>0.84572</td>\n",
       "      <td>28.247051</td>\n",
       "      <td>28.247052</td>\n",
       "      <td>28.247052</td>\n",
       "    </tr>\n",
       "    <tr>\n",
       "      <th>1</th>\n",
       "      <td>177.894193</td>\n",
       "      <td>177.894193</td>\n",
       "      <td>177.894193</td>\n",
       "      <td>0.84572</td>\n",
       "      <td>0.84572</td>\n",
       "      <td>0.84572</td>\n",
       "      <td>28.247051</td>\n",
       "      <td>28.247052</td>\n",
       "      <td>28.247052</td>\n",
       "    </tr>\n",
       "    <tr>\n",
       "      <th>2</th>\n",
       "      <td>177.894193</td>\n",
       "      <td>177.894193</td>\n",
       "      <td>177.894193</td>\n",
       "      <td>0.84572</td>\n",
       "      <td>0.84572</td>\n",
       "      <td>0.84572</td>\n",
       "      <td>28.247051</td>\n",
       "      <td>28.247052</td>\n",
       "      <td>28.247052</td>\n",
       "    </tr>\n",
       "    <tr>\n",
       "      <th>3</th>\n",
       "      <td>177.894193</td>\n",
       "      <td>177.894193</td>\n",
       "      <td>177.894193</td>\n",
       "      <td>0.84572</td>\n",
       "      <td>0.84572</td>\n",
       "      <td>0.84572</td>\n",
       "      <td>28.247051</td>\n",
       "      <td>28.247052</td>\n",
       "      <td>28.247052</td>\n",
       "    </tr>\n",
       "    <tr>\n",
       "      <th>4</th>\n",
       "      <td>177.894193</td>\n",
       "      <td>177.894193</td>\n",
       "      <td>177.894193</td>\n",
       "      <td>0.84572</td>\n",
       "      <td>0.84572</td>\n",
       "      <td>0.84572</td>\n",
       "      <td>28.247051</td>\n",
       "      <td>28.247052</td>\n",
       "      <td>28.247052</td>\n",
       "    </tr>\n",
       "  </tbody>\n",
       "</table>\n",
       "</div>"
      ],
      "text/plain": [
       "      Vas_RMS     Vbs_RMS     Vcs_RMS  Ias_RMS  Ibs_RMS  Ics_RMS    phase A  \\\n",
       "0  177.894193  177.894193  177.894193  0.84572  0.84572  0.84572  28.247051   \n",
       "1  177.894193  177.894193  177.894193  0.84572  0.84572  0.84572  28.247051   \n",
       "2  177.894193  177.894193  177.894193  0.84572  0.84572  0.84572  28.247051   \n",
       "3  177.894193  177.894193  177.894193  0.84572  0.84572  0.84572  28.247051   \n",
       "4  177.894193  177.894193  177.894193  0.84572  0.84572  0.84572  28.247051   \n",
       "\n",
       "     Phase B    phase C  \n",
       "0  28.247052  28.247052  \n",
       "1  28.247052  28.247052  \n",
       "2  28.247052  28.247052  \n",
       "3  28.247052  28.247052  \n",
       "4  28.247052  28.247052  "
      ]
     },
     "execution_count": 3,
     "metadata": {},
     "output_type": "execute_result"
    }
   ],
   "source": [
    "df = pd.read_csv(\"C:\\\\Users\\\\Admin\\\\Desktop\\\\PQD Database\\\\PQD_OverVoltage_Database\\\\Symmetrical\\\\RMS\\\\PQD_OverVoltage_Symmetrical_RMS_Database.csv\")\n",
    "df.head()"
   ]
  },
  {
   "cell_type": "code",
   "execution_count": 4,
   "id": "2f3b8048",
   "metadata": {},
   "outputs": [
    {
     "data": {
      "text/html": [
       "<div>\n",
       "<style scoped>\n",
       "    .dataframe tbody tr th:only-of-type {\n",
       "        vertical-align: middle;\n",
       "    }\n",
       "\n",
       "    .dataframe tbody tr th {\n",
       "        vertical-align: top;\n",
       "    }\n",
       "\n",
       "    .dataframe thead th {\n",
       "        text-align: right;\n",
       "    }\n",
       "</style>\n",
       "<table border=\"1\" class=\"dataframe\">\n",
       "  <thead>\n",
       "    <tr style=\"text-align: right;\">\n",
       "      <th></th>\n",
       "      <th>Vas_RMS</th>\n",
       "      <th>Vbs_RMS</th>\n",
       "      <th>Vcs_RMS</th>\n",
       "      <th>Ias_RMS</th>\n",
       "      <th>Ibs_RMS</th>\n",
       "      <th>Ics_RMS</th>\n",
       "      <th>phase A</th>\n",
       "      <th>Phase B</th>\n",
       "      <th>phase C</th>\n",
       "    </tr>\n",
       "  </thead>\n",
       "  <tbody>\n",
       "    <tr>\n",
       "      <th>count</th>\n",
       "      <td>400090.000000</td>\n",
       "      <td>400090.000000</td>\n",
       "      <td>400090.000000</td>\n",
       "      <td>400090.000000</td>\n",
       "      <td>400090.000000</td>\n",
       "      <td>400090.000000</td>\n",
       "      <td>400090.000000</td>\n",
       "      <td>400090.000000</td>\n",
       "      <td>400090.000000</td>\n",
       "    </tr>\n",
       "    <tr>\n",
       "      <th>mean</th>\n",
       "      <td>182.129769</td>\n",
       "      <td>182.129769</td>\n",
       "      <td>182.129769</td>\n",
       "      <td>1.092721</td>\n",
       "      <td>1.092721</td>\n",
       "      <td>1.092721</td>\n",
       "      <td>36.496892</td>\n",
       "      <td>36.496892</td>\n",
       "      <td>36.496892</td>\n",
       "    </tr>\n",
       "    <tr>\n",
       "      <th>std</th>\n",
       "      <td>4.235581</td>\n",
       "      <td>4.235581</td>\n",
       "      <td>4.235581</td>\n",
       "      <td>0.228303</td>\n",
       "      <td>0.228303</td>\n",
       "      <td>0.228303</td>\n",
       "      <td>7.625318</td>\n",
       "      <td>7.625318</td>\n",
       "      <td>7.625318</td>\n",
       "    </tr>\n",
       "    <tr>\n",
       "      <th>min</th>\n",
       "      <td>177.894193</td>\n",
       "      <td>177.894193</td>\n",
       "      <td>177.894193</td>\n",
       "      <td>0.845720</td>\n",
       "      <td>0.845720</td>\n",
       "      <td>0.845720</td>\n",
       "      <td>28.247051</td>\n",
       "      <td>28.247051</td>\n",
       "      <td>28.247051</td>\n",
       "    </tr>\n",
       "    <tr>\n",
       "      <th>25%</th>\n",
       "      <td>177.894193</td>\n",
       "      <td>177.894193</td>\n",
       "      <td>177.894193</td>\n",
       "      <td>0.904927</td>\n",
       "      <td>0.904927</td>\n",
       "      <td>0.904927</td>\n",
       "      <td>30.224548</td>\n",
       "      <td>30.224548</td>\n",
       "      <td>30.224548</td>\n",
       "    </tr>\n",
       "    <tr>\n",
       "      <th>50%</th>\n",
       "      <td>182.129769</td>\n",
       "      <td>182.129769</td>\n",
       "      <td>182.129769</td>\n",
       "      <td>1.005896</td>\n",
       "      <td>1.005896</td>\n",
       "      <td>1.005896</td>\n",
       "      <td>33.596911</td>\n",
       "      <td>33.596912</td>\n",
       "      <td>33.596911</td>\n",
       "    </tr>\n",
       "    <tr>\n",
       "      <th>75%</th>\n",
       "      <td>186.365345</td>\n",
       "      <td>186.365345</td>\n",
       "      <td>186.365345</td>\n",
       "      <td>1.207223</td>\n",
       "      <td>1.207223</td>\n",
       "      <td>1.207223</td>\n",
       "      <td>40.321256</td>\n",
       "      <td>40.321256</td>\n",
       "      <td>40.321256</td>\n",
       "    </tr>\n",
       "    <tr>\n",
       "      <th>max</th>\n",
       "      <td>186.365345</td>\n",
       "      <td>186.365345</td>\n",
       "      <td>186.365345</td>\n",
       "      <td>1.499325</td>\n",
       "      <td>1.499328</td>\n",
       "      <td>1.499325</td>\n",
       "      <td>50.077454</td>\n",
       "      <td>50.077572</td>\n",
       "      <td>50.077462</td>\n",
       "    </tr>\n",
       "  </tbody>\n",
       "</table>\n",
       "</div>"
      ],
      "text/plain": [
       "             Vas_RMS        Vbs_RMS        Vcs_RMS        Ias_RMS  \\\n",
       "count  400090.000000  400090.000000  400090.000000  400090.000000   \n",
       "mean      182.129769     182.129769     182.129769       1.092721   \n",
       "std         4.235581       4.235581       4.235581       0.228303   \n",
       "min       177.894193     177.894193     177.894193       0.845720   \n",
       "25%       177.894193     177.894193     177.894193       0.904927   \n",
       "50%       182.129769     182.129769     182.129769       1.005896   \n",
       "75%       186.365345     186.365345     186.365345       1.207223   \n",
       "max       186.365345     186.365345     186.365345       1.499325   \n",
       "\n",
       "             Ibs_RMS        Ics_RMS        phase A        Phase B  \\\n",
       "count  400090.000000  400090.000000  400090.000000  400090.000000   \n",
       "mean        1.092721       1.092721      36.496892      36.496892   \n",
       "std         0.228303       0.228303       7.625318       7.625318   \n",
       "min         0.845720       0.845720      28.247051      28.247051   \n",
       "25%         0.904927       0.904927      30.224548      30.224548   \n",
       "50%         1.005896       1.005896      33.596911      33.596912   \n",
       "75%         1.207223       1.207223      40.321256      40.321256   \n",
       "max         1.499328       1.499325      50.077454      50.077572   \n",
       "\n",
       "             phase C  \n",
       "count  400090.000000  \n",
       "mean       36.496892  \n",
       "std         7.625318  \n",
       "min        28.247051  \n",
       "25%        30.224548  \n",
       "50%        33.596911  \n",
       "75%        40.321256  \n",
       "max        50.077462  "
      ]
     },
     "execution_count": 4,
     "metadata": {},
     "output_type": "execute_result"
    }
   ],
   "source": [
    "df.describe()"
   ]
  },
  {
   "cell_type": "code",
   "execution_count": 5,
   "id": "e02f5690",
   "metadata": {},
   "outputs": [
    {
     "name": "stdout",
     "output_type": "stream",
     "text": [
      "<class 'pandas.core.frame.DataFrame'>\n",
      "RangeIndex: 400090 entries, 0 to 400089\n",
      "Data columns (total 9 columns):\n",
      " #   Column   Non-Null Count   Dtype  \n",
      "---  ------   --------------   -----  \n",
      " 0   Vas_RMS  400090 non-null  float64\n",
      " 1   Vbs_RMS  400090 non-null  float64\n",
      " 2   Vcs_RMS  400090 non-null  float64\n",
      " 3   Ias_RMS  400090 non-null  float64\n",
      " 4   Ibs_RMS  400090 non-null  float64\n",
      " 5   Ics_RMS  400090 non-null  float64\n",
      " 6   phase A  400090 non-null  float64\n",
      " 7   Phase B  400090 non-null  float64\n",
      " 8   phase C  400090 non-null  float64\n",
      "dtypes: float64(9)\n",
      "memory usage: 27.5 MB\n"
     ]
    }
   ],
   "source": [
    "df.info()"
   ]
  },
  {
   "cell_type": "code",
   "execution_count": 6,
   "id": "4df7bd1f",
   "metadata": {},
   "outputs": [
    {
     "name": "stdout",
     "output_type": "stream",
     "text": [
      "           Vas_RMS     Vbs_RMS     Vcs_RMS   Ias_RMS   Ibs_RMS   Ics_RMS\n",
      "0       177.894193  177.894193  177.894193  0.845720  0.845720  0.845720\n",
      "1       177.894193  177.894193  177.894193  0.845720  0.845720  0.845720\n",
      "2       177.894193  177.894193  177.894193  0.845720  0.845720  0.845720\n",
      "3       177.894193  177.894193  177.894193  0.845720  0.845720  0.845720\n",
      "4       177.894193  177.894193  177.894193  0.845720  0.845720  0.845720\n",
      "...            ...         ...         ...       ...       ...       ...\n",
      "400085  186.365345  186.365345  186.365345  1.466295  1.466295  1.466295\n",
      "400086  186.365345  186.365345  186.365345  1.466295  1.466295  1.466295\n",
      "400087  186.365345  186.365345  186.365345  1.466295  1.466295  1.466295\n",
      "400088  186.365345  186.365345  186.365345  1.466295  1.466295  1.466295\n",
      "400089  186.365345  186.365345  186.365345  1.466295  1.466295  1.466295\n",
      "\n",
      "[400090 rows x 6 columns]\n"
     ]
    }
   ],
   "source": [
    "X = df[[\"Vas_RMS\",\"Vbs_RMS\",\"Vcs_RMS\",\"Ias_RMS\",\"Ibs_RMS\",\"Ics_RMS\"]]\n",
    "Y = df[[\"phase A\",\"Phase B\",\"phase C\"]]\n",
    "print(X)"
   ]
  },
  {
   "cell_type": "code",
   "execution_count": 7,
   "id": "59f5e912",
   "metadata": {},
   "outputs": [
    {
     "name": "stdout",
     "output_type": "stream",
     "text": [
      "          phase A    Phase B    phase C\n",
      "0       28.247051  28.247052  28.247052\n",
      "1       28.247051  28.247052  28.247052\n",
      "2       28.247051  28.247052  28.247052\n",
      "3       28.247051  28.247052  28.247052\n",
      "4       28.247051  28.247052  28.247052\n",
      "...           ...        ...        ...\n",
      "400085  48.974259  48.974259  48.974259\n",
      "400086  48.974259  48.974259  48.974259\n",
      "400087  48.974259  48.974259  48.974259\n",
      "400088  48.974259  48.974259  48.974259\n",
      "400089  48.974259  48.974259  48.974259\n",
      "\n",
      "[400090 rows x 3 columns]\n"
     ]
    }
   ],
   "source": [
    "print(Y)"
   ]
  },
  {
   "cell_type": "code",
   "execution_count": 8,
   "id": "8c63d4a6",
   "metadata": {},
   "outputs": [
    {
     "name": "stdout",
     "output_type": "stream",
     "text": [
      "           Vas_RMS     Vbs_RMS     Vcs_RMS   Ias_RMS   Ibs_RMS   Ics_RMS\n",
      "63162   177.894193  177.894193  177.894193  0.868479  0.868479  0.868479\n",
      "6909    177.894193  177.894193  177.894193  0.845720  0.845720  0.845720\n",
      "216008  186.365345  186.365345  186.365345  0.904927  0.904927  0.904927\n",
      "300502  186.365345  186.365345  186.365345  1.023241  1.023241  1.023241\n",
      "153453  177.894193  177.894193  177.894193  1.201837  1.201837  1.201837\n",
      "...            ...         ...         ...       ...       ...       ...\n",
      "359783  186.365345  186.365345  186.365345  1.207223  1.207223  1.207223\n",
      "358083  186.365345  186.365345  186.365345  1.207223  1.207223  1.207223\n",
      "152315  177.894193  177.894193  177.894193  1.201837  1.201837  1.201837\n",
      "117952  177.894193  177.894193  177.894193  0.988546  0.988546  0.988546\n",
      "305711  186.365345  186.365345  186.365345  1.023241  1.023241  1.023241\n",
      "\n",
      "[320072 rows x 6 columns]\n"
     ]
    }
   ],
   "source": [
    "from sklearn.model_selection import train_test_split\n",
    "x_train, x_test, y_train, y_test = train_test_split(X,Y,test_size=0.2,random_state=0)\n",
    "#test size = 0.2 denotes that 20% of the data will be in the test state. Random_state provides the seed value.\n",
    "print(x_train)"
   ]
  },
  {
   "cell_type": "code",
   "execution_count": 9,
   "id": "955f453e",
   "metadata": {},
   "outputs": [
    {
     "name": "stdout",
     "output_type": "stream",
     "text": [
      "          phase A    Phase B    phase C\n",
      "63162   29.007204  29.007204  29.007204\n",
      "6909    28.247051  28.247051  28.247051\n",
      "216008  30.224548  30.224548  30.224548\n",
      "300502  34.176259  34.176259  34.176259\n",
      "153453  40.141341  40.141341  40.141341\n",
      "...           ...        ...        ...\n",
      "359783  40.321256  40.321256  40.321256\n",
      "358083  40.321256  40.321256  40.321256\n",
      "152315  40.141341  40.141341  40.141341\n",
      "117952  33.017452  33.017452  33.017452\n",
      "305711  34.176259  34.176259  34.176259\n",
      "\n",
      "[320072 rows x 3 columns]\n"
     ]
    }
   ],
   "source": [
    "print(y_train)"
   ]
  },
  {
   "cell_type": "code",
   "execution_count": 10,
   "id": "1d1ddbca",
   "metadata": {},
   "outputs": [
    {
     "name": "stdout",
     "output_type": "stream",
     "text": [
      "           Vas_RMS     Vbs_RMS     Vcs_RMS   Ias_RMS   Ibs_RMS   Ics_RMS\n",
      "102156  177.894193  177.894193  177.894193  0.988546  0.988546  0.988546\n",
      "362402  186.365345  186.365345  186.365345  1.466312  1.466312  1.466311\n",
      "210282  186.365345  186.365345  186.365345  0.904927  0.904927  0.904927\n",
      "228784  186.365345  186.365345  186.365345  0.904927  0.904927  0.904927\n",
      "278354  186.365345  186.365345  186.365345  0.921789  0.921789  0.921789\n",
      "...            ...         ...         ...       ...       ...       ...\n",
      "135180  177.894193  177.894193  177.894193  1.201837  1.201837  1.201837\n",
      "260356  186.365345  186.365345  186.365345  0.921789  0.921789  0.921789\n",
      "25750   177.894193  177.894193  177.894193  0.845720  0.845720  0.845720\n",
      "225038  186.365345  186.365345  186.365345  0.904927  0.904927  0.904927\n",
      "110678  177.894193  177.894193  177.894193  0.988546  0.988546  0.988546\n",
      "\n",
      "[80018 rows x 6 columns]\n"
     ]
    }
   ],
   "source": [
    "print(x_test)"
   ]
  },
  {
   "cell_type": "code",
   "execution_count": 11,
   "id": "a29a9e3b",
   "metadata": {},
   "outputs": [
    {
     "name": "stdout",
     "output_type": "stream",
     "text": [
      "          phase A    Phase B    phase C\n",
      "102156  33.017452  33.017452  33.017452\n",
      "362402  48.974804  48.974805  48.974791\n",
      "210282  30.224548  30.224548  30.224548\n",
      "228784  30.224548  30.224548  30.224548\n",
      "278354  30.787748  30.787748  30.787748\n",
      "...           ...        ...        ...\n",
      "135180  40.141341  40.141341  40.141341\n",
      "260356  30.787748  30.787748  30.787748\n",
      "25750   28.247051  28.247051  28.247051\n",
      "225038  30.224548  30.224548  30.224548\n",
      "110678  33.017452  33.017452  33.017452\n",
      "\n",
      "[80018 rows x 3 columns]\n"
     ]
    }
   ],
   "source": [
    "print(y_test)"
   ]
  },
  {
   "cell_type": "code",
   "execution_count": 12,
   "id": "75455afa",
   "metadata": {},
   "outputs": [
    {
     "name": "stdout",
     "output_type": "stream",
     "text": [
      "LinearRegression()\n"
     ]
    },
    {
     "data": {
      "text/html": [
       "<style>#sk-container-id-1 {color: black;}#sk-container-id-1 pre{padding: 0;}#sk-container-id-1 div.sk-toggleable {background-color: white;}#sk-container-id-1 label.sk-toggleable__label {cursor: pointer;display: block;width: 100%;margin-bottom: 0;padding: 0.3em;box-sizing: border-box;text-align: center;}#sk-container-id-1 label.sk-toggleable__label-arrow:before {content: \"▸\";float: left;margin-right: 0.25em;color: #696969;}#sk-container-id-1 label.sk-toggleable__label-arrow:hover:before {color: black;}#sk-container-id-1 div.sk-estimator:hover label.sk-toggleable__label-arrow:before {color: black;}#sk-container-id-1 div.sk-toggleable__content {max-height: 0;max-width: 0;overflow: hidden;text-align: left;background-color: #f0f8ff;}#sk-container-id-1 div.sk-toggleable__content pre {margin: 0.2em;color: black;border-radius: 0.25em;background-color: #f0f8ff;}#sk-container-id-1 input.sk-toggleable__control:checked~div.sk-toggleable__content {max-height: 200px;max-width: 100%;overflow: auto;}#sk-container-id-1 input.sk-toggleable__control:checked~label.sk-toggleable__label-arrow:before {content: \"▾\";}#sk-container-id-1 div.sk-estimator input.sk-toggleable__control:checked~label.sk-toggleable__label {background-color: #d4ebff;}#sk-container-id-1 div.sk-label input.sk-toggleable__control:checked~label.sk-toggleable__label {background-color: #d4ebff;}#sk-container-id-1 input.sk-hidden--visually {border: 0;clip: rect(1px 1px 1px 1px);clip: rect(1px, 1px, 1px, 1px);height: 1px;margin: -1px;overflow: hidden;padding: 0;position: absolute;width: 1px;}#sk-container-id-1 div.sk-estimator {font-family: monospace;background-color: #f0f8ff;border: 1px dotted black;border-radius: 0.25em;box-sizing: border-box;margin-bottom: 0.5em;}#sk-container-id-1 div.sk-estimator:hover {background-color: #d4ebff;}#sk-container-id-1 div.sk-parallel-item::after {content: \"\";width: 100%;border-bottom: 1px solid gray;flex-grow: 1;}#sk-container-id-1 div.sk-label:hover label.sk-toggleable__label {background-color: #d4ebff;}#sk-container-id-1 div.sk-serial::before {content: \"\";position: absolute;border-left: 1px solid gray;box-sizing: border-box;top: 0;bottom: 0;left: 50%;z-index: 0;}#sk-container-id-1 div.sk-serial {display: flex;flex-direction: column;align-items: center;background-color: white;padding-right: 0.2em;padding-left: 0.2em;position: relative;}#sk-container-id-1 div.sk-item {position: relative;z-index: 1;}#sk-container-id-1 div.sk-parallel {display: flex;align-items: stretch;justify-content: center;background-color: white;position: relative;}#sk-container-id-1 div.sk-item::before, #sk-container-id-1 div.sk-parallel-item::before {content: \"\";position: absolute;border-left: 1px solid gray;box-sizing: border-box;top: 0;bottom: 0;left: 50%;z-index: -1;}#sk-container-id-1 div.sk-parallel-item {display: flex;flex-direction: column;z-index: 1;position: relative;background-color: white;}#sk-container-id-1 div.sk-parallel-item:first-child::after {align-self: flex-end;width: 50%;}#sk-container-id-1 div.sk-parallel-item:last-child::after {align-self: flex-start;width: 50%;}#sk-container-id-1 div.sk-parallel-item:only-child::after {width: 0;}#sk-container-id-1 div.sk-dashed-wrapped {border: 1px dashed gray;margin: 0 0.4em 0.5em 0.4em;box-sizing: border-box;padding-bottom: 0.4em;background-color: white;}#sk-container-id-1 div.sk-label label {font-family: monospace;font-weight: bold;display: inline-block;line-height: 1.2em;}#sk-container-id-1 div.sk-label-container {text-align: center;}#sk-container-id-1 div.sk-container {/* jupyter's `normalize.less` sets `[hidden] { display: none; }` but bootstrap.min.css set `[hidden] { display: none !important; }` so we also need the `!important` here to be able to override the default hidden behavior on the sphinx rendered scikit-learn.org. See: https://github.com/scikit-learn/scikit-learn/issues/21755 */display: inline-block !important;position: relative;}#sk-container-id-1 div.sk-text-repr-fallback {display: none;}</style><div id=\"sk-container-id-1\" class=\"sk-top-container\"><div class=\"sk-text-repr-fallback\"><pre>LinearRegression()</pre><b>In a Jupyter environment, please rerun this cell to show the HTML representation or trust the notebook. <br />On GitHub, the HTML representation is unable to render, please try loading this page with nbviewer.org.</b></div><div class=\"sk-container\" hidden><div class=\"sk-item\"><div class=\"sk-estimator sk-toggleable\"><input class=\"sk-toggleable__control sk-hidden--visually\" id=\"sk-estimator-id-1\" type=\"checkbox\" checked><label for=\"sk-estimator-id-1\" class=\"sk-toggleable__label sk-toggleable__label-arrow\">LinearRegression</label><div class=\"sk-toggleable__content\"><pre>LinearRegression()</pre></div></div></div></div></div>"
      ],
      "text/plain": [
       "LinearRegression()"
      ]
     },
     "execution_count": 12,
     "metadata": {},
     "output_type": "execute_result"
    }
   ],
   "source": [
    "from sklearn.linear_model import LinearRegression\n",
    "regressor = LinearRegression()\n",
    "print(regressor)\n",
    "regressor.fit(x_train,y_train)#Used to find the most accurate equation for our LR model as per the dataset"
   ]
  },
  {
   "cell_type": "code",
   "execution_count": 13,
   "id": "bfc1d861",
   "metadata": {},
   "outputs": [
    {
     "name": "stdout",
     "output_type": "stream",
     "text": [
      "[2.33733850e-07 2.32631592e-07 2.32950612e-07]\n",
      "[[-4.05113855e-10 -4.05459413e-10 -4.05462411e-10  3.34000857e+01\n",
      "  -1.33231389e-04  4.74723493e-05]\n",
      " [-4.02986263e-10 -4.02728710e-10 -4.02730472e-10  5.48985939e-05\n",
      "   3.34000143e+01 -6.91936426e-05]\n",
      " [-4.03873006e-10 -4.03778712e-10 -4.03786049e-10  1.20057794e-04\n",
      "  -1.21704729e-04  3.34000016e+01]]\n"
     ]
    }
   ],
   "source": [
    "print(regressor.intercept_)\n",
    "print(regressor.coef_)"
   ]
  },
  {
   "cell_type": "code",
   "execution_count": 14,
   "id": "0990ef92",
   "metadata": {},
   "outputs": [
    {
     "name": "stdout",
     "output_type": "stream",
     "text": [
      "          phase A    Phase B    phase C\n",
      "102156  33.017452  33.017452  33.017452\n",
      "362402  48.974804  48.974805  48.974791\n",
      "210282  30.224548  30.224548  30.224548\n",
      "228784  30.224548  30.224548  30.224548\n",
      "278354  30.787748  30.787748  30.787748\n",
      "...           ...        ...        ...\n",
      "135180  40.141341  40.141341  40.141341\n",
      "260356  30.787748  30.787748  30.787748\n",
      "25750   28.247051  28.247051  28.247051\n",
      "225038  30.224548  30.224548  30.224548\n",
      "110678  33.017452  33.017452  33.017452\n",
      "\n",
      "[80018 rows x 3 columns]\n"
     ]
    }
   ],
   "source": [
    "column_names = [\"phase A\", \"Phase B\", \"phase C\"]\n",
    "y_test_df = pd.DataFrame(data=y_test, columns=column_names)\n",
    "print(y_test_df)"
   ]
  },
  {
   "cell_type": "code",
   "execution_count": 15,
   "id": "5e8ad175",
   "metadata": {},
   "outputs": [],
   "source": [
    "y_test_a = y_test[\"phase A\"]\n",
    "y_test_b = y_test[\"Phase B\"]\n",
    "y_test_c = y_test[\"phase C\"]"
   ]
  },
  {
   "cell_type": "code",
   "execution_count": 16,
   "id": "d8faf936",
   "metadata": {},
   "outputs": [
    {
     "name": "stdout",
     "output_type": "stream",
     "text": [
      "        Actual Phase A  Predicted Phase A  Actual Phase B  Predicted Phase B  \\\n",
      "102156       33.017452          33.017452       33.017452          33.017452   \n",
      "362402       48.974804          48.974804       48.974805          48.974805   \n",
      "210282       30.224548          30.224548       30.224548          30.224548   \n",
      "228784       30.224548          30.224548       30.224548          30.224548   \n",
      "278354       30.787748          30.787748       30.787748          30.787748   \n",
      "...                ...                ...             ...                ...   \n",
      "135180       40.141341          40.141341       40.141341          40.141341   \n",
      "260356       30.787748          30.787748       30.787748          30.787748   \n",
      "25750        28.247051          28.247051       28.247051          28.247051   \n",
      "225038       30.224548          30.224548       30.224548          30.224548   \n",
      "110678       33.017452          33.017452       33.017452          33.017452   \n",
      "\n",
      "        Actual Phase C  Predicted Phase C  \n",
      "102156       33.017452          33.017452  \n",
      "362402       48.974791          48.974791  \n",
      "210282       30.224548          30.224548  \n",
      "228784       30.224548          30.224548  \n",
      "278354       30.787748          30.787748  \n",
      "...                ...                ...  \n",
      "135180       40.141341          40.141341  \n",
      "260356       30.787748          30.787748  \n",
      "25750        28.247051          28.247051  \n",
      "225038       30.224548          30.224548  \n",
      "110678       33.017452          33.017452  \n",
      "\n",
      "[80018 rows x 6 columns]\n"
     ]
    }
   ],
   "source": [
    "y_test_predict = regressor.predict(x_test)\n",
    "y_test_predict_a = y_test_predict[:, 0]\n",
    "y_test_predict_b = y_test_predict[:, 1]\n",
    "y_test_predict_c = y_test_predict[:, 2]\n",
    "df_a = pd.DataFrame({\"Actual Phase A\": y_test_a, \"Predicted Phase A\": y_test_predict_a})\n",
    "df_b = pd.DataFrame({\"Actual Phase B\": y_test_b, \"Predicted Phase B\": y_test_predict_b})\n",
    "df_c = pd.DataFrame({\"Actual Phase C\": y_test_c, \"Predicted Phase C\": y_test_predict_c})\n",
    "comparison_df = pd.concat([df_a, df_b, df_c], axis=1)\n",
    "print(comparison_df)"
   ]
  },
  {
   "cell_type": "code",
   "execution_count": 17,
   "id": "7db33e86",
   "metadata": {},
   "outputs": [
    {
     "name": "stdout",
     "output_type": "stream",
     "text": [
      "Calculating error(Test Dataset)-: \n",
      "\n",
      "Mean Absolute Error: 7.426914238944235e-09\n",
      "Mean Squared Error: 8.352038994616238e-17\n",
      "Root Mean Squared Error: 9.138949061361616e-09\n"
     ]
    }
   ],
   "source": [
    "print(\"Calculating error(Test Dataset)-: \\n\")\n",
    "from sklearn import metrics\n",
    "print('Mean Absolute Error:', metrics.mean_absolute_error(y_test, y_test_predict))  \n",
    "print('Mean Squared Error:', metrics.mean_squared_error(y_test, y_test_predict))  \n",
    "print('Root Mean Squared Error:', np.sqrt(metrics.mean_squared_error(y_test, y_test_predict)))"
   ]
  },
  {
   "cell_type": "code",
   "execution_count": 18,
   "id": "444a0601",
   "metadata": {},
   "outputs": [],
   "source": [
    "from sklearn.ensemble import RandomForestRegressor"
   ]
  },
  {
   "cell_type": "code",
   "execution_count": 19,
   "id": "e2bc44d9",
   "metadata": {},
   "outputs": [
    {
     "data": {
      "text/html": [
       "<style>#sk-container-id-2 {color: black;}#sk-container-id-2 pre{padding: 0;}#sk-container-id-2 div.sk-toggleable {background-color: white;}#sk-container-id-2 label.sk-toggleable__label {cursor: pointer;display: block;width: 100%;margin-bottom: 0;padding: 0.3em;box-sizing: border-box;text-align: center;}#sk-container-id-2 label.sk-toggleable__label-arrow:before {content: \"▸\";float: left;margin-right: 0.25em;color: #696969;}#sk-container-id-2 label.sk-toggleable__label-arrow:hover:before {color: black;}#sk-container-id-2 div.sk-estimator:hover label.sk-toggleable__label-arrow:before {color: black;}#sk-container-id-2 div.sk-toggleable__content {max-height: 0;max-width: 0;overflow: hidden;text-align: left;background-color: #f0f8ff;}#sk-container-id-2 div.sk-toggleable__content pre {margin: 0.2em;color: black;border-radius: 0.25em;background-color: #f0f8ff;}#sk-container-id-2 input.sk-toggleable__control:checked~div.sk-toggleable__content {max-height: 200px;max-width: 100%;overflow: auto;}#sk-container-id-2 input.sk-toggleable__control:checked~label.sk-toggleable__label-arrow:before {content: \"▾\";}#sk-container-id-2 div.sk-estimator input.sk-toggleable__control:checked~label.sk-toggleable__label {background-color: #d4ebff;}#sk-container-id-2 div.sk-label input.sk-toggleable__control:checked~label.sk-toggleable__label {background-color: #d4ebff;}#sk-container-id-2 input.sk-hidden--visually {border: 0;clip: rect(1px 1px 1px 1px);clip: rect(1px, 1px, 1px, 1px);height: 1px;margin: -1px;overflow: hidden;padding: 0;position: absolute;width: 1px;}#sk-container-id-2 div.sk-estimator {font-family: monospace;background-color: #f0f8ff;border: 1px dotted black;border-radius: 0.25em;box-sizing: border-box;margin-bottom: 0.5em;}#sk-container-id-2 div.sk-estimator:hover {background-color: #d4ebff;}#sk-container-id-2 div.sk-parallel-item::after {content: \"\";width: 100%;border-bottom: 1px solid gray;flex-grow: 1;}#sk-container-id-2 div.sk-label:hover label.sk-toggleable__label {background-color: #d4ebff;}#sk-container-id-2 div.sk-serial::before {content: \"\";position: absolute;border-left: 1px solid gray;box-sizing: border-box;top: 0;bottom: 0;left: 50%;z-index: 0;}#sk-container-id-2 div.sk-serial {display: flex;flex-direction: column;align-items: center;background-color: white;padding-right: 0.2em;padding-left: 0.2em;position: relative;}#sk-container-id-2 div.sk-item {position: relative;z-index: 1;}#sk-container-id-2 div.sk-parallel {display: flex;align-items: stretch;justify-content: center;background-color: white;position: relative;}#sk-container-id-2 div.sk-item::before, #sk-container-id-2 div.sk-parallel-item::before {content: \"\";position: absolute;border-left: 1px solid gray;box-sizing: border-box;top: 0;bottom: 0;left: 50%;z-index: -1;}#sk-container-id-2 div.sk-parallel-item {display: flex;flex-direction: column;z-index: 1;position: relative;background-color: white;}#sk-container-id-2 div.sk-parallel-item:first-child::after {align-self: flex-end;width: 50%;}#sk-container-id-2 div.sk-parallel-item:last-child::after {align-self: flex-start;width: 50%;}#sk-container-id-2 div.sk-parallel-item:only-child::after {width: 0;}#sk-container-id-2 div.sk-dashed-wrapped {border: 1px dashed gray;margin: 0 0.4em 0.5em 0.4em;box-sizing: border-box;padding-bottom: 0.4em;background-color: white;}#sk-container-id-2 div.sk-label label {font-family: monospace;font-weight: bold;display: inline-block;line-height: 1.2em;}#sk-container-id-2 div.sk-label-container {text-align: center;}#sk-container-id-2 div.sk-container {/* jupyter's `normalize.less` sets `[hidden] { display: none; }` but bootstrap.min.css set `[hidden] { display: none !important; }` so we also need the `!important` here to be able to override the default hidden behavior on the sphinx rendered scikit-learn.org. See: https://github.com/scikit-learn/scikit-learn/issues/21755 */display: inline-block !important;position: relative;}#sk-container-id-2 div.sk-text-repr-fallback {display: none;}</style><div id=\"sk-container-id-2\" class=\"sk-top-container\"><div class=\"sk-text-repr-fallback\"><pre>RandomForestRegressor(max_depth=20)</pre><b>In a Jupyter environment, please rerun this cell to show the HTML representation or trust the notebook. <br />On GitHub, the HTML representation is unable to render, please try loading this page with nbviewer.org.</b></div><div class=\"sk-container\" hidden><div class=\"sk-item\"><div class=\"sk-estimator sk-toggleable\"><input class=\"sk-toggleable__control sk-hidden--visually\" id=\"sk-estimator-id-2\" type=\"checkbox\" checked><label for=\"sk-estimator-id-2\" class=\"sk-toggleable__label sk-toggleable__label-arrow\">RandomForestRegressor</label><div class=\"sk-toggleable__content\"><pre>RandomForestRegressor(max_depth=20)</pre></div></div></div></div></div>"
      ],
      "text/plain": [
       "RandomForestRegressor(max_depth=20)"
      ]
     },
     "execution_count": 19,
     "metadata": {},
     "output_type": "execute_result"
    }
   ],
   "source": [
    "rf=RandomForestRegressor(n_estimators=100, max_depth=20)\n",
    "rf.fit(x_train,y_train)"
   ]
  },
  {
   "cell_type": "code",
   "execution_count": 20,
   "id": "b76b8f3e",
   "metadata": {},
   "outputs": [
    {
     "name": "stdout",
     "output_type": "stream",
     "text": [
      "        Actual Phase A  Predicted Phase A  Actual Phase B  Predicted Phase B  \\\n",
      "102156       33.017452          33.017452       33.017452          33.017452   \n",
      "362402       48.974804          48.974804       48.974805          48.974805   \n",
      "210282       30.224548          30.224548       30.224548          30.224548   \n",
      "228784       30.224548          30.224548       30.224548          30.224548   \n",
      "278354       30.787748          30.787748       30.787748          30.787748   \n",
      "...                ...                ...             ...                ...   \n",
      "135180       40.141341          40.141341       40.141341          40.141341   \n",
      "260356       30.787748          30.787748       30.787748          30.787748   \n",
      "25750        28.247051          28.247051       28.247051          28.247051   \n",
      "225038       30.224548          30.224548       30.224548          30.224548   \n",
      "110678       33.017452          33.017452       33.017452          33.017452   \n",
      "\n",
      "        Actual Phase C  Predicted Phase C  \n",
      "102156       33.017452          33.017452  \n",
      "362402       48.974791          48.974791  \n",
      "210282       30.224548          30.224548  \n",
      "228784       30.224548          30.224548  \n",
      "278354       30.787748          30.787748  \n",
      "...                ...                ...  \n",
      "135180       40.141341          40.141341  \n",
      "260356       30.787748          30.787748  \n",
      "25750        28.247051          28.247051  \n",
      "225038       30.224548          30.224548  \n",
      "110678       33.017452          33.017452  \n",
      "\n",
      "[80018 rows x 6 columns]\n"
     ]
    }
   ],
   "source": [
    "y_test_predict_rf = rf.predict(x_test)\n",
    "y_test_predict_a = y_test_predict[:, 0]\n",
    "y_test_predict_b = y_test_predict[:, 1]\n",
    "y_test_predict_c = y_test_predict[:, 2]\n",
    "df_a = pd.DataFrame({\"Actual Phase A\": y_test_a, \"Predicted Phase A\": y_test_predict_a})\n",
    "df_b = pd.DataFrame({\"Actual Phase B\": y_test_b, \"Predicted Phase B\": y_test_predict_b})\n",
    "df_c = pd.DataFrame({\"Actual Phase C\": y_test_c, \"Predicted Phase C\": y_test_predict_c})\n",
    "comparison_df = pd.concat([df_a, df_b, df_c], axis=1)\n",
    "print(comparison_df)"
   ]
  },
  {
   "cell_type": "code",
   "execution_count": 24,
   "id": "ac819862",
   "metadata": {},
   "outputs": [
    {
     "name": "stdout",
     "output_type": "stream",
     "text": [
      "Mean Absolute Error:  1.0463970680413008e-05\n",
      "Mean Squared Error:  1.0463970680413008e-05\n",
      "Root Mean Squared Error:  1.0463970680413008e-05\n"
     ]
    }
   ],
   "source": [
    "from sklearn import metrics\n",
    "print(\"Mean Absolute Error: \",metrics.mean_absolute_error(y_test,y_test_predict_rf))\n",
    "print(\"Mean Squared Error: \",metrics.mean_absolute_error(y_test,y_test_predict_rf))\n",
    "print(\"Root Mean Squared Error: \",metrics.mean_absolute_error(y_test,y_test_predict_rf))"
   ]
  },
  {
   "cell_type": "code",
   "execution_count": 25,
   "id": "4bd7372a",
   "metadata": {},
   "outputs": [],
   "source": [
    "import pandas as pd\n",
    "from IPython.display import display, HTML\n",
    "\n",
    "def predict_temperatures_from_csv(rf_model, csv_path):\n",
    "    # Read the CSV file into a DataFrame\n",
    "    df = pd.read_csv(csv_path)\n",
    "    \n",
    "    # Extract voltage and current columns\n",
    "    voltage_columns = [\"Vas_RMS\", \"Vbs_RMS\", \"Vcs_RMS\"]\n",
    "    current_columns = [\"Ias_RMS\", \"Ibs_RMS\", \"Ics_RMS\"]\n",
    "    \n",
    "    # Extract voltage and current values from the DataFrame\n",
    "    X = df[voltage_columns + current_columns]\n",
    "    \n",
    "    # Use the trained model to predict temperature values\n",
    "    temperature_predictions = rf_model.predict(X)\n",
    "    \n",
    "    # Create a DataFrame to store the predictions\n",
    "    predictions_df = pd.DataFrame(temperature_predictions, columns=[\"Predicted Phase A\", \"Predicted Phase B\", \"Predicted Phase C\"])\n",
    "    \n",
    "    # Concatenate the predictions DataFrame with the original DataFrame\n",
    "    result_df = pd.concat([df, predictions_df], axis=1)\n",
    "    \n",
    "    # Calculate average predicted temperature across phases\n",
    "    result_df[\"Average Temperature\"] = result_df.mean(axis=1)\n",
    "    \n",
    "    # Calculate Remaining Useful Life (RUL)\n",
    "    Lo = 20000\n",
    "    Tb = 155\n",
    "    Tc = result_df[\"Average Temperature\"]\n",
    "    result_df[\"RUL\"] = Lo * 2**((Tb - Tc) / 10) / (365 * 24)\n",
    "    \n",
    "    # Drop unnamed columns\n",
    "    result_df = result_df.drop(result_df.columns[result_df.columns.str.contains('Unnamed', case=False)], axis=1)\n",
    "    \n",
    "    # Display DataFrame with bold column headings\n",
    "    display(HTML(result_df.style.set_table_styles([{'selector': 'th', 'props': [('font-weight', 'bold')]}]).render()))\n",
    "    \n",
    "    return result_df"
   ]
  },
  {
   "cell_type": "code",
   "execution_count": 26,
   "id": "d2418578",
   "metadata": {},
   "outputs": [],
   "source": [
    "import numpy as np\n",
    "\n",
    "def predict_values(rf_model, v1, v2, v3, i1, i2, i3):\n",
    "    # Convert feature values to numpy array\n",
    "    user_input_array = np.array([v1, v2, v3, i1, i2, i3]).reshape(1, -1)\n",
    "    \n",
    "    # Make prediction using the trained Random Forest Regressor\n",
    "    predictions = rf_model.predict(user_input_array)\n",
    "    \n",
    "    # Calculate average predicted temperature across phases\n",
    "    average_temperature = np.mean(predictions)\n",
    "    \n",
    "    # Calculate RUL\n",
    "    Lo = 20000\n",
    "    Tb = 155\n",
    "    RUL = Lo * 2**((Tb - average_temperature) / 10) / (365 * 24)\n",
    "    \n",
    "    # Output predicted values for Phase A, Phase B, and Phase C along with RUL\n",
    "    print(f\"Predicted value for Temperature-Phase A: {predictions[0, 0]}, RUL: {RUL} years\")\n",
    "    print(f\"Predicted value for Temperature-Phase B: {predictions[0, 1]}, RUL: {RUL} years\")\n",
    "    print(f\"Predicted value for Temperature-Phase C: {predictions[0, 2]}, RUL: {RUL} years\")"
   ]
  }
 ],
 "metadata": {
  "kernelspec": {
   "display_name": "Python 3 (ipykernel)",
   "language": "python",
   "name": "python3"
  },
  "language_info": {
   "codemirror_mode": {
    "name": "ipython",
    "version": 3
   },
   "file_extension": ".py",
   "mimetype": "text/x-python",
   "name": "python",
   "nbconvert_exporter": "python",
   "pygments_lexer": "ipython3",
   "version": "3.11.4"
  }
 },
 "nbformat": 4,
 "nbformat_minor": 5
}
