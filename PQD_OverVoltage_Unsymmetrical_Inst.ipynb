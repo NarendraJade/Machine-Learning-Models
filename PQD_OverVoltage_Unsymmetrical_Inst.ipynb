{
 "cells": [
  {
   "cell_type": "code",
   "execution_count": 1,
   "id": "40571759",
   "metadata": {},
   "outputs": [],
   "source": [
    "import sklearn\n",
    "import pandas as pd\n",
    "import numpy as np"
   ]
  },
  {
   "cell_type": "code",
   "execution_count": 2,
   "id": "522463b3",
   "metadata": {},
   "outputs": [
    {
     "data": {
      "text/html": [
       "<div>\n",
       "<style scoped>\n",
       "    .dataframe tbody tr th:only-of-type {\n",
       "        vertical-align: middle;\n",
       "    }\n",
       "\n",
       "    .dataframe tbody tr th {\n",
       "        vertical-align: top;\n",
       "    }\n",
       "\n",
       "    .dataframe thead th {\n",
       "        text-align: right;\n",
       "    }\n",
       "</style>\n",
       "<table border=\"1\" class=\"dataframe\">\n",
       "  <thead>\n",
       "    <tr style=\"text-align: right;\">\n",
       "      <th></th>\n",
       "      <th>Vas</th>\n",
       "      <th>Vbs</th>\n",
       "      <th>Vcs</th>\n",
       "      <th>Ias</th>\n",
       "      <th>Ibs</th>\n",
       "      <th>Ics</th>\n",
       "      <th>phase A</th>\n",
       "      <th>Phase B</th>\n",
       "      <th>phase C</th>\n",
       "    </tr>\n",
       "  </thead>\n",
       "  <tbody>\n",
       "    <tr>\n",
       "      <th>0</th>\n",
       "      <td>0.000000</td>\n",
       "      <td>-217.875000</td>\n",
       "      <td>207.500000</td>\n",
       "      <td>-2.838495</td>\n",
       "      <td>0.803070</td>\n",
       "      <td>0.894922</td>\n",
       "      <td>31.787107</td>\n",
       "      <td>28.907087</td>\n",
       "      <td>23.748358</td>\n",
       "    </tr>\n",
       "    <tr>\n",
       "      <th>1</th>\n",
       "      <td>0.000000</td>\n",
       "      <td>-217.875000</td>\n",
       "      <td>207.500000</td>\n",
       "      <td>-2.838495</td>\n",
       "      <td>0.803070</td>\n",
       "      <td>0.894922</td>\n",
       "      <td>31.787107</td>\n",
       "      <td>28.907087</td>\n",
       "      <td>23.748358</td>\n",
       "    </tr>\n",
       "    <tr>\n",
       "      <th>2</th>\n",
       "      <td>0.000000</td>\n",
       "      <td>-217.875000</td>\n",
       "      <td>207.500000</td>\n",
       "      <td>-2.838495</td>\n",
       "      <td>0.803070</td>\n",
       "      <td>0.894922</td>\n",
       "      <td>31.787107</td>\n",
       "      <td>28.907087</td>\n",
       "      <td>23.748358</td>\n",
       "    </tr>\n",
       "    <tr>\n",
       "      <th>3</th>\n",
       "      <td>7.902331</td>\n",
       "      <td>-221.718657</td>\n",
       "      <td>203.634597</td>\n",
       "      <td>-2.817309</td>\n",
       "      <td>0.720957</td>\n",
       "      <td>0.964054</td>\n",
       "      <td>31.787107</td>\n",
       "      <td>28.907087</td>\n",
       "      <td>23.748358</td>\n",
       "    </tr>\n",
       "    <tr>\n",
       "      <th>4</th>\n",
       "      <td>15.796863</td>\n",
       "      <td>-225.343505</td>\n",
       "      <td>199.568231</td>\n",
       "      <td>-2.793337</td>\n",
       "      <td>0.638130</td>\n",
       "      <td>1.032232</td>\n",
       "      <td>31.787107</td>\n",
       "      <td>28.907087</td>\n",
       "      <td>23.748358</td>\n",
       "    </tr>\n",
       "  </tbody>\n",
       "</table>\n",
       "</div>"
      ],
      "text/plain": [
       "         Vas         Vbs         Vcs       Ias       Ibs       Ics    phase A  \\\n",
       "0   0.000000 -217.875000  207.500000 -2.838495  0.803070  0.894922  31.787107   \n",
       "1   0.000000 -217.875000  207.500000 -2.838495  0.803070  0.894922  31.787107   \n",
       "2   0.000000 -217.875000  207.500000 -2.838495  0.803070  0.894922  31.787107   \n",
       "3   7.902331 -221.718657  203.634597 -2.817309  0.720957  0.964054  31.787107   \n",
       "4  15.796863 -225.343505  199.568231 -2.793337  0.638130  1.032232  31.787107   \n",
       "\n",
       "     Phase B    phase C  \n",
       "0  28.907087  23.748358  \n",
       "1  28.907087  23.748358  \n",
       "2  28.907087  23.748358  \n",
       "3  28.907087  23.748358  \n",
       "4  28.907087  23.748358  "
      ]
     },
     "execution_count": 2,
     "metadata": {},
     "output_type": "execute_result"
    }
   ],
   "source": [
    "df = pd.read_csv(\"C:\\\\Users\\\\Admin\\\\Desktop\\\\PQD Database\\\\PQD_OverVoltage_Database\\\\Unsymmetrical\\\\Inst\\\\PQD_OverVoltage_Unsymmetrical_Inst_Database.csv\")\n",
    "df.head()"
   ]
  },
  {
   "cell_type": "code",
   "execution_count": 3,
   "id": "b626c6ec",
   "metadata": {},
   "outputs": [
    {
     "data": {
      "text/html": [
       "<div>\n",
       "<style scoped>\n",
       "    .dataframe tbody tr th:only-of-type {\n",
       "        vertical-align: middle;\n",
       "    }\n",
       "\n",
       "    .dataframe tbody tr th {\n",
       "        vertical-align: top;\n",
       "    }\n",
       "\n",
       "    .dataframe thead th {\n",
       "        text-align: right;\n",
       "    }\n",
       "</style>\n",
       "<table border=\"1\" class=\"dataframe\">\n",
       "  <thead>\n",
       "    <tr style=\"text-align: right;\">\n",
       "      <th></th>\n",
       "      <th>Vas</th>\n",
       "      <th>Vbs</th>\n",
       "      <th>Vcs</th>\n",
       "      <th>Ias</th>\n",
       "      <th>Ibs</th>\n",
       "      <th>Ics</th>\n",
       "      <th>phase A</th>\n",
       "      <th>Phase B</th>\n",
       "      <th>phase C</th>\n",
       "    </tr>\n",
       "  </thead>\n",
       "  <tbody>\n",
       "    <tr>\n",
       "      <th>count</th>\n",
       "      <td>8.001800e+05</td>\n",
       "      <td>800180.000000</td>\n",
       "      <td>800180.000000</td>\n",
       "      <td>800180.000000</td>\n",
       "      <td>800180.000000</td>\n",
       "      <td>800180.000000</td>\n",
       "      <td>800180.000000</td>\n",
       "      <td>800180.000000</td>\n",
       "      <td>800180.000000</td>\n",
       "    </tr>\n",
       "    <tr>\n",
       "      <th>mean</th>\n",
       "      <td>-1.778696e-13</td>\n",
       "      <td>-0.048427</td>\n",
       "      <td>0.046677</td>\n",
       "      <td>-0.000631</td>\n",
       "      <td>-0.000085</td>\n",
       "      <td>0.000462</td>\n",
       "      <td>46.720808</td>\n",
       "      <td>34.375098</td>\n",
       "      <td>28.605916</td>\n",
       "    </tr>\n",
       "    <tr>\n",
       "      <th>std</th>\n",
       "      <td>1.821586e+02</td>\n",
       "      <td>175.926680</td>\n",
       "      <td>169.432668</td>\n",
       "      <td>2.782250</td>\n",
       "      <td>2.229837</td>\n",
       "      <td>1.940376</td>\n",
       "      <td>10.879697</td>\n",
       "      <td>10.949154</td>\n",
       "      <td>7.536993</td>\n",
       "    </tr>\n",
       "    <tr>\n",
       "      <th>min</th>\n",
       "      <td>-2.635604e+02</td>\n",
       "      <td>-263.545947</td>\n",
       "      <td>-239.587224</td>\n",
       "      <td>-5.458850</td>\n",
       "      <td>-4.604278</td>\n",
       "      <td>-3.887143</td>\n",
       "      <td>31.787107</td>\n",
       "      <td>19.118679</td>\n",
       "      <td>18.262499</td>\n",
       "    </tr>\n",
       "    <tr>\n",
       "      <th>25%</th>\n",
       "      <td>-1.804195e+02</td>\n",
       "      <td>-176.356329</td>\n",
       "      <td>-167.639589</td>\n",
       "      <td>-2.617201</td>\n",
       "      <td>-2.008992</td>\n",
       "      <td>-1.828911</td>\n",
       "      <td>38.252472</td>\n",
       "      <td>25.800312</td>\n",
       "      <td>23.831932</td>\n",
       "    </tr>\n",
       "    <tr>\n",
       "      <th>50%</th>\n",
       "      <td>0.000000e+00</td>\n",
       "      <td>-2.509043</td>\n",
       "      <td>2.509043</td>\n",
       "      <td>-0.001393</td>\n",
       "      <td>-0.000465</td>\n",
       "      <td>0.000223</td>\n",
       "      <td>44.961240</td>\n",
       "      <td>33.086584</td>\n",
       "      <td>26.327425</td>\n",
       "    </tr>\n",
       "    <tr>\n",
       "      <th>75%</th>\n",
       "      <td>1.804195e+02</td>\n",
       "      <td>176.021569</td>\n",
       "      <td>171.187913</td>\n",
       "      <td>2.616869</td>\n",
       "      <td>2.008986</td>\n",
       "      <td>1.829182</td>\n",
       "      <td>53.348557</td>\n",
       "      <td>41.036677</td>\n",
       "      <td>31.112179</td>\n",
       "    </tr>\n",
       "    <tr>\n",
       "      <th>max</th>\n",
       "      <td>2.635604e+02</td>\n",
       "      <td>263.545947</td>\n",
       "      <td>239.587224</td>\n",
       "      <td>5.458872</td>\n",
       "      <td>4.604255</td>\n",
       "      <td>3.887159</td>\n",
       "      <td>71.299967</td>\n",
       "      <td>58.064031</td>\n",
       "      <td>46.981273</td>\n",
       "    </tr>\n",
       "  </tbody>\n",
       "</table>\n",
       "</div>"
      ],
      "text/plain": [
       "                Vas            Vbs            Vcs            Ias  \\\n",
       "count  8.001800e+05  800180.000000  800180.000000  800180.000000   \n",
       "mean  -1.778696e-13      -0.048427       0.046677      -0.000631   \n",
       "std    1.821586e+02     175.926680     169.432668       2.782250   \n",
       "min   -2.635604e+02    -263.545947    -239.587224      -5.458850   \n",
       "25%   -1.804195e+02    -176.356329    -167.639589      -2.617201   \n",
       "50%    0.000000e+00      -2.509043       2.509043      -0.001393   \n",
       "75%    1.804195e+02     176.021569     171.187913       2.616869   \n",
       "max    2.635604e+02     263.545947     239.587224       5.458872   \n",
       "\n",
       "                 Ibs            Ics        phase A        Phase B  \\\n",
       "count  800180.000000  800180.000000  800180.000000  800180.000000   \n",
       "mean       -0.000085       0.000462      46.720808      34.375098   \n",
       "std         2.229837       1.940376      10.879697      10.949154   \n",
       "min        -4.604278      -3.887143      31.787107      19.118679   \n",
       "25%        -2.008992      -1.828911      38.252472      25.800312   \n",
       "50%        -0.000465       0.000223      44.961240      33.086584   \n",
       "75%         2.008986       1.829182      53.348557      41.036677   \n",
       "max         4.604255       3.887159      71.299967      58.064031   \n",
       "\n",
       "             phase C  \n",
       "count  800180.000000  \n",
       "mean       28.605916  \n",
       "std         7.536993  \n",
       "min        18.262499  \n",
       "25%        23.831932  \n",
       "50%        26.327425  \n",
       "75%        31.112179  \n",
       "max        46.981273  "
      ]
     },
     "execution_count": 3,
     "metadata": {},
     "output_type": "execute_result"
    }
   ],
   "source": [
    "df.describe()"
   ]
  },
  {
   "cell_type": "code",
   "execution_count": 4,
   "id": "816e5758",
   "metadata": {},
   "outputs": [
    {
     "name": "stdout",
     "output_type": "stream",
     "text": [
      "<class 'pandas.core.frame.DataFrame'>\n",
      "RangeIndex: 800180 entries, 0 to 800179\n",
      "Data columns (total 9 columns):\n",
      " #   Column   Non-Null Count   Dtype  \n",
      "---  ------   --------------   -----  \n",
      " 0   Vas      800180 non-null  float64\n",
      " 1   Vbs      800180 non-null  float64\n",
      " 2   Vcs      800180 non-null  float64\n",
      " 3   Ias      800180 non-null  float64\n",
      " 4   Ibs      800180 non-null  float64\n",
      " 5   Ics      800180 non-null  float64\n",
      " 6   phase A  800180 non-null  float64\n",
      " 7   Phase B  800180 non-null  float64\n",
      " 8   phase C  800180 non-null  float64\n",
      "dtypes: float64(9)\n",
      "memory usage: 54.9 MB\n"
     ]
    }
   ],
   "source": [
    "df.info()"
   ]
  },
  {
   "cell_type": "code",
   "execution_count": 5,
   "id": "1b61b97a",
   "metadata": {},
   "outputs": [
    {
     "name": "stdout",
     "output_type": "stream",
     "text": [
      "              Vas         Vbs         Vcs       Ias       Ibs       Ics\n",
      "0        0.000000 -217.875000  207.500000 -2.838495  0.803070  0.894922\n",
      "1        0.000000 -217.875000  207.500000 -2.838495  0.803070  0.894922\n",
      "2        0.000000 -217.875000  207.500000 -2.838495  0.803070  0.894922\n",
      "3        7.902331 -221.718657  203.634597 -2.817309  0.720957  0.964054\n",
      "4       15.796863 -225.343505  199.568231 -2.793337  0.638130  1.032232\n",
      "...           ...         ...         ...       ...       ...       ...\n",
      "800175 -33.032877 -190.848857  220.878745 -3.387183 -1.058412  3.454098\n",
      "800176 -24.803224 -195.304915  217.853301 -3.251137 -1.157157  3.483596\n",
      "800177 -16.549094 -199.568231  214.612862 -3.111883 -1.254766  3.509664\n",
      "800178  -8.278632 -203.634597  211.160626 -2.969556 -1.351146  3.532275\n",
      "800179   0.000000 -207.500000  207.500000 -2.824296 -1.446200  3.551407\n",
      "\n",
      "[800180 rows x 6 columns]\n"
     ]
    }
   ],
   "source": [
    "X = df[[\"Vas\",\"Vbs\",\"Vcs\",\"Ias\",\"Ibs\",\"Ics\"]]\n",
    "Y = df[[\"phase A\",\"Phase B\",\"phase C\"]]\n",
    "print(X)"
   ]
  },
  {
   "cell_type": "code",
   "execution_count": 6,
   "id": "b116c022",
   "metadata": {
    "scrolled": true
   },
   "outputs": [
    {
     "name": "stdout",
     "output_type": "stream",
     "text": [
      "          phase A    Phase B    phase C\n",
      "0       31.787107  28.907087  23.748358\n",
      "1       31.787107  28.907087  23.748358\n",
      "2       31.787107  28.907087  23.748358\n",
      "3       31.787107  28.907087  23.748358\n",
      "4       31.787107  28.907087  23.748358\n",
      "...           ...        ...        ...\n",
      "800175  71.293860  38.430102  42.450208\n",
      "800176  71.293860  38.430102  42.450208\n",
      "800177  71.293860  38.430102  42.450208\n",
      "800178  71.293860  38.430102  42.450208\n",
      "800179  71.293860  38.430102  42.450208\n",
      "\n",
      "[800180 rows x 3 columns]\n"
     ]
    }
   ],
   "source": [
    "print(Y)"
   ]
  },
  {
   "cell_type": "code",
   "execution_count": 7,
   "id": "cdfea2b4",
   "metadata": {},
   "outputs": [
    {
     "name": "stdout",
     "output_type": "stream",
     "text": [
      "               Vas         Vbs         Vcs       Ias       Ibs       Ics\n",
      "400511  141.409150 -238.956909  104.281529 -1.817687 -0.142001  2.285865\n",
      "397551  245.052261  -38.501701 -187.773236  4.702804 -3.001832 -0.408843\n",
      "341534  258.892019  -86.676224 -156.559813  3.587515 -3.361242  0.679131\n",
      "215657   65.544806 -253.851509  171.187913 -2.804304 -0.137417  0.853391\n",
      "57646   216.545806 -219.180302    2.509043 -0.249078 -2.371903  2.249839\n",
      "...            ...         ...         ...       ...       ...       ...\n",
      "359783  -24.803224  239.638631 -195.304915  2.565121  1.741443 -2.081475\n",
      "152315  147.875237  102.326959 -238.287806  3.752479 -1.019693 -1.667089\n",
      "117952 -183.394204  240.842803  -54.712951  0.298544  2.652064 -2.347240\n",
      "435829 -208.077245  215.716703  -17.547899  0.820399  0.998299 -2.534130\n",
      "305711  255.280163 -184.403548  -64.433286  1.539469 -3.435626  1.800212\n",
      "\n",
      "[640144 rows x 6 columns]\n"
     ]
    }
   ],
   "source": [
    "from sklearn.model_selection import train_test_split\n",
    "x_train, x_test, y_train, y_test = train_test_split(X,Y,test_size=0.2,random_state=0)\n",
    "#test size = 0.2 denotes that 20% of the data will be in the test state. Random_state provides the seed value.\n",
    "print(x_train)"
   ]
  },
  {
   "cell_type": "code",
   "execution_count": 8,
   "id": "58af81ec",
   "metadata": {},
   "outputs": [
    {
     "name": "stdout",
     "output_type": "stream",
     "text": [
      "               Vas         Vbs         Vcs       Ias       Ibs       Ics\n",
      "400511  141.409150 -238.956909  104.281529 -1.817687 -0.142001  2.285865\n",
      "397551  245.052261  -38.501701 -187.773236  4.702804 -3.001832 -0.408843\n",
      "341534  258.892019  -86.676224 -156.559813  3.587515 -3.361242  0.679131\n",
      "215657   65.544806 -253.851509  171.187913 -2.804304 -0.137417  0.853391\n",
      "57646   216.545806 -219.180302    2.509043 -0.249078 -2.371903  2.249839\n",
      "...            ...         ...         ...       ...       ...       ...\n",
      "359783  -24.803224  239.638631 -195.304915  2.565121  1.741443 -2.081475\n",
      "152315  147.875237  102.326959 -238.287806  3.752479 -1.019693 -1.667089\n",
      "117952 -183.394204  240.842803  -54.712951  0.298544  2.652064 -2.347240\n",
      "435829 -208.077245  215.716703  -17.547899  0.820399  0.998299 -2.534130\n",
      "305711  255.280163 -184.403548  -64.433286  1.539469 -3.435626  1.800212\n",
      "\n",
      "[640144 rows x 6 columns]\n"
     ]
    }
   ],
   "source": [
    "from sklearn.model_selection import train_test_split\n",
    "x_train, x_test, y_train, y_test = train_test_split(X,Y,test_size=0.2,random_state=0)\n",
    "#test size = 0.2 denotes that 20% of the data will be in the test state. Random_state provides the seed value.\n",
    "print(x_train)"
   ]
  },
  {
   "cell_type": "code",
   "execution_count": 9,
   "id": "1abca9fb",
   "metadata": {
    "scrolled": true
   },
   "outputs": [
    {
     "name": "stdout",
     "output_type": "stream",
     "text": [
      "          phase A    Phase B    phase C\n",
      "400511  32.902540  23.266854  26.128192\n",
      "397551  61.888905  58.058330  29.621045\n",
      "341534  52.237797  47.899879  21.776646\n",
      "215657  37.675323  31.982022  23.859791\n",
      "57646   33.589178  30.847917  22.013687\n",
      "...           ...        ...        ...\n",
      "359783  52.237797  47.899879  21.776646\n",
      "152315  46.207302  44.039218  30.500841\n",
      "117952  38.444855  35.969777  24.213541\n",
      "435829  32.902540  23.266854  26.128192\n",
      "305711  44.916368  40.035709  18.262499\n",
      "\n",
      "[640144 rows x 3 columns]\n"
     ]
    }
   ],
   "source": [
    "print(y_train)"
   ]
  },
  {
   "cell_type": "code",
   "execution_count": 10,
   "id": "6cf3d983",
   "metadata": {},
   "outputs": [
    {
     "name": "stdout",
     "output_type": "stream",
     "text": [
      "                 Vas         Vbs         Vcs       Ias       Ibs       Ics\n",
      "352131  2.634303e+02 -124.545668 -126.258799  3.194136 -3.643480  1.007358\n",
      "287427 -2.450523e+02   38.501701  187.773236 -3.256711  2.869308 -0.904726\n",
      "264333  1.976996e+02   52.094647 -227.085654  3.225184 -2.291453  0.939734\n",
      "450811 -6.256550e+01  230.774099 -171.187913  2.219991  0.044251 -2.191878\n",
      "593083 -2.514562e+02  126.258799  113.223334 -4.025114  3.410732 -0.483133\n",
      "...              ...         ...         ...       ...       ...       ...\n",
      "289827 -2.450523e+02   38.501701  187.773236 -3.256711  2.869308 -0.904726\n",
      "497732  1.478752e+02 -238.287806   97.454247 -0.715317 -1.641491  2.717993\n",
      "208796 -2.634303e+02  138.884679  113.223334 -0.867604  2.837405 -2.384519\n",
      "246199 -2.572130e+02  178.397700   71.650282 -0.933258  3.026297 -2.070341\n",
      "392589  2.905930e-11  228.250000 -207.500000  2.836740  2.138171 -2.693905\n",
      "\n",
      "[160036 rows x 6 columns]\n"
     ]
    }
   ],
   "source": [
    "print(x_test)"
   ]
  },
  {
   "cell_type": "code",
   "execution_count": 11,
   "id": "b6f4f200",
   "metadata": {},
   "outputs": [
    {
     "name": "stdout",
     "output_type": "stream",
     "text": [
      "          phase A    Phase B    phase C\n",
      "352131  52.237797  47.899879  21.776646\n",
      "287427  44.916368  40.035709  18.262499\n",
      "264333  40.032725  34.660687  19.316834\n",
      "450811  35.767514  22.946547  25.810096\n",
      "593083  61.487343  45.053999  46.976984\n",
      "...           ...        ...        ...\n",
      "289827  44.916368  40.035709  18.262499\n",
      "497732  41.605683  26.644797  29.269297\n",
      "208796  37.675323  31.982022  23.859791\n",
      "246199  40.032725  34.660687  19.316834\n",
      "392589  61.888905  58.058330  29.621045\n",
      "\n",
      "[160036 rows x 3 columns]\n"
     ]
    }
   ],
   "source": [
    "print(y_test)"
   ]
  },
  {
   "cell_type": "code",
   "execution_count": 12,
   "id": "e5d25337",
   "metadata": {},
   "outputs": [
    {
     "name": "stdout",
     "output_type": "stream",
     "text": [
      "LinearRegression()\n"
     ]
    },
    {
     "data": {
      "text/html": [
       "<style>#sk-container-id-1 {color: black;}#sk-container-id-1 pre{padding: 0;}#sk-container-id-1 div.sk-toggleable {background-color: white;}#sk-container-id-1 label.sk-toggleable__label {cursor: pointer;display: block;width: 100%;margin-bottom: 0;padding: 0.3em;box-sizing: border-box;text-align: center;}#sk-container-id-1 label.sk-toggleable__label-arrow:before {content: \"▸\";float: left;margin-right: 0.25em;color: #696969;}#sk-container-id-1 label.sk-toggleable__label-arrow:hover:before {color: black;}#sk-container-id-1 div.sk-estimator:hover label.sk-toggleable__label-arrow:before {color: black;}#sk-container-id-1 div.sk-toggleable__content {max-height: 0;max-width: 0;overflow: hidden;text-align: left;background-color: #f0f8ff;}#sk-container-id-1 div.sk-toggleable__content pre {margin: 0.2em;color: black;border-radius: 0.25em;background-color: #f0f8ff;}#sk-container-id-1 input.sk-toggleable__control:checked~div.sk-toggleable__content {max-height: 200px;max-width: 100%;overflow: auto;}#sk-container-id-1 input.sk-toggleable__control:checked~label.sk-toggleable__label-arrow:before {content: \"▾\";}#sk-container-id-1 div.sk-estimator input.sk-toggleable__control:checked~label.sk-toggleable__label {background-color: #d4ebff;}#sk-container-id-1 div.sk-label input.sk-toggleable__control:checked~label.sk-toggleable__label {background-color: #d4ebff;}#sk-container-id-1 input.sk-hidden--visually {border: 0;clip: rect(1px 1px 1px 1px);clip: rect(1px, 1px, 1px, 1px);height: 1px;margin: -1px;overflow: hidden;padding: 0;position: absolute;width: 1px;}#sk-container-id-1 div.sk-estimator {font-family: monospace;background-color: #f0f8ff;border: 1px dotted black;border-radius: 0.25em;box-sizing: border-box;margin-bottom: 0.5em;}#sk-container-id-1 div.sk-estimator:hover {background-color: #d4ebff;}#sk-container-id-1 div.sk-parallel-item::after {content: \"\";width: 100%;border-bottom: 1px solid gray;flex-grow: 1;}#sk-container-id-1 div.sk-label:hover label.sk-toggleable__label {background-color: #d4ebff;}#sk-container-id-1 div.sk-serial::before {content: \"\";position: absolute;border-left: 1px solid gray;box-sizing: border-box;top: 0;bottom: 0;left: 50%;z-index: 0;}#sk-container-id-1 div.sk-serial {display: flex;flex-direction: column;align-items: center;background-color: white;padding-right: 0.2em;padding-left: 0.2em;position: relative;}#sk-container-id-1 div.sk-item {position: relative;z-index: 1;}#sk-container-id-1 div.sk-parallel {display: flex;align-items: stretch;justify-content: center;background-color: white;position: relative;}#sk-container-id-1 div.sk-item::before, #sk-container-id-1 div.sk-parallel-item::before {content: \"\";position: absolute;border-left: 1px solid gray;box-sizing: border-box;top: 0;bottom: 0;left: 50%;z-index: -1;}#sk-container-id-1 div.sk-parallel-item {display: flex;flex-direction: column;z-index: 1;position: relative;background-color: white;}#sk-container-id-1 div.sk-parallel-item:first-child::after {align-self: flex-end;width: 50%;}#sk-container-id-1 div.sk-parallel-item:last-child::after {align-self: flex-start;width: 50%;}#sk-container-id-1 div.sk-parallel-item:only-child::after {width: 0;}#sk-container-id-1 div.sk-dashed-wrapped {border: 1px dashed gray;margin: 0 0.4em 0.5em 0.4em;box-sizing: border-box;padding-bottom: 0.4em;background-color: white;}#sk-container-id-1 div.sk-label label {font-family: monospace;font-weight: bold;display: inline-block;line-height: 1.2em;}#sk-container-id-1 div.sk-label-container {text-align: center;}#sk-container-id-1 div.sk-container {/* jupyter's `normalize.less` sets `[hidden] { display: none; }` but bootstrap.min.css set `[hidden] { display: none !important; }` so we also need the `!important` here to be able to override the default hidden behavior on the sphinx rendered scikit-learn.org. See: https://github.com/scikit-learn/scikit-learn/issues/21755 */display: inline-block !important;position: relative;}#sk-container-id-1 div.sk-text-repr-fallback {display: none;}</style><div id=\"sk-container-id-1\" class=\"sk-top-container\"><div class=\"sk-text-repr-fallback\"><pre>LinearRegression()</pre><b>In a Jupyter environment, please rerun this cell to show the HTML representation or trust the notebook. <br />On GitHub, the HTML representation is unable to render, please try loading this page with nbviewer.org.</b></div><div class=\"sk-container\" hidden><div class=\"sk-item\"><div class=\"sk-estimator sk-toggleable\"><input class=\"sk-toggleable__control sk-hidden--visually\" id=\"sk-estimator-id-1\" type=\"checkbox\" checked><label for=\"sk-estimator-id-1\" class=\"sk-toggleable__label sk-toggleable__label-arrow\">LinearRegression</label><div class=\"sk-toggleable__content\"><pre>LinearRegression()</pre></div></div></div></div></div>"
      ],
      "text/plain": [
       "LinearRegression()"
      ]
     },
     "execution_count": 12,
     "metadata": {},
     "output_type": "execute_result"
    }
   ],
   "source": [
    "from sklearn.linear_model import LinearRegression\n",
    "regressor = LinearRegression()\n",
    "print(regressor)\n",
    "regressor.fit(x_train,y_train)#Used to find the most accurate equation for our LR model as per the dataset"
   ]
  },
  {
   "cell_type": "code",
   "execution_count": 13,
   "id": "8d7336d8",
   "metadata": {},
   "outputs": [
    {
     "name": "stdout",
     "output_type": "stream",
     "text": [
      "[46.72466603 34.3776617  28.60416902]\n",
      "[[ 0.00290487  0.00298559  0.00315544 -0.01143135 -0.02680613 -0.0307988 ]\n",
      " [ 0.0035892   0.0036282   0.00368355 -0.027754   -0.03660574 -0.04009886]\n",
      " [ 0.0009482   0.00094693  0.00097691 -0.00530212 -0.00513583 -0.009476  ]]\n"
     ]
    }
   ],
   "source": [
    "print(regressor.intercept_)\n",
    "print(regressor.coef_)"
   ]
  },
  {
   "cell_type": "code",
   "execution_count": 14,
   "id": "7d7221f3",
   "metadata": {},
   "outputs": [
    {
     "name": "stdout",
     "output_type": "stream",
     "text": [
      "          phase A    Phase B    phase C\n",
      "352131  52.237797  47.899879  21.776646\n",
      "287427  44.916368  40.035709  18.262499\n",
      "264333  40.032725  34.660687  19.316834\n",
      "450811  35.767514  22.946547  25.810096\n",
      "593083  61.487343  45.053999  46.976984\n",
      "...           ...        ...        ...\n",
      "289827  44.916368  40.035709  18.262499\n",
      "497732  41.605683  26.644797  29.269297\n",
      "208796  37.675323  31.982022  23.859791\n",
      "246199  40.032725  34.660687  19.316834\n",
      "392589  61.888905  58.058330  29.621045\n",
      "\n",
      "[160036 rows x 3 columns]\n"
     ]
    }
   ],
   "source": [
    "column_names = [\"phase A\", \"Phase B\", \"phase C\"]\n",
    "y_test_df = pd.DataFrame(data=y_test, columns=column_names)\n",
    "print(y_test_df)"
   ]
  },
  {
   "cell_type": "code",
   "execution_count": 15,
   "id": "26274ef6",
   "metadata": {},
   "outputs": [],
   "source": [
    "y_test_a = y_test[\"phase A\"]\n",
    "y_test_b = y_test[\"Phase B\"]\n",
    "y_test_c = y_test[\"phase C\"]"
   ]
  },
  {
   "cell_type": "code",
   "execution_count": 16,
   "id": "5af40da3",
   "metadata": {},
   "outputs": [
    {
     "name": "stdout",
     "output_type": "stream",
     "text": [
      "        Actual Phase A  Predicted Phase A  Actual Phase B  Predicted Phase B  \\\n",
      "352131       52.237797          46.749781       47.899879          34.410538   \n",
      "287427       44.916368          46.708457       40.035709          34.351115   \n",
      "264333       40.032725          46.733549       34.660687          34.396461   \n",
      "450811       35.767514          46.732689       22.946547          34.384476   \n",
      "593083       61.487343          46.697909       45.053999          34.356524   \n",
      "...                ...                ...             ...                ...   \n",
      "289827       44.916368          46.708457       40.035709          34.351115   \n",
      "497732       41.605683          46.718773       26.644797          34.373790   \n",
      "208796       37.675323          46.738656       31.982022          34.368952   \n",
      "246199       40.032725          46.729516       34.660687          34.363802   \n",
      "392589       61.888905          46.744598       58.058330          34.392484   \n",
      "\n",
      "        Actual Phase C  Predicted Phase C  \n",
      "352131       21.776646          28.604905  \n",
      "287427       18.262499          28.602812  \n",
      "264333       19.316834          28.604878  \n",
      "450811       25.810096          28.604907  \n",
      "593083       46.976984          28.604309  \n",
      "...                ...                ...  \n",
      "289827       18.262499          28.602812  \n",
      "497732       29.269297          28.600415  \n",
      "208796       23.859791          28.609131  \n",
      "246199       19.316834          28.608230  \n",
      "392589       29.621045          28.617101  \n",
      "\n",
      "[160036 rows x 6 columns]\n"
     ]
    }
   ],
   "source": [
    "y_test_predict = regressor.predict(x_test)\n",
    "y_test_predict_a = y_test_predict[:, 0]\n",
    "y_test_predict_b = y_test_predict[:, 1]\n",
    "y_test_predict_c = y_test_predict[:, 2]\n",
    "df_a = pd.DataFrame({\"Actual Phase A\": y_test_a, \"Predicted Phase A\": y_test_predict_a})\n",
    "df_b = pd.DataFrame({\"Actual Phase B\": y_test_b, \"Predicted Phase B\": y_test_predict_b})\n",
    "df_c = pd.DataFrame({\"Actual Phase C\": y_test_c, \"Predicted Phase C\": y_test_predict_c})\n",
    "comparison_df = pd.concat([df_a, df_b, df_c], axis=1)\n",
    "print(comparison_df)"
   ]
  },
  {
   "cell_type": "code",
   "execution_count": 17,
   "id": "6dc9614b",
   "metadata": {},
   "outputs": [
    {
     "name": "stdout",
     "output_type": "stream",
     "text": [
      "Calculating error(Test Dataset)-: \n",
      "\n",
      "Mean Absolute Error: 8.040418491955242\n",
      "Mean Squared Error: 98.36544575122697\n",
      "Root Mean Squared Error: 9.917935558937\n"
     ]
    }
   ],
   "source": [
    "print(\"Calculating error(Test Dataset)-: \\n\")\n",
    "from sklearn import metrics\n",
    "print('Mean Absolute Error:', metrics.mean_absolute_error(y_test, y_test_predict))  \n",
    "print('Mean Squared Error:', metrics.mean_squared_error(y_test, y_test_predict))  \n",
    "print('Root Mean Squared Error:', np.sqrt(metrics.mean_squared_error(y_test, y_test_predict)))"
   ]
  },
  {
   "cell_type": "code",
   "execution_count": 18,
   "id": "8c23d084",
   "metadata": {},
   "outputs": [],
   "source": [
    "from sklearn.ensemble import RandomForestRegressor"
   ]
  },
  {
   "cell_type": "code",
   "execution_count": 19,
   "id": "612c99d3",
   "metadata": {},
   "outputs": [
    {
     "data": {
      "text/html": [
       "<style>#sk-container-id-2 {color: black;}#sk-container-id-2 pre{padding: 0;}#sk-container-id-2 div.sk-toggleable {background-color: white;}#sk-container-id-2 label.sk-toggleable__label {cursor: pointer;display: block;width: 100%;margin-bottom: 0;padding: 0.3em;box-sizing: border-box;text-align: center;}#sk-container-id-2 label.sk-toggleable__label-arrow:before {content: \"▸\";float: left;margin-right: 0.25em;color: #696969;}#sk-container-id-2 label.sk-toggleable__label-arrow:hover:before {color: black;}#sk-container-id-2 div.sk-estimator:hover label.sk-toggleable__label-arrow:before {color: black;}#sk-container-id-2 div.sk-toggleable__content {max-height: 0;max-width: 0;overflow: hidden;text-align: left;background-color: #f0f8ff;}#sk-container-id-2 div.sk-toggleable__content pre {margin: 0.2em;color: black;border-radius: 0.25em;background-color: #f0f8ff;}#sk-container-id-2 input.sk-toggleable__control:checked~div.sk-toggleable__content {max-height: 200px;max-width: 100%;overflow: auto;}#sk-container-id-2 input.sk-toggleable__control:checked~label.sk-toggleable__label-arrow:before {content: \"▾\";}#sk-container-id-2 div.sk-estimator input.sk-toggleable__control:checked~label.sk-toggleable__label {background-color: #d4ebff;}#sk-container-id-2 div.sk-label input.sk-toggleable__control:checked~label.sk-toggleable__label {background-color: #d4ebff;}#sk-container-id-2 input.sk-hidden--visually {border: 0;clip: rect(1px 1px 1px 1px);clip: rect(1px, 1px, 1px, 1px);height: 1px;margin: -1px;overflow: hidden;padding: 0;position: absolute;width: 1px;}#sk-container-id-2 div.sk-estimator {font-family: monospace;background-color: #f0f8ff;border: 1px dotted black;border-radius: 0.25em;box-sizing: border-box;margin-bottom: 0.5em;}#sk-container-id-2 div.sk-estimator:hover {background-color: #d4ebff;}#sk-container-id-2 div.sk-parallel-item::after {content: \"\";width: 100%;border-bottom: 1px solid gray;flex-grow: 1;}#sk-container-id-2 div.sk-label:hover label.sk-toggleable__label {background-color: #d4ebff;}#sk-container-id-2 div.sk-serial::before {content: \"\";position: absolute;border-left: 1px solid gray;box-sizing: border-box;top: 0;bottom: 0;left: 50%;z-index: 0;}#sk-container-id-2 div.sk-serial {display: flex;flex-direction: column;align-items: center;background-color: white;padding-right: 0.2em;padding-left: 0.2em;position: relative;}#sk-container-id-2 div.sk-item {position: relative;z-index: 1;}#sk-container-id-2 div.sk-parallel {display: flex;align-items: stretch;justify-content: center;background-color: white;position: relative;}#sk-container-id-2 div.sk-item::before, #sk-container-id-2 div.sk-parallel-item::before {content: \"\";position: absolute;border-left: 1px solid gray;box-sizing: border-box;top: 0;bottom: 0;left: 50%;z-index: -1;}#sk-container-id-2 div.sk-parallel-item {display: flex;flex-direction: column;z-index: 1;position: relative;background-color: white;}#sk-container-id-2 div.sk-parallel-item:first-child::after {align-self: flex-end;width: 50%;}#sk-container-id-2 div.sk-parallel-item:last-child::after {align-self: flex-start;width: 50%;}#sk-container-id-2 div.sk-parallel-item:only-child::after {width: 0;}#sk-container-id-2 div.sk-dashed-wrapped {border: 1px dashed gray;margin: 0 0.4em 0.5em 0.4em;box-sizing: border-box;padding-bottom: 0.4em;background-color: white;}#sk-container-id-2 div.sk-label label {font-family: monospace;font-weight: bold;display: inline-block;line-height: 1.2em;}#sk-container-id-2 div.sk-label-container {text-align: center;}#sk-container-id-2 div.sk-container {/* jupyter's `normalize.less` sets `[hidden] { display: none; }` but bootstrap.min.css set `[hidden] { display: none !important; }` so we also need the `!important` here to be able to override the default hidden behavior on the sphinx rendered scikit-learn.org. See: https://github.com/scikit-learn/scikit-learn/issues/21755 */display: inline-block !important;position: relative;}#sk-container-id-2 div.sk-text-repr-fallback {display: none;}</style><div id=\"sk-container-id-2\" class=\"sk-top-container\"><div class=\"sk-text-repr-fallback\"><pre>RandomForestRegressor(max_depth=20)</pre><b>In a Jupyter environment, please rerun this cell to show the HTML representation or trust the notebook. <br />On GitHub, the HTML representation is unable to render, please try loading this page with nbviewer.org.</b></div><div class=\"sk-container\" hidden><div class=\"sk-item\"><div class=\"sk-estimator sk-toggleable\"><input class=\"sk-toggleable__control sk-hidden--visually\" id=\"sk-estimator-id-2\" type=\"checkbox\" checked><label for=\"sk-estimator-id-2\" class=\"sk-toggleable__label sk-toggleable__label-arrow\">RandomForestRegressor</label><div class=\"sk-toggleable__content\"><pre>RandomForestRegressor(max_depth=20)</pre></div></div></div></div></div>"
      ],
      "text/plain": [
       "RandomForestRegressor(max_depth=20)"
      ]
     },
     "execution_count": 19,
     "metadata": {},
     "output_type": "execute_result"
    }
   ],
   "source": [
    "rf=RandomForestRegressor(n_estimators=100, max_depth=20)\n",
    "rf.fit(x_train,y_train)"
   ]
  },
  {
   "cell_type": "code",
   "execution_count": 20,
   "id": "1257d3a3",
   "metadata": {},
   "outputs": [
    {
     "name": "stdout",
     "output_type": "stream",
     "text": [
      "        Actual Phase A  Predicted Phase A  Actual Phase B  Predicted Phase B  \\\n",
      "352131       52.237797          46.749781       47.899879          34.410538   \n",
      "287427       44.916368          46.708457       40.035709          34.351115   \n",
      "264333       40.032725          46.733549       34.660687          34.396461   \n",
      "450811       35.767514          46.732689       22.946547          34.384476   \n",
      "593083       61.487343          46.697909       45.053999          34.356524   \n",
      "...                ...                ...             ...                ...   \n",
      "289827       44.916368          46.708457       40.035709          34.351115   \n",
      "497732       41.605683          46.718773       26.644797          34.373790   \n",
      "208796       37.675323          46.738656       31.982022          34.368952   \n",
      "246199       40.032725          46.729516       34.660687          34.363802   \n",
      "392589       61.888905          46.744598       58.058330          34.392484   \n",
      "\n",
      "        Actual Phase C  Predicted Phase C  \n",
      "352131       21.776646          28.604905  \n",
      "287427       18.262499          28.602812  \n",
      "264333       19.316834          28.604878  \n",
      "450811       25.810096          28.604907  \n",
      "593083       46.976984          28.604309  \n",
      "...                ...                ...  \n",
      "289827       18.262499          28.602812  \n",
      "497732       29.269297          28.600415  \n",
      "208796       23.859791          28.609131  \n",
      "246199       19.316834          28.608230  \n",
      "392589       29.621045          28.617101  \n",
      "\n",
      "[160036 rows x 6 columns]\n"
     ]
    }
   ],
   "source": [
    "y_test_predict_rf = rf.predict(x_test)\n",
    "y_test_predict_a = y_test_predict[:, 0]\n",
    "y_test_predict_b = y_test_predict[:, 1]\n",
    "y_test_predict_c = y_test_predict[:, 2]\n",
    "df_a = pd.DataFrame({\"Actual Phase A\": y_test_a, \"Predicted Phase A\": y_test_predict_a})\n",
    "df_b = pd.DataFrame({\"Actual Phase B\": y_test_b, \"Predicted Phase B\": y_test_predict_b})\n",
    "df_c = pd.DataFrame({\"Actual Phase C\": y_test_c, \"Predicted Phase C\": y_test_predict_c})\n",
    "comparison_df = pd.concat([df_a, df_b, df_c], axis=1)\n",
    "print(comparison_df)"
   ]
  },
  {
   "cell_type": "code",
   "execution_count": 21,
   "id": "4b0f748a",
   "metadata": {},
   "outputs": [
    {
     "name": "stdout",
     "output_type": "stream",
     "text": [
      "Mean Absolute Error:  0.5969796134469844\n",
      "Mean Squared Error:  0.5969796134469844\n",
      "Root Mean Squared Error:  0.5969796134469844\n"
     ]
    }
   ],
   "source": [
    "from sklearn import metrics\n",
    "print(\"Mean Absolute Error: \",metrics.mean_absolute_error(y_test,y_test_predict_rf))\n",
    "print(\"Mean Squared Error: \",metrics.mean_absolute_error(y_test,y_test_predict_rf))\n",
    "print(\"Root Mean Squared Error: \",metrics.mean_absolute_error(y_test,y_test_predict_rf))"
   ]
  },
  {
   "cell_type": "code",
   "execution_count": 24,
   "id": "50186676",
   "metadata": {},
   "outputs": [],
   "source": [
    "import pandas as pd\n",
    "import numpy as np\n",
    "from IPython.display import display, HTML\n",
    "\n",
    "def predict_temperatures_from_csv(rf_model, csv_path):\n",
    "    # Read the CSV file into a DataFrame\n",
    "    df = pd.read_csv(csv_path)\n",
    "    \n",
    "    # Extract voltage and current columns\n",
    "    voltage_columns = [\"Vas\", \"Vbs\", \"Vcs\"]\n",
    "    current_columns = [\"Ias\", \"Ibs\", \"Ics\"]\n",
    "    \n",
    "    # Extract voltage and current values from the DataFrame\n",
    "    X = df[voltage_columns + current_columns]\n",
    "    \n",
    "    # Use the trained model to predict temperature values\n",
    "    temperature_predictions = rf_model.predict(X)\n",
    "    \n",
    "    # Create a DataFrame to store the predictions\n",
    "    predictions_df = pd.DataFrame(temperature_predictions, columns=[\"Predicted Phase A\", \"Predicted Phase B\", \"Predicted Phase C\"])\n",
    "    \n",
    "    # Calculate average predicted temperature across phases\n",
    "    predictions_df[\"Average Temperature\"] = predictions_df.mean(axis=1)\n",
    "    \n",
    "    # Concatenate the predictions DataFrame with the original DataFrame\n",
    "    result_df = pd.concat([df, predictions_df], axis=1)\n",
    "    \n",
    "    # Calculate Remaining Useful Life (RUL)\n",
    "    Lo = 20000\n",
    "    Tb = 155\n",
    "    Tc = result_df[\"Average Temperature\"]\n",
    "    result_df[\"RUL\"] = Lo * 2**((Tb - Tc) / 10)\n",
    "    \n",
    "    # Convert RUL from hours to years\n",
    "    result_df[\"RUL\"] /= (365 * 24)\n",
    "    \n",
    "    # Drop unnamed columns\n",
    "    result_df = result_df.drop(result_df.columns[result_df.columns.str.contains('Unnamed', case=False)], axis=1)\n",
    "    \n",
    "    # Display DataFrame with bold column headings\n",
    "    display(HTML(result_df.style.set_table_styles([{'selector': 'th', 'props': [('font-weight', 'bold')]}]).render()))\n",
    "    \n",
    "    return result_df"
   ]
  },
  {
   "cell_type": "code",
   "execution_count": 25,
   "id": "6f16de75",
   "metadata": {},
   "outputs": [],
   "source": [
    "import numpy as np\n",
    "\n",
    "def predict_values(rf_model, v1, v2, v3, i1, i2, i3):\n",
    "    # Convert feature values to numpy array\n",
    "    user_input_array = np.array([v1, v2, v3, i1, i2, i3]).reshape(1, -1)\n",
    "    \n",
    "    # Make prediction using the trained Random Forest Regressor\n",
    "    predictions = rf_model.predict(user_input_array)\n",
    "    \n",
    "    # Calculate RUL\n",
    "    Lo = 20000\n",
    "    Tb = 155\n",
    "    Tc = np.mean(predictions)\n",
    "    RUL = (Lo * 2**((Tb - Tc) / 10)) / (365 * 24)\n",
    "    \n",
    "    # Output predicted values for Phase A, Phase B, and Phase C\n",
    "    print(f\"Predicted value for Temperature-Phase A: {predictions[0, 0]}, RUL: {RUL} years\")\n",
    "    print(f\"Predicted value for Temperature-Phase B: {predictions[0, 1]}, RUL: {RUL} years\")\n",
    "    print(f\"Predicted value for Temperature-Phase C: {predictions[0, 2]}, RUL: {RUL} years\")"
   ]
  }
 ],
 "metadata": {
  "kernelspec": {
   "display_name": "Python 3 (ipykernel)",
   "language": "python",
   "name": "python3"
  },
  "language_info": {
   "codemirror_mode": {
    "name": "ipython",
    "version": 3
   },
   "file_extension": ".py",
   "mimetype": "text/x-python",
   "name": "python",
   "nbconvert_exporter": "python",
   "pygments_lexer": "ipython3",
   "version": "3.11.4"
  }
 },
 "nbformat": 4,
 "nbformat_minor": 5
}
