{
 "cells": [
  {
   "cell_type": "markdown",
   "id": "94849933",
   "metadata": {},
   "source": [
    "Today, we are creating an ML Model to predict house rent which depends on a number of factors such as the number of rooms, area of the house, location and so on. Before we start lets give it a cool name.\n",
    "\n",
    "# RentForecast Pro\n"
   ]
  },
  {
   "cell_type": "markdown",
   "id": "cdddd742",
   "metadata": {},
   "source": [
    "We will be using the Scikit Learn library because it has predefined functions for developing and improving ML Models."
   ]
  },
  {
   "cell_type": "code",
   "execution_count": 2,
   "id": "ad3f0c29",
   "metadata": {},
   "outputs": [],
   "source": [
    "import sklearn\n",
    "import pandas as pd\n",
    "import numpy as np"
   ]
  },
  {
   "cell_type": "code",
   "execution_count": 3,
   "id": "4b71121a",
   "metadata": {},
   "outputs": [
    {
     "data": {
      "text/html": [
       "<div>\n",
       "<style scoped>\n",
       "    .dataframe tbody tr th:only-of-type {\n",
       "        vertical-align: middle;\n",
       "    }\n",
       "\n",
       "    .dataframe tbody tr th {\n",
       "        vertical-align: top;\n",
       "    }\n",
       "\n",
       "    .dataframe thead th {\n",
       "        text-align: right;\n",
       "    }\n",
       "</style>\n",
       "<table border=\"1\" class=\"dataframe\">\n",
       "  <thead>\n",
       "    <tr style=\"text-align: right;\">\n",
       "      <th></th>\n",
       "      <th>Posted On</th>\n",
       "      <th>BHK</th>\n",
       "      <th>Rent</th>\n",
       "      <th>Size</th>\n",
       "      <th>Floor</th>\n",
       "      <th>Area Type</th>\n",
       "      <th>Area Locality</th>\n",
       "      <th>City</th>\n",
       "      <th>Furnishing Status</th>\n",
       "      <th>Tenant Preferred</th>\n",
       "      <th>Bathroom</th>\n",
       "      <th>Point of Contact</th>\n",
       "    </tr>\n",
       "  </thead>\n",
       "  <tbody>\n",
       "    <tr>\n",
       "      <th>0</th>\n",
       "      <td>18-05-2022</td>\n",
       "      <td>2</td>\n",
       "      <td>10000</td>\n",
       "      <td>1100</td>\n",
       "      <td>Ground out of 2</td>\n",
       "      <td>Super Area</td>\n",
       "      <td>Bandel</td>\n",
       "      <td>Kolkata</td>\n",
       "      <td>Unfurnished</td>\n",
       "      <td>Bachelors/Family</td>\n",
       "      <td>2</td>\n",
       "      <td>Contact Owner</td>\n",
       "    </tr>\n",
       "    <tr>\n",
       "      <th>1</th>\n",
       "      <td>13-05-2022</td>\n",
       "      <td>2</td>\n",
       "      <td>20000</td>\n",
       "      <td>800</td>\n",
       "      <td>1 out of 3</td>\n",
       "      <td>Super Area</td>\n",
       "      <td>Phool Bagan, Kankurgachi</td>\n",
       "      <td>Kolkata</td>\n",
       "      <td>Semi-Furnished</td>\n",
       "      <td>Bachelors/Family</td>\n",
       "      <td>1</td>\n",
       "      <td>Contact Owner</td>\n",
       "    </tr>\n",
       "    <tr>\n",
       "      <th>2</th>\n",
       "      <td>16-05-2022</td>\n",
       "      <td>2</td>\n",
       "      <td>17000</td>\n",
       "      <td>1000</td>\n",
       "      <td>1 out of 3</td>\n",
       "      <td>Super Area</td>\n",
       "      <td>Salt Lake City Sector 2</td>\n",
       "      <td>Kolkata</td>\n",
       "      <td>Semi-Furnished</td>\n",
       "      <td>Bachelors/Family</td>\n",
       "      <td>1</td>\n",
       "      <td>Contact Owner</td>\n",
       "    </tr>\n",
       "    <tr>\n",
       "      <th>3</th>\n",
       "      <td>04-07-2022</td>\n",
       "      <td>2</td>\n",
       "      <td>10000</td>\n",
       "      <td>800</td>\n",
       "      <td>1 out of 2</td>\n",
       "      <td>Super Area</td>\n",
       "      <td>Dumdum Park</td>\n",
       "      <td>Kolkata</td>\n",
       "      <td>Unfurnished</td>\n",
       "      <td>Bachelors/Family</td>\n",
       "      <td>1</td>\n",
       "      <td>Contact Owner</td>\n",
       "    </tr>\n",
       "    <tr>\n",
       "      <th>4</th>\n",
       "      <td>09-05-2022</td>\n",
       "      <td>2</td>\n",
       "      <td>7500</td>\n",
       "      <td>850</td>\n",
       "      <td>1 out of 2</td>\n",
       "      <td>Carpet Area</td>\n",
       "      <td>South Dum Dum</td>\n",
       "      <td>Kolkata</td>\n",
       "      <td>Unfurnished</td>\n",
       "      <td>Bachelors</td>\n",
       "      <td>1</td>\n",
       "      <td>Contact Owner</td>\n",
       "    </tr>\n",
       "  </tbody>\n",
       "</table>\n",
       "</div>"
      ],
      "text/plain": [
       "    Posted On  BHK   Rent  Size            Floor    Area Type  \\\n",
       "0  18-05-2022    2  10000  1100  Ground out of 2   Super Area   \n",
       "1  13-05-2022    2  20000   800       1 out of 3   Super Area   \n",
       "2  16-05-2022    2  17000  1000       1 out of 3   Super Area   \n",
       "3  04-07-2022    2  10000   800       1 out of 2   Super Area   \n",
       "4  09-05-2022    2   7500   850       1 out of 2  Carpet Area   \n",
       "\n",
       "              Area Locality     City Furnishing Status  Tenant Preferred  \\\n",
       "0                    Bandel  Kolkata       Unfurnished  Bachelors/Family   \n",
       "1  Phool Bagan, Kankurgachi  Kolkata    Semi-Furnished  Bachelors/Family   \n",
       "2   Salt Lake City Sector 2  Kolkata    Semi-Furnished  Bachelors/Family   \n",
       "3               Dumdum Park  Kolkata       Unfurnished  Bachelors/Family   \n",
       "4             South Dum Dum  Kolkata       Unfurnished         Bachelors   \n",
       "\n",
       "   Bathroom Point of Contact  \n",
       "0         2    Contact Owner  \n",
       "1         1    Contact Owner  \n",
       "2         1    Contact Owner  \n",
       "3         1    Contact Owner  \n",
       "4         1    Contact Owner  "
      ]
     },
     "execution_count": 3,
     "metadata": {},
     "output_type": "execute_result"
    }
   ],
   "source": [
    "df = pd.read_csv(\"C:\\\\Users\\\\Admin\\\\Desktop\\\\House_Rent_Dataset.csv\") #Reading the dataset and storing it in a dataframe\n",
    "df.head() #Gives the first five records of the dataframe"
   ]
  },
  {
   "cell_type": "code",
   "execution_count": 4,
   "id": "ac83be3f",
   "metadata": {},
   "outputs": [
    {
     "data": {
      "text/html": [
       "<div>\n",
       "<style scoped>\n",
       "    .dataframe tbody tr th:only-of-type {\n",
       "        vertical-align: middle;\n",
       "    }\n",
       "\n",
       "    .dataframe tbody tr th {\n",
       "        vertical-align: top;\n",
       "    }\n",
       "\n",
       "    .dataframe thead th {\n",
       "        text-align: right;\n",
       "    }\n",
       "</style>\n",
       "<table border=\"1\" class=\"dataframe\">\n",
       "  <thead>\n",
       "    <tr style=\"text-align: right;\">\n",
       "      <th></th>\n",
       "      <th>BHK</th>\n",
       "      <th>Rent</th>\n",
       "      <th>Size</th>\n",
       "      <th>Bathroom</th>\n",
       "    </tr>\n",
       "  </thead>\n",
       "  <tbody>\n",
       "    <tr>\n",
       "      <th>count</th>\n",
       "      <td>4746.000000</td>\n",
       "      <td>4.746000e+03</td>\n",
       "      <td>4746.000000</td>\n",
       "      <td>4746.000000</td>\n",
       "    </tr>\n",
       "    <tr>\n",
       "      <th>mean</th>\n",
       "      <td>2.083860</td>\n",
       "      <td>3.499345e+04</td>\n",
       "      <td>967.490729</td>\n",
       "      <td>1.965866</td>\n",
       "    </tr>\n",
       "    <tr>\n",
       "      <th>std</th>\n",
       "      <td>0.832256</td>\n",
       "      <td>7.810641e+04</td>\n",
       "      <td>634.202328</td>\n",
       "      <td>0.884532</td>\n",
       "    </tr>\n",
       "    <tr>\n",
       "      <th>min</th>\n",
       "      <td>1.000000</td>\n",
       "      <td>1.200000e+03</td>\n",
       "      <td>10.000000</td>\n",
       "      <td>1.000000</td>\n",
       "    </tr>\n",
       "    <tr>\n",
       "      <th>25%</th>\n",
       "      <td>2.000000</td>\n",
       "      <td>1.000000e+04</td>\n",
       "      <td>550.000000</td>\n",
       "      <td>1.000000</td>\n",
       "    </tr>\n",
       "    <tr>\n",
       "      <th>50%</th>\n",
       "      <td>2.000000</td>\n",
       "      <td>1.600000e+04</td>\n",
       "      <td>850.000000</td>\n",
       "      <td>2.000000</td>\n",
       "    </tr>\n",
       "    <tr>\n",
       "      <th>75%</th>\n",
       "      <td>3.000000</td>\n",
       "      <td>3.300000e+04</td>\n",
       "      <td>1200.000000</td>\n",
       "      <td>2.000000</td>\n",
       "    </tr>\n",
       "    <tr>\n",
       "      <th>max</th>\n",
       "      <td>6.000000</td>\n",
       "      <td>3.500000e+06</td>\n",
       "      <td>8000.000000</td>\n",
       "      <td>10.000000</td>\n",
       "    </tr>\n",
       "  </tbody>\n",
       "</table>\n",
       "</div>"
      ],
      "text/plain": [
       "               BHK          Rent         Size     Bathroom\n",
       "count  4746.000000  4.746000e+03  4746.000000  4746.000000\n",
       "mean      2.083860  3.499345e+04   967.490729     1.965866\n",
       "std       0.832256  7.810641e+04   634.202328     0.884532\n",
       "min       1.000000  1.200000e+03    10.000000     1.000000\n",
       "25%       2.000000  1.000000e+04   550.000000     1.000000\n",
       "50%       2.000000  1.600000e+04   850.000000     2.000000\n",
       "75%       3.000000  3.300000e+04  1200.000000     2.000000\n",
       "max       6.000000  3.500000e+06  8000.000000    10.000000"
      ]
     },
     "execution_count": 4,
     "metadata": {},
     "output_type": "execute_result"
    }
   ],
   "source": [
    "df.describe()#Gives the mathematical inferences from each numerical field."
   ]
  },
  {
   "cell_type": "code",
   "execution_count": 5,
   "id": "6c3b4124",
   "metadata": {},
   "outputs": [
    {
     "name": "stdout",
     "output_type": "stream",
     "text": [
      "<class 'pandas.core.frame.DataFrame'>\n",
      "RangeIndex: 4746 entries, 0 to 4745\n",
      "Data columns (total 12 columns):\n",
      " #   Column             Non-Null Count  Dtype \n",
      "---  ------             --------------  ----- \n",
      " 0   Posted On          4746 non-null   object\n",
      " 1   BHK                4746 non-null   int64 \n",
      " 2   Rent               4746 non-null   int64 \n",
      " 3   Size               4746 non-null   int64 \n",
      " 4   Floor              4746 non-null   object\n",
      " 5   Area Type          4746 non-null   object\n",
      " 6   Area Locality      4746 non-null   object\n",
      " 7   City               4746 non-null   object\n",
      " 8   Furnishing Status  4746 non-null   object\n",
      " 9   Tenant Preferred   4746 non-null   object\n",
      " 10  Bathroom           4746 non-null   int64 \n",
      " 11  Point of Contact   4746 non-null   object\n",
      "dtypes: int64(4), object(8)\n",
      "memory usage: 445.1+ KB\n"
     ]
    }
   ],
   "source": [
    "df.info()"
   ]
  },
  {
   "cell_type": "markdown",
   "id": "584f9452",
   "metadata": {},
   "source": [
    "Our dataset has two kinds of features(inputs). One, continous features(containing numeric data). Other kind is categorical features. Categorical features don't store numeric data and hence these features cannot be directly programmed into an ML Model even though they influence the target variable greatly. For eg, in our dataset, we have City which is a categorical feature. Even though it doesn't store numbers, the rent varies significantly depending on the city( metro cities, A class, B class) etc.\n",
    "\n",
    "\n",
    "To solve this problem we use label encoding. Label encoding assigns numerical values to categorical data fields. For eg Mumbai = 0, Delhi = 1 and so on. Scikit Learn provides LabelEncoder() class for the same. "
   ]
  },
  {
   "cell_type": "code",
   "execution_count": 6,
   "id": "4be8aacd",
   "metadata": {},
   "outputs": [
    {
     "name": "stdout",
     "output_type": "stream",
     "text": [
      "LabelEncoder()\n",
      "0       4\n",
      "1       4\n",
      "2       4\n",
      "3       4\n",
      "4       4\n",
      "       ..\n",
      "4741    3\n",
      "4742    3\n",
      "4743    3\n",
      "4744    3\n",
      "4745    3\n",
      "Name: City_Encoded, Length: 4746, dtype: int32\n",
      "0       455\n",
      "1        14\n",
      "2        14\n",
      "3        10\n",
      "4        10\n",
      "       ... \n",
      "4741    271\n",
      "4742     16\n",
      "4743    271\n",
      "4744    226\n",
      "4745    313\n",
      "Name: Floor_Encoded, Length: 4746, dtype: int32\n",
      "0       2\n",
      "1       2\n",
      "2       2\n",
      "3       2\n",
      "4       1\n",
      "       ..\n",
      "4741    1\n",
      "4742    2\n",
      "4743    1\n",
      "4744    1\n",
      "4745    1\n",
      "Name: Area_Type_Encoded, Length: 4746, dtype: int32\n",
      "0       2\n",
      "1       1\n",
      "2       1\n",
      "3       2\n",
      "4       2\n",
      "       ..\n",
      "4741    1\n",
      "4742    1\n",
      "4743    1\n",
      "4744    1\n",
      "4745    2\n",
      "Name: Furnishing_Status_Encoded, Length: 4746, dtype: int32\n",
      "0       1\n",
      "1       1\n",
      "2       1\n",
      "3       1\n",
      "4       0\n",
      "       ..\n",
      "4741    1\n",
      "4742    1\n",
      "4743    1\n",
      "4744    2\n",
      "4745    0\n",
      "Name: Tenant_Preferred_Encoded, Length: 4746, dtype: int32\n",
      "0       2\n",
      "1       2\n",
      "2       2\n",
      "3       2\n",
      "4       2\n",
      "       ..\n",
      "4741    2\n",
      "4742    2\n",
      "4743    0\n",
      "4744    0\n",
      "4745    2\n",
      "Name: Point_of_Contact_Encoded, Length: 4746, dtype: int32\n"
     ]
    }
   ],
   "source": [
    "from sklearn.preprocessing import LabelEncoder\n",
    "label_encoder = LabelEncoder()\n",
    "print(label_encoder)\n",
    "df[\"City_Encoded\"] = label_encoder.fit_transform(df[\"City\"])#Encode to numerical format\n",
    "df[\"Floor_Encoded\"] = label_encoder.fit_transform(df[\"Floor\"])\n",
    "df[\"Area_Type_Encoded\"] = label_encoder.fit_transform(df[\"Area Type\"])\n",
    "df[\"Area_Locality_Encoded\"] = label_encoder.fit_transform(df[\"Area Locality\"])\n",
    "df[\"Furnishing_Status_Encoded\"] = label_encoder.fit_transform(df[\"Furnishing Status\"])\n",
    "df[\"Tenant_Preferred_Encoded\"] = label_encoder.fit_transform(df[\"Tenant Preferred\"])\n",
    "df[\"Point_of_Contact_Encoded\"] = label_encoder.fit_transform(df[\"Point of Contact\"])\n",
    "print(df[\"City_Encoded\"])\n",
    "print(df[\"Floor_Encoded\"])\n",
    "print(df[\"Area_Type_Encoded\"])\n",
    "print(df[\"Furnishing_Status_Encoded\"])\n",
    "print(df[\"Tenant_Preferred_Encoded\"])\n",
    "print(df[\"Point_of_Contact_Encoded\"])"
   ]
  },
  {
   "cell_type": "code",
   "execution_count": 7,
   "id": "ee111e9c",
   "metadata": {},
   "outputs": [
    {
     "name": "stdout",
     "output_type": "stream",
     "text": [
      "      BHK  Size  Floor_Encoded  Area_Type_Encoded  Area_Locality_Encoded  \\\n",
      "0       2  1100            455                  2                    221   \n",
      "1       2   800             14                  2                   1527   \n",
      "2       2  1000             14                  2                   1760   \n",
      "3       2   800             10                  2                    526   \n",
      "4       2   850             10                  1                   1890   \n",
      "...   ...   ...            ...                ...                    ...   \n",
      "4741    2  1000            271                  1                    219   \n",
      "4742    3  2000             16                  2                   1214   \n",
      "4743    3  1750            271                  1                    724   \n",
      "4744    3  1500            226                  1                    590   \n",
      "4745    2  1000            313                  1                   1915   \n",
      "\n",
      "      City_Encoded  Furnishing_Status_Encoded  Tenant_Preferred_Encoded  \\\n",
      "0                4                          2                         1   \n",
      "1                4                          1                         1   \n",
      "2                4                          1                         1   \n",
      "3                4                          2                         1   \n",
      "4                4                          2                         0   \n",
      "...            ...                        ...                       ...   \n",
      "4741             3                          1                         1   \n",
      "4742             3                          1                         1   \n",
      "4743             3                          1                         1   \n",
      "4744             3                          1                         2   \n",
      "4745             3                          2                         0   \n",
      "\n",
      "      Bathroom  Point_of_Contact_Encoded  \n",
      "0            2                         2  \n",
      "1            1                         2  \n",
      "2            1                         2  \n",
      "3            1                         2  \n",
      "4            1                         2  \n",
      "...        ...                       ...  \n",
      "4741         2                         2  \n",
      "4742         3                         2  \n",
      "4743         3                         0  \n",
      "4744         2                         0  \n",
      "4745         2                         2  \n",
      "\n",
      "[4746 rows x 10 columns]\n",
      "0       10000\n",
      "1       20000\n",
      "2       17000\n",
      "3       10000\n",
      "4        7500\n",
      "        ...  \n",
      "4741    15000\n",
      "4742    29000\n",
      "4743    35000\n",
      "4744    45000\n",
      "4745    15000\n",
      "Name: Rent, Length: 4746, dtype: int64\n"
     ]
    }
   ],
   "source": [
    "X = df[[\"BHK\",\"Size\",\"Floor_Encoded\",\"Area_Type_Encoded\",\"Area_Locality_Encoded\",\"City_Encoded\",\"Furnishing_Status_Encoded\",\"Tenant_Preferred_Encoded\",\"Bathroom\",\"Point_of_Contact_Encoded\"]]#Features\n",
    "Y = df[\"Rent\"]#Target\n",
    "print(X)\n",
    "print(Y)"
   ]
  },
  {
   "cell_type": "markdown",
   "id": "3bef5a91",
   "metadata": {},
   "source": [
    "We split our data in two parts. One is training set which involves data fields upon which the ML model is trained and developed. The test set is used to test the accuracy of predictions made by the trained model."
   ]
  },
  {
   "cell_type": "code",
   "execution_count": 8,
   "id": "dc59f424",
   "metadata": {},
   "outputs": [
    {
     "name": "stdout",
     "output_type": "stream",
     "text": [
      "      BHK  Size  Floor_Encoded  Area_Type_Encoded  Area_Locality_Encoded  \\\n",
      "4681    2   700            275                  2                   2008   \n",
      "630     2   650             28                  1                   1408   \n",
      "1742    3  1200            196                  2                   2041   \n",
      "3077    1   560            198                  2                   1003   \n",
      "2996    2   600             14                  2                   1209   \n",
      "...   ...   ...            ...                ...                    ...   \n",
      "1033    1   280             53                  1                    360   \n",
      "3264    3  1650              1                  1                   1152   \n",
      "1653    2  1100            200                  2                   1680   \n",
      "2607    2  1800            455                  2                    961   \n",
      "2732    2  1000            270                  2                    443   \n",
      "\n",
      "      City_Encoded  Furnishing_Status_Encoded  Tenant_Preferred_Encoded  \\\n",
      "4681             3                          2                         1   \n",
      "630              5                          0                         2   \n",
      "1742             0                          1                         1   \n",
      "3077             1                          2                         1   \n",
      "2996             1                          0                         1   \n",
      "...            ...                        ...                       ...   \n",
      "1033             5                          1                         1   \n",
      "3264             1                          1                         0   \n",
      "1653             0                          1                         1   \n",
      "2607             2                          1                         0   \n",
      "2732             2                          1                         2   \n",
      "\n",
      "      Bathroom  Point_of_Contact_Encoded  \n",
      "4681         2                         2  \n",
      "630          2                         0  \n",
      "1742         2                         2  \n",
      "3077         1                         2  \n",
      "2996         2                         2  \n",
      "...        ...                       ...  \n",
      "1033         1                         0  \n",
      "3264         3                         2  \n",
      "1653         2                         2  \n",
      "2607         2                         0  \n",
      "2732         1                         2  \n",
      "\n",
      "[3796 rows x 10 columns]\n"
     ]
    }
   ],
   "source": [
    "from sklearn.model_selection import train_test_split\n",
    "x_train, x_test, y_train, y_test = train_test_split(X,Y,test_size=0.2,random_state=0)\n",
    "#test size = 0.2 denotes that 20% of the data will be in the test state. Random_state provides the seed value.\n",
    "print(x_train)"
   ]
  },
  {
   "cell_type": "code",
   "execution_count": 9,
   "id": "53bdd464",
   "metadata": {},
   "outputs": [
    {
     "name": "stdout",
     "output_type": "stream",
     "text": [
      "      BHK  Size  Floor_Encoded  Area_Type_Encoded  Area_Locality_Encoded  \\\n",
      "1332    1   410            357                  1                    454   \n",
      "4345    2  1300            271                  1                   1028   \n",
      "4495    2   900            198                  2                    222   \n",
      "2473    1   400            458                  1                    395   \n",
      "3883    3  1798            383                  2                   1028   \n",
      "...   ...   ...            ...                ...                    ...   \n",
      "1692    3  1200            312                  1                    323   \n",
      "3707    2  1424            192                  2                   2201   \n",
      "2944    2  1000             16                  1                    138   \n",
      "1722    2   700             14                  2                   1417   \n",
      "4290    2  1050            313                  1                    706   \n",
      "\n",
      "      City_Encoded  Furnishing_Status_Encoded  Tenant_Preferred_Encoded  \\\n",
      "1332             5                          1                         1   \n",
      "4345             3                          1                         1   \n",
      "4495             3                          1                         1   \n",
      "2473             2                          1                         0   \n",
      "3883             3                          1                         1   \n",
      "...            ...                        ...                       ...   \n",
      "1692             0                          2                         0   \n",
      "3707             1                          1                         1   \n",
      "2944             2                          1                         0   \n",
      "1722             0                          2                         1   \n",
      "4290             3                          2                         0   \n",
      "\n",
      "      Bathroom  Point_of_Contact_Encoded  \n",
      "1332         1                         0  \n",
      "4345         2                         0  \n",
      "4495         2                         2  \n",
      "2473         1                         0  \n",
      "3883         3                         0  \n",
      "...        ...                       ...  \n",
      "1692         2                         2  \n",
      "3707         2                         2  \n",
      "2944         2                         0  \n",
      "1722         2                         2  \n",
      "4290         2                         2  \n",
      "\n",
      "[950 rows x 10 columns]\n"
     ]
    }
   ],
   "source": [
    "print(x_test)"
   ]
  },
  {
   "cell_type": "code",
   "execution_count": 10,
   "id": "af5c2ab6",
   "metadata": {},
   "outputs": [
    {
     "name": "stdout",
     "output_type": "stream",
     "text": [
      "4681    20000\n",
      "630     38000\n",
      "1742    16000\n",
      "3077     7500\n",
      "2996    12000\n",
      "        ...  \n",
      "1033    20000\n",
      "3264    20000\n",
      "1653    22000\n",
      "2607    30000\n",
      "2732    20000\n",
      "Name: Rent, Length: 3796, dtype: int64\n"
     ]
    }
   ],
   "source": [
    "print(y_train)"
   ]
  },
  {
   "cell_type": "code",
   "execution_count": 11,
   "id": "2612c109",
   "metadata": {},
   "outputs": [
    {
     "name": "stdout",
     "output_type": "stream",
     "text": [
      "1332    50000\n",
      "4345    15000\n",
      "4495    12000\n",
      "2473    13000\n",
      "3883    48000\n",
      "        ...  \n",
      "1692    22000\n",
      "3707    18000\n",
      "2944    14000\n",
      "1722    10000\n",
      "4290    10000\n",
      "Name: Rent, Length: 950, dtype: int64\n"
     ]
    }
   ],
   "source": [
    "print(y_test)"
   ]
  },
  {
   "cell_type": "markdown",
   "id": "46bef284",
   "metadata": {},
   "source": [
    "We are going to use Linear Regression to train our ML Model. Linear Regression involves creating a hyperplane.\n",
    "\n",
    "A hyperplane is defined as a (n-1)D plane represented in a nD space. For eg, a line in a 2D plane, a 2D plane in a 3D space and so on.\n",
    "\n",
    "Since we have 10 features, we will assume a 10D plane in an 11D space. Of course, a 10D plane doesn't exist, but for the sake of writting an equation we can assume it does."
   ]
  },
  {
   "cell_type": "code",
   "execution_count": 12,
   "id": "5868bc8e",
   "metadata": {},
   "outputs": [
    {
     "name": "stdout",
     "output_type": "stream",
     "text": [
      "LinearRegression()\n"
     ]
    },
    {
     "data": {
      "text/html": [
       "<style>#sk-container-id-1 {color: black;}#sk-container-id-1 pre{padding: 0;}#sk-container-id-1 div.sk-toggleable {background-color: white;}#sk-container-id-1 label.sk-toggleable__label {cursor: pointer;display: block;width: 100%;margin-bottom: 0;padding: 0.3em;box-sizing: border-box;text-align: center;}#sk-container-id-1 label.sk-toggleable__label-arrow:before {content: \"▸\";float: left;margin-right: 0.25em;color: #696969;}#sk-container-id-1 label.sk-toggleable__label-arrow:hover:before {color: black;}#sk-container-id-1 div.sk-estimator:hover label.sk-toggleable__label-arrow:before {color: black;}#sk-container-id-1 div.sk-toggleable__content {max-height: 0;max-width: 0;overflow: hidden;text-align: left;background-color: #f0f8ff;}#sk-container-id-1 div.sk-toggleable__content pre {margin: 0.2em;color: black;border-radius: 0.25em;background-color: #f0f8ff;}#sk-container-id-1 input.sk-toggleable__control:checked~div.sk-toggleable__content {max-height: 200px;max-width: 100%;overflow: auto;}#sk-container-id-1 input.sk-toggleable__control:checked~label.sk-toggleable__label-arrow:before {content: \"▾\";}#sk-container-id-1 div.sk-estimator input.sk-toggleable__control:checked~label.sk-toggleable__label {background-color: #d4ebff;}#sk-container-id-1 div.sk-label input.sk-toggleable__control:checked~label.sk-toggleable__label {background-color: #d4ebff;}#sk-container-id-1 input.sk-hidden--visually {border: 0;clip: rect(1px 1px 1px 1px);clip: rect(1px, 1px, 1px, 1px);height: 1px;margin: -1px;overflow: hidden;padding: 0;position: absolute;width: 1px;}#sk-container-id-1 div.sk-estimator {font-family: monospace;background-color: #f0f8ff;border: 1px dotted black;border-radius: 0.25em;box-sizing: border-box;margin-bottom: 0.5em;}#sk-container-id-1 div.sk-estimator:hover {background-color: #d4ebff;}#sk-container-id-1 div.sk-parallel-item::after {content: \"\";width: 100%;border-bottom: 1px solid gray;flex-grow: 1;}#sk-container-id-1 div.sk-label:hover label.sk-toggleable__label {background-color: #d4ebff;}#sk-container-id-1 div.sk-serial::before {content: \"\";position: absolute;border-left: 1px solid gray;box-sizing: border-box;top: 0;bottom: 0;left: 50%;z-index: 0;}#sk-container-id-1 div.sk-serial {display: flex;flex-direction: column;align-items: center;background-color: white;padding-right: 0.2em;padding-left: 0.2em;position: relative;}#sk-container-id-1 div.sk-item {position: relative;z-index: 1;}#sk-container-id-1 div.sk-parallel {display: flex;align-items: stretch;justify-content: center;background-color: white;position: relative;}#sk-container-id-1 div.sk-item::before, #sk-container-id-1 div.sk-parallel-item::before {content: \"\";position: absolute;border-left: 1px solid gray;box-sizing: border-box;top: 0;bottom: 0;left: 50%;z-index: -1;}#sk-container-id-1 div.sk-parallel-item {display: flex;flex-direction: column;z-index: 1;position: relative;background-color: white;}#sk-container-id-1 div.sk-parallel-item:first-child::after {align-self: flex-end;width: 50%;}#sk-container-id-1 div.sk-parallel-item:last-child::after {align-self: flex-start;width: 50%;}#sk-container-id-1 div.sk-parallel-item:only-child::after {width: 0;}#sk-container-id-1 div.sk-dashed-wrapped {border: 1px dashed gray;margin: 0 0.4em 0.5em 0.4em;box-sizing: border-box;padding-bottom: 0.4em;background-color: white;}#sk-container-id-1 div.sk-label label {font-family: monospace;font-weight: bold;display: inline-block;line-height: 1.2em;}#sk-container-id-1 div.sk-label-container {text-align: center;}#sk-container-id-1 div.sk-container {/* jupyter's `normalize.less` sets `[hidden] { display: none; }` but bootstrap.min.css set `[hidden] { display: none !important; }` so we also need the `!important` here to be able to override the default hidden behavior on the sphinx rendered scikit-learn.org. See: https://github.com/scikit-learn/scikit-learn/issues/21755 */display: inline-block !important;position: relative;}#sk-container-id-1 div.sk-text-repr-fallback {display: none;}</style><div id=\"sk-container-id-1\" class=\"sk-top-container\"><div class=\"sk-text-repr-fallback\"><pre>LinearRegression()</pre><b>In a Jupyter environment, please rerun this cell to show the HTML representation or trust the notebook. <br />On GitHub, the HTML representation is unable to render, please try loading this page with nbviewer.org.</b></div><div class=\"sk-container\" hidden><div class=\"sk-item\"><div class=\"sk-estimator sk-toggleable\"><input class=\"sk-toggleable__control sk-hidden--visually\" id=\"sk-estimator-id-1\" type=\"checkbox\" checked><label for=\"sk-estimator-id-1\" class=\"sk-toggleable__label sk-toggleable__label-arrow\">LinearRegression</label><div class=\"sk-toggleable__content\"><pre>LinearRegression()</pre></div></div></div></div></div>"
      ],
      "text/plain": [
       "LinearRegression()"
      ]
     },
     "execution_count": 12,
     "metadata": {},
     "output_type": "execute_result"
    }
   ],
   "source": [
    "from sklearn.linear_model import LinearRegression\n",
    "regressor = LinearRegression()\n",
    "print(regressor)\n",
    "regressor.fit(x_train,y_train)#Used to find the most accurate equation for our LR model as per the dataset"
   ]
  },
  {
   "cell_type": "markdown",
   "id": "6aedf888",
   "metadata": {},
   "source": [
    "Our equation for the ML model will be w1x1 + w2x2 +.......+ w10x10 + b = y. x represents the various values of the features of our data(no of rooms, area etc),w is the coefficien,b is the intercept of our plane and y is the target variable. The values of w and b are calculated using the fit function, while x is usually entered by the user. "
   ]
  },
  {
   "cell_type": "code",
   "execution_count": 13,
   "id": "db0feb9a",
   "metadata": {},
   "outputs": [
    {
     "name": "stdout",
     "output_type": "stream",
     "text": [
      "-6698.564143894131\n",
      "[ 5.64485349e+02  2.23138637e+01 -1.09015788e+00 -3.46530697e+03\n",
      " -1.69157528e+00  6.10799939e+03 -6.09756504e+03  7.68415269e+02\n",
      "  1.70143275e+04 -1.20951520e+04]\n"
     ]
    }
   ],
   "source": [
    "print(regressor.intercept_)#value of b\n",
    "print(regressor.coef_)#We will get 10 coefficients for 10 variables"
   ]
  },
  {
   "cell_type": "code",
   "execution_count": 14,
   "id": "bc984dd8",
   "metadata": {},
   "outputs": [
    {
     "name": "stdout",
     "output_type": "stream",
     "text": [
      "      Actual Rent according to Test Data   \\\n",
      "1332                                50000   \n",
      "4345                                15000   \n",
      "4495                                12000   \n",
      "2473                                13000   \n",
      "3883                                48000   \n",
      "...                                   ...   \n",
      "1692                                22000   \n",
      "3707                                18000   \n",
      "2944                                14000   \n",
      "1722                                10000   \n",
      "4290                                10000   \n",
      "\n",
      "      Predicted Rent according to Test Data  \n",
      "1332                           40617.311501  \n",
      "4345                           64962.253618  \n",
      "4495                           29824.088279  \n",
      "2473                           21291.456411  \n",
      "3883                           90065.965934  \n",
      "...                                     ...  \n",
      "1692                           15062.934112  \n",
      "3707                           25959.467541  \n",
      "2944                           53175.172103  \n",
      "1722                            -881.091094  \n",
      "4290                           28826.403898  \n",
      "\n",
      "[950 rows x 2 columns]\n"
     ]
    }
   ],
   "source": [
    "y_test_predict = regressor.predict(x_test)\n",
    "df = pd.DataFrame({\"Actual Rent according to Test Data \":y_test,\"Predicted Rent according to Test Data\":y_test_predict})\n",
    "print(df)"
   ]
  },
  {
   "cell_type": "code",
   "execution_count": 15,
   "id": "84f32a21",
   "metadata": {},
   "outputs": [
    {
     "name": "stdout",
     "output_type": "stream",
     "text": [
      "      Actual Values of training data  Predicted Values using trained data\n",
      "4681                           20000                         16158.654890\n",
      "630                            38000                         69162.331070\n",
      "1742                           16000                         15683.939441\n",
      "3077                            7500                        -14976.122346\n",
      "2996                           12000                         15542.499675\n",
      "...                              ...                                  ...\n",
      "1033                           20000                         38206.925291\n",
      "3264                           20000                         53260.787902\n",
      "1653                           22000                         13494.365766\n",
      "2607                           30000                         65690.210333\n",
      "2732                           20000                          9249.233527\n",
      "\n",
      "[3796 rows x 2 columns]\n"
     ]
    }
   ],
   "source": [
    "y_train_predict = regressor.predict(x_train)\n",
    "df = pd.DataFrame({\"Actual Values of training data\":y_train,\"Predicted Values using trained data\":y_train_predict})\n",
    "print(df)"
   ]
  },
  {
   "cell_type": "markdown",
   "id": "83cf6505",
   "metadata": {},
   "source": [
    "Mean Absolute Error is calculated by dividing the summation of the difference between actual and predicted value by the number of observations(number of data fields in the dataset).\n",
    "\n",
    "If the error is squared and then the summation operation is performed followed by division, it is called Mean Squared Error\n",
    "\n",
    "Take the square root of Mean Squared Error, we get Root Mean Squared Error. "
   ]
  },
  {
   "cell_type": "code",
   "execution_count": 16,
   "id": "3e903373",
   "metadata": {},
   "outputs": [
    {
     "name": "stdout",
     "output_type": "stream",
     "text": [
      "Calculating error(Training Dataset)-: \n",
      "\n",
      "Mean Absolute Error: 21913.77220895963\n",
      "Mean Squared Error: 1689026384.8579981\n",
      "Root Mean Squared Error: 41097.7661784433\n"
     ]
    }
   ],
   "source": [
    "from sklearn import metrics\n",
    "print(\"Calculating error(Training Dataset)-: \\n\")\n",
    "print('Mean Absolute Error:', metrics.mean_absolute_error(y_train, y_train_predict))  \n",
    "print('Mean Squared Error:', metrics.mean_squared_error(y_train, y_train_predict))  \n",
    "print('Root Mean Squared Error:', np.sqrt(metrics.mean_squared_error(y_train, y_train_predict)))"
   ]
  },
  {
   "cell_type": "code",
   "execution_count": 17,
   "id": "6c1ba843",
   "metadata": {},
   "outputs": [
    {
     "name": "stdout",
     "output_type": "stream",
     "text": [
      "Calculating error(Test Dataset)-: \n",
      "\n",
      "Mean Absolute Error: 28243.16373760451\n",
      "Mean Squared Error: 15405710834.061102\n",
      "Root Mean Squared Error: 124119.74393327236\n"
     ]
    }
   ],
   "source": [
    "print(\"Calculating error(Test Dataset)-: \\n\")\n",
    "from sklearn import metrics\n",
    "print('Mean Absolute Error:', metrics.mean_absolute_error(y_test, y_test_predict))  \n",
    "print('Mean Squared Error:', metrics.mean_squared_error(y_test, y_test_predict))  \n",
    "print('Root Mean Squared Error:', np.sqrt(metrics.mean_squared_error(y_test, y_test_predict)))"
   ]
  },
  {
   "cell_type": "markdown",
   "id": "c9c3be20",
   "metadata": {},
   "source": [
    "In order to produce a much accurate result, Ensemble methods are used. Ensemble methods are techniques that create multiple models and then combine them to produce improved results.\n",
    "\n",
    "One such ensemble method is Random Forest Regression. A forest of decision making tress is created, and each tree makes predictions. The final prediction is a weighted average of all the predictions."
   ]
  },
  {
   "cell_type": "code",
   "execution_count": 18,
   "id": "33014ee5",
   "metadata": {},
   "outputs": [],
   "source": [
    "from sklearn.ensemble import RandomForestRegressor"
   ]
  },
  {
   "cell_type": "code",
   "execution_count": 19,
   "id": "93946d9f",
   "metadata": {},
   "outputs": [
    {
     "data": {
      "text/html": [
       "<style>#sk-container-id-2 {color: black;}#sk-container-id-2 pre{padding: 0;}#sk-container-id-2 div.sk-toggleable {background-color: white;}#sk-container-id-2 label.sk-toggleable__label {cursor: pointer;display: block;width: 100%;margin-bottom: 0;padding: 0.3em;box-sizing: border-box;text-align: center;}#sk-container-id-2 label.sk-toggleable__label-arrow:before {content: \"▸\";float: left;margin-right: 0.25em;color: #696969;}#sk-container-id-2 label.sk-toggleable__label-arrow:hover:before {color: black;}#sk-container-id-2 div.sk-estimator:hover label.sk-toggleable__label-arrow:before {color: black;}#sk-container-id-2 div.sk-toggleable__content {max-height: 0;max-width: 0;overflow: hidden;text-align: left;background-color: #f0f8ff;}#sk-container-id-2 div.sk-toggleable__content pre {margin: 0.2em;color: black;border-radius: 0.25em;background-color: #f0f8ff;}#sk-container-id-2 input.sk-toggleable__control:checked~div.sk-toggleable__content {max-height: 200px;max-width: 100%;overflow: auto;}#sk-container-id-2 input.sk-toggleable__control:checked~label.sk-toggleable__label-arrow:before {content: \"▾\";}#sk-container-id-2 div.sk-estimator input.sk-toggleable__control:checked~label.sk-toggleable__label {background-color: #d4ebff;}#sk-container-id-2 div.sk-label input.sk-toggleable__control:checked~label.sk-toggleable__label {background-color: #d4ebff;}#sk-container-id-2 input.sk-hidden--visually {border: 0;clip: rect(1px 1px 1px 1px);clip: rect(1px, 1px, 1px, 1px);height: 1px;margin: -1px;overflow: hidden;padding: 0;position: absolute;width: 1px;}#sk-container-id-2 div.sk-estimator {font-family: monospace;background-color: #f0f8ff;border: 1px dotted black;border-radius: 0.25em;box-sizing: border-box;margin-bottom: 0.5em;}#sk-container-id-2 div.sk-estimator:hover {background-color: #d4ebff;}#sk-container-id-2 div.sk-parallel-item::after {content: \"\";width: 100%;border-bottom: 1px solid gray;flex-grow: 1;}#sk-container-id-2 div.sk-label:hover label.sk-toggleable__label {background-color: #d4ebff;}#sk-container-id-2 div.sk-serial::before {content: \"\";position: absolute;border-left: 1px solid gray;box-sizing: border-box;top: 0;bottom: 0;left: 50%;z-index: 0;}#sk-container-id-2 div.sk-serial {display: flex;flex-direction: column;align-items: center;background-color: white;padding-right: 0.2em;padding-left: 0.2em;position: relative;}#sk-container-id-2 div.sk-item {position: relative;z-index: 1;}#sk-container-id-2 div.sk-parallel {display: flex;align-items: stretch;justify-content: center;background-color: white;position: relative;}#sk-container-id-2 div.sk-item::before, #sk-container-id-2 div.sk-parallel-item::before {content: \"\";position: absolute;border-left: 1px solid gray;box-sizing: border-box;top: 0;bottom: 0;left: 50%;z-index: -1;}#sk-container-id-2 div.sk-parallel-item {display: flex;flex-direction: column;z-index: 1;position: relative;background-color: white;}#sk-container-id-2 div.sk-parallel-item:first-child::after {align-self: flex-end;width: 50%;}#sk-container-id-2 div.sk-parallel-item:last-child::after {align-self: flex-start;width: 50%;}#sk-container-id-2 div.sk-parallel-item:only-child::after {width: 0;}#sk-container-id-2 div.sk-dashed-wrapped {border: 1px dashed gray;margin: 0 0.4em 0.5em 0.4em;box-sizing: border-box;padding-bottom: 0.4em;background-color: white;}#sk-container-id-2 div.sk-label label {font-family: monospace;font-weight: bold;display: inline-block;line-height: 1.2em;}#sk-container-id-2 div.sk-label-container {text-align: center;}#sk-container-id-2 div.sk-container {/* jupyter's `normalize.less` sets `[hidden] { display: none; }` but bootstrap.min.css set `[hidden] { display: none !important; }` so we also need the `!important` here to be able to override the default hidden behavior on the sphinx rendered scikit-learn.org. See: https://github.com/scikit-learn/scikit-learn/issues/21755 */display: inline-block !important;position: relative;}#sk-container-id-2 div.sk-text-repr-fallback {display: none;}</style><div id=\"sk-container-id-2\" class=\"sk-top-container\"><div class=\"sk-text-repr-fallback\"><pre>RandomForestRegressor(max_depth=20)</pre><b>In a Jupyter environment, please rerun this cell to show the HTML representation or trust the notebook. <br />On GitHub, the HTML representation is unable to render, please try loading this page with nbviewer.org.</b></div><div class=\"sk-container\" hidden><div class=\"sk-item\"><div class=\"sk-estimator sk-toggleable\"><input class=\"sk-toggleable__control sk-hidden--visually\" id=\"sk-estimator-id-2\" type=\"checkbox\" checked><label for=\"sk-estimator-id-2\" class=\"sk-toggleable__label sk-toggleable__label-arrow\">RandomForestRegressor</label><div class=\"sk-toggleable__content\"><pre>RandomForestRegressor(max_depth=20)</pre></div></div></div></div></div>"
      ],
      "text/plain": [
       "RandomForestRegressor(max_depth=20)"
      ]
     },
     "execution_count": 19,
     "metadata": {},
     "output_type": "execute_result"
    }
   ],
   "source": [
    "rf=RandomForestRegressor(n_estimators=100, max_depth=20)\n",
    "rf.fit(x_train,y_train)"
   ]
  },
  {
   "cell_type": "code",
   "execution_count": 20,
   "id": "b448e1e2",
   "metadata": {},
   "outputs": [
    {
     "name": "stdout",
     "output_type": "stream",
     "text": [
      "      Actual     Predicted\n",
      "1332   50000  26309.110000\n",
      "4345   15000  32894.990000\n",
      "4495   12000  13200.559698\n",
      "2473   13000  12083.000000\n",
      "3883   48000  40985.000000\n",
      "...      ...           ...\n",
      "1692   22000  20855.418628\n",
      "3707   18000  21028.250000\n",
      "2944   14000  24346.000000\n",
      "1722   10000  11952.335761\n",
      "4290   10000  15005.548277\n",
      "\n",
      "[950 rows x 2 columns]\n"
     ]
    }
   ],
   "source": [
    "y_test_predict=rf.predict(x_test)\n",
    "df = pd.DataFrame({'Actual': y_test, 'Predicted': y_test_predict})\n",
    "print(df)"
   ]
  },
  {
   "cell_type": "code",
   "execution_count": 21,
   "id": "9e54884a",
   "metadata": {},
   "outputs": [
    {
     "name": "stdout",
     "output_type": "stream",
     "text": [
      "      Actual Values of Training Data   Predicted Values of using Trained Data\n",
      "4681                            20000                            15731.777067\n",
      "630                             38000                            38330.000000\n",
      "1742                            16000                            19477.500000\n",
      "3077                             7500                             7590.084513\n",
      "2996                            12000                            12100.480454\n",
      "...                               ...                                     ...\n",
      "1033                            20000                            20385.000000\n",
      "3264                            20000                            23535.000000\n",
      "1653                            22000                            19712.184606\n",
      "2607                            30000                            32990.000000\n",
      "2732                            20000                            18621.333333\n",
      "\n",
      "[3796 rows x 2 columns]\n"
     ]
    }
   ],
   "source": [
    "y_train_predict = rf.predict(x_train)\n",
    "df = pd.DataFrame({\"Actual Values of Training Data \":y_train,\"Predicted Values of using Trained Data\":y_train_predict})\n",
    "print(df)"
   ]
  },
  {
   "cell_type": "code",
   "execution_count": 22,
   "id": "0b70479e",
   "metadata": {},
   "outputs": [
    {
     "name": "stdout",
     "output_type": "stream",
     "text": [
      "Mean Absolute Error: 4369.659109727479\n",
      "Mean Squared Error: 143390010.5896704\n",
      "Root Mean Squared Error: 11974.556801388117\n"
     ]
    }
   ],
   "source": [
    "from sklearn import metrics\n",
    "print('Mean Absolute Error:', metrics.mean_absolute_error(y_train, y_train_predict))  \n",
    "print('Mean Squared Error:', metrics.mean_squared_error(y_train, y_train_predict))  \n",
    "print('Root Mean Squared Error:', np.sqrt(metrics.mean_squared_error(y_train, y_train_predict)))"
   ]
  },
  {
   "cell_type": "code",
   "execution_count": 23,
   "id": "eb175373",
   "metadata": {},
   "outputs": [
    {
     "name": "stdout",
     "output_type": "stream",
     "text": [
      "Mean Absolute Error:  15314.85557318947\n",
      "Mean Squared Error:  15314.85557318947\n",
      "Root Mean Squared Error:  15314.85557318947\n"
     ]
    }
   ],
   "source": [
    "from sklearn import metrics\n",
    "print(\"Mean Absolute Error: \",metrics.mean_absolute_error(y_test,y_test_predict))\n",
    "print(\"Mean Squared Error: \",metrics.mean_absolute_error(y_test,y_test_predict))\n",
    "print(\"Root Mean Squared Error: \",metrics.mean_absolute_error(y_test,y_test_predict))"
   ]
  },
  {
   "cell_type": "markdown",
   "id": "010abc42",
   "metadata": {},
   "source": [
    "Another ensemble method is Gradient Boosting. Unlike Random Forest Regression, instead of combining predictions made by decision making trees in parallel, Gradient Boosting builds trees sequentially, minimizing the error of the previous one thereby optimizing the model."
   ]
  },
  {
   "cell_type": "code",
   "execution_count": 24,
   "id": "215a96c4",
   "metadata": {},
   "outputs": [],
   "source": [
    "from sklearn import ensemble"
   ]
  },
  {
   "cell_type": "code",
   "execution_count": 25,
   "id": "e42e986e",
   "metadata": {},
   "outputs": [
    {
     "data": {
      "text/html": [
       "<style>#sk-container-id-3 {color: black;}#sk-container-id-3 pre{padding: 0;}#sk-container-id-3 div.sk-toggleable {background-color: white;}#sk-container-id-3 label.sk-toggleable__label {cursor: pointer;display: block;width: 100%;margin-bottom: 0;padding: 0.3em;box-sizing: border-box;text-align: center;}#sk-container-id-3 label.sk-toggleable__label-arrow:before {content: \"▸\";float: left;margin-right: 0.25em;color: #696969;}#sk-container-id-3 label.sk-toggleable__label-arrow:hover:before {color: black;}#sk-container-id-3 div.sk-estimator:hover label.sk-toggleable__label-arrow:before {color: black;}#sk-container-id-3 div.sk-toggleable__content {max-height: 0;max-width: 0;overflow: hidden;text-align: left;background-color: #f0f8ff;}#sk-container-id-3 div.sk-toggleable__content pre {margin: 0.2em;color: black;border-radius: 0.25em;background-color: #f0f8ff;}#sk-container-id-3 input.sk-toggleable__control:checked~div.sk-toggleable__content {max-height: 200px;max-width: 100%;overflow: auto;}#sk-container-id-3 input.sk-toggleable__control:checked~label.sk-toggleable__label-arrow:before {content: \"▾\";}#sk-container-id-3 div.sk-estimator input.sk-toggleable__control:checked~label.sk-toggleable__label {background-color: #d4ebff;}#sk-container-id-3 div.sk-label input.sk-toggleable__control:checked~label.sk-toggleable__label {background-color: #d4ebff;}#sk-container-id-3 input.sk-hidden--visually {border: 0;clip: rect(1px 1px 1px 1px);clip: rect(1px, 1px, 1px, 1px);height: 1px;margin: -1px;overflow: hidden;padding: 0;position: absolute;width: 1px;}#sk-container-id-3 div.sk-estimator {font-family: monospace;background-color: #f0f8ff;border: 1px dotted black;border-radius: 0.25em;box-sizing: border-box;margin-bottom: 0.5em;}#sk-container-id-3 div.sk-estimator:hover {background-color: #d4ebff;}#sk-container-id-3 div.sk-parallel-item::after {content: \"\";width: 100%;border-bottom: 1px solid gray;flex-grow: 1;}#sk-container-id-3 div.sk-label:hover label.sk-toggleable__label {background-color: #d4ebff;}#sk-container-id-3 div.sk-serial::before {content: \"\";position: absolute;border-left: 1px solid gray;box-sizing: border-box;top: 0;bottom: 0;left: 50%;z-index: 0;}#sk-container-id-3 div.sk-serial {display: flex;flex-direction: column;align-items: center;background-color: white;padding-right: 0.2em;padding-left: 0.2em;position: relative;}#sk-container-id-3 div.sk-item {position: relative;z-index: 1;}#sk-container-id-3 div.sk-parallel {display: flex;align-items: stretch;justify-content: center;background-color: white;position: relative;}#sk-container-id-3 div.sk-item::before, #sk-container-id-3 div.sk-parallel-item::before {content: \"\";position: absolute;border-left: 1px solid gray;box-sizing: border-box;top: 0;bottom: 0;left: 50%;z-index: -1;}#sk-container-id-3 div.sk-parallel-item {display: flex;flex-direction: column;z-index: 1;position: relative;background-color: white;}#sk-container-id-3 div.sk-parallel-item:first-child::after {align-self: flex-end;width: 50%;}#sk-container-id-3 div.sk-parallel-item:last-child::after {align-self: flex-start;width: 50%;}#sk-container-id-3 div.sk-parallel-item:only-child::after {width: 0;}#sk-container-id-3 div.sk-dashed-wrapped {border: 1px dashed gray;margin: 0 0.4em 0.5em 0.4em;box-sizing: border-box;padding-bottom: 0.4em;background-color: white;}#sk-container-id-3 div.sk-label label {font-family: monospace;font-weight: bold;display: inline-block;line-height: 1.2em;}#sk-container-id-3 div.sk-label-container {text-align: center;}#sk-container-id-3 div.sk-container {/* jupyter's `normalize.less` sets `[hidden] { display: none; }` but bootstrap.min.css set `[hidden] { display: none !important; }` so we also need the `!important` here to be able to override the default hidden behavior on the sphinx rendered scikit-learn.org. See: https://github.com/scikit-learn/scikit-learn/issues/21755 */display: inline-block !important;position: relative;}#sk-container-id-3 div.sk-text-repr-fallback {display: none;}</style><div id=\"sk-container-id-3\" class=\"sk-top-container\"><div class=\"sk-text-repr-fallback\"><pre>GradientBoostingRegressor()</pre><b>In a Jupyter environment, please rerun this cell to show the HTML representation or trust the notebook. <br />On GitHub, the HTML representation is unable to render, please try loading this page with nbviewer.org.</b></div><div class=\"sk-container\" hidden><div class=\"sk-item\"><div class=\"sk-estimator sk-toggleable\"><input class=\"sk-toggleable__control sk-hidden--visually\" id=\"sk-estimator-id-3\" type=\"checkbox\" checked><label for=\"sk-estimator-id-3\" class=\"sk-toggleable__label sk-toggleable__label-arrow\">GradientBoostingRegressor</label><div class=\"sk-toggleable__content\"><pre>GradientBoostingRegressor()</pre></div></div></div></div></div>"
      ],
      "text/plain": [
       "GradientBoostingRegressor()"
      ]
     },
     "execution_count": 25,
     "metadata": {},
     "output_type": "execute_result"
    }
   ],
   "source": [
    "reg = ensemble.GradientBoostingRegressor()\n",
    "reg.fit(x_train,y_train)"
   ]
  },
  {
   "cell_type": "code",
   "execution_count": 26,
   "id": "7bbf7a80",
   "metadata": {},
   "outputs": [
    {
     "name": "stdout",
     "output_type": "stream",
     "text": [
      "      Actual      Precited\n",
      "1332   50000  34850.437452\n",
      "4345   15000  25580.108567\n",
      "4495   12000  12065.814446\n",
      "2473   13000  13436.005672\n",
      "3883   48000  48556.071268\n",
      "...      ...           ...\n",
      "1692   22000  21363.514423\n",
      "3707   18000  14979.689548\n",
      "2944   14000  27985.432975\n",
      "1722   10000  13688.202691\n",
      "4290   10000  14216.953651\n",
      "\n",
      "[950 rows x 2 columns]\n"
     ]
    }
   ],
   "source": [
    "y_test_predict = reg.predict(x_test)\n",
    "df = pd.DataFrame({\"Actual\":y_test,\"Precited\":y_test_predict})\n",
    "print(df)"
   ]
  },
  {
   "cell_type": "code",
   "execution_count": 27,
   "id": "98c252cf",
   "metadata": {},
   "outputs": [
    {
     "name": "stdout",
     "output_type": "stream",
     "text": [
      "Mean Absolute Error:  16406.476508160107\n",
      "Mean Squared Error:  13803735384.079302\n",
      "Root Mean Squared Error:  117489.29901943964\n"
     ]
    }
   ],
   "source": [
    "from sklearn import metrics\n",
    "print(\"Mean Absolute Error: \",metrics.mean_absolute_error(y_test,y_test_predict))\n",
    "print(\"Mean Squared Error: \",metrics.mean_squared_error(y_test,y_test_predict))\n",
    "print(\"Root Mean Squared Error: \",np.sqrt(metrics.mean_squared_error(y_test,y_test_predict)))"
   ]
  },
  {
   "cell_type": "code",
   "execution_count": 28,
   "id": "4e287210",
   "metadata": {},
   "outputs": [
    {
     "name": "stdout",
     "output_type": "stream",
     "text": [
      "Mean Absolute Error:  4369.659109727479\n",
      "Mean Squared Error:  143390010.5896704\n",
      "Root Mean Squared Error:  11974.556801388117\n"
     ]
    }
   ],
   "source": [
    "from sklearn import metrics\n",
    "print(\"Mean Absolute Error: \",metrics.mean_absolute_error(y_train,y_train_predict))\n",
    "print(\"Mean Squared Error: \",metrics.mean_squared_error(y_train,y_train_predict))\n",
    "print(\"Root Mean Squared Error: \",np.sqrt(metrics.mean_squared_error(y_train,y_train_predict)))"
   ]
  },
  {
   "cell_type": "markdown",
   "id": "c3a96d29",
   "metadata": {},
   "source": [
    "And that was RentForecast Pro! Following are some of the general inferences from the ML Model:\n",
    "\n",
    "1. Scikit Learn model aids in the development of ML Models because of its brilliant predefined functions like train_test_split(), fit(), predict() etc.\n",
    "\n",
    "2. Categorical features cannot be used directly in the development of a model. However, such columns can be encoded(assigned a numerical value) using LabelEncoder() class of SckiKit Learn.\n",
    "\n",
    "3. Generated error is significantly reduced by using algorithms that use Ensemble Methods like Gradient Boosting and Random Forest Regression."
   ]
  }
 ],
 "metadata": {
  "kernelspec": {
   "display_name": "Python 3 (ipykernel)",
   "language": "python",
   "name": "python3"
  },
  "language_info": {
   "codemirror_mode": {
    "name": "ipython",
    "version": 3
   },
   "file_extension": ".py",
   "mimetype": "text/x-python",
   "name": "python",
   "nbconvert_exporter": "python",
   "pygments_lexer": "ipython3",
   "version": "3.11.4"
  }
 },
 "nbformat": 4,
 "nbformat_minor": 5
}
